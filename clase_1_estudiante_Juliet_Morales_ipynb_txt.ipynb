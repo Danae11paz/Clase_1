{
  "cells": [
    {
      "cell_type": "markdown",
      "metadata": {
        "id": "az6IT1dZkQlW"
      },
      "source": [
        "# ESTE DOCUMENTO ES UN JUPYTER NOTEBOOK. UN JUPYTER NOTEBOOK ES COMO UN LIBRO DE TEXTO PERO PARA PROGRAMAR. EN ESTE JUPYTER NOTEBOOK PUEDES MODIFICAR CAMBIAR Y EJECUTAR CODIGO DE PYTHON . CADA CASILLA/CELDA"
      ]
    },
    {
      "cell_type": "markdown",
      "metadata": {
        "id": "K0MJD-mrkQla"
      },
      "source": [
        "# Mi informacion:\n",
        "* ## Victor Salazar\n",
        "* ## victor12lup@hotmail.com\n",
        "* ## BSC Economia, MsC Data Science"
      ]
    },
    {
      "cell_type": "markdown",
      "metadata": {
        "id": "1IV8vvCNkQla"
      },
      "source": [
        "# EL famoso 'Hello Python'"
      ]
    },
    {
      "cell_type": "markdown",
      "metadata": {
        "id": "XV-gGZ7bkQlb"
      },
      "source": [
        "## En Python   "
      ]
    },
    {
      "cell_type": "code",
      "execution_count": null,
      "metadata": {
        "id": "Bt4X_KBQkQlb",
        "scrolled": true
      },
      "outputs": [],
      "source": [
        "print('Hola mundo')\n",
        "# La funcion print \"imprime\" lo que este entre comillas\n",
        "# las lineas que empiezan con # son comentarios, estos no son parte del codigo \n",
        "# trata de usarlos siempre que puedas cuando compartas codigo o solo para desarrollar codigo, te sera muy util!"
      ]
    },
    {
      "cell_type": "markdown",
      "metadata": {
        "id": "6JSinqsMkQlc"
      },
      "source": [
        "# Historia de Python\n",
        "* ## Python lleva el nombre del programa de televisión de la BBC Monty Python's Flying Circus([https://www.youtube.com/watch?v=vZw35VUBdzo](https://www.youtube.com/watch?v=vZw35VUBdzo))\n",
        "* ## Iniciado por Guido van Rossum en Amsterdam en el : \"Instituto Nacional de Investigación en Matemáticas e Informática\"\n",
        "* ## Primera versión publicada en 1991"
      ]
    },
    {
      "cell_type": "markdown",
      "metadata": {
        "id": "3E1VQyA9kQld"
      },
      "source": [
        "# Lectura opcional\n",
        "* ##  [https://docs.python.org/3/reference/datamodel.html](https://docs.python.org/3/reference/datamodel.html) capitulo 3.1\n",
        "* ## From [https://docs.python.org/3/tutorial/index.html](https://docs.python.org/3/tutorial/index.html) capitulo 3.1 y capitulo 5 , secciones 5.1.1, 5.2, 5.4, y 5.5.\n",
        "* ## Ecomista Paul Romer sobre Jupyter [https://paulromer.net/jupyter-mathematica-and-the-future-of-the-research-paper/](https://paulromer.net/jupyter-mathematica-and-the-future-of-the-research-paper/) \n",
        " * ([https://www.python.org/dev/peps/pep-0008/](https://www.python.org/dev/peps/pep-0008/))\n",
        " * ([https://en.wikipedia.org/wiki/Python_syntax_and_semantics](https://en.wikipedia.org/wiki/Python_syntax_and_semantics))"
      ]
    },
    {
      "cell_type": "markdown",
      "metadata": {
        "id": "kps2Zf-xkQld"
      },
      "source": [
        "# Los lenguajes informáticos deben ser leídos por humanos\n",
        "* ## Las computadoras solo entienden ceros y unos\n",
        "* ## Por lo tanto, los lenguajes informáticos deben traducirse en esos ceros y unos a algo  que la computadora entiende\n"
      ]
    },
    {
      "cell_type": "markdown",
      "metadata": {
        "id": "j23j95JhkQle"
      },
      "source": [
        "# Dos tipos de traducción: Interpretación y compilación\n",
        "* ## Los programas escritos en idiomas interpretados se traducen y ejecutan línea por línea\n",
        " * ### Los programas escritos en lenguajes interpretados a menudo se denominan scripts\n",
        "* ## Los programas escritos en lenguajes compilados se traducen y ejecutan programa (o más) por programa\n",
        " * ### La traducción de programas completos a menudo se llama compilación\n",
        "* ## La interpretación es excelente para un ciclo de desarrollo rápido\n",
        "* ## La compilación es excelente para la eficiencia y la velocidad\n",
        "## Observaciones:\n",
        "* ## En general, podemos decir que la velocidad y la eficiencia son un cuello de botella menor a medida que las computadoras se vuelven cada vez más rápidas y Python usa muchas rutinas escritas en C, que es muy rápido.\n",
        "* ## Python no traduce el código directamente a código de máquina, sino a un código que es el mismo para todos los sistemas operativos como Windows, OS X, Linux, etc. Este código intermedio es ejecutado por una máquina virtual que traduce el código intermedio a código de máquina específico legible y ejecutable por los diferentes sistemas operativos como Windows, OS X, Linux, etc."
      ]
    },
    {
      "cell_type": "markdown",
      "metadata": {
        "id": "ceV3xzjOkQle"
      },
      "source": [
        "### Python es traducido y ejecutado linea por linea"
      ]
    },
    {
      "cell_type": "code",
      "execution_count": null,
      "metadata": {
        "id": "ScGO8p0BkQle",
        "outputId": "4ca49c23-30ce-4c1f-df90-4e0aed61ba2e",
        "colab": {
          "base_uri": "https://localhost:8080/"
        }
      },
      "outputs": [
        {
          "output_type": "stream",
          "name": "stdout",
          "text": [
            "1\n",
            "2\n"
          ]
        }
      ],
      "source": [
        "integer_1 = 1\n",
        "print (integer_1)\n",
        "integer_2 = 2\n",
        "print (integer_2)"
      ]
    },
    {
      "cell_type": "code",
      "execution_count": null,
      "metadata": {
        "id": "wf9UxiV3kQlf"
      },
      "outputs": [],
      "source": [
        "# Definimos un objeto con valor 1, le asignamos de nombre integer_1, de typo int \n",
        "integer_1 = 1\n",
        "# Le damos el valor definido en la pantalla \n",
        "print(integer_1)\n",
        "print(integer_2)\n",
        "integer_2 = 2"
      ]
    },
    {
      "cell_type": "markdown",
      "metadata": {
        "id": "_GMsxwQvkQlf"
      },
      "source": [
        "### El codigo de Python es traducido a un lenguaje intermedio"
      ]
    },
    {
      "cell_type": "code",
      "execution_count": null,
      "metadata": {
        "id": "jetr-tfmkQlg",
        "outputId": "df3a8577-2600-426c-9d28-60aa0ef05628"
      },
      "outputs": [
        {
          "name": "stdout",
          "output_type": "stream",
          "text": [
            "[1, 4, 9]\n"
          ]
        }
      ],
      "source": [
        "# Creamos una funcion\n",
        "def make_quadratic_list(function_list):\n",
        "    #Usaremos uns comprension de lista para contruir otra lista\n",
        "    return [x*x for x in function_list]    \n",
        "\n",
        "# Llamamos una funcion y le damos los valores en una lista\n",
        "print(make_quadratic_list([1,2,3]))"
      ]
    },
    {
      "cell_type": "code",
      "execution_count": null,
      "metadata": {
        "id": "nCUBXipSkQlg",
        "outputId": "d5910e7d-5c14-4941-e6a3-68e406d1c451"
      },
      "outputs": [
        {
          "name": "stdout",
          "output_type": "stream",
          "text": [
            "  4           0 LOAD_CONST               1 (<code object <listcomp> at 0x000001D98CCFDDF0, file \"<ipython-input-5-e5aeeaf2cd37>\", line 4>)\n",
            "              2 LOAD_CONST               2 ('make_quadratic_list.<locals>.<listcomp>')\n",
            "              4 MAKE_FUNCTION            0\n",
            "              6 LOAD_FAST                0 (function_list)\n",
            "              8 GET_ITER\n",
            "             10 CALL_FUNCTION            1\n",
            "             12 RETURN_VALUE\n",
            "\n",
            "Disassembly of <code object <listcomp> at 0x000001D98CCFDDF0, file \"<ipython-input-5-e5aeeaf2cd37>\", line 4>:\n",
            "  4           0 BUILD_LIST               0\n",
            "              2 LOAD_FAST                0 (.0)\n",
            "        >>    4 FOR_ITER                12 (to 18)\n",
            "              6 STORE_FAST               1 (x)\n",
            "              8 LOAD_FAST                1 (x)\n",
            "             10 LOAD_FAST                1 (x)\n",
            "             12 BINARY_MULTIPLY\n",
            "             14 LIST_APPEND              2\n",
            "             16 JUMP_ABSOLUTE            4\n",
            "        >>   18 RETURN_VALUE\n"
          ]
        }
      ],
      "source": [
        "# Muchas funciones de Pyton deben ser importadas para su uso \n",
        "import dis\n",
        "def make_quadratic_list(function_list):\n",
        "    return [x*x for x in function_list]    \n",
        "\n",
        "# La funcion dis.dis muestra el codigo intermediario que es usado para que Python traduzca \n",
        "dis.dis(make_quadratic_list)"
      ]
    },
    {
      "cell_type": "markdown",
      "metadata": {
        "id": "ByWdt16vkQlg"
      },
      "source": [
        "# La semana 1 se trata principalmente de datos, pero, por supuesto, queremos hacer algo con esos datos\n",
        " * ## Python tiene un conjunto completo de operadores disponibles, consulte [https://www.w3resource.com/python/python-operators.php](https://www.w3resource.com/python/python-operators.php ), puede omitir los comandos de operador y comenzar con los operadores aritméticos de Python\n",
        " * ## Un tema importante con los operadores es la precedencia o dicho de otra manera, si tiene más de un operador en una declaración, que se interpretará primero. En matemáticas sabemos que 2 + 2 x 3 = 8 y no 12. Decimos que la multiplicación tiene prioridad sobre la suma. Como tenemos muchos más operadores en Python, necesitamos una tabla grande sobre precedencia. Una buena tabla se encuentra en el capítulo 6.17 en [https://docs.python.org/3/reference/expressions.html](https://docs.python.org/3/reference/expressions.html) que puede omitir para ahora los operadores que no están en el documento anterior, pero recuerda cada vez que veas un nuevo operador echa un vistazo\n",
        "  * ### Nunca olvides que los paréntesis tienen la precedencia más alta. Por lo tanto, siempre es posible escapar de los problemas de precedencia agregando paréntesis\n",
        " * ## Los operadores son muy importantes si desea procesar datos, pero en las semanas 3 y 5 descubrirá que puede expandir sus posibilidades dramáticamente escribiendo sus propias funciones y clases"
      ]
    },
    {
      "cell_type": "code",
      "execution_count": null,
      "metadata": {
        "id": "ePEiiqa9kQlg",
        "outputId": "0d2f8ff6-ad13-4556-ed66-a5a7d3c9f865"
      },
      "outputs": [
        {
          "name": "stdout",
          "output_type": "stream",
          "text": [
            "6.2\n",
            "6.6000000000000005\n"
          ]
        }
      ],
      "source": [
        "# operadores estandares en Python\n",
        "print(1 + 2 * 3 - 4 / 5)\n",
        "# Uso de parentesis\n",
        "print((1 + 2) * (3 - 4 / 5))"
      ]
    },
    {
      "cell_type": "markdown",
      "metadata": {
        "id": "yqKW-VAQkQlh"
      },
      "source": [
        "# Los datos en un programa de Python se almacenarán como bits (ceros y unos) en la memoria de la computadora, pero se representarán como objetos para los humanos.\n",
        "## Son estos objetos con los que tenemos que lidiar, el interpretador traducirá nuestras referencias a objetos en referencias a lugares en la memoria de la computadora.\n",
        "## Los objetos en Python tienen:\n",
        "1. ### Una identidad, en la versión Python de Anaconda es la dirección en la memoria de la computadora, donde se almacena el valor. La identidad no se puede cambiar.\n",
        "2. ### Un tipo de datos, como entero, cadena, lista, etc. El tipo de datos no se puede cambiar\n",
        "3. ### Un valor, como 10, 'Hello World', [1,2,3]. El valor se puede cambiar o no según el tipo de datos. Si el valor de un objeto se puede cambiar, el objeto se llama mutable; de lo contrario, el objeto se llama inmutable."
      ]
    },
    {
      "cell_type": "markdown",
      "metadata": {
        "id": "MM_J7f_zkQlh"
      },
      "source": [
        "### Se puede crear un objeto y adjuntar un nombre a un objeto a través de una declaración de asignación (por ejemplo, `a = 1` \n",
        "### Se puede hacer referencia a un objeto con más de un nombre, pero un nombre solo puede hacer referencia a un objeto\n",
        "### Solo se pueden asignar nombres a objetos si:\n",
        "* #### Ese nombre comienza con una letra (A-z) o un carácter de subrayado (_)\n",
        "* #### Ese nombre solo contiene caracteres alfanuméricos (A-z, 0-9) y guiones bajos"
      ]
    },
    {
      "cell_type": "markdown",
      "metadata": {
        "id": "oSGq1VXBkQlh"
      },
      "source": [
        "### En los nombres se distingue mayúsculas y minúsculas (edad, Edad, y EDAD son diferentes)"
      ]
    },
    {
      "cell_type": "markdown",
      "metadata": {
        "id": "Uioie6ORkQlh"
      },
      "source": [
        "## Recolección de basura\n",
        "### Los datos utilizados en un programa ocupan la memoria de la computadora. Por lo tanto, la creación de muchos objetos de datos de gran tamaño podría sobrecargar la memoria de la computadora.\n",
        "### Python (y algunos otros lenguajes de programación) tienen un buen truco para resolver ese problema. Si Python nota que ya no hay nombres adjuntos a un objeto, el objeto se destruye en un proceso llamado \"recolección de basura\". Si no hay nombres adjuntos a un objeto, nadie puede usarlo más y, por lo tanto, es mejor destruirlo. En otros idiomas, debe programar la recolección de basura usted mismo y debe tener cuidado de no destruir los objetos que aún se necesitan o mantener los que ya no se necesitan."
      ]
    },
    {
      "cell_type": "markdown",
      "metadata": {
        "id": "gKu5fYlgkQlh"
      },
      "source": [
        "## Ejemplos (estos son ejemplos importantes, no entender cómo Python maneja los datos puede conducir a problemas muy difíciles de resolver)"
      ]
    },
    {
      "cell_type": "code",
      "execution_count": null,
      "metadata": {
        "id": "E3IglRzukQlh",
        "outputId": "7630905b-56fc-4021-ca1c-892a4fad05cc"
      },
      "outputs": [
        {
          "name": "stdout",
          "output_type": "stream",
          "text": [
            "True\n",
            "True\n",
            "True\n",
            "2033881136912\n"
          ]
        }
      ],
      "source": [
        "# La siguiente declaración de asignación crea un objeto con valor 2000 y tipo entero, y\n",
        "# también adjunta el nombre integer_1 al objeto recién creado\n",
        "integer_1 = 2000\n",
        "# La siguiente declaración de asignación no crea un objeto, pero\n",
        "# también adjunta el nombre integer_2 al objeto que ya tiene el nombre integer_1 adjunto\n",
        "# El mismo objeto ahora tiene dos nombres\n",
        "integer_2 = integer_1\n",
        "# Podemos probar si los nombres integer_1 e integer_2 se refieren a un objeto con el mismo valor\n",
        "# Si eso es Verdadero, la siguiente declaración de impresión debería imprimir Verdadero y, de lo contrario, debería imprimir falso\n",
        "print(integer_1 == integer_2)\n",
        "# Podemos probar tambien si integer_1 y integer_2 se refieren al mismo objeto\n",
        "print(integer_1 is integer_2)\n",
        "# Es lo mismo que decir si el id de un objeto es el mismo\n",
        "print(id(integer_1) == id(integer_2))\n",
        "# Aqui imprimimos el id de un objeto \n",
        "print(id(integer_1))"
      ]
    },
    {
      "cell_type": "code",
      "execution_count": null,
      "metadata": {
        "id": "OQncGCo7kQli",
        "outputId": "c7853333-9144-4d8e-ed6d-06a336385495"
      },
      "outputs": [
        {
          "name": "stdout",
          "output_type": "stream",
          "text": [
            "2000 1000\n"
          ]
        }
      ],
      "source": [
        "integer_1 = 2000\n",
        "integer_2 = integer_1\n",
        "integer_2 = 1000\n",
        "# La declaración de asignación anterior crea un nuevo objeto con valor 1000\n",
        "# separa el nombre integer_2 del objeto con valor 2000, y\n",
        "# adjunta el nombre integer_2 al nuevo objeto\n",
        "print(integer_1, integer_2)"
      ]
    },
    {
      "cell_type": "code",
      "execution_count": null,
      "metadata": {
        "id": "Zi5tKvYAkQli",
        "outputId": "7f018cc6-4618-4819-c366-80514d39b002"
      },
      "outputs": [
        {
          "name": "stdout",
          "output_type": "stream",
          "text": [
            "2033882132720\n",
            "2033807345136\n"
          ]
        }
      ],
      "source": [
        "# La siguiente declaración de asignación crea un objeto con valor 1000 y tipo entero\n",
        "# La siguiente declaración de asignación también adjunta el nombre integer_1 al objeto\n",
        "integer_1 = 1000\n",
        "print(id(integer_1))\n",
        "# La siguiente declaración de asignación crea un objeto con valor \"data\" y tipo cadena,\n",
        "# también separa el nombre entero_1 del objeto con valor 1, y\n",
        "# adjunta el nombre integer_1 al objeto recién creado con el valor \"data\"\n",
        "integer_1 = \"data\"\n",
        "# The following statement shows us that the name integer_1 now refers to a different object\n",
        "print(id(integer_1))"
      ]
    },
    {
      "cell_type": "markdown",
      "metadata": {
        "id": "9VyEsUpnkQli"
      },
      "source": [
        "### Los siguientes ejemplos son sobre prácticas, esto es bastante complicado. A veces, esperaría que Python creara un nuevo objeto, pero Python no lo hace y, en parte, está fuera de su control y depende de la implementación de Python que use."
      ]
    },
    {
      "cell_type": "code",
      "execution_count": null,
      "metadata": {
        "id": "uALgFIr7kQli",
        "outputId": "c8803cba-b0cf-4381-84e4-b87465d6fb9f",
        "colab": {
          "base_uri": "https://localhost:8080/"
        }
      },
      "outputs": [
        {
          "output_type": "stream",
          "name": "stdout",
          "text": [
            "True\n"
          ]
        }
      ],
      "source": [
        "# En este ejemplo, una cadena está guardada y la segunda asignación no crea un nuevo objeto string_1 = 'string'\n",
        "string_1 = 'string'\n",
        "string_2 = 'string'\n",
        "print (string_1 is string_2)"
      ]
    },
    {
      "cell_type": "code",
      "execution_count": null,
      "metadata": {
        "id": "fRa3ma6ykQlj",
        "outputId": "72b384bf-a6a6-45a5-9b9e-685cb7d03978",
        "colab": {
          "base_uri": "https://localhost:8080/"
        }
      },
      "outputs": [
        {
          "output_type": "stream",
          "name": "stdout",
          "text": [
            "False\n"
          ]
        }
      ],
      "source": [
        "# En este ejemplo, una cadena no está guardada y la segunda asignación crea un nuevo objeto string_1 = 'This string is not interned'\n",
        "string_1 = 'este no es el mismo objeto'\n",
        "string_2 = 'This string is not interned'\n",
        "print (string_1 is string_2)"
      ]
    },
    {
      "cell_type": "code",
      "execution_count": null,
      "metadata": {
        "id": "FUSQrCYFkQlj",
        "outputId": "3951f027-5fc8-46d0-9c9b-6b8ce46cdcef",
        "colab": {
          "base_uri": "https://localhost:8080/"
        }
      },
      "outputs": [
        {
          "output_type": "stream",
          "name": "stdout",
          "text": [
            "True\n"
          ]
        }
      ],
      "source": [
        "integer_1 = 1 \n",
        "integer_2 = 1\n",
        "print (integer_1 is integer_2)"
      ]
    },
    {
      "cell_type": "code",
      "execution_count": null,
      "metadata": {
        "id": "Jb8ZHWYDkQlk",
        "outputId": "020fdb3c-96df-4926-bbdf-c225592ba8ca",
        "colab": {
          "base_uri": "https://localhost:8080/"
        }
      },
      "outputs": [
        {
          "output_type": "stream",
          "name": "stdout",
          "text": [
            "False\n"
          ]
        }
      ],
      "source": [
        "integer_1 = 1000\n",
        "integer_2 = 1000\n",
        "print (integer_1 is integer_2)"
      ]
    },
    {
      "cell_type": "markdown",
      "metadata": {
        "id": "X6GbGVOLkQlk"
      },
      "source": [
        "# Primero discutimos los tipos de datos que describen objetos de valor único. Estos son números, cadenas y booleanos y, posteriormente, tipos de datos que describen objetos con una colección de valores."
      ]
    },
    {
      "cell_type": "markdown",
      "metadata": {
        "id": "MA7bZktpkQlk"
      },
      "source": [
        "## Números\n",
        "### Todos los números (enteros, números de coma flotante, números complejos, decimales y fracciones) son inmutables"
      ]
    },
    {
      "cell_type": "markdown",
      "metadata": {
        "id": "7okguazIkQlk"
      },
      "source": [
        "### Enteros\n",
        "#### Estos son números enteros (-10,1,2)\n",
        "#### Solo el hardware de la computadora limita el limite de un número entero y, por lo tanto, los números enteros son muy precisos"
      ]
    },
    {
      "cell_type": "code",
      "execution_count": null,
      "metadata": {
        "id": "29sCioEYkQlk",
        "outputId": "b25f8047-be30-4dec-e1c7-f7e8886a561e",
        "colab": {
          "base_uri": "https://localhost:8080/"
        }
      },
      "outputs": [
        {
          "output_type": "stream",
          "name": "stdout",
          "text": [
            "False\n"
          ]
        }
      ],
      "source": [
        "integer_1=9999999999999999999999999999999999999999999999999999999999999999999999999999999999999999999\n",
        "integer_2 = integer_1 + 1 \n",
        "print(integer_1 == integer_2)"
      ]
    },
    {
      "cell_type": "code",
      "execution_count": null,
      "metadata": {
        "id": "J0x0hgpkkQll",
        "outputId": "57df84b8-70a6-4a5b-e18f-88445d68362b",
        "colab": {
          "base_uri": "https://localhost:8080/"
        }
      },
      "outputs": [
        {
          "output_type": "stream",
          "name": "stdout",
          "text": [
            "139645304990016\n"
          ]
        }
      ],
      "source": [
        "integer_1=9999999999999999999999999999999999999999999999999999999999999999999999999999999999999999999\n",
        "print(id(integer_1))\n",
        "integer_1 = integer_1 + 1 \n",
        "# La verificación de las identificaciones deja en claro que se crea un nuevo objeto y que el nombre integer_1 ahora está vinculado a ese nuevo objeto print(id(integer_1))"
      ]
    },
    {
      "cell_type": "markdown",
      "metadata": {
        "id": "X0F2_HCskQll"
      },
      "source": [
        "### Enteros expresados en diferentes maneras"
      ]
    },
    {
      "cell_type": "markdown",
      "metadata": {
        "id": "A2SxPxB1kQll"
      },
      "source": [
        "### Números decimales vs a números binarios/octales/hexidecimales\n",
        "#### Los números en matemáticas se basan en el sistema numérico posicional. Entonces, cada dígito en un número tiene una contribución al valor total del número que depende de su posición en ese número y si el número es binario/octal/decimal/hexidecimal.\n",
        "#### En números decimales, el dígito más a la derecha tiene una contribución al valor total que es solo el valor de ese dígito, el que está a la izquierda tiene una contribución al valor total de su propio valor multiplicado por 10, y para el que está a la izquierda de ese que su contribución es su propio valor multiplicado por 100 (10 a la potencia 2) etc. (Los números decimales usan solo dígitos entre 0 y 9).\n",
        "#### En números binarios, el dígito más a la derecha tiene una contribución al valor total que es solo el valor de ese dígito, el que está a la izquierda tiene una contribución al valor total de su propio valor multiplicado por 2, y para el que está a la izquierda de ese que su contribución es su propio valor multiplicado por 4 (2 elevado a 2), etc. (Los números binarios usan solo 0 y 1).\n",
        "#### En números octales, el dígito más a la derecha tiene una contribución al valor total que es solo el valor de ese dígito, el que está a la izquierda tiene una contribución al valor total de su propio valor multiplicado por 8, y para el que está a la izquierda de ese que su contribución es su propio valor multiplicado por 64 (8 elevado a 2), etc. (Los números octales usan solo dígitos entre 0 y 7).\n",
        "#### En números hexadecimales, el dígito más a la derecha tiene una contribución al valor total que es solo el valor de ese dígito, el que está a la izquierda tiene una contribución al valor total de su propio valor multiplicado por 16, y para el que está a la izquierda de aquél cuya contribución es su propio valor multiplicado por 256 (16 a la potencia 2) etc. (Los números hexadecimales usan todos los dígitos entre 0 y 90, y A para 10, B para 11, hasta F para 15.)\n",
        "#### Entonces 111 binario es 1 + 1 * 2 + 1 * 4 = 7 decimal"
      ]
    },
    {
      "cell_type": "markdown",
      "metadata": {
        "id": "R7ToBx9rkQlm"
      },
      "source": [
        "#### Los números en representación alternativa deben comenzar con dos caracteres que indican qué sistema numérico alternativo se utiliza"
      ]
    },
    {
      "cell_type": "code",
      "execution_count": null,
      "metadata": {
        "id": "dOwssZ--kQlm",
        "outputId": "06e19912-8875-420f-ab4b-c475947b943c"
      },
      "outputs": [
        {
          "name": "stdout",
          "output_type": "stream",
          "text": [
            "26\n",
            "26\n",
            "26\n",
            "26\n",
            "True\n"
          ]
        }
      ],
      "source": [
        "print(0b11010) \n",
        "# Binary number 11010\n",
        "print(0o32)    \n",
        "# Octal number 112 \n",
        "print(26)      \n",
        "# Decimal number 26\n",
        "print(0x1A)    \n",
        "# Hexadecimal number 1A\n",
        "print (0b11010 == 0o32 == 26 == 0x1A )"
      ]
    },
    {
      "cell_type": "markdown",
      "metadata": {
        "id": "eSpdy_BhkQln"
      },
      "source": [
        "### Números de punto flotante \n",
        "#### un número que contiene una parte fraccionaria (1.3, -1.3, 0.0)\n",
        "#### Los números de punto flotante se almacenan en un espacio limitado en la memoria de la computadora y, por lo tanto, no tienen una precisión ilimitada"
      ]
    },
    {
      "cell_type": "code",
      "execution_count": null,
      "metadata": {
        "id": "k4ZQP7uLkQln",
        "outputId": "70cab328-2957-4556-f959-7a5c1fc57c97"
      },
      "outputs": [
        {
          "name": "stdout",
          "output_type": "stream",
          "text": [
            "4.2\n",
            "1.0\n"
          ]
        }
      ],
      "source": [
        "print(4.2)\n",
        "print(1.00)"
      ]
    },
    {
      "cell_type": "markdown",
      "metadata": {
        "id": "_OuhAVbhkQlo"
      },
      "source": [
        "### Los números de punto flotante también se pueden representar en notación científica, e.g.: $132.2  = 1.322 \\times 10^2$\n",
        "### La notación en Python es $1.322e2$"
      ]
    },
    {
      "cell_type": "code",
      "execution_count": null,
      "metadata": {
        "id": "a9vRFEaukQlo",
        "colab": {
          "base_uri": "https://localhost:8080/"
        },
        "outputId": "05d7f9f0-9d78-4295-d10d-93fad42aa571"
      },
      "outputs": [
        {
          "output_type": "stream",
          "name": "stdout",
          "text": [
            "132.2\n",
            "132.2\n",
            "True\n"
          ]
        }
      ],
      "source": [
        "float_1 = 132.2\n",
        "scientific = 1.322e2\n",
        "print(float_1)\n",
        "print(scientific)\n",
        "print(float_1 == scientific)"
      ]
    },
    {
      "cell_type": "markdown",
      "metadata": {
        "id": "I8Neb66zkQlo"
      },
      "source": [
        "### Vimos que los números enteros eran infinitamente precisos, este no es el caso de los números de punto flotante, para mas info consulte [https://en.wikipedia.org/wiki /Floating-point_arithmetic](https://en.wikipedia.org/wiki/Floating-point_arithmetic)"
      ]
    },
    {
      "cell_type": "code",
      "execution_count": null,
      "metadata": {
        "id": "cclVT9EDkQlo",
        "outputId": "2e4a2d39-f5c3-456c-a24d-028c2b2fd3c2"
      },
      "outputs": [
        {
          "name": "stdout",
          "output_type": "stream",
          "text": [
            "True\n"
          ]
        }
      ],
      "source": [
        "float_1 = 9999999999999999999999999999999999999999999999999999999999999999999999999999999999999999999.0\n",
        "float_2 = float_1 + 1\n",
        "print(float_1 == float_2)"
      ]
    },
    {
      "cell_type": "code",
      "execution_count": null,
      "metadata": {
        "id": "Su7gHoyvkQlo",
        "outputId": "03e9eb0b-5c97-49a4-9f1c-1bfa619d902c"
      },
      "outputs": [
        {
          "name": "stdout",
          "output_type": "stream",
          "text": [
            "1e+91\n",
            "1e+91\n",
            "True\n"
          ]
        }
      ],
      "source": [
        "float_1 = 9999999999999999999999999999999999999999999999999999999999999999999999999999999999999999999.0\n",
        "print(float_1)\n",
        "float_2 = float_1 + 1\n",
        "print (float_2)\n",
        "print(float_1 == float_2)"
      ]
    },
    {
      "cell_type": "code",
      "execution_count": null,
      "metadata": {
        "id": "ul4Mzt9dkQlo",
        "outputId": "aff09944-fca1-48b1-bce2-310e1de7a409",
        "colab": {
          "base_uri": "https://localhost:8080/"
        }
      },
      "outputs": [
        {
          "output_type": "stream",
          "name": "stdout",
          "text": [
            "inf\n",
            "1e-323\n",
            "0.0\n"
          ]
        }
      ],
      "source": [
        "print(1e48*1e300)\n",
        "float_3 = 1e-322\n",
        "print(float_3 / 10)\n",
        "print(float_3 / 100)"
      ]
    },
    {
      "cell_type": "code",
      "execution_count": null,
      "metadata": {
        "id": "mSfSdB55kQlo",
        "outputId": "616c21d9-28f2-43cf-8c1e-e23133302dac",
        "scrolled": true,
        "colab": {
          "base_uri": "https://localhost:8080/"
        }
      },
      "outputs": [
        {
          "output_type": "stream",
          "name": "stdout",
          "text": [
            "False\n"
          ]
        }
      ],
      "source": [
        "print((2 ** .5) ** 2 == 2)"
      ]
    },
    {
      "cell_type": "markdown",
      "metadata": {
        "id": "C5AEklYSkQlp"
      },
      "source": [
        "### Números complejos,\n",
        "* #### Trabaja igual que en tus clases de matemáticas, pero en vez de i se usa la letra j para la parte imaginaria\n",
        "* #### Para mejor precision, podría ser mejor importar métodos especiales de la biblioteca cmath, en lugar de usar operadores estándares"
      ]
    },
    {
      "cell_type": "code",
      "execution_count": null,
      "metadata": {
        "id": "xO7IhWK2kQlp",
        "outputId": "8ed19a98-6fa1-448b-87b6-8db33879cc18",
        "scrolled": true
      },
      "outputs": [
        {
          "name": "stdout",
          "output_type": "stream",
          "text": [
            "(6.123233995736766e-17+1j)\n"
          ]
        }
      ],
      "source": [
        "print((-1 + 0j) ** .5)"
      ]
    },
    {
      "cell_type": "code",
      "execution_count": null,
      "metadata": {
        "id": "8XXYCrJekQlp",
        "outputId": "f8ee614e-de8d-4f6c-b511-4bdea23ceade",
        "colab": {
          "base_uri": "https://localhost:8080/"
        }
      },
      "outputs": [
        {
          "output_type": "stream",
          "name": "stdout",
          "text": [
            "1j\n"
          ]
        }
      ],
      "source": [
        "from cmath import sqrt\n",
        "\n",
        "print(sqrt(-1))"
      ]
    },
    {
      "cell_type": "markdown",
      "metadata": {
        "id": "cEmCNzNYkQlp"
      },
      "source": [
        "### Decimales\n",
        "#### Decimales pueden ser tan precisos en comparacion de numeros de punto flotante"
      ]
    },
    {
      "cell_type": "code",
      "execution_count": null,
      "metadata": {
        "id": "jfSgZK-JkQlp",
        "outputId": "fecd17e1-dd0b-47a9-8329-0ae5a3eabefe"
      },
      "outputs": [
        {
          "name": "stdout",
          "output_type": "stream",
          "text": [
            "3.3000000000000003\n",
            "3.3\n"
          ]
        }
      ],
      "source": [
        "print (1.1 + 2.2)\n",
        "from decimal import Decimal, getcontext\n",
        "print(Decimal('1.1') + Decimal('2.2')  )"
      ]
    },
    {
      "cell_type": "code",
      "execution_count": null,
      "metadata": {
        "id": "Y8tWI-RVkQlp",
        "outputId": "64bab969-48bf-4423-cdad-a85b3fb17b87"
      },
      "outputs": [
        {
          "name": "stdout",
          "output_type": "stream",
          "text": [
            "3.3000000000000003\n",
            "3.3\n",
            "3.300000000000000266453525910\n"
          ]
        }
      ],
      "source": [
        "print(1.1+ 2.2)\n",
        "from decimal import Decimal, getcontext\n",
        "print(Decimal('1.1') + Decimal('2.2'))\n",
        "print(Decimal(1.1) + Decimal(2.2))"
      ]
    },
    {
      "cell_type": "code",
      "execution_count": null,
      "metadata": {
        "id": "4UjrSeWMkQlq"
      },
      "outputs": [],
      "source": [
        ""
      ]
    },
    {
      "cell_type": "markdown",
      "metadata": {
        "id": "lqsbiYRmkQlq"
      },
      "source": [
        "### Fracción\n",
        "#### Las fracciones funcionan como se esperaba y hacen toda la simplificación necesaria automáticamente"
      ]
    },
    {
      "cell_type": "code",
      "execution_count": null,
      "metadata": {
        "id": "KMyovyZskQlq",
        "outputId": "fe815694-1f52-4e1a-9fff-eb33e45c33f4"
      },
      "outputs": [
        {
          "name": "stdout",
          "output_type": "stream",
          "text": [
            "0.30952380952380953\n",
            "13/42\n"
          ]
        }
      ],
      "source": [
        "print(1/7+1/6)\n",
        "from fractions import Fraction\n",
        "print(Fraction(1, 7) + Fraction(1, 6))"
      ]
    },
    {
      "cell_type": "markdown",
      "metadata": {
        "id": "gCeIWpMLkQlq"
      },
      "source": [
        "## Cadenas (Strings)"
      ]
    },
    {
      "cell_type": "code",
      "execution_count": null,
      "metadata": {
        "id": "aXkwxeiKkQlq",
        "outputId": "c72e388b-283a-4249-bdbb-b26412f3c4b2"
      },
      "outputs": [
        {
          "name": "stdout",
          "output_type": "stream",
          "text": [
            "True\n"
          ]
        }
      ],
      "source": [
        "string_1 = \"Text\"\n",
        "string_2 = 'Text'\n",
        "print (string_1 is string_2)"
      ]
    },
    {
      "cell_type": "code",
      "execution_count": null,
      "metadata": {
        "id": "gC3svX3VkQlq",
        "outputId": "3f8972c6-e3fa-4a31-9ff9-876b847cd5c4"
      },
      "outputs": [
        {
          "ename": "SyntaxError",
          "evalue": "EOL while scanning string literal (<ipython-input-34-fabc42ae5afc>, line 1)",
          "output_type": "error",
          "traceback": [
            "\u001b[1;36m  File \u001b[1;32m\"<ipython-input-34-fabc42ae5afc>\"\u001b[1;36m, line \u001b[1;32m1\u001b[0m\n\u001b[1;33m    string_1 = \"Text'\u001b[0m\n\u001b[1;37m                     ^\u001b[0m\n\u001b[1;31mSyntaxError\u001b[0m\u001b[1;31m:\u001b[0m EOL while scanning string literal\n"
          ]
        }
      ],
      "source": [
        "string_1 = \"Text\""
      ]
    },
    {
      "cell_type": "markdown",
      "metadata": {
        "id": "aO10xvegkQlq"
      },
      "source": [
        "### Sequencias de escape\n",
        "* #### Un Sequencia de escape le permite usar caracteres que de otro modo serían imposibles de poner en una cadena\n",
        "* #### Un Sequencia de escape consta de una barra invertida (\\) seguida del carácter que desea agregar a la cadena\n",
        "\n",
        "### Hay muchas sequencia de escape, eche un vistazo a los siguientes sitios web. Es bueno que sepas que todas estas posibilidades existen.\n",
        "* #### Resumen completo[(https://python-reference.readthedocs.io/en/latest/docs/str/escapes.html](https://python-reference.readthedocs.io/en/latest/ docs/str/escapes.html)\n",
        "* #### Códigos Unicode[https://en.wikipedia.org/wiki/List_of_Unicode_characters](https://en.wikipedia.org/wiki/List_of_Unicode_characters)\n",
        "* #### Nombres para caracteres Unicode[https://www.unicode.org/Public/9.0.0/ucd/UnicodeData.txt](https://www.unicode.org/Public/9.0.0/ucd /UnicodeData.txt)"
      ]
    },
    {
      "cell_type": "code",
      "execution_count": null,
      "metadata": {
        "id": "ovAJVwtxkQlr"
      },
      "outputs": [],
      "source": [
        "string = 'It's Monthy Python'\n",
        "print(string)"
      ]
    },
    {
      "cell_type": "code",
      "execution_count": null,
      "metadata": {
        "id": "fCgssoYzkQlr"
      },
      "outputs": [],
      "source": [
        "string = \"It's Monthy Python\"\n",
        "print(string)"
      ]
    },
    {
      "cell_type": "code",
      "execution_count": null,
      "metadata": {
        "id": "6AVMibKpkQlr",
        "outputId": "c49a1f22-01ec-4a35-cc6f-0c66cb0740b3"
      },
      "outputs": [
        {
          "name": "stdout",
          "output_type": "stream",
          "text": [
            "It's Monthy Python\n"
          ]
        }
      ],
      "source": [
        "string = 'It\\'s Monthy Python'\n",
        "print(string)"
      ]
    },
    {
      "cell_type": "code",
      "execution_count": null,
      "metadata": {
        "id": "aWopf9AskQlr",
        "outputId": "134501b2-7360-4ebe-ab7b-004bc794023f",
        "scrolled": true,
        "colab": {
          "base_uri": "https://localhost:8080/"
        }
      },
      "outputs": [
        {
          "output_type": "stream",
          "name": "stdout",
          "text": [
            "\\\t'\t\"\n"
          ]
        }
      ],
      "source": [
        "string = \"\\\\\\t\\'\\t\\\"\"\n",
        "print(string) "
      ]
    },
    {
      "cell_type": "code",
      "execution_count": null,
      "metadata": {
        "id": "eIkFyx4ykQlr",
        "outputId": "89a06476-bfce-4ee2-80ed-37e244631701"
      },
      "outputs": [
        {
          "name": "stdout",
          "output_type": "stream",
          "text": [
            "text1\n",
            "text2\n"
          ]
        }
      ],
      "source": [
        "string = \"text1\\ntext2\"\n",
        "print(string)"
      ]
    },
    {
      "cell_type": "code",
      "execution_count": null,
      "metadata": {
        "id": "E06QacMGkQlr",
        "outputId": "e44a2f00-39ae-4ff6-e7c4-0b6aca517611",
        "scrolled": true
      },
      "outputs": [
        {
          "name": "stdout",
          "output_type": "stream",
          "text": [
            "¥\n",
            "¥\n"
          ]
        }
      ],
      "source": [
        "print(\"\\u00A5\")\n",
        "print(\"\\N{YEN SIGN}\")"
      ]
    },
    {
      "cell_type": "markdown",
      "metadata": {
        "id": "RRmdv6T8kQlr"
      },
      "source": [
        "### cadenas de varias líneas\n",
        "#### Si desea una cadena que abarque varias líneas, simplemente comience con tres comillas simples o comillas dobles y termínelas con las mismas tres comillas simples o comillas dobles"
      ]
    },
    {
      "cell_type": "code",
      "execution_count": null,
      "metadata": {
        "id": "aHg9s3VfkQls",
        "outputId": "437bb01f-31bb-4e2a-95fb-df46b6d2250e",
        "scrolled": true
      },
      "outputs": [
        {
          "name": "stdout",
          "output_type": "stream",
          "text": [
            "text1\n",
            "text2\n"
          ]
        }
      ],
      "source": [
        "string_1 = \"\"\"text1\n",
        "text2\"\"\"\n",
        "print(string_1)"
      ]
    },
    {
      "cell_type": "code",
      "execution_count": null,
      "metadata": {
        "id": "dV80qBWckQls",
        "scrolled": true,
        "colab": {
          "base_uri": "https://localhost:8080/"
        },
        "outputId": "7cda3b27-39bf-4b40-e6e4-2a49f8413c4b"
      },
      "outputs": [
        {
          "output_type": "stream",
          "name": "stdout",
          "text": [
            "text1\n",
            "text2\n"
          ]
        }
      ],
      "source": [
        "string_1 = '''text1\n",
        "text2'''\n",
        "print(string_1)"
      ]
    },
    {
      "cell_type": "code",
      "execution_count": null,
      "metadata": {
        "id": "ZQQZ2NPfkQls",
        "outputId": "22baa1ee-fd5b-40b2-8713-04c1e64bebe3",
        "scrolled": true
      },
      "outputs": [
        {
          "name": "stdout",
          "output_type": "stream",
          "text": [
            "text1\n",
            "\"text2\" \n"
          ]
        }
      ],
      "source": [
        "string_1 = \"\"\"text1\n",
        "\"text2\" \"\"\"\n",
        "print(string_1)"
      ]
    },
    {
      "cell_type": "markdown",
      "metadata": {
        "id": "lasgtFmikQls"
      },
      "source": [
        "#### Your may prefer to start a multiline comment on the 'next' line. In that case you should add a backslash, otherwise an extra blank line will be printed"
      ]
    },
    {
      "cell_type": "code",
      "execution_count": null,
      "metadata": {
        "id": "GX2kAwNlkQls",
        "outputId": "0c56800c-41e2-4431-944c-a8090c117aca",
        "scrolled": true
      },
      "outputs": [
        {
          "name": "stdout",
          "output_type": "stream",
          "text": [
            "text1\n",
            "text2\n",
            "\n"
          ]
        }
      ],
      "source": [
        "string_1 = \"\"\"\\\n",
        "text1\n",
        "text2\n",
        "\"\"\"\n",
        "print(string_1)"
      ]
    },
    {
      "cell_type": "code",
      "execution_count": null,
      "metadata": {
        "id": "GZa4eL8ckQls",
        "outputId": "2844f10d-3ee1-4efa-9737-ac320a57e189",
        "scrolled": true
      },
      "outputs": [
        {
          "name": "stdout",
          "output_type": "stream",
          "text": [
            "\n",
            "text1\n",
            "text2\n",
            "\n"
          ]
        }
      ],
      "source": [
        "string_1 = \"\"\"\n",
        "text1\n",
        "text2\n",
        "\"\"\"\n",
        "print(string_1)"
      ]
    },
    {
      "cell_type": "markdown",
      "metadata": {
        "id": "1GlG5w8YkQls"
      },
      "source": [
        "### Indexación de un carácter en una cadena\n",
        "#### Un índice no negativo indexa desde la izquierda, donde 0 se refiere al carácter más a la izquierda\n",
        "#### Un índice negativo indexa desde la derecha, donde -1 se refiere al carácter más a la derecha\n",
        "#### Si su índice va más allá de los caracteres disponibles en la cadena, obtiene un IndexError"
      ]
    },
    {
      "cell_type": "code",
      "execution_count": null,
      "metadata": {
        "id": "55fMvGO4kQlt"
      },
      "outputs": [],
      "source": [
        "string_1 = '12345'"
      ]
    },
    {
      "cell_type": "code",
      "execution_count": null,
      "metadata": {
        "id": "ABpaAv64kQlt"
      },
      "outputs": [],
      "source": [
        "print(string_1[0])\n",
        "print(string_1[3])"
      ]
    },
    {
      "cell_type": "code",
      "execution_count": null,
      "metadata": {
        "id": "7YnrF3HTkQlt"
      },
      "outputs": [],
      "source": [
        "print(string_1[-1])\n",
        "print(string_1[-3])"
      ]
    },
    {
      "cell_type": "code",
      "execution_count": null,
      "metadata": {
        "id": "VNqTbq5GkQlt"
      },
      "outputs": [],
      "source": [
        "print(string_1[5])"
      ]
    },
    {
      "cell_type": "code",
      "execution_count": null,
      "metadata": {
        "id": "r8vh_nEUkQlt"
      },
      "outputs": [],
      "source": [
        "print(string_1[-6])"
      ]
    },
    {
      "cell_type": "markdown",
      "metadata": {
        "id": "BzPiY5v6kQlt"
      },
      "source": [
        "### Cortar un conjunto de caracteres de una cadena con [start:end]\n",
        "#### Inicio indica el primer carácter de la cadena que debe seleccionarse, fin - 1 indica el último carácter que debe seleccionarse\n",
        "#### Si se omite el primer índice, el valor predeterminado es 0, si se omite el último índice, el valor predeterminado es la longitud de la cadena"
      ]
    },
    {
      "cell_type": "code",
      "execution_count": null,
      "metadata": {
        "id": "gAycEXHxkQlt",
        "colab": {
          "base_uri": "https://localhost:8080/"
        },
        "outputId": "2b43d590-ac3b-4a4e-95a8-b3e9a0747676"
      },
      "outputs": [
        {
          "output_type": "stream",
          "name": "stdout",
          "text": [
            "23\n"
          ]
        }
      ],
      "source": [
        "string_1 = '12345'\n",
        "print(string_1[1:3])"
      ]
    },
    {
      "cell_type": "code",
      "execution_count": null,
      "metadata": {
        "id": "286W0HWAkQlt"
      },
      "outputs": [],
      "source": [
        "print(string_1[-4:-2])"
      ]
    },
    {
      "cell_type": "code",
      "execution_count": null,
      "metadata": {
        "id": "dEFi_sKskQlt",
        "colab": {
          "base_uri": "https://localhost:8080/"
        },
        "outputId": "b6f05705-88e8-403f-b7ce-2c002f149067"
      },
      "outputs": [
        {
          "output_type": "stream",
          "name": "stdout",
          "text": [
            "123\n",
            "45\n",
            "12345\n"
          ]
        }
      ],
      "source": [
        "print(string_1[:3])\n",
        "print(string_1[3:])\n",
        "print(string_1[:])"
      ]
    },
    {
      "cell_type": "code",
      "execution_count": null,
      "metadata": {
        "id": "SC0yvCOYkQlu",
        "colab": {
          "base_uri": "https://localhost:8080/"
        },
        "outputId": "309efd9a-6572-4dfa-de74-cca5ba1828af"
      },
      "outputs": [
        {
          "output_type": "stream",
          "name": "stdout",
          "text": [
            "ng\n",
            "stri\n"
          ]
        }
      ],
      "source": [
        "print(string_1[-2:])\n",
        "print(string_1[:-2])"
      ]
    },
    {
      "cell_type": "markdown",
      "metadata": {
        "id": "ac7iAfZVkQlu"
      },
      "source": [
        "### Cortar una cadena agregando un contador de pasos [inicio:fin:paso]\n",
        "#### Si el contador de pasos es positivo indica que se deben seleccionar los caracteres con inicio de índice + tiempos de paso 0,1,2, ...\n",
        "#### Si el paso del contador de pasos es negativo, indica que se deben seleccionar los caracteres con fin de índice - paso por 0,1,2, ...\n",
        "### Sin embargo, tenemos que dejar de seleccionar cuando la selección alcanza (o va más allá) del carácter indicado por el índice final\n",
        "### Si no se proporciona un valor de paso, el valor predeterminado es 1"
      ]
    },
    {
      "cell_type": "code",
      "execution_count": null,
      "metadata": {
        "id": "6t6HpFY_kQlu",
        "outputId": "f3ea5b39-34b9-4754-d837-461bd9c30d97",
        "colab": {
          "base_uri": "https://localhost:8080/"
        }
      },
      "outputs": [
        {
          "output_type": "stream",
          "name": "stdout",
          "text": [
            "2345\n",
            "5\n",
            "2345\n",
            "\n"
          ]
        }
      ],
      "source": [
        "string_1 = '12345'\n",
        "print(string_1[1:5:1])\n",
        "print(string_1[5:1:-1])\n",
        "print(string_1[1:5:1]) \n",
        "# no selecciona nada: desde el principio hasta el final tiene que estar en la misma dirección que el contador de pasos\n",
        "# si el contador de pasos es positivo la posición indicada por fin tiene que estar a la derecha de la posición indicada por inicio\n",
        "# si el contador de pasos es negativo, la posición indicada por el final tiene que estar a la izquierda de la posición indicada por el inicio\n",
        "print(string_1[5:1:1])  "
      ]
    },
    {
      "cell_type": "code",
      "execution_count": null,
      "metadata": {
        "id": "sG1zMMbXkQlu",
        "outputId": "7a020f5e-50c1-4814-9390-982c6070859b"
      },
      "outputs": [
        {
          "name": "stdout",
          "output_type": "stream",
          "text": [
            "24\n",
            "53\n"
          ]
        }
      ],
      "source": [
        "print(string_1[1:5:2])\n",
        "print(string_1[5:1:-2])"
      ]
    },
    {
      "cell_type": "code",
      "execution_count": null,
      "metadata": {
        "id": "k25UBdC8kQlu",
        "outputId": "9c69ce6d-44a8-4481-eecd-e10f278cfaa3"
      },
      "outputs": [
        {
          "name": "stdout",
          "output_type": "stream",
          "text": [
            "54\n",
            "54321\n"
          ]
        }
      ],
      "source": [
        "print(string_1[:2:-1])\n",
        "print(string_1[::-1])"
      ]
    },
    {
      "cell_type": "markdown",
      "metadata": {
        "id": "qSAXyNAgkQlu"
      },
      "source": [
        "### Editando cadenas(string)\n",
        "#### Le mostramos un método, hay más pero no los tratamos en el curso porque son menos flexibles y legibles. Menos Pythonico como diría un verdadero creyente de Python"
      ]
    },
    {
      "cell_type": "code",
      "execution_count": null,
      "metadata": {
        "id": "llVAKzN6kQlu"
      },
      "outputs": [],
      "source": [
        "name = \"Persona\""
      ]
    },
    {
      "cell_type": "code",
      "execution_count": null,
      "metadata": {
        "id": "K-vTO3ZAkQlu",
        "outputId": "0ebfc803-dd2b-4367-85b3-a9273d476bb3",
        "colab": {
          "base_uri": "https://localhost:8080/"
        }
      },
      "outputs": [
        {
          "output_type": "stream",
          "name": "stdout",
          "text": [
            "Hello Persona and persona_2\n",
            "Do you want 4 coffee\n"
          ]
        }
      ],
      "source": [
        "name_1 = \"Persona\"\n",
        "cantidad = 2\n",
        "string = f\"Hello {name_1} and {'persona_2'}\\nDo you want {cantidad*2} coffee\" \n",
        "print (string)"
      ]
    },
    {
      "cell_type": "code",
      "execution_count": null,
      "metadata": {
        "id": "PpLnJ0zNkQlu",
        "outputId": "85987d01-04d8-40f1-fa53-cf8513c61695",
        "colab": {
          "base_uri": "https://localhost:8080/"
        }
      },
      "outputs": [
        {
          "output_type": "stream",
          "name": "stdout",
          "text": [
            "Hello Person\n",
            "Do you want 4 coffee\n",
            "\n"
          ]
        }
      ],
      "source": [
        "name = \"Person\"\n",
        "amount = 2\n",
        "string = f\"\"\"Hello {name}\n",
        "Do you want {amount*2} coffee\n",
        "\"\"\"\n",
        "print (string)"
      ]
    },
    {
      "cell_type": "markdown",
      "metadata": {
        "id": "ex_xJByRkQlv"
      },
      "source": [
        "## Booleans"
      ]
    },
    {
      "cell_type": "code",
      "execution_count": null,
      "metadata": {
        "id": "fMW5WExqkQlv",
        "colab": {
          "base_uri": "https://localhost:8080/"
        },
        "outputId": "20526017-3d48-44b6-ba1d-9ef743ab2b1c"
      },
      "outputs": [
        {
          "output_type": "stream",
          "name": "stdout",
          "text": [
            "True\n",
            "False\n",
            "True\n",
            "False\n"
          ]
        }
      ],
      "source": [
        "age = 70\n",
        "blood_type = 'A'\n",
        "print(age > 15)\n",
        "print(age < 60)\n",
        "print(blood_type == 'A')\n",
        "print(blood_type == 'B')"
      ]
    },
    {
      "cell_type": "code",
      "execution_count": null,
      "metadata": {
        "id": "2vGyop4qkQlv",
        "colab": {
          "base_uri": "https://localhost:8080/"
        },
        "outputId": "e716537c-3b63-4a65-d7e7-8e2dac8ee7b2"
      },
      "outputs": [
        {
          "output_type": "stream",
          "name": "stdout",
          "text": [
            "False\n",
            "False\n"
          ]
        }
      ],
      "source": [
        "print(age > 15 and age < 60)\n",
        "print(15 < age < 60)"
      ]
    },
    {
      "cell_type": "code",
      "execution_count": null,
      "metadata": {
        "id": "VfXpCLTkkQlv",
        "scrolled": true,
        "colab": {
          "base_uri": "https://localhost:8080/"
        },
        "outputId": "4fa63abe-e3e6-4bde-8eb3-9fb69180e477"
      },
      "outputs": [
        {
          "output_type": "stream",
          "name": "stdout",
          "text": [
            "True\n"
          ]
        }
      ],
      "source": [
        "print(age > 15 and (blood_type == 'A' or blood_type == 'B'))"
      ]
    },
    {
      "cell_type": "markdown",
      "metadata": {
        "id": "6QW4cg8KkQlv"
      },
      "source": [
        "### Si usa ciertos objetos en una configuración de booleans, se verán como Verdadero o Falso\n",
        "### Los siguientes valores se verán como falsos, todos los demás como verdaderos. En lenguaje informático llamamos a estos valores False y a todos los demás True"
      ]
    },
    {
      "cell_type": "code",
      "execution_count": null,
      "metadata": {
        "id": "xxdPT1sikQlv",
        "outputId": "db8b0cc8-5b8a-4745-f003-9a9d01c9d5d6"
      },
      "outputs": [
        {
          "name": "stdout",
          "output_type": "stream",
          "text": [
            "False\n",
            "False\n",
            "False\n",
            "False\n",
            "False\n",
            "False\n",
            "False\n",
            "False\n",
            "False\n",
            "False\n",
            "False\n",
            "False\n"
          ]
        }
      ],
      "source": [
        "from decimal import Decimal\n",
        "from fractions import Fraction\n",
        "print(bool(None))\n",
        "print(bool(False))\n",
        "print(bool(\"\"))\n",
        "print(bool(0))\n",
        "print(bool(0.0))\n",
        "print(bool(0j))\n",
        "print(bool(Decimal(0)))\n",
        "print(bool(Fraction(0, 1)))\n",
        "print(bool([]))\n",
        "print(bool({}))\n",
        "print(bool(tuple()))\n",
        "print(bool(set()))"
      ]
    },
    {
      "cell_type": "markdown",
      "metadata": {
        "id": "0-JYXdUxkQlv"
      },
      "source": [
        "### 'and' y 'or'"
      ]
    },
    {
      "cell_type": "code",
      "execution_count": null,
      "metadata": {
        "id": "zITCoAx2kQlv",
        "outputId": "c63620bf-122d-405a-e515-eccbbd50f2e6"
      },
      "outputs": [
        {
          "name": "stdout",
          "output_type": "stream",
          "text": [
            "True\n",
            "True\n",
            "True\n",
            "False\n",
            "True\n",
            "False\n",
            "False\n",
            "False\n"
          ]
        }
      ],
      "source": [
        "print(True or True)\n",
        "print(True and True)\n",
        "\n",
        "print(True or False)\n",
        "print(True and False)\n",
        "\n",
        "print(False or True)\n",
        "print(False and True)\n",
        "\n",
        "print(False or False)\n",
        "print(False and False)"
      ]
    },
    {
      "cell_type": "markdown",
      "metadata": {
        "id": "8G9iBXIskQlw"
      },
      "source": [
        "### Parece simple, pero en realidad Python devuelve el valor que hace and , or sean definitivamente verdaderos o falsos."
      ]
    },
    {
      "cell_type": "code",
      "execution_count": null,
      "metadata": {
        "id": "aNIxPSw5kQlw",
        "outputId": "78ad810b-02a9-41b5-9a55-a47726934ce6",
        "scrolled": true,
        "colab": {
          "base_uri": "https://localhost:8080/"
        }
      },
      "outputs": [
        {
          "output_type": "stream",
          "name": "stdout",
          "text": [
            "Default value\n",
            "1\n"
          ]
        }
      ],
      "source": [
        "print(\"\" or \"Default value\")\n",
        "#imprime si es verdadero, comillas vacias es falso\n",
        "print(\"1\" or \"Default value\")"
      ]
    },
    {
      "cell_type": "markdown",
      "metadata": {
        "id": "UDxKT5hkkQlw"
      },
      "source": [
        "### Use de not"
      ]
    },
    {
      "cell_type": "code",
      "execution_count": null,
      "metadata": {
        "id": "2VZhQa5wkQlw",
        "outputId": "2eda9089-403a-4fac-88e9-c9c9e1afb04b",
        "scrolled": true
      },
      "outputs": [
        {
          "name": "stdout",
          "output_type": "stream",
          "text": [
            "False\n",
            "True\n",
            "False\n",
            "True\n"
          ]
        }
      ],
      "source": [
        "print(not True)\n",
        "print(not False)\n",
        "\n",
        "print(not '1')\n",
        "print(not '')"
      ]
    },
    {
      "cell_type": "code",
      "execution_count": null,
      "metadata": {
        "id": "6xXNNZhJkQlw",
        "outputId": "f0a485a7-8e8a-4ede-bd69-9d7c32bdfc02",
        "colab": {
          "base_uri": "https://localhost:8080/"
        }
      },
      "outputs": [
        {
          "output_type": "stream",
          "name": "stdout",
          "text": [
            "Bye, bye\n"
          ]
        }
      ],
      "source": [
        "boolean = True\n",
        "\n",
        "if boolean == True:\n",
        "    print('Bye, bye')\n",
        "else:\n",
        "    print(1 + 1)"
      ]
    },
    {
      "cell_type": "code",
      "execution_count": null,
      "metadata": {
        "id": "Mk-QgYIzkQlw",
        "outputId": "59e864d3-9341-4f50-d478-a1b0cc2597e3"
      },
      "outputs": [
        {
          "ename": "TypeError",
          "evalue": "unsupported operand type(s) for +: 'int' and 'str'",
          "output_type": "error",
          "traceback": [
            "\u001b[1;31m---------------------------------------------------------------------------\u001b[0m",
            "\u001b[1;31mTypeError\u001b[0m                                 Traceback (most recent call last)",
            "\u001b[1;32m<ipython-input-80-27db96822add>\u001b[0m in \u001b[0;36m<module>\u001b[1;34m\u001b[0m\n\u001b[0;32m      1\u001b[0m \u001b[0mboolean\u001b[0m\u001b[1;33m=\u001b[0m\u001b[1;32mTrue\u001b[0m\u001b[1;33m\u001b[0m\u001b[1;33m\u001b[0m\u001b[0m\n\u001b[0;32m      2\u001b[0m \u001b[1;32mif\u001b[0m \u001b[0mboolean\u001b[0m \u001b[1;33m==\u001b[0m \u001b[1;32mTrue\u001b[0m\u001b[1;33m:\u001b[0m\u001b[1;33m\u001b[0m\u001b[1;33m\u001b[0m\u001b[0m\n\u001b[1;32m----> 3\u001b[1;33m      \u001b[0mprint\u001b[0m\u001b[1;33m(\u001b[0m\u001b[1;36m1\u001b[0m \u001b[1;33m+\u001b[0m \u001b[1;34m'1'\u001b[0m\u001b[1;33m)\u001b[0m\u001b[1;33m\u001b[0m\u001b[1;33m\u001b[0m\u001b[0m\n\u001b[0m\u001b[0;32m      4\u001b[0m \u001b[1;32melse\u001b[0m\u001b[1;33m:\u001b[0m\u001b[1;33m\u001b[0m\u001b[1;33m\u001b[0m\u001b[0m\n\u001b[0;32m      5\u001b[0m     \u001b[0mprint\u001b[0m\u001b[1;33m(\u001b[0m\u001b[1;34m'Bye, bye'\u001b[0m\u001b[1;33m)\u001b[0m\u001b[1;33m\u001b[0m\u001b[1;33m\u001b[0m\u001b[0m\n",
            "\u001b[1;31mTypeError\u001b[0m: unsupported operand type(s) for +: 'int' and 'str'"
          ]
        }
      ],
      "source": [
        "boolean=True\n",
        "if boolean == True:\n",
        "     print(1 + '1')\n",
        "else:\n",
        "    print('Bye, bye')"
      ]
    },
    {
      "cell_type": "markdown",
      "metadata": {
        "id": "I1HdZjoikQlx"
      },
      "source": [
        "### Python hace poca conversión de tipos, en comparación con otros lenguajes"
      ]
    },
    {
      "cell_type": "code",
      "execution_count": null,
      "metadata": {
        "id": "uV74W98kkQlx",
        "outputId": "ff9dec4c-72da-46ba-8fa6-e7eea55a5d48",
        "scrolled": true,
        "colab": {
          "base_uri": "https://localhost:8080/",
          "height": 171
        }
      },
      "outputs": [
        {
          "output_type": "error",
          "ename": "TypeError",
          "evalue": "ignored",
          "traceback": [
            "\u001b[0;31m---------------------------------------------------------------------------\u001b[0m",
            "\u001b[0;31mTypeError\u001b[0m                                 Traceback (most recent call last)",
            "\u001b[0;32m<ipython-input-131-cd5e5f4d809d>\u001b[0m in \u001b[0;36m<module>\u001b[0;34m()\u001b[0m\n\u001b[0;32m----> 1\u001b[0;31m \u001b[0mprint\u001b[0m\u001b[0;34m(\u001b[0m\u001b[0;36m1\u001b[0m \u001b[0;34m+\u001b[0m \u001b[0;34m'1'\u001b[0m\u001b[0;34m)\u001b[0m\u001b[0;34m\u001b[0m\u001b[0;34m\u001b[0m\u001b[0m\n\u001b[0m",
            "\u001b[0;31mTypeError\u001b[0m: unsupported operand type(s) for +: 'int' and 'str'"
          ]
        }
      ],
      "source": [
        "print(1 + '1')"
      ]
    },
    {
      "cell_type": "markdown",
      "metadata": {
        "id": "uE7OPxeWkQlx"
      },
      "source": [
        "### A pesar de que lo siguinete funciona las transformaciones implicitas solo funcionan entre los mismo tipos de datos, numeros con numeros de punto flotante"
      ]
    },
    {
      "cell_type": "code",
      "execution_count": null,
      "metadata": {
        "id": "aPQPtmYAkQlx",
        "outputId": "d79bff7b-caf3-4498-81cc-9eb6901ffdab",
        "scrolled": true,
        "colab": {
          "base_uri": "https://localhost:8080/"
        }
      },
      "outputs": [
        {
          "output_type": "stream",
          "name": "stdout",
          "text": [
            "2.0\n"
          ]
        }
      ],
      "source": [
        "print(1 + 1.0)"
      ]
    },
    {
      "cell_type": "code",
      "execution_count": null,
      "metadata": {
        "id": "XmG-aWxbkQlx",
        "outputId": "d101808f-3920-4fe0-b0ed-558dd79d38ec",
        "scrolled": true,
        "colab": {
          "base_uri": "https://localhost:8080/"
        }
      },
      "outputs": [
        {
          "output_type": "stream",
          "name": "stdout",
          "text": [
            "2.0\n",
            "2\n"
          ]
        }
      ],
      "source": [
        "print(float(1) + 1.0)\n",
        "print(1 + int(1.0))"
      ]
    },
    {
      "cell_type": "markdown",
      "metadata": {
        "id": "AJVUoAqHkQlx"
      },
      "source": [
        "### En Python, a menudo puedes hacer una conversión de tipo explícita"
      ]
    },
    {
      "cell_type": "code",
      "execution_count": null,
      "metadata": {
        "id": "xG0ROswpkQlx",
        "outputId": "685f1416-2854-4ba6-b35c-c6c96837711a",
        "colab": {
          "base_uri": "https://localhost:8080/"
        }
      },
      "outputs": [
        {
          "output_type": "stream",
          "name": "stdout",
          "text": [
            "2\n"
          ]
        }
      ],
      "source": [
        "value= 1 + int('1')\n",
        "print(value)"
      ]
    },
    {
      "cell_type": "code",
      "execution_count": null,
      "metadata": {
        "id": "uSKD-mC1kQlx",
        "outputId": "e1c168bf-ccd4-40b0-d034-ab1c2b90d337",
        "colab": {
          "base_uri": "https://localhost:8080/"
        }
      },
      "outputs": [
        {
          "output_type": "stream",
          "name": "stdout",
          "text": [
            "1\n",
            "1.0\n",
            "True\n"
          ]
        }
      ],
      "source": [
        "print(int('1'))\n",
        "print(float('1'))\n",
        "print(bool('1'))"
      ]
    },
    {
      "cell_type": "code",
      "execution_count": null,
      "metadata": {
        "id": "JHM-k0AdkQly",
        "outputId": "f06e544d-a2c1-4a9b-e0b9-79ac57421474",
        "colab": {
          "base_uri": "https://localhost:8080/"
        }
      },
      "outputs": [
        {
          "output_type": "stream",
          "name": "stdout",
          "text": [
            "False\n"
          ]
        }
      ],
      "source": [
        "print(1 == '1')"
      ]
    },
    {
      "cell_type": "code",
      "execution_count": null,
      "metadata": {
        "id": "VSOykLTgkQly",
        "outputId": "a57fbf9e-c5b8-4253-84c1-3150bfd4bc96",
        "colab": {
          "base_uri": "https://localhost:8080/"
        }
      },
      "outputs": [
        {
          "output_type": "stream",
          "name": "stdout",
          "text": [
            "True\n"
          ]
        }
      ],
      "source": [
        "print(str(1) == '1')"
      ]
    },
    {
      "cell_type": "markdown",
      "metadata": {
        "id": "16V5hCz_kQly"
      },
      "source": [
        "# Collecciones"
      ]
    },
    {
      "cell_type": "markdown",
      "metadata": {
        "id": "3fDaAi91kQly"
      },
      "source": [
        "## Una colección es un objeto cuyo valor es una colección de direcciones, cada dirección de esa colección apunta a (la dirección de) un objeto separado\n",
        "## Si decimos con referencia a colecciones, que una colección es inmutable o mutable nos referimos a los objetos individuales señalados por esas direcciones, en la colección la mutabilidad se decide por el tipo de objeto individual"
      ]
    },
    {
      "cell_type": "markdown",
      "metadata": {
        "id": "btGirsKXkQly"
      },
      "source": [
        "## Listas\n",
        "### Las listas son mutables"
      ]
    },
    {
      "cell_type": "code",
      "execution_count": null,
      "metadata": {
        "id": "8fcpg74fkQly",
        "colab": {
          "base_uri": "https://localhost:8080/"
        },
        "outputId": "fc514c40-7ed2-470b-b66b-9e34676bef85"
      },
      "outputs": [
        {
          "output_type": "stream",
          "name": "stdout",
          "text": [
            "The value of list_1 is [1, 2, 3] and its address is 139645305404384\n",
            "The value of list_1 is [1, 1, 3] and its address is 139645305404384\n"
          ]
        }
      ],
      "source": [
        "list_1 = [1, 2, 3]\n",
        "print(f\"The value of list_1 is {list_1} and its address is {id(list_1)}\")\n",
        "list_1[1] = 1\n",
        "print(f\"The value of list_1 is {list_1} and its address is {id(list_1)}\")"
      ]
    },
    {
      "cell_type": "code",
      "execution_count": null,
      "metadata": {
        "id": "Nj_SRKPMkQly",
        "colab": {
          "base_uri": "https://localhost:8080/"
        },
        "outputId": "c69c8024-895e-48ac-87b3-c8fa60d94342"
      },
      "outputs": [
        {
          "output_type": "stream",
          "name": "stdout",
          "text": [
            "The value of list_1 is [1, 2, 3] and its address is 139645305006112\n",
            "The value of list_1 is [1, 1, 3] and its address is 139645305007872\n"
          ]
        }
      ],
      "source": [
        "list_1 = [1, 2, 3]\n",
        "print(f\"The value of list_1 is {list_1} and its address is {id(list_1)}\")\n",
        "list_1 = [1, 1, 3]\n",
        "print(f\"The value of list_1 is {list_1} and its address is {id(list_1)}\")"
      ]
    },
    {
      "cell_type": "code",
      "execution_count": null,
      "metadata": {
        "id": "SMUNNl5MkQlz",
        "colab": {
          "base_uri": "https://localhost:8080/"
        },
        "outputId": "42c7629b-bdf2-4648-b40e-e4987b2a433e"
      },
      "outputs": [
        {
          "output_type": "stream",
          "name": "stdout",
          "text": [
            "The value of list_1 is [1, 2, 3] and its address is 139645305001056\n",
            "The value of list_1 is [] and its address is 139645305000656\n"
          ]
        }
      ],
      "source": [
        "list_1 = [1, 2, 3]\n",
        "print(f\"The value of list_1 is {list_1} and its address is {id(list_1)}\")\n",
        "list_1 = []\n",
        "print(f\"The value of list_1 is {list_1} and its address is {id(list_1)}\")"
      ]
    },
    {
      "cell_type": "markdown",
      "metadata": {
        "id": "8mWGdFE_kQlz"
      },
      "source": [
        "### Creacion de lista"
      ]
    },
    {
      "cell_type": "code",
      "execution_count": null,
      "metadata": {
        "id": "7hWp6TtDkQlz"
      },
      "outputs": [],
      "source": [
        "from decimal import Decimal\n",
        "from fractions import Fraction\n",
        "# Puedes guardar lo que sea en una lista\n",
        "list_1 = ['A', True, 1,2.0, Decimal(1), Fraction(1,3)] \n",
        "print(list_1)"
      ]
    },
    {
      "cell_type": "markdown",
      "metadata": {
        "id": "7VPnV0CmkQlz"
      },
      "source": [
        "### Indexación de un elemento en una lista (esto funciona igual que la indexación y el recorte de una cadena, así que si entiende que esto debería ser fácil\n",
        "#### Un índice no negativo indexa desde la izquierda, donde 0 se refiere al elemento más a la izquierda\n",
        "#### Un índice negativo indexa desde la derecha, donde -1 se refiere al elemento más a la derecha\n",
        "#### Si su índice va más allá de los elementos disponibles en la lista, obtiene un IndexError"
      ]
    },
    {
      "cell_type": "code",
      "execution_count": null,
      "metadata": {
        "id": "p3ao3sEJkQlz"
      },
      "outputs": [],
      "source": [
        "list_1 = [1,2,3,4,5]"
      ]
    },
    {
      "cell_type": "code",
      "execution_count": null,
      "metadata": {
        "id": "e-LMz_ECkQlz"
      },
      "outputs": [],
      "source": [
        "print(list_1[0])\n",
        "print(list_1[3])"
      ]
    },
    {
      "cell_type": "code",
      "execution_count": null,
      "metadata": {
        "id": "ckm0NsiDkQlz"
      },
      "outputs": [],
      "source": [
        "print(list_1[-1])\n",
        "print(list_1[-3])"
      ]
    },
    {
      "cell_type": "code",
      "execution_count": null,
      "metadata": {
        "id": "Y3yBDuQWkQlz"
      },
      "outputs": [],
      "source": [
        "print(list_1[5])"
      ]
    },
    {
      "cell_type": "code",
      "execution_count": null,
      "metadata": {
        "id": "SyufP3HmkQlz",
        "colab": {
          "base_uri": "https://localhost:8080/",
          "height": 171
        },
        "outputId": "551425f8-73f2-4972-e22e-19d3f6937b6b"
      },
      "outputs": [
        {
          "output_type": "error",
          "ename": "IndexError",
          "evalue": "ignored",
          "traceback": [
            "\u001b[0;31m---------------------------------------------------------------------------\u001b[0m",
            "\u001b[0;31mIndexError\u001b[0m                                Traceback (most recent call last)",
            "\u001b[0;32m<ipython-input-141-a78a592919e9>\u001b[0m in \u001b[0;36m<module>\u001b[0;34m()\u001b[0m\n\u001b[0;32m----> 1\u001b[0;31m \u001b[0mprint\u001b[0m\u001b[0;34m(\u001b[0m\u001b[0mlist_1\u001b[0m\u001b[0;34m[\u001b[0m\u001b[0;34m-\u001b[0m\u001b[0;36m6\u001b[0m\u001b[0;34m]\u001b[0m\u001b[0;34m)\u001b[0m\u001b[0;34m\u001b[0m\u001b[0;34m\u001b[0m\u001b[0m\n\u001b[0m",
            "\u001b[0;31mIndexError\u001b[0m: list index out of range"
          ]
        }
      ],
      "source": [
        "print(list_1[-6])"
      ]
    },
    {
      "cell_type": "markdown",
      "metadata": {
        "id": "hD5sFWnPkQl0"
      },
      "source": [
        "### Cortar un conjunto de elementos de una lista con [start:end]\n",
        "#### Inicio indica el primer elemento de la lista que debe seleccionarse, fin - 1 indica el último elemento que debe seleccionarse\n",
        "#### Si se omite el primer índice, el valor predeterminado es 0, si se omite el último índice, el valor predeterminado es la longitud de la lista"
      ]
    },
    {
      "cell_type": "code",
      "execution_count": null,
      "metadata": {
        "id": "FWP2ZuI5kQl0",
        "colab": {
          "base_uri": "https://localhost:8080/"
        },
        "outputId": "7cb7f42c-cbe3-445c-edfc-eb8dc7b9456a"
      },
      "outputs": [
        {
          "output_type": "stream",
          "name": "stdout",
          "text": [
            "[2, 3]\n"
          ]
        }
      ],
      "source": [
        "list_1 = [1,2,3,4,5]\n",
        "#print(list_1[1:3])\n",
        "print(list_1[-4:-2])"
      ]
    },
    {
      "cell_type": "code",
      "execution_count": null,
      "metadata": {
        "id": "8qi_ch5ZkQl0",
        "colab": {
          "base_uri": "https://localhost:8080/"
        },
        "outputId": "820c4b30-5a9a-46cb-a54b-792671267e0e"
      },
      "outputs": [
        {
          "output_type": "stream",
          "name": "stdout",
          "text": [
            "[1, 2, 3]\n",
            "[4, 5]\n",
            "[1, 2, 3, 4, 5]\n"
          ]
        }
      ],
      "source": [
        "print(list_1[:3])\n",
        "print(list_1[3:])\n",
        "print(list_1[:])"
      ]
    },
    {
      "cell_type": "code",
      "execution_count": null,
      "metadata": {
        "id": "PH59qtIPkQl0",
        "colab": {
          "base_uri": "https://localhost:8080/"
        },
        "outputId": "2c73fc3e-a7e2-4a26-85e4-d8ed390364e2"
      },
      "outputs": [
        {
          "output_type": "stream",
          "name": "stdout",
          "text": [
            "[5, 4]\n"
          ]
        }
      ],
      "source": [
        "print(list_1[-1:-3:-1])\n",
        "#print(list_1[:-2])"
      ]
    },
    {
      "cell_type": "markdown",
      "metadata": {
        "id": "UxZEi0ClkQl0"
      },
      "source": [
        "### Cortar una lista agregando un contador de pasos [inicio:fin:paso]\n",
        "#### Si el contador de pasos es positivo indica que se deben seleccionar los elementos con inicio de índice + tiempos de paso 0,1,2, ...\n",
        "#### Si el contador de pasos es negativo indica que se deben seleccionar los elementos con final de índice - tiempos de paso 0,1,2, ...\n",
        "### Sin embargo, tenemos que dejar de seleccionar cuando la selección alcanza (o va más allá) del elemento indicado por el índice final\n",
        "### Si no se proporciona un valor de paso, el valor predeterminado es 1"
      ]
    },
    {
      "cell_type": "code",
      "execution_count": null,
      "metadata": {
        "id": "63tPguPBkQl0",
        "colab": {
          "base_uri": "https://localhost:8080/"
        },
        "outputId": "b2a1eb7a-5cd5-4a2d-c290-336fd6abaf0e"
      },
      "outputs": [
        {
          "output_type": "stream",
          "name": "stdout",
          "text": [
            "[2, 3, 4, 5]\n",
            "[5, 4, 3]\n",
            "[2, 3, 4, 5]\n",
            "[5, 4, 3]\n"
          ]
        }
      ],
      "source": [
        "lista_1=[1,2,3,4,5]\n",
        "\n",
        "print(list_1[1:5:1])\n",
        "print(list_1[5:1:-1])\n",
        "print(list_1[1:5:1]) \n",
        "# no selecciona nada: desde el principio hasta el final tiene que estar en la misma dirección que el contador de pasos\n",
        "# si el contador de pasos es positivo la posición indicada por fin tiene que estar a la derecha de la posición indicada por inicio\n",
        "# si el contador de pasos es negativo, la posición indicada por el final tiene que estar a la izquierda de la posición indicada por el inicio\n",
        "print(list_1[5:1:-1])  \n",
        "# no selecciona nada: desde el principio hasta el final tiene que estar en la misma dirección que el contador de pasos\n",
        "# si el contador de pasos es positivo la posición indicada por fin tiene que estar a la derecha de la posición indicada por inicio\n",
        "# si el contador de pasos es negativo, la posición indicada por el final tiene que estar a la izquierda de la posición indicada por el inicio"
      ]
    },
    {
      "cell_type": "code",
      "execution_count": null,
      "metadata": {
        "id": "i9Q5sOSUkQl0",
        "colab": {
          "base_uri": "https://localhost:8080/"
        },
        "outputId": "373ad39d-afec-497c-d939-02148141427d"
      },
      "outputs": [
        {
          "output_type": "stream",
          "name": "stdout",
          "text": [
            "[2, 4]\n",
            "[5, 3]\n"
          ]
        }
      ],
      "source": [
        "print(list_1[1:5:2])\n",
        "print(list_1[5:1:-2])"
      ]
    },
    {
      "cell_type": "code",
      "execution_count": null,
      "metadata": {
        "id": "qTKaUJC_kQl0",
        "colab": {
          "base_uri": "https://localhost:8080/"
        },
        "outputId": "e33619e0-33c0-4743-f471-f3c9b5be76d7"
      },
      "outputs": [
        {
          "output_type": "stream",
          "name": "stdout",
          "text": [
            "[5, 4]\n",
            "[5, 4, 3, 2, 1]\n"
          ]
        }
      ],
      "source": [
        "lista_1=[1,2,3,4,5]\n",
        "print(list_1[:2:-1])\n",
        "print(list_1[::-1])"
      ]
    },
    {
      "cell_type": "code",
      "execution_count": null,
      "metadata": {
        "id": "Uxfu0VVYkQl0",
        "colab": {
          "base_uri": "https://localhost:8080/"
        },
        "outputId": "e6ef8659-8b8f-4aa4-ebd1-126486f17300"
      },
      "outputs": [
        {
          "output_type": "stream",
          "name": "stdout",
          "text": [
            "True\n",
            "True\n",
            "False\n"
          ]
        }
      ],
      "source": [
        "list_1 = ['1', '2', '3', '4', '5']\n",
        "list_2 = list_1\n",
        "list_3 = list_1[:]\n",
        "print(list_1 == list_2 == list_3)\n",
        "print(list_1 is list_2)\n",
        "print(list_1 is list_3)"
      ]
    },
    {
      "cell_type": "markdown",
      "metadata": {
        "id": "74jFHgD6kQl1"
      },
      "source": [
        "### Cortar con [:] crea una copia de una lista con los mismos valores (direcciones de elementos) pero una identificación diferente, por lo que se crea un nuevo objeto"
      ]
    },
    {
      "cell_type": "code",
      "execution_count": null,
      "metadata": {
        "id": "rNLuliQIkQl1",
        "colab": {
          "base_uri": "https://localhost:8080/"
        },
        "outputId": "13a36cfe-4063-4d8a-991d-38f970704d67"
      },
      "outputs": [
        {
          "output_type": "stream",
          "name": "stdout",
          "text": [
            "True\n",
            "False\n",
            "True\n"
          ]
        }
      ],
      "source": [
        "list_1 = [1, 2, 3]\n",
        "list_2 = list_1 \n",
        "# El objeto [1, 2, 3] ahora tiene dos nombres\n",
        "print(list_1 is list_2)\n",
        "list_3 = list_2[:]\n",
        "# list_2[:] crea un nuevo objeto, sin embargo con el mismo contenido [1, 2, 3], pero diferente id \n",
        "print(list_2 is list_3)\n",
        "print(list_2 == list_3)"
      ]
    },
    {
      "cell_type": "markdown",
      "metadata": {
        "id": "iuWv-mMBkQl1"
      },
      "source": [
        "### Las listas pueden contener listas y formar tablas de múltiples dimensiones\n",
        "#### Un ejemplo de tres en raya [https://en.wikipedia.org/wiki/Tic-tac-toe](https://en.wikipedia.org/wiki/Tic-tac-toe)"
      ]
    },
    {
      "cell_type": "code",
      "source": [
        "lista_1 = [[1,2,3,4,],[-20,-30,-90]]\n",
        "#print(list_1[0])\n",
        "print([1,2,3,4][3])"
      ],
      "metadata": {
        "colab": {
          "base_uri": "https://localhost:8080/"
        },
        "id": "74BpUSlT1d89",
        "outputId": "7cfd1718-b250-4f46-bc38-0a39a569bcaf"
      },
      "execution_count": null,
      "outputs": [
        {
          "output_type": "stream",
          "name": "stdout",
          "text": [
            "4\n"
          ]
        }
      ]
    },
    {
      "cell_type": "code",
      "execution_count": null,
      "metadata": {
        "id": "nFZZyxRjkQl1",
        "colab": {
          "base_uri": "https://localhost:8080/"
        },
        "outputId": "43d6ea8b-43c8-466d-dd75-d70fa670ec1e"
      },
      "outputs": [
        {
          "output_type": "stream",
          "name": "stdout",
          "text": [
            "[' ', ' ', ' ']\n",
            "[' ', ' ', ' ']\n",
            "[' ', ' ', ' ']\n",
            "\n",
            "[' ', ' ', ' ']\n",
            "[' ', 'X', ' ']\n",
            "[' ', ' ', ' ']\n",
            "\n",
            "[' ', ' ', ' ']\n",
            "[' ', 'X', 'O']\n",
            "[' ', ' ', ' ']\n",
            "\n",
            "[' ', ' ', 'X']\n",
            "[' ', 'X', 'O']\n",
            "[' ', ' ', ' ']\n",
            "\n",
            "[' ', ' ', 'X']\n",
            "[' ', 'X', 'O']\n",
            "['O', ' ', ' ']\n",
            "\n",
            "['X', ' ', 'X']\n",
            "[' ', 'X', 'O']\n",
            "['O', ' ', ' ']\n",
            "\n"
          ]
        }
      ],
      "source": [
        "tic_tac_toe_board = [[' ', ' ', ' '], [' ', ' ', ' '], [' ', ' ', ' ']]\n",
        "print(tic_tac_toe_board[0]) \n",
        "print(tic_tac_toe_board[1]) \n",
        "print(tic_tac_toe_board[2])\n",
        "print() \n",
        "# Esta es la situación inicial en Tic-tac-toe donde nadie hizo un movimiento todavía\n",
        "# Si toca la celda exactamente en el medio, escribe\n",
        "tic_tac_toe_board[1][1] = 'X'\n",
        "# El resultado es\n",
        "print(tic_tac_toe_board[0]) \n",
        "print(tic_tac_toe_board[1]) \n",
        "print(tic_tac_toe_board[2])\n",
        "print() \n",
        "# Si tu oponente juega la celda a tu derecha escribes\n",
        "tic_tac_toe_board[1][2] = 'O'\n",
        "# el resultado es \n",
        "print(tic_tac_toe_board[0]) \n",
        "print(tic_tac_toe_board[1]) \n",
        "print(tic_tac_toe_board[2])\n",
        "print() \n",
        "# el resto puede ser \n",
        "tic_tac_toe_board[0][2] = 'X'\n",
        "print(tic_tac_toe_board[0]) \n",
        "print(tic_tac_toe_board[1]) \n",
        "print(tic_tac_toe_board[2])\n",
        "print() \n",
        "tic_tac_toe_board[2][0] = 'O'\n",
        "print(tic_tac_toe_board[0]) \n",
        "print(tic_tac_toe_board[1]) \n",
        "print(tic_tac_toe_board[2])\n",
        "print() \n",
        "tic_tac_toe_board[0][0] = 'X'\n",
        "# resultado final\n",
        "print(tic_tac_toe_board[0]) \n",
        "print(tic_tac_toe_board[1]) \n",
        "print(tic_tac_toe_board[2])\n",
        "print()\n"
      ]
    },
    {
      "cell_type": "code",
      "source": [
        "tic_tac_toe_board = [['  ', '  ', '  '], [' ', ' ', '  '], ['  ', '   ', '  ']]\n",
        "print(tic_tac_toe_board[0]) \n",
        "print(tic_tac_toe_board[1]) \n",
        "print(tic_tac_toe_board[2])\n",
        "print() \n",
        "tic_tac_toe_board[2][1] = '0'"
      ],
      "metadata": {
        "colab": {
          "base_uri": "https://localhost:8080/"
        },
        "id": "fkKxbQLU3iIj",
        "outputId": "b4ab5e7d-f888-4cce-9f24-d183e79c309a"
      },
      "execution_count": null,
      "outputs": [
        {
          "output_type": "stream",
          "name": "stdout",
          "text": [
            "['  ', '  ', '  ']\n",
            "[' ', ' ', '  ']\n",
            "['  ', '   ', '  ']\n",
            "\n"
          ]
        }
      ]
    },
    {
      "cell_type": "markdown",
      "source": [
        ""
      ],
      "metadata": {
        "id": "4YQf4Cyi3hzi"
      }
    },
    {
      "cell_type": "markdown",
      "metadata": {
        "id": "-Zb-rCRtkQl1"
      },
      "source": [
        "## Tuplas\n",
        "### Las tuplas son immutables"
      ]
    },
    {
      "cell_type": "markdown",
      "metadata": {
        "id": "j80VfAAqkQl1"
      },
      "source": [
        "### Creacion de tuplas"
      ]
    },
    {
      "cell_type": "code",
      "execution_count": null,
      "metadata": {
        "id": "mwgKQZWnkQl1"
      },
      "outputs": [],
      "source": [
        "from decimal import Decimal\n",
        "from fractions import Fraction\n",
        "tuple_1=('A', True, 1, 2.0, Decimal(1), Fraction(1,3))\n",
        "print(tuple_1)"
      ]
    },
    {
      "cell_type": "markdown",
      "metadata": {
        "id": "beQ7SL78kQl2"
      },
      "source": [
        "### Una tupla con un solo elemento"
      ]
    },
    {
      "cell_type": "markdown",
      "source": [
        ""
      ],
      "metadata": {
        "id": "DFn4kp5f5_Cn"
      }
    },
    {
      "cell_type": "code",
      "execution_count": null,
      "metadata": {
        "colab": {
          "base_uri": "https://localhost:8080/"
        },
        "id": "QyBjVuWDkQl2",
        "outputId": "984e23dd-eb36-475e-e6c2-cb242e809ba1"
      },
      "outputs": [
        {
          "name": "stdout",
          "output_type": "stream",
          "text": [
            "<class 'int'> 3\n",
            "<class 'tuple'> (3,)\n"
          ]
        }
      ],
      "source": [
        "tuple_1 = (3)\n",
        "print(type(tuple_1),tuple_1)\n",
        "tuple_1 = (3,)\n",
        "print(type(tuple_1),tuple_1)"
      ]
    },
    {
      "cell_type": "markdown",
      "metadata": {
        "id": "RwBlub-akQl2"
      },
      "source": [
        "### Diferencias entre tuplas y listas"
      ]
    },
    {
      "cell_type": "markdown",
      "metadata": {
        "id": "A3Zj57E1kQl2"
      },
      "source": [
        "### Puedes cambiar una lista pero no una tupla"
      ]
    },
    {
      "cell_type": "code",
      "execution_count": null,
      "metadata": {
        "id": "HqyqjeJLkQl2"
      },
      "outputs": [],
      "source": [
        "from decimal import Decimal\n",
        "from fractions import Fraction\n",
        "list_1 = ['A', True, 1,2.0, Decimal(1), Fraction(1,3)]\n",
        "tuple_1 = ('A', True, 1,2.0, Decimal(1), Fraction(1,3))\n",
        "list_1[3] = 3.0\n",
        "#tuple_1[3.0] = 3.0"
      ]
    },
    {
      "cell_type": "markdown",
      "metadata": {
        "id": "YUJoKmtnkQl2"
      },
      "source": [
        "### Puedes hacer una tupla sin parentesis"
      ]
    },
    {
      "cell_type": "code",
      "execution_count": null,
      "metadata": {
        "id": "ce2kN3XHkQl2",
        "colab": {
          "base_uri": "https://localhost:8080/"
        },
        "outputId": "b23f85d6-536d-4dc7-823f-d44c7324a2df"
      },
      "outputs": [
        {
          "output_type": "stream",
          "name": "stdout",
          "text": [
            "(1, 2, 3)\n",
            "(1, 2, 3)\n"
          ]
        }
      ],
      "source": [
        "tuple_1 = (1,2,3)\n",
        "tuple_2 = 1,2,3\n",
        "print(tuple_1)\n",
        "print(tuple_2)"
      ]
    },
    {
      "cell_type": "markdown",
      "metadata": {
        "id": "kByqMUWwkQl2"
      },
      "source": [
        "### La indexación y el corte funcionan igual con tuplas que con listas, sin embargo, hay una sutil diferencia cuando se usa el segmento [:]. En el caso de una tupla, no se crea ningún objeto nuevo, por lo que tuple_1 = tuple_2 tiene exactamente el mismo resultado que tuple_1 = tuple_2[:]"
      ]
    },
    {
      "cell_type": "code",
      "execution_count": null,
      "metadata": {
        "id": "bbjHHgVtkQl3"
      },
      "outputs": [],
      "source": [
        "tuple_1 = (1, 2, 3)\n",
        "tuple_2 = tuple_1 \n",
        "tuple_3 = tuple_2[:]\n",
        "print(tuple_1 is tuple_2 is tuple_3)"
      ]
    },
    {
      "cell_type": "markdown",
      "metadata": {
        "id": "yfM-6i9XkQl3"
      },
      "source": [
        "### A nice trick only with tuples"
      ]
    },
    {
      "cell_type": "code",
      "execution_count": null,
      "metadata": {
        "colab": {
          "base_uri": "https://localhost:8080/"
        },
        "id": "QCoy1KGCkQl3",
        "outputId": "c4c40ad3-e206-4455-84e7-046c0aa3aee6"
      },
      "outputs": [
        {
          "output_type": "stream",
          "name": "stdout",
          "text": [
            "1 2\n",
            "2 1\n"
          ]
        }
      ],
      "source": [
        "x = 1\n",
        "y = 2\n",
        "print (x, y)\n",
        "x, y = y, x\n",
        "print (x, y)"
      ]
    },
    {
      "cell_type": "markdown",
      "metadata": {
        "id": "_9YMnwc3kQl3"
      },
      "source": [
        "## Diccionarios\n",
        "### Los diccionarios son mutables"
      ]
    },
    {
      "cell_type": "markdown",
      "metadata": {
        "id": "S9HqcqTmkQl3"
      },
      "source": [
        "### Creando un diccionario"
      ]
    },
    {
      "cell_type": "code",
      "execution_count": null,
      "metadata": {
        "id": "HHxL7UT7kQl3",
        "colab": {
          "base_uri": "https://localhost:8080/"
        },
        "outputId": "ffaff795-6a7c-4c94-abd2-5a851057615c"
      },
      "outputs": [
        {
          "output_type": "stream",
          "name": "stdout",
          "text": [
            "{'blood type': 'A', 'Age': 30}\n"
          ]
        }
      ],
      "source": [
        "mi_diccionario = {'blood type': 'A', 'Age': 30}\n",
        "print(mi_diccionario)"
      ]
    },
    {
      "cell_type": "markdown",
      "metadata": {
        "id": "kXKNplXhkQl3"
      },
      "source": [
        "### Indexando un diccionario"
      ]
    },
    {
      "cell_type": "code",
      "execution_count": null,
      "metadata": {
        "id": "024ax1ggkQl3"
      },
      "outputs": [],
      "source": [
        "print(mi_diccionario['blood type'])\n",
        "print(mi_diccionario['Age'])"
      ]
    },
    {
      "cell_type": "code",
      "execution_count": null,
      "metadata": {
        "id": "wYMF0-vGkQl4",
        "scrolled": true,
        "colab": {
          "base_uri": "https://localhost:8080/"
        },
        "outputId": "e81a61a1-9f00-4be9-9ef7-de5c87119a27"
      },
      "outputs": [
        {
          "output_type": "stream",
          "name": "stdout",
          "text": [
            "{'blood type': 'B', 'Age': 30}\n"
          ]
        }
      ],
      "source": [
        "mi_diccionario['blood type'] = 'B'\n",
        "print(mi_diccionario)"
      ]
    },
    {
      "cell_type": "code",
      "source": [
        "mi_diccionario['altura'] = 170\n"
      ],
      "metadata": {
        "id": "3gIvj5FyIskK"
      },
      "execution_count": null,
      "outputs": []
    },
    {
      "cell_type": "markdown",
      "metadata": {
        "id": "JiCLohB9kQl4"
      },
      "source": [
        "# Sets\n",
        "## Sets are mutable"
      ]
    },
    {
      "cell_type": "markdown",
      "metadata": {
        "id": "X2XmK_CdkQl4"
      },
      "source": [
        "### Creando un set"
      ]
    },
    {
      "cell_type": "code",
      "execution_count": null,
      "metadata": {
        "colab": {
          "base_uri": "https://localhost:8080/"
        },
        "id": "2D7TRf58kQl4",
        "outputId": "516d4505-5051-49e5-ff4e-706d0ea3ec49"
      },
      "outputs": [
        {
          "output_type": "stream",
          "name": "stdout",
          "text": [
            "{1, 2, 3}\n"
          ]
        }
      ],
      "source": [
        "#el set es mutable\n",
        "my_set = {1, 2, 3}\n",
        "print(my_set)"
      ]
    },
    {
      "cell_type": "markdown",
      "metadata": {
        "id": "C8JJ88dZkQl4"
      },
      "source": [
        "### Los elementos en un set deben ser inmutables"
      ]
    },
    {
      "cell_type": "code",
      "execution_count": null,
      "metadata": {
        "colab": {
          "base_uri": "https://localhost:8080/",
          "height": 187
        },
        "id": "VER2mkfAkQl4",
        "outputId": "4b06e399-f4c7-4f64-b4d2-004c71f01a44"
      },
      "outputs": [
        {
          "ename": "TypeError",
          "evalue": "ignored",
          "output_type": "error",
          "traceback": [
            "\u001b[0;31m---------------------------------------------------------------------------\u001b[0m",
            "\u001b[0;31mTypeError\u001b[0m                                 Traceback (most recent call last)",
            "\u001b[0;32m<ipython-input-8-267abe4981dd>\u001b[0m in \u001b[0;36m<module>\u001b[0;34m()\u001b[0m\n\u001b[0;32m----> 1\u001b[0;31m \u001b[0mmy_set\u001b[0m\u001b[0;34m=\u001b[0m\u001b[0;34m{\u001b[0m\u001b[0;36m1\u001b[0m\u001b[0;34m,\u001b[0m \u001b[0;34m'2'\u001b[0m\u001b[0;34m,\u001b[0m \u001b[0;34m[\u001b[0m\u001b[0;36m3\u001b[0m\u001b[0;34m]\u001b[0m\u001b[0;34m}\u001b[0m\u001b[0;34m\u001b[0m\u001b[0;34m\u001b[0m\u001b[0m\n\u001b[0m\u001b[1;32m      2\u001b[0m \u001b[0mprint\u001b[0m\u001b[0;34m(\u001b[0m\u001b[0mmy_set\u001b[0m\u001b[0;34m)\u001b[0m\u001b[0;34m\u001b[0m\u001b[0;34m\u001b[0m\u001b[0m\n",
            "\u001b[0;31mTypeError\u001b[0m: unhashable type: 'list'"
          ]
        }
      ],
      "source": [
        "my_set={1, '2', [3]}\n",
        "print(my_set)"
      ]
    },
    {
      "cell_type": "code",
      "execution_count": null,
      "metadata": {
        "colab": {
          "base_uri": "https://localhost:8080/"
        },
        "id": "2WTFBi3IkQl4",
        "outputId": "b9b9c707-d0d2-40e1-9c36-1edfd8a7f885"
      },
      "outputs": [
        {
          "name": "stdout",
          "output_type": "stream",
          "text": [
            "{1, '2', (3,)}\n"
          ]
        }
      ],
      "source": [
        "my_set={1, '2', (3,)}\n",
        "print(my_set)"
      ]
    },
    {
      "cell_type": "code",
      "execution_count": null,
      "metadata": {
        "colab": {
          "base_uri": "https://localhost:8080/"
        },
        "id": "dD-nP1I2_lL4",
        "outputId": "c8a8ca09-52e9-4b1c-bfad-aad9502eba9d"
      },
      "outputs": [
        {
          "data": {
            "text/plain": [
              "{(3,), 1, '2', 4}"
            ]
          },
          "execution_count": 12,
          "metadata": {},
          "output_type": "execute_result"
        }
      ],
      "source": [
        "my_set.add(4)\n",
        "my_set\n"
      ]
    },
    {
      "cell_type": "markdown",
      "metadata": {
        "id": "5l8LuoUIkQl4"
      },
      "source": [
        "## Qué diferencia a un conjunto de listas y tuplas\n",
        "### Los conjuntos nunca contienen el mismo elemento dos veces"
      ]
    },
    {
      "cell_type": "code",
      "execution_count": null,
      "metadata": {
        "colab": {
          "base_uri": "https://localhost:8080/"
        },
        "id": "yQ2jkiLwkQl4",
        "outputId": "730d2c86-c715-4048-fba9-d968c50b2654"
      },
      "outputs": [
        {
          "name": "stdout",
          "output_type": "stream",
          "text": [
            "[1, 2, 3, 1]\n",
            "(1, 2, 3, 1)\n",
            "{1, 2, 3}\n"
          ]
        }
      ],
      "source": [
        "my_list = [1, 2, 3, 1]\n",
        "my_tuple = (1, 2, 3, 1)\n",
        "my_set = {1, 2, 3, 1}\n",
        "print(my_list)\n",
        "print(my_tuple)\n",
        "print(my_set)"
      ]
    },
    {
      "cell_type": "markdown",
      "metadata": {
        "id": "OeNSfWQXkQl4"
      },
      "source": [
        "### ALgunos operadores tienen un significado diferente para los sets "
      ]
    },
    {
      "cell_type": "code",
      "execution_count": null,
      "metadata": {
        "id": "ZQ2OxWqlkQl5",
        "colab": {
          "base_uri": "https://localhost:8080/"
        },
        "outputId": "896fb361-b0bf-4116-d93b-f435fbcf3fa9"
      },
      "outputs": [
        {
          "output_type": "stream",
          "name": "stdout",
          "text": [
            "La union del set_1 y set_2 es {1, 2, 3, 4, 5}\n",
            "La interseccion del set_1 y set_2 es {3}\n",
            "La diferencia del set_1 y set_2 es {1, 2}\n",
            "La diferencia del set_2 y set_1 es {4, 5}\n",
            "La diferencia simetrica del set_1 y set_2 es {1, 2, 4, 5}\n"
          ]
        }
      ],
      "source": [
        "set_1 = {1, 2, 3}\n",
        "set_2 = {3, 4, 5}\n",
        "print (f\"La union del set_1 y set_2 es {set_1 | set_2}\")\n",
        "print (f\"La interseccion del set_1 y set_2 es {set_1 & set_2}\")\n",
        "print (f\"La diferencia del set_1 y set_2 es {set_1 - set_2}\")\n",
        "print (f\"La diferencia del set_2 y set_1 es {set_2 - set_1}\")\n",
        "print (f\"La diferencia simetrica del set_1 y set_2 es {set_1 ^ set_2}\")"
      ]
    },
    {
      "cell_type": "markdown",
      "metadata": {
        "id": "s3NEulsckQl5"
      },
      "source": [
        "# Métodos pertenecientes a tipos de datos\n",
        "## Dale un vistazo a estos métodos y experimenta con ellos. No es necesario que los recuerdes todos, pero es bueno tener una idea sobre las posibilidades y tal vez pueda usarlos. Información fácil entender sobre los métodos:\n",
        "### Para cadenas: [https://www.w3schools.com/python/python_strings.asp](https://www.w3schools.com/python/python_strings.asp) solo la última tabla\n",
        "### Para listas: [https://www.w3schools.com/python/python_lists.asp](https://www.w3schools.com/python/python_lists.asp) solo la última tabla\n",
        "### Para tuplas: [https://www.w3schools.com/python/python_tuples.asp](https://www.w3schools.com/python/python_tuples.asp) solo la última tabla\n",
        "### Para conjuntos: [https://www.w3schools.com/python/python_sets.asp](https://www.w3schools.com/python/python_sets.asp) solo la última tabla\n",
        "### Para diccionarios: [https://www.w3schools.com/python/python_dictionaries.asp](https://www.w3schools.com/python/python_dictionaries.asp) solo la última tabla\n",
        "## Por cierto, los sitios web de w3school no están bien vistos por los especialistas, debido a su carácter descuidado, y de hecho hay descuido, pero aprender un tema determinado rápido es un buen comienzo, pero más adelante en la vida, tal vez no presumas de tener lo usé ;-)"
      ]
    },
    {
      "cell_type": "markdown",
      "metadata": {
        "id": "GKy8e6kWkQl5"
      },
      "source": [
        "# Observaciones finales sobre tipos de datos"
      ]
    },
    {
      "cell_type": "markdown",
      "metadata": {
        "id": "NHZbaMFzkQl5"
      },
      "source": [
        "## Como crear listas , tuplas , etc vacias"
      ]
    },
    {
      "cell_type": "code",
      "execution_count": null,
      "metadata": {
        "id": "o0MK5kbHkQl5"
      },
      "outputs": [],
      "source": [
        "list_1 = []\n",
        "tuple_1 = ()\n",
        "dictionary_1 = {}\n",
        "set_1 = set()\n",
        "print(list_1)\n",
        "print(tuple_1)\n",
        "print(dictionary_1)\n",
        "print(set_1)"
      ]
    },
    {
      "cell_type": "markdown",
      "metadata": {
        "id": "A9aDX24SkQl5"
      },
      "source": [
        "## Puede usar colecciones como valores en listas, tuplas y diccionarios, pero las únicas colecciones como keys en los diccionarios son tuplas, ya que los keys de los diccionarios deben ser inmutables"
      ]
    },
    {
      "cell_type": "code",
      "execution_count": null,
      "metadata": {
        "colab": {
          "base_uri": "https://localhost:8080/"
        },
        "id": "6iaX5CRykQl5",
        "outputId": "d7a8ff4a-a703-4b59-a868-48e3327fd9a5"
      },
      "outputs": [
        {
          "name": "stdout",
          "output_type": "stream",
          "text": [
            "[[1, 2], (1, 2), {'a': '1'}, {1, 2}]\n",
            "([1, 2], (1, 2), {'a': '1'}, {1, 2})\n",
            "{(1, 2): {'a': '1'}}\n"
          ]
        }
      ],
      "source": [
        "list_1 = [[1,2],(1,2),{'a':'1'},{1,2}]\n",
        "tuple_1 = ([1,2],(1,2),{'a':'1'},{1,2})\n",
        "dictionary_1 = {(1,2):{'a':'1'}}\n",
        "print(list_1)\n",
        "print(tuple_1)\n",
        "print(dictionary_1)"
      ]
    },
    {
      "cell_type": "markdown",
      "metadata": {
        "id": "G2KcpK3DkQl5"
      },
      "source": [
        "## Immutabilidad y mutabilidad no son transitivas"
      ]
    },
    {
      "cell_type": "code",
      "execution_count": null,
      "metadata": {
        "colab": {
          "base_uri": "https://localhost:8080/"
        },
        "id": "BykLXeePkQl5",
        "outputId": "0ef9f3be-0b6f-4aac-81d3-9e0454e87650"
      },
      "outputs": [
        {
          "output_type": "stream",
          "name": "stdout",
          "text": [
            "The value of tuple_1 was (1, [2, 3], 4)\n",
            "The value of tuple_1 is (1, [2, 9], 4)\n"
          ]
        }
      ],
      "source": [
        "#una tupla es inmutable, no se puede cambiar\n",
        "tuple_1 = (1, [2, 3], 4)\n",
        "print(f\"The value of tuple_1 was {tuple_1}\")\n",
        "\n",
        "tuple_1[1][1] = 9\n",
        "print(f\"The value of tuple_1 is {tuple_1}\")"
      ]
    },
    {
      "cell_type": "code",
      "execution_count": null,
      "metadata": {
        "colab": {
          "base_uri": "https://localhost:8080/"
        },
        "id": "XdRjXe3mkQl6",
        "outputId": "9e4cf7cd-a65b-4f8d-c6d1-0db1f23a211a"
      },
      "outputs": [
        {
          "name": "stdout",
          "output_type": "stream",
          "text": [
            "The value of tuple_1 was (1, [2, 3], 4)\n",
            "The value of tuple_1 is (1, [2, 5], 4)\n"
          ]
        }
      ],
      "source": [
        "tuple_1 = (1, [2, 3], 4)\n",
        "print(f\"The value of tuple_1 was {tuple_1}\")\n",
        "tuple_1[1][1] = 5\n",
        "print(f\"The value of tuple_1 is {tuple_1}\")"
      ]
    },
    {
      "cell_type": "code",
      "execution_count": null,
      "metadata": {
        "colab": {
          "base_uri": "https://localhost:8080/"
        },
        "id": "_cyAJ1fNkQl6",
        "outputId": "64938ad4-3065-4d92-a035-ec30d4dfb81c",
        "scrolled": true
      },
      "outputs": [
        {
          "output_type": "stream",
          "name": "stdout",
          "text": [
            "The value of list_1 was [1, (2, 3), 4]\n",
            "The value of list_1 is [5, (2, 3), 4]\n"
          ]
        }
      ],
      "source": [
        "#una tupla no se cambia\n",
        "list_1 = [1, (2, 3), 4]\n",
        "print(f\"The value of list_1 was {list_1}\")\n",
        "list_1[0] = 5\n",
        "print(f\"The value of list_1 is {list_1}\")"
      ]
    },
    {
      "cell_type": "code",
      "execution_count": null,
      "metadata": {
        "colab": {
          "base_uri": "https://localhost:8080/",
          "height": 244
        },
        "id": "Klm5_dWnkQl6",
        "outputId": "ca3e9cfd-0b22-4367-8310-eb80ffc4fd8f"
      },
      "outputs": [
        {
          "output_type": "stream",
          "name": "stdout",
          "text": [
            "The value of list_1 was (1, (2, 3), 4)\n"
          ]
        },
        {
          "output_type": "error",
          "ename": "TypeError",
          "evalue": "ignored",
          "traceback": [
            "\u001b[0;31m---------------------------------------------------------------------------\u001b[0m",
            "\u001b[0;31mTypeError\u001b[0m                                 Traceback (most recent call last)",
            "\u001b[0;32m<ipython-input-5-4ae6688136e6>\u001b[0m in \u001b[0;36m<module>\u001b[0;34m()\u001b[0m\n\u001b[1;32m      1\u001b[0m \u001b[0mlist_1\u001b[0m \u001b[0;34m=\u001b[0m \u001b[0;34m(\u001b[0m\u001b[0;36m1\u001b[0m\u001b[0;34m,\u001b[0m \u001b[0;34m(\u001b[0m\u001b[0;36m2\u001b[0m\u001b[0;34m,\u001b[0m \u001b[0;36m3\u001b[0m\u001b[0;34m)\u001b[0m\u001b[0;34m,\u001b[0m \u001b[0;36m4\u001b[0m\u001b[0;34m)\u001b[0m\u001b[0;34m\u001b[0m\u001b[0;34m\u001b[0m\u001b[0m\n\u001b[1;32m      2\u001b[0m \u001b[0mprint\u001b[0m\u001b[0;34m(\u001b[0m\u001b[0;34mf\"The value of list_1 was {list_1}\"\u001b[0m\u001b[0;34m)\u001b[0m\u001b[0;34m\u001b[0m\u001b[0;34m\u001b[0m\u001b[0m\n\u001b[0;32m----> 3\u001b[0;31m \u001b[0mlist_1\u001b[0m\u001b[0;34m[\u001b[0m\u001b[0;36m1\u001b[0m\u001b[0;34m]\u001b[0m\u001b[0;34m[\u001b[0m\u001b[0;36m1\u001b[0m\u001b[0;34m]\u001b[0m \u001b[0;34m=\u001b[0m \u001b[0;36m5\u001b[0m\u001b[0;34m\u001b[0m\u001b[0;34m\u001b[0m\u001b[0m\n\u001b[0m\u001b[1;32m      4\u001b[0m \u001b[0mprint\u001b[0m\u001b[0;34m(\u001b[0m\u001b[0;34mf\"The value of list_1 is {list_1}\"\u001b[0m\u001b[0;34m)\u001b[0m\u001b[0;34m\u001b[0m\u001b[0;34m\u001b[0m\u001b[0m\n",
            "\u001b[0;31mTypeError\u001b[0m: 'tuple' object does not support item assignment"
          ]
        }
      ],
      "source": [
        "list_1 = (1, (2, 3), 4)\n",
        "print(f\"The value of list_1 was {list_1}\")\n",
        "list_1[1][1] = 5\n",
        "print(f\"The value of list_1 is {list_1}\")"
      ]
    },
    {
      "cell_type": "markdown",
      "metadata": {
        "id": "3Qm_jiHpkQl6"
      },
      "source": [
        "###  La colecciónes también se pueden convertir fácilmente. La conversión de colecciones en diccionarios no debe hacerse con la función dict(), sino preferiblemente con una comprensión de diccionario, que se despues. Es posible convertir diccionarios en colecciones de un tipo diferente de esta manera, pero tenga en cuenta que solo se convertirán las keys y no los valores."
      ]
    },
    {
      "cell_type": "code",
      "execution_count": null,
      "metadata": {
        "id": "9Lnjn9rzkQl6",
        "colab": {
          "base_uri": "https://localhost:8080/"
        },
        "outputId": "d88fbec3-7dfa-4eb2-a5e1-e61dffe18c64"
      },
      "outputs": [
        {
          "output_type": "stream",
          "name": "stdout",
          "text": [
            "[1, 2, 3]\n",
            "[1, 2, 3]\n",
            "[1, 2, 3]\n",
            "{1, 2, 3}\n",
            "{1, 2, 3}\n",
            "{1, 2, 3}\n",
            "(1, 2, 3)\n",
            "(1, 2, 3)\n",
            "(1, 2, 3)\n"
          ]
        }
      ],
      "source": [
        "print(list((1, 2, 3)))\n",
        "print(list({1, 2, 3}))\n",
        "print(list({1:4, 2:5, 3:6}))\n",
        "print(set((1, 2, 3)))\n",
        "print(set([1, 2, 3]))\n",
        "print(set({1:4, 2:5, 3:6}))\n",
        "print(tuple([1, 2, 3]))\n",
        "print(tuple({1, 2, 3}))\n",
        "#un diccionario debe tener su kis\n",
        "print(tuple({1:4, 2:5, 3:6}))"
      ]
    },
    {
      "cell_type": "markdown",
      "metadata": {
        "id": "uI1RwB4ikQl6"
      },
      "source": [
        "# Preguntas"
      ]
    },
    {
      "cell_type": "markdown",
      "metadata": {
        "id": "CPNbHxqwkQl6"
      },
      "source": [
        "## 1 Suponga que tiene una lista [1, 2, 3, 2, 1] y desea crear una nueva lista sin números dobles, después de resolver este problema, intente reescribirla como una sola línea\n",
        "### Un one liner en programación es un programa existente de una sola línea. Si no logras escribir una sola línea, no te preocupes. el codigo one liner es a menudo difícile de leer y, como hemos aprendido esta semana: los lenguajes de programación están destinados a ser legibles para las personas. Así que no te preocupes si estás usando demasiado código para resolver un problema, debes preguntarte: ¿yo o alguien más entenderá esto dentro de 3 años?"
      ]
    },
    {
      "cell_type": "code",
      "source": [
        "lista = [1,2,3,2,1]\n",
        "conjunto = set(lista)\n",
        "lista = list(conjunto)\n",
        "print(lista)\n"
      ],
      "metadata": {
        "colab": {
          "base_uri": "https://localhost:8080/"
        },
        "id": "tKfGWcBAZ6LR",
        "outputId": "bb659d9c-6fb2-4eda-f165-761ecbff4bd2"
      },
      "execution_count": null,
      "outputs": [
        {
          "output_type": "stream",
          "name": "stdout",
          "text": [
            "[1, 2, 3]\n"
          ]
        }
      ]
    },
    {
      "cell_type": "markdown",
      "source": [
        ""
      ],
      "metadata": {
        "id": "MC9pvrAxZ51Z"
      }
    },
    {
      "cell_type": "markdown",
      "metadata": {
        "id": "h6tVHa6gkQl7"
      },
      "source": [
        "## 2 Slicing puede tener 3 parámetros, inicio, final y paso. Sin embargo, a menudo escribirá o leerá operaciones de corte con menos de 3 parámetros. En esta pregunta, debe volver a escribir todos los ejemplos en operaciones de corte con 3 parámetros. Después de haberlas reescrito, verifique si sus respuestas dan los mismos resultados"
      ]
    },
    {
      "cell_type": "code",
      "execution_count": null,
      "metadata": {
        "id": "aSpI0hrzkQl7"
      },
      "outputs": [],
      "source": [
        "string_1 = 'abcde'\n",
        "print(string_1[1:3])\n",
        "print(string_1[-3:-2])\n",
        "\n",
        "print(string_1[:3])\n",
        "print(string_1[3:])\n",
        "print(string_1[:])\n",
        "\n",
        "print(string_1[-2:])\n",
        "print(string_1[:-2])\n",
        "\n",
        "print(string_1[::])\n",
        "print(string_1[::-1])\n",
        "\n",
        "print(string_1[:3:1])\n",
        "print(string_1[:3:-1])\n",
        "\n",
        "print(string_1[1::])\n",
        "print(string_1[:1:-1])"
      ]
    },
    {
      "cell_type": "code",
      "source": [
        "\n"
      ],
      "metadata": {
        "id": "v-XkQuutkatK"
      },
      "execution_count": null,
      "outputs": []
    },
    {
      "cell_type": "markdown",
      "metadata": {
        "id": "Hd4UZO1FkQl7"
      },
      "source": [
        "## 3 Hemos construido un diccionario que se puede usar para encontrar el resultado si dos booleanos están conectados con el operador y\n",
        "## Reescribe este diccionario para encontrar el resultado si dos booleanos están conectados con el operador o\n",
        "## Python no tiene un operador XOR, busque en Internet lo que se supone que debe hacer el operador XOR y cree un diccionario que proporcione el resultado de una operación XOR"
      ]
    },
    {
      "cell_type": "code",
      "execution_count": null,
      "metadata": {
        "id": "vNTwz2SYkQl7",
        "colab": {
          "base_uri": "https://localhost:8080/"
        },
        "outputId": "4c43ddb6-4c0d-4cf6-f96e-495493fb331f"
      },
      "outputs": [
        {
          "output_type": "stream",
          "name": "stdout",
          "text": [
            "False\n"
          ]
        }
      ],
      "source": [
        "age = 40\n",
        "blood_type = 'A'\n",
        "my_and = {(True, True): True, (True, False): False, (False, True): False, (False, False): False }\n",
        "print(my_and[age < 70, blood_type == 'B'])"
      ]
    },
    {
      "cell_type": "markdown",
      "metadata": {
        "id": "xoA47ESykQl7"
      },
      "source": [
        "## 4 En 'Las listas pueden contener listas y así formar tablas de múltiples dimensiones' se les mostro una secuencia ganadora en tres en raya. Como es muy importante para el análisis de datos y la visualización de datos que se sienta cómodo trabajando con tablas poli-dimensionales, le pedimos que reescriba la secuencia con un segundo jugador más inteligente (o un jugador que aprendió el juego de memoria) donde el juego termina en un empate."
      ]
    },
    {
      "cell_type": "code",
      "execution_count": null,
      "metadata": {
        "id": "jUXPGxnOkQl7",
        "colab": {
          "base_uri": "https://localhost:8080/"
        },
        "outputId": "8005519c-4e36-4a72-b9df-912c8679a554"
      },
      "outputs": [
        {
          "output_type": "stream",
          "name": "stdout",
          "text": [
            "[' ', ' ', ' ']\n",
            "[' ', ' ', ' ']\n",
            "[' ', ' ', ' ']\n",
            "\n",
            "[' ', ' ', ' ']\n",
            "[' ', 'X', ' ']\n",
            "[' ', ' ', ' ']\n",
            "\n",
            "[' ', ' ', ' ']\n",
            "[' ', 'X', 'O']\n",
            "[' ', ' ', ' ']\n",
            "\n",
            "[' ', ' ', 'X']\n",
            "[' ', 'X', 'O']\n",
            "[' ', ' ', ' ']\n",
            "\n",
            "[' ', ' ', 'X']\n",
            "[' ', 'X', 'O']\n",
            "['O', ' ', ' ']\n",
            "\n",
            "['X', ' ', 'X']\n",
            "[' ', 'X', 'O']\n",
            "['O', ' ', ' ']\n",
            "\n"
          ]
        }
      ],
      "source": [
        "tic_tac_toe_board = [[' ', ' ', ' '], [' ', ' ', ' '], [' ', ' ', ' ']]\n",
        "print(tic_tac_toe_board[0]) \n",
        "print(tic_tac_toe_board[1]) \n",
        "print(tic_tac_toe_board[2])\n",
        "print() \n",
        "tic_tac_toe_board[1][1] = 'X'\n",
        "print(tic_tac_toe_board[0]) \n",
        "print(tic_tac_toe_board[1]) \n",
        "print(tic_tac_toe_board[2])\n",
        "print() \n",
        "tic_tac_toe_board[1][2] = 'O'\n",
        "print(tic_tac_toe_board[0]) \n",
        "print(tic_tac_toe_board[1]) \n",
        "print(tic_tac_toe_board[2])\n",
        "print()\n",
        "tic_tac_toe_board[0][2] = 'X'\n",
        "print(tic_tac_toe_board[0]) \n",
        "print(tic_tac_toe_board[1]) \n",
        "print(tic_tac_toe_board[2])\n",
        "print()\n",
        "tic_tac_toe_board[2][0] = 'O'\n",
        "print(tic_tac_toe_board[0]) \n",
        "print(tic_tac_toe_board[1]) \n",
        "print(tic_tac_toe_board[2])\n",
        "print()\n",
        "tic_tac_toe_board[0][0] = 'X'\n",
        "print(tic_tac_toe_board[0]) \n",
        "print(tic_tac_toe_board[1]) \n",
        "print(tic_tac_toe_board[2])\n",
        "print()# And the next move X wins independent what player O plays"
      ]
    },
    {
      "cell_type": "markdown",
      "metadata": {
        "id": "Qp9tvzrPkQl7"
      },
      "source": [
        "## 5 Ejecute el siguiente programa, vea si puede encontrar algo extraño y explique el resultado usando su conocimiento de recolección de basura"
      ]
    },
    {
      "cell_type": "code",
      "execution_count": null,
      "metadata": {
        "id": "jBjkKwcokQl7",
        "colab": {
          "base_uri": "https://localhost:8080/"
        },
        "outputId": "82e48cdb-46c4-4241-e06e-88d8fdb6c25b"
      },
      "outputs": [
        {
          "output_type": "stream",
          "name": "stdout",
          "text": [
            "The value of the list refered to by list_5 is [1, 2, 3] and its address is 140659932396592\n",
            "The value of the list refered to by list_5 is [1, 1, 3] and its address is 140659932075024\n",
            "The value of the list refered to by list_5 is [1, 1, 4] and its address is 140659932396592\n"
          ]
        }
      ],
      "source": [
        "list_5 = [1, 2, 3]\n",
        "print(f\"The value of the list refered to by list_5 is {list_5} and its address is {id(list_5)}\")\n",
        "list_5 = [1 , 1, 3]\n",
        "print(f\"The value of the list refered to by list_5 is {list_5} and its address is {id(list_5)}\")\n",
        "list_5 = [1, 1, 4]\n",
        "print(f\"The value of the list refered to by list_5 is {list_5} and its address is {id(list_5)}\")"
      ]
    },
    {
      "cell_type": "markdown",
      "metadata": {
        "id": "PA5SR0ShkQl7"
      },
      "source": [
        "## 6 Las cadenas son inmutables, pero ¿por qué funciona lo siguiente? ¿Claramente cambiamos el valor de la cadena llamada string_1? ¿Qué afirmaciones agregaría para aclarar lo que ha sucedido? usar id"
      ]
    },
    {
      "cell_type": "code",
      "execution_count": null,
      "metadata": {
        "id": "JDkP9VrSkQl8",
        "colab": {
          "base_uri": "https://localhost:8080/"
        },
        "outputId": "8115739c-ff08-41f9-d6ff-136639b02d05"
      },
      "outputs": [
        {
          "output_type": "stream",
          "name": "stdout",
          "text": [
            "text 1\n",
            "text 2\n"
          ]
        }
      ],
      "source": [
        "string_1 = \"text 1\"\n",
        "print(string_1)\n",
        "string_1 = \"text 2\"\n",
        "print(string_1)"
      ]
    },
    {
      "cell_type": "code",
      "execution_count": null,
      "metadata": {
        "id": "BDbmTGkLkQmA"
      },
      "outputs": [],
      "source": [
        ""
      ]
    }
  ],
  "metadata": {
    "colab": {
      "name": "clase_1_estudiante_Juliet_Morales.ipynb.txt",
      "provenance": [],
      "collapsed_sections": [
        "MM_J7f_zkQlh",
        "oSGq1VXBkQlh",
        "Uioie6ORkQlh",
        "X0F2_HCskQll",
        "3fDaAi91kQly",
        "j80VfAAqkQl1",
        "kByqMUWwkQl2",
        "C8JJ88dZkQl4"
      ]
    },
    "kernelspec": {
      "display_name": "Python 3",
      "language": "python",
      "name": "python3"
    },
    "language_info": {
      "codemirror_mode": {
        "name": "ipython",
        "version": 3
      },
      "file_extension": ".py",
      "mimetype": "text/x-python",
      "name": "python",
      "nbconvert_exporter": "python",
      "pygments_lexer": "ipython3",
      "version": "3.8.5"
    }
  },
  "nbformat": 4,
  "nbformat_minor": 0
}