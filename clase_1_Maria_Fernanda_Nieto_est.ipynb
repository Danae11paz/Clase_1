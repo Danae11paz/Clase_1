{
  "cells": [
    {
      "cell_type": "markdown",
      "metadata": {
        "id": "az6IT1dZkQlW"
      },
      "source": [
        "# ESTE DOCUMENTO ES UN JUPYTER NOTEBOOK. UN JUPYTER NOTEBOOK ES COMO UN LIBRO DE TEXTO PERO PARA PROGRAMAR. EN ESTE JUPYTER NOTEBOOK PUEDES MODIFICAR CAMBIAR Y EJECUTAR CODIGO DE PYTHON . CADA CASILLA/CELDA"
      ]
    },
    {
      "cell_type": "markdown",
      "metadata": {
        "id": "K0MJD-mrkQla"
      },
      "source": [
        "# Mi informacion:\n",
        "* ## Victor Salazar\n",
        "* ## victor12lup@hotmail.com\n",
        "* ## BSC Economia, MsC Data Science"
      ]
    },
    {
      "cell_type": "markdown",
      "source": [
        ""
      ],
      "metadata": {
        "id": "vW3Vas9dSoWv"
      }
    },
    {
      "cell_type": "markdown",
      "metadata": {
        "id": "1IV8vvCNkQla"
      },
      "source": [
        "# EL famoso 'Hello Python'"
      ]
    },
    {
      "cell_type": "markdown",
      "metadata": {
        "id": "XV-gGZ7bkQlb"
      },
      "source": [
        "## En Python   "
      ]
    },
    {
      "cell_type": "code",
      "execution_count": null,
      "metadata": {
        "id": "Bt4X_KBQkQlb",
        "scrolled": true,
        "colab": {
          "base_uri": "https://localhost:8080/"
        },
        "outputId": "5cf92bb3-27ae-4973-d4cc-998cd2762d45"
      },
      "outputs": [
        {
          "output_type": "stream",
          "name": "stdout",
          "text": [
            "Maria Fernanda\n"
          ]
        }
      ],
      "source": [
        "print('Maria Fernanda')\n",
        "# La funcion print \"imprime\" lo que este entre comillas\n",
        "# las lineas que empiezan con # son comentarios, estos no son parte del codigo \n",
        "# trata de usarlos siempre que puedas cuando compartas codigo o solo para desarrollar codigo, te sera muy util!"
      ]
    },
    {
      "cell_type": "markdown",
      "metadata": {
        "id": "6JSinqsMkQlc"
      },
      "source": [
        "# Historia de Python\n",
        "* ## Python lleva el nombre del programa de televisión de la BBC Monty Python's Flying Circus([https://www.youtube.com/watch?v=vZw35VUBdzo](https://www.youtube.com/watch?v=vZw35VUBdzo))\n",
        "* ## Iniciado por Guido van Rossum en Amsterdam en el : \"Instituto Nacional de Investigación en Matemáticas e Informática\"\n",
        "* ## Primera versión publicada en 1991"
      ]
    },
    {
      "cell_type": "markdown",
      "metadata": {
        "id": "3E1VQyA9kQld"
      },
      "source": [
        "# Lectura opcional\n",
        "* ##  [https://docs.python.org/3/reference/datamodel.html](https://docs.python.org/3/reference/datamodel.html) capitulo 3.1\n",
        "* ## From [https://docs.python.org/3/tutorial/index.html](https://docs.python.org/3/tutorial/index.html) capitulo 3.1 y capitulo 5 , secciones 5.1.1, 5.2, 5.4, y 5.5.\n",
        "* ## Ecomista Paul Romer sobre Jupyter [https://paulromer.net/jupyter-mathematica-and-the-future-of-the-research-paper/](https://paulromer.net/jupyter-mathematica-and-the-future-of-the-research-paper/) \n",
        " * ([https://www.python.org/dev/peps/pep-0008/](https://www.python.org/dev/peps/pep-0008/))\n",
        " * ([https://en.wikipedia.org/wiki/Python_syntax_and_semantics](https://en.wikipedia.org/wiki/Python_syntax_and_semantics))"
      ]
    },
    {
      "cell_type": "markdown",
      "metadata": {
        "id": "kps2Zf-xkQld"
      },
      "source": [
        "# Los lenguajes informáticos deben ser leídos por humanos\n",
        "* ## Las computadoras solo entienden ceros y unos\n",
        "* ## Por lo tanto, los lenguajes informáticos deben traducirse en esos ceros y unos a algo  que la computadora entiende\n"
      ]
    },
    {
      "cell_type": "markdown",
      "metadata": {
        "id": "j23j95JhkQle"
      },
      "source": [
        "# Dos tipos de traducción: Interpretación y compilación\n",
        "* ## Los programas escritos en idiomas interpretados se traducen y ejecutan línea por línea\n",
        " * ### Los programas escritos en lenguajes interpretados a menudo se denominan scripts\n",
        "* ## Los programas escritos en lenguajes compilados se traducen y ejecutan programa (o más) por programa\n",
        " * ### La traducción de programas completos a menudo se llama compilación\n",
        "* ## La interpretación es excelente para un ciclo de desarrollo rápido\n",
        "* ## La compilación es excelente para la eficiencia y la velocidad\n",
        "## Observaciones:\n",
        "* ## En general, podemos decir que la velocidad y la eficiencia son un cuello de botella menor a medida que las computadoras se vuelven cada vez más rápidas y Python usa muchas rutinas escritas en C, que es muy rápido.\n",
        "* ## Python no traduce el código directamente a código de máquina, sino a un código que es el mismo para todos los sistemas operativos como Windows, OS X, Linux, etc. Este código intermedio es ejecutado por una máquina virtual que traduce el código intermedio a código de máquina específico legible y ejecutable por los diferentes sistemas operativos como Windows, OS X, Linux, etc."
      ]
    },
    {
      "cell_type": "markdown",
      "metadata": {
        "id": "ceV3xzjOkQle"
      },
      "source": [
        "### Python es traducido y ejecutado linea por linea"
      ]
    },
    {
      "cell_type": "code",
      "execution_count": null,
      "metadata": {
        "id": "ScGO8p0BkQle",
        "outputId": "9582583e-678d-48c5-f614-89cb6aa19dce",
        "colab": {
          "base_uri": "https://localhost:8080/"
        }
      },
      "outputs": [
        {
          "output_type": "stream",
          "name": "stdout",
          "text": [
            "1000\n",
            "2\n"
          ]
        }
      ],
      "source": [
        "entero_1 = 1000\n",
        "print (entero_1)\n",
        "integer_2 = 2\n",
        "print (integer_2)"
      ]
    },
    {
      "cell_type": "code",
      "execution_count": null,
      "metadata": {
        "id": "wf9UxiV3kQlf",
        "colab": {
          "base_uri": "https://localhost:8080/"
        },
        "outputId": "c3742515-b8af-4f86-f36c-b152f53101d7"
      },
      "outputs": [
        {
          "output_type": "stream",
          "name": "stdout",
          "text": [
            "1\n",
            "2\n"
          ]
        }
      ],
      "source": [
        "# Definimos un objeto con valor 1, le asignamos de nombre integer_1, de typo int \n",
        "integer_1 = 1\n",
        "# Le damos el valor definido en la pantalla \n",
        "print(integer_1)\n",
        "print(integer_2)\n",
        "integer_2 = 2"
      ]
    },
    {
      "cell_type": "markdown",
      "metadata": {
        "id": "_GMsxwQvkQlf"
      },
      "source": [
        "### El codigo de Python es traducido a un lenguaje intermedio"
      ]
    },
    {
      "cell_type": "code",
      "execution_count": null,
      "metadata": {
        "id": "jetr-tfmkQlg",
        "outputId": "86373fb8-b635-4268-8cef-896df6343096",
        "colab": {
          "base_uri": "https://localhost:8080/"
        }
      },
      "outputs": [
        {
          "output_type": "stream",
          "name": "stdout",
          "text": [
            "[1, 4, 9]\n"
          ]
        }
      ],
      "source": [
        "# Creamos una funcion\n",
        "def make_quadratic_list(function_list):\n",
        "    #Usaremos uns comprension de lista para contruir otra lista\n",
        "    return [x*x for x in function_list]    \n",
        "\n",
        "# Llamamos una funcion y le damos los valores en una lista\n",
        "print(make_quadratic_list([1,2,3]))"
      ]
    },
    {
      "cell_type": "code",
      "execution_count": null,
      "metadata": {
        "id": "nCUBXipSkQlg",
        "outputId": "aca289ca-f330-4f46-8c04-3256d31fedad",
        "colab": {
          "base_uri": "https://localhost:8080/"
        }
      },
      "outputs": [
        {
          "output_type": "stream",
          "name": "stdout",
          "text": [
            "  4           0 LOAD_CONST               1 (<code object <listcomp> at 0x7f7cec361db0, file \"<ipython-input-35-e5aeeaf2cd37>\", line 4>)\n",
            "              2 LOAD_CONST               2 ('make_quadratic_list.<locals>.<listcomp>')\n",
            "              4 MAKE_FUNCTION            0\n",
            "              6 LOAD_FAST                0 (function_list)\n",
            "              8 GET_ITER\n",
            "             10 CALL_FUNCTION            1\n",
            "             12 RETURN_VALUE\n",
            "\n",
            "Disassembly of <code object <listcomp> at 0x7f7cec361db0, file \"<ipython-input-35-e5aeeaf2cd37>\", line 4>:\n",
            "  4           0 BUILD_LIST               0\n",
            "              2 LOAD_FAST                0 (.0)\n",
            "        >>    4 FOR_ITER                12 (to 18)\n",
            "              6 STORE_FAST               1 (x)\n",
            "              8 LOAD_FAST                1 (x)\n",
            "             10 LOAD_FAST                1 (x)\n",
            "             12 BINARY_MULTIPLY\n",
            "             14 LIST_APPEND              2\n",
            "             16 JUMP_ABSOLUTE            4\n",
            "        >>   18 RETURN_VALUE\n"
          ]
        }
      ],
      "source": [
        "# Muchas funciones de Pyton deben ser importadas para su uso \n",
        "import dis\n",
        "def make_quadratic_list(function_list):\n",
        "    return [x*x for x in function_list]    \n",
        "\n",
        "# La funcion dis.dis muestra el codigo intermediario que es usado para que Python traduzca \n",
        "dis.dis(make_quadratic_list)"
      ]
    },
    {
      "cell_type": "markdown",
      "metadata": {
        "id": "ByWdt16vkQlg"
      },
      "source": [
        "# La semana 1 se trata principalmente de datos, pero, por supuesto, queremos hacer algo con esos datos\n",
        " * ## Python tiene un conjunto completo de operadores disponibles, consulte [https://www.w3resource.com/python/python-operators.php](https://www.w3resource.com/python/python-operators.php ), puede omitir los comandos de operador y comenzar con los operadores aritméticos de Python\n",
        " * ## Un tema importante con los operadores es la precedencia o dicho de otra manera, si tiene más de un operador en una declaración, que se interpretará primero. En matemáticas sabemos que 2 + 2 x 3 = 8 y no 12. Decimos que la multiplicación tiene prioridad sobre la suma. Como tenemos muchos más operadores en Python, necesitamos una tabla grande sobre precedencia. Una buena tabla se encuentra en el capítulo 6.17 en [https://docs.python.org/3/reference/expressions.html](https://docs.python.org/3/reference/expressions.html) que puede omitir para ahora los operadores que no están en el documento anterior, pero recuerda cada vez que veas un nuevo operador echa un vistazo\n",
        "  * ### Nunca olvides que los paréntesis tienen la precedencia más alta. Por lo tanto, siempre es posible escapar de los problemas de precedencia agregando paréntesis\n",
        " * ## Los operadores son muy importantes si desea procesar datos, pero en las semanas 3 y 5 descubrirá que puede expandir sus posibilidades dramáticamente escribiendo sus propias funciones y clases"
      ]
    },
    {
      "cell_type": "code",
      "execution_count": null,
      "metadata": {
        "id": "ePEiiqa9kQlg",
        "outputId": "0d2f8ff6-ad13-4556-ed66-a5a7d3c9f865"
      },
      "outputs": [
        {
          "name": "stdout",
          "output_type": "stream",
          "text": [
            "6.2\n",
            "6.6000000000000005\n"
          ]
        }
      ],
      "source": [
        "# operadores estandares en Python\n",
        "print(1 + 2 * 3 - 4 / 5)\n",
        "# Uso de parentesis\n",
        "print((1 + 2) * (3 - 4 / 5))"
      ]
    },
    {
      "cell_type": "markdown",
      "metadata": {
        "id": "yqKW-VAQkQlh"
      },
      "source": [
        "# Los datos en un programa de Python se almacenarán como bits (ceros y unos) en la memoria de la computadora, pero se representarán como objetos para los humanos.\n",
        "## Son estos objetos con los que tenemos que lidiar, el interpretador traducirá nuestras referencias a objetos en referencias a lugares en la memoria de la computadora.\n",
        "## Los objetos en Python tienen:\n",
        "1. ### Una identidad, en la versión Python de Anaconda es la dirección en la memoria de la computadora, donde se almacena el valor. La identidad no se puede cambiar.\n",
        "2. ### Un tipo de datos, como entero, cadena, lista, etc. El tipo de datos no se puede cambiar\n",
        "3. ### Un valor, como 10, 'Hello World', [1,2,3]. El valor se puede cambiar o no según el tipo de datos. Si el valor de un objeto se puede cambiar, el objeto se llama mutable; de lo contrario, el objeto se llama inmutable."
      ]
    },
    {
      "cell_type": "markdown",
      "metadata": {
        "id": "MM_J7f_zkQlh"
      },
      "source": [
        "### Se puede crear un objeto y adjuntar un nombre a un objeto a través de una declaración de asignación (por ejemplo, `a = 1` \n",
        "### Se puede hacer referencia a un objeto con más de un nombre, pero un nombre solo puede hacer referencia a un objeto\n",
        "### Solo se pueden asignar nombres a objetos si:\n",
        "* #### Ese nombre comienza con una letra (A-z) o un carácter de subrayado (_)\n",
        "* #### Ese nombre solo contiene caracteres alfanuméricos (A-z, 0-9) y guiones bajos"
      ]
    },
    {
      "cell_type": "markdown",
      "metadata": {
        "id": "oSGq1VXBkQlh"
      },
      "source": [
        "### En los nombres se distingue mayúsculas y minúsculas (edad, Edad, y EDAD son diferentes)"
      ]
    },
    {
      "cell_type": "markdown",
      "metadata": {
        "id": "Uioie6ORkQlh"
      },
      "source": [
        "## Recolección de basura\n",
        "### Los datos utilizados en un programa ocupan la memoria de la computadora. Por lo tanto, la creación de muchos objetos de datos de gran tamaño podría sobrecargar la memoria de la computadora.\n",
        "### Python (y algunos otros lenguajes de programación) tienen un buen truco para resolver ese problema. Si Python nota que ya no hay nombres adjuntos a un objeto, el objeto se destruye en un proceso llamado \"recolección de basura\". Si no hay nombres adjuntos a un objeto, nadie puede usarlo más y, por lo tanto, es mejor destruirlo. En otros idiomas, debe programar la recolección de basura usted mismo y debe tener cuidado de no destruir los objetos que aún se necesitan o mantener los que ya no se necesitan."
      ]
    },
    {
      "cell_type": "markdown",
      "metadata": {
        "id": "gKu5fYlgkQlh"
      },
      "source": [
        "## Ejemplos (estos son ejemplos importantes, no entender cómo Python maneja los datos puede conducir a problemas muy difíciles de resolver)"
      ]
    },
    {
      "cell_type": "code",
      "execution_count": null,
      "metadata": {
        "id": "E3IglRzukQlh",
        "outputId": "5ac920b8-a1f5-4076-8389-1a0a06420efb",
        "colab": {
          "base_uri": "https://localhost:8080/"
        }
      },
      "outputs": [
        {
          "output_type": "stream",
          "name": "stdout",
          "text": [
            "False\n",
            "False\n",
            "True\n",
            "140302856531632\n"
          ]
        }
      ],
      "source": [
        "# La siguiente declaración de asignación crea un objeto con valor 2000 y tipo entero, y\n",
        "# también adjunta el nombre integer_1 al objeto recién creado\n",
        "integer_1 = 2000\n",
        "# La siguiente declaración de asignación no crea un objeto, pero\n",
        "# también adjunta el nombre integer_2 al objeto que ya tiene el nombre integer_1 adjunto\n",
        "# El mismo objeto ahora tiene dos nombres\n",
        "integer_2 = integer_1\n",
        "# Podemos probar si los nombres integer_1 e integer_2 se refieren a un objeto con el mismo valor\n",
        "# Si eso es Verdadero, la siguiente declaración de impresión debería imprimir Verdadero y, de lo contrario, debería imprimir falso\n",
        "print(integer_1 != integer_2)\n",
        "# Podemos probar tambien si integer_1 y integer_2 se refieren al mismo objeto\n",
        "print(integer_1 is not integer_2)\n",
        "# Es lo mismo que decir si el id de un objeto es el mismo\n",
        "print(id(integer_1) == id(integer_2))\n",
        "# Aqui imprimimos el id de un objeto \n",
        "print(id(integer_1))"
      ]
    },
    {
      "cell_type": "code",
      "execution_count": null,
      "metadata": {
        "id": "OQncGCo7kQli",
        "outputId": "276a916d-8e0d-49bd-9a7e-1339e6e66e75",
        "colab": {
          "base_uri": "https://localhost:8080/"
        }
      },
      "outputs": [
        {
          "output_type": "stream",
          "name": "stdout",
          "text": [
            "2000 1000\n"
          ]
        }
      ],
      "source": [
        "integer_1 = 2000\n",
        "integer_2 = integer_1\n",
        "integer_2 = 1000\n",
        "# La declaración de asignación anterior crea un nuevo objeto con valor 1000\n",
        "# separa el nombre integer_2 del objeto con valor 2000, y\n",
        "# adjunta el nombre integer_2 al nuevo objeto\n",
        "print(integer_1, integer_2)"
      ]
    },
    {
      "cell_type": "code",
      "execution_count": null,
      "metadata": {
        "id": "Zi5tKvYAkQli",
        "outputId": "17ade80c-26aa-49be-9bb7-3d047fc1d702",
        "colab": {
          "base_uri": "https://localhost:8080/"
        }
      },
      "outputs": [
        {
          "output_type": "stream",
          "name": "stdout",
          "text": [
            "140174576991984\n",
            "140174922213936\n"
          ]
        }
      ],
      "source": [
        "# La siguiente declaración de asignación crea un objeto con valor 1000 y tipo entero\n",
        "# La siguiente declaración de asignación también adjunta el nombre integer_1 al objeto\n",
        "integer_1 = 1000\n",
        "print(id(integer_1))\n",
        "# La siguiente declaración de asignación crea un objeto con valor \"data\" y tipo cadena,\n",
        "# también separa el nombre entero_1 del objeto con valor 1, y\n",
        "# adjunta el nombre integer_1 al objeto recién creado con el valor \"data\"\n",
        "integer_1 = \"data\"\n",
        "# The following statement shows us that the name integer_1 now refers to a different object\n",
        "print(id(integer_1))"
      ]
    },
    {
      "cell_type": "markdown",
      "metadata": {
        "id": "9VyEsUpnkQli"
      },
      "source": [
        "### Los siguientes ejemplos son sobre prácticas, esto es bastante complicado. A veces, esperaría que Python creara un nuevo objeto, pero Python no lo hace y, en parte, está fuera de su control y depende de la implementación de Python que use."
      ]
    },
    {
      "cell_type": "code",
      "execution_count": null,
      "metadata": {
        "id": "uALgFIr7kQli",
        "outputId": "f934ada1-03cb-493f-802c-bdcd4cf1ab54",
        "colab": {
          "base_uri": "https://localhost:8080/"
        }
      },
      "outputs": [
        {
          "output_type": "stream",
          "name": "stdout",
          "text": [
            "True\n"
          ]
        }
      ],
      "source": [
        "# En este ejemplo, una cadena está guardada y la segunda asignación no crea un nuevo objeto string_1 = 'string'\n",
        "string_1 = 'string'\n",
        "string_2 = 'string'\n",
        "print (string_1 is string_2)"
      ]
    },
    {
      "cell_type": "code",
      "execution_count": null,
      "metadata": {
        "id": "fRa3ma6ykQlj",
        "outputId": "85774b3c-dfe6-408e-91a8-29dff21ee0b7"
      },
      "outputs": [
        {
          "name": "stdout",
          "output_type": "stream",
          "text": [
            "False\n"
          ]
        }
      ],
      "source": [
        "# En este ejemplo, una cadena no está guardada y la segunda asignación crea un nuevo objeto string_1 = 'This string is not interned'\n",
        "string_2 = 'This string is not interned'\n",
        "print (string_1 is string_2)"
      ]
    },
    {
      "cell_type": "code",
      "execution_count": null,
      "metadata": {
        "id": "FUSQrCYFkQlj",
        "outputId": "69d0283e-9684-4ceb-9759-9db7b3e81000"
      },
      "outputs": [
        {
          "name": "stdout",
          "output_type": "stream",
          "text": [
            "True\n"
          ]
        }
      ],
      "source": [
        "integer_1 = 1 \n",
        "integer_2 = 1\n",
        "print (integer_1 is integer_2)"
      ]
    },
    {
      "cell_type": "code",
      "execution_count": null,
      "metadata": {
        "id": "Jb8ZHWYDkQlk",
        "outputId": "3583d953-4f07-425a-cf09-74157d5981ee"
      },
      "outputs": [
        {
          "name": "stdout",
          "output_type": "stream",
          "text": [
            "False\n"
          ]
        }
      ],
      "source": [
        "integer_1 = 1000\n",
        "integer_2 = 1000\n",
        "print (integer_1 is integer_2)"
      ]
    },
    {
      "cell_type": "markdown",
      "metadata": {
        "id": "X6GbGVOLkQlk"
      },
      "source": [
        "# Primero discutimos los tipos de datos que describen objetos de valor único. Estos son números, cadenas y booleanos y, posteriormente, tipos de datos que describen objetos con una colección de valores."
      ]
    },
    {
      "cell_type": "markdown",
      "metadata": {
        "id": "MA7bZktpkQlk"
      },
      "source": [
        "## Números\n",
        "### Todos los números (enteros, números de coma flotante, números complejos, decimales y fracciones) son inmutables"
      ]
    },
    {
      "cell_type": "markdown",
      "metadata": {
        "id": "7okguazIkQlk"
      },
      "source": [
        "### Enteros\n",
        "#### Estos son números enteros (-10,1,2)\n",
        "#### Solo el hardware de la computadora limita el limite de un número entero y, por lo tanto, los números enteros son muy precisos"
      ]
    },
    {
      "cell_type": "code",
      "execution_count": null,
      "metadata": {
        "id": "29sCioEYkQlk",
        "outputId": "b38ff724-2ec1-4edb-a93c-48bccf5e8749",
        "colab": {
          "base_uri": "https://localhost:8080/"
        }
      },
      "outputs": [
        {
          "output_type": "stream",
          "name": "stdout",
          "text": [
            "False\n"
          ]
        }
      ],
      "source": [
        "integer_1=9999999999999999999999999999999999999999999999999999999999999999999999999999999999999999999\n",
        "integer_2 = integer_1 + 1 \n",
        "print(integer_1 == integer_2)"
      ]
    },
    {
      "cell_type": "code",
      "execution_count": null,
      "metadata": {
        "id": "J0x0hgpkkQll",
        "outputId": "367edfe9-0f79-49a8-ce82-1d496e6b9494",
        "colab": {
          "base_uri": "https://localhost:8080/"
        }
      },
      "outputs": [
        {
          "output_type": "stream",
          "name": "stdout",
          "text": [
            "140302856276128\n"
          ]
        }
      ],
      "source": [
        "integer_1=9999999999999999999999999999999999999999999999999999999999999999999999999999999999999999999\n",
        "print(id(integer_1))\n",
        "integer_1 = integer_1 + 1 \n",
        "# La verificación de las identificaciones deja en claro que se crea un nuevo objeto y que el nombre integer_1 ahora está vinculado a ese nuevo objeto print(id(integer_1))"
      ]
    },
    {
      "cell_type": "markdown",
      "metadata": {
        "id": "X0F2_HCskQll"
      },
      "source": [
        "### Enteros expresados en diferentes maneras"
      ]
    },
    {
      "cell_type": "markdown",
      "metadata": {
        "id": "A2SxPxB1kQll"
      },
      "source": [
        "### Números decimales vs a números binarios/octales/hexidecimales\n",
        "#### Los números en matemáticas se basan en el sistema numérico posicional. Entonces, cada dígito en un número tiene una contribución al valor total del número que depende de su posición en ese número y si el número es binario/octal/decimal/hexidecimal.\n",
        "#### En números decimales, el dígito más a la derecha tiene una contribución al valor total que es solo el valor de ese dígito, el que está a la izquierda tiene una contribución al valor total de su propio valor multiplicado por 10, y para el que está a la izquierda de ese que su contribución es su propio valor multiplicado por 100 (10 a la potencia 2) etc. (Los números decimales usan solo dígitos entre 0 y 9).\n",
        "#### En números binarios, el dígito más a la derecha tiene una contribución al valor total que es solo el valor de ese dígito, el que está a la izquierda tiene una contribución al valor total de su propio valor multiplicado por 2, y para el que está a la izquierda de ese que su contribución es su propio valor multiplicado por 4 (2 elevado a 2), etc. (Los números binarios usan solo 0 y 1).\n",
        "#### En números octales, el dígito más a la derecha tiene una contribución al valor total que es solo el valor de ese dígito, el que está a la izquierda tiene una contribución al valor total de su propio valor multiplicado por 8, y para el que está a la izquierda de ese que su contribución es su propio valor multiplicado por 64 (8 elevado a 2), etc. (Los números octales usan solo dígitos entre 0 y 7).\n",
        "#### En números hexadecimales, el dígito más a la derecha tiene una contribución al valor total que es solo el valor de ese dígito, el que está a la izquierda tiene una contribución al valor total de su propio valor multiplicado por 16, y para el que está a la izquierda de aquél cuya contribución es su propio valor multiplicado por 256 (16 a la potencia 2) etc. (Los números hexadecimales usan todos los dígitos entre 0 y 90, y A para 10, B para 11, hasta F para 15.)\n",
        "#### Entonces 111 binario es 1 + 1 * 2 + 1 * 4 = 7 decimal"
      ]
    },
    {
      "cell_type": "markdown",
      "metadata": {
        "id": "R7ToBx9rkQlm"
      },
      "source": [
        "#### Los números en representación alternativa deben comenzar con dos caracteres que indican qué sistema numérico alternativo se utiliza"
      ]
    },
    {
      "cell_type": "code",
      "execution_count": null,
      "metadata": {
        "id": "dOwssZ--kQlm",
        "outputId": "611ce4a2-99ff-41b8-d686-6418d326e411",
        "colab": {
          "base_uri": "https://localhost:8080/"
        }
      },
      "outputs": [
        {
          "output_type": "stream",
          "name": "stdout",
          "text": [
            "26\n",
            "26\n",
            "26\n",
            "26\n",
            "True\n"
          ]
        }
      ],
      "source": [
        "print(0b11010) \n",
        "# Binary number 11010\n",
        "print(0o32)    \n",
        "# Octal number 112 \n",
        "print(26)      \n",
        "# Decimal number 26\n",
        "print(0x1A)    \n",
        "# Hexadecimal number 1A\n",
        "print (0b11010 == 0o32 == 26 == 0x1A )"
      ]
    },
    {
      "cell_type": "markdown",
      "metadata": {
        "id": "eSpdy_BhkQln"
      },
      "source": [
        "### Números de punto flotante \n",
        "#### un número que contiene una parte fraccionaria (1.3, -1.3, 0.0)\n",
        "#### Los números de punto flotante se almacenan en un espacio limitado en la memoria de la computadora y, por lo tanto, no tienen una precisión ilimitada"
      ]
    },
    {
      "cell_type": "code",
      "execution_count": null,
      "metadata": {
        "id": "k4ZQP7uLkQln",
        "outputId": "f963db48-baea-43af-8931-9032ed18d5c6",
        "colab": {
          "base_uri": "https://localhost:8080/"
        }
      },
      "outputs": [
        {
          "output_type": "stream",
          "name": "stdout",
          "text": [
            "4.2\n",
            "1.0\n"
          ]
        }
      ],
      "source": [
        "print(4.2)\n",
        "print(1.00)"
      ]
    },
    {
      "cell_type": "markdown",
      "metadata": {
        "id": "_OuhAVbhkQlo"
      },
      "source": [
        "### Los números de punto flotante también se pueden representar en notación científica, e.g.: $132.2  = 1.322 \\times 10^2$\n",
        "### La notación en Python es $1.322e2$"
      ]
    },
    {
      "cell_type": "code",
      "execution_count": null,
      "metadata": {
        "id": "a9vRFEaukQlo",
        "colab": {
          "base_uri": "https://localhost:8080/"
        },
        "outputId": "c72fc7da-2216-45ce-b8d1-41edaa502507"
      },
      "outputs": [
        {
          "output_type": "stream",
          "name": "stdout",
          "text": [
            "132.2\n",
            "132.2\n",
            "True\n"
          ]
        }
      ],
      "source": [
        "float_1 = 132.2\n",
        "scientific = 1.322e2\n",
        "print(float_1)\n",
        "print(scientific)\n",
        "print(float_1 == scientific)"
      ]
    },
    {
      "cell_type": "markdown",
      "metadata": {
        "id": "I8Neb66zkQlo"
      },
      "source": [
        "### Vimos que los números enteros eran infinitamente precisos, este no es el caso de los números de punto flotante, para mas info consulte [https://en.wikipedia.org/wiki /Floating-point_arithmetic](https://en.wikipedia.org/wiki/Floating-point_arithmetic)"
      ]
    },
    {
      "cell_type": "code",
      "execution_count": null,
      "metadata": {
        "id": "cclVT9EDkQlo",
        "outputId": "9a309105-1e14-4401-c788-9f5bcb75f56e",
        "colab": {
          "base_uri": "https://localhost:8080/"
        }
      },
      "outputs": [
        {
          "output_type": "stream",
          "name": "stdout",
          "text": [
            "True\n"
          ]
        }
      ],
      "source": [
        "float_1 = 9999999999999999999999999999999999999999999999999999999999999999999999999999999999999999999.0\n",
        "float_2 = float_1 + 1\n",
        "print(float_1 == float_2)"
      ]
    },
    {
      "cell_type": "code",
      "execution_count": null,
      "metadata": {
        "id": "Su7gHoyvkQlo",
        "outputId": "d6f365f0-0b42-45ef-dfb8-2d7e49e7ca0d",
        "colab": {
          "base_uri": "https://localhost:8080/"
        }
      },
      "outputs": [
        {
          "output_type": "stream",
          "name": "stdout",
          "text": [
            "1e+91\n",
            "1e+91\n",
            "True\n"
          ]
        }
      ],
      "source": [
        "float_1 = 9999999999999999999999999999999999999999999999999999999999999999999999999999999999999999999.0\n",
        "print(float_1)\n",
        "float_2 = float_1 + 1\n",
        "print (float_2)\n",
        "print(float_1 == float_2)"
      ]
    },
    {
      "cell_type": "code",
      "execution_count": null,
      "metadata": {
        "id": "ul4Mzt9dkQlo",
        "outputId": "30b9d554-b7f0-42c0-fc7e-2e37d1c29158",
        "colab": {
          "base_uri": "https://localhost:8080/"
        }
      },
      "outputs": [
        {
          "output_type": "stream",
          "name": "stdout",
          "text": [
            "inf\n",
            "1e-323\n",
            "0.0\n"
          ]
        }
      ],
      "source": [
        "print(1e48*1e300)\n",
        "float_3 = 1e-322\n",
        "print(float_3 / 10)\n",
        "print(float_3 / 100)"
      ]
    },
    {
      "cell_type": "code",
      "execution_count": null,
      "metadata": {
        "id": "mSfSdB55kQlo",
        "outputId": "252f8f7b-590d-460f-be26-ebed0815ec21",
        "scrolled": true,
        "colab": {
          "base_uri": "https://localhost:8080/"
        }
      },
      "outputs": [
        {
          "output_type": "stream",
          "name": "stdout",
          "text": [
            "False\n"
          ]
        }
      ],
      "source": [
        "#Para poner elevado se pone 2 asteriscos **\n",
        "#Para dividr se debe poner doble slash //\n",
        "print((2 ** .5) ** 2 == 2)"
      ]
    },
    {
      "cell_type": "markdown",
      "metadata": {
        "id": "C5AEklYSkQlp"
      },
      "source": [
        "### Números complejos,\n",
        "* #### Trabaja igual que en tus clases de matemáticas, pero en vez de i se usa la letra j para la parte imaginaria\n",
        "* #### Para mejor precision, podría ser mejor importar métodos especiales de la biblioteca cmath, en lugar de usar operadores estándares"
      ]
    },
    {
      "cell_type": "code",
      "execution_count": null,
      "metadata": {
        "id": "xO7IhWK2kQlp",
        "outputId": "4e3563a3-d508-4e31-ca3f-597f7f74c8ba",
        "scrolled": true,
        "colab": {
          "base_uri": "https://localhost:8080/"
        }
      },
      "outputs": [
        {
          "output_type": "stream",
          "name": "stdout",
          "text": [
            "(6.123233995736766e-17+1j)\n"
          ]
        }
      ],
      "source": [
        "print((-1 + 0j) ** .5)"
      ]
    },
    {
      "cell_type": "code",
      "execution_count": null,
      "metadata": {
        "id": "8XXYCrJekQlp",
        "outputId": "40fa632d-5e12-49bd-8d7e-6338f9462059",
        "colab": {
          "base_uri": "https://localhost:8080/"
        }
      },
      "outputs": [
        {
          "output_type": "stream",
          "name": "stdout",
          "text": [
            "1j\n"
          ]
        }
      ],
      "source": [
        "#Módulos para importar\n",
        "from cmath import sqrt\n",
        "\n",
        "print(sqrt(-1))"
      ]
    },
    {
      "cell_type": "markdown",
      "metadata": {
        "id": "cEmCNzNYkQlp"
      },
      "source": [
        "### Decimales\n",
        "#### Decimales pueden ser tan precisos en comparacion de numeros de punto flotante"
      ]
    },
    {
      "cell_type": "code",
      "execution_count": null,
      "metadata": {
        "id": "jfSgZK-JkQlp",
        "outputId": "f54a4f81-0d58-43d6-a35f-5e5503af632c",
        "colab": {
          "base_uri": "https://localhost:8080/"
        }
      },
      "outputs": [
        {
          "output_type": "stream",
          "name": "stdout",
          "text": [
            "3.3000000000000003\n",
            "3.3\n"
          ]
        }
      ],
      "source": [
        "#con punto flotante no es tan exacto el decimal\n",
        "print (1.1 + 2.2)\n",
        "from decimal import Decimal, getcontext\n",
        "print(Decimal('1.1') + Decimal('2.2')  )"
      ]
    },
    {
      "cell_type": "code",
      "execution_count": null,
      "metadata": {
        "id": "Y8tWI-RVkQlp",
        "outputId": "2eb0f9fa-612a-4364-c420-a9dded9d29bd",
        "colab": {
          "base_uri": "https://localhost:8080/"
        }
      },
      "outputs": [
        {
          "output_type": "stream",
          "name": "stdout",
          "text": [
            "3.3000000000000003\n",
            "3.3\n",
            "3.300000000000000266453525910\n"
          ]
        }
      ],
      "source": [
        "print(1.1+ 2.2)\n",
        "from decimal import Decimal, getcontext\n",
        "print(Decimal('1.1') + Decimal('2.2'))\n",
        "print(Decimal(1.1) + Decimal(2.2))"
      ]
    },
    {
      "cell_type": "code",
      "execution_count": null,
      "metadata": {
        "id": "4UjrSeWMkQlq"
      },
      "outputs": [],
      "source": [
        ""
      ]
    },
    {
      "cell_type": "markdown",
      "metadata": {
        "id": "lqsbiYRmkQlq"
      },
      "source": [
        "### Fracción\n",
        "#### Las fracciones funcionan como se esperaba y hacen toda la simplificación necesaria automáticamente"
      ]
    },
    {
      "cell_type": "code",
      "execution_count": null,
      "metadata": {
        "id": "KMyovyZskQlq",
        "outputId": "912c9ca4-61c1-4db7-b3a1-5eae14c56342",
        "colab": {
          "base_uri": "https://localhost:8080/"
        }
      },
      "outputs": [
        {
          "output_type": "stream",
          "name": "stdout",
          "text": [
            "0.30952380952380953\n",
            "13/42\n"
          ]
        }
      ],
      "source": [
        "print(1/7+1/6)\n",
        "from fractions import Fraction\n",
        "print(Fraction(1, 7) + Fraction(1, 6))"
      ]
    },
    {
      "cell_type": "markdown",
      "metadata": {
        "id": "gCeIWpMLkQlq"
      },
      "source": [
        "## Cadenas (Strings)"
      ]
    },
    {
      "cell_type": "code",
      "execution_count": null,
      "metadata": {
        "id": "aXkwxeiKkQlq",
        "outputId": "adcdfa26-9ccd-4843-94de-ff332f1acb7e",
        "colab": {
          "base_uri": "https://localhost:8080/"
        }
      },
      "outputs": [
        {
          "output_type": "stream",
          "name": "stdout",
          "text": [
            "True\n"
          ]
        }
      ],
      "source": [
        "string_1 = \"Text\"\n",
        "string_2 = 'Text'\n",
        "print (string_1 is string_2)"
      ]
    },
    {
      "cell_type": "code",
      "execution_count": null,
      "metadata": {
        "id": "gC3svX3VkQlq"
      },
      "outputs": [],
      "source": [
        "string_1 = \"Text\""
      ]
    },
    {
      "cell_type": "markdown",
      "metadata": {
        "id": "aO10xvegkQlq"
      },
      "source": [
        "### Sequencias de escape\n",
        "* #### Un Sequencia de escape le permite usar caracteres que de otro modo serían imposibles de poner en una cadena\n",
        "* #### Un Sequencia de escape consta de una barra invertida (\\) seguida del carácter que desea agregar a la cadena\n",
        "\n",
        "### Hay muchas sequencia de escape, eche un vistazo a los siguientes sitios web. Es bueno que sepas que todas estas posibilidades existen.\n",
        "* #### Resumen completo[(https://python-reference.readthedocs.io/en/latest/docs/str/escapes.html](https://python-reference.readthedocs.io/en/latest/ docs/str/escapes.html)\n",
        "* #### Códigos Unicode[https://en.wikipedia.org/wiki/List_of_Unicode_characters](https://en.wikipedia.org/wiki/List_of_Unicode_characters)\n",
        "* #### Nombres para caracteres Unicode[https://www.unicode.org/Public/9.0.0/ucd/UnicodeData.txt](https://www.unicode.org/Public/9.0.0/ucd /UnicodeData.txt)"
      ]
    },
    {
      "cell_type": "code",
      "execution_count": null,
      "metadata": {
        "id": "ovAJVwtxkQlr",
        "colab": {
          "base_uri": "https://localhost:8080/",
          "height": 131
        },
        "outputId": "fcd102d8-d803-451b-99fe-f50d67923df2"
      },
      "outputs": [
        {
          "output_type": "error",
          "ename": "SyntaxError",
          "evalue": "ignored",
          "traceback": [
            "\u001b[0;36m  File \u001b[0;32m\"<ipython-input-8-531ae83d7056>\"\u001b[0;36m, line \u001b[0;32m1\u001b[0m\n\u001b[0;31m    string = 'It's Monthy Python'\u001b[0m\n\u001b[0m                 ^\u001b[0m\n\u001b[0;31mSyntaxError\u001b[0m\u001b[0;31m:\u001b[0m invalid syntax\n"
          ]
        }
      ],
      "source": [
        "string = 'It's Monthy Python'\n",
        "print(string)"
      ]
    },
    {
      "cell_type": "code",
      "execution_count": null,
      "metadata": {
        "id": "fCgssoYzkQlr",
        "colab": {
          "base_uri": "https://localhost:8080/"
        },
        "outputId": "bb3d5676-8f10-432f-e98c-7a70ea4e2662"
      },
      "outputs": [
        {
          "output_type": "stream",
          "name": "stdout",
          "text": [
            "It's Monthy Python\n"
          ]
        }
      ],
      "source": [
        "string = \"It's Monthy Python\"\n",
        "print(string)"
      ]
    },
    {
      "cell_type": "code",
      "execution_count": null,
      "metadata": {
        "id": "6AVMibKpkQlr",
        "outputId": "5acca6c6-9507-456a-b95d-484b4fec9934",
        "colab": {
          "base_uri": "https://localhost:8080/"
        }
      },
      "outputs": [
        {
          "output_type": "stream",
          "name": "stdout",
          "text": [
            "It's Monthy Python\n"
          ]
        }
      ],
      "source": [
        "string = 'It\\'s Monthy Python'\n",
        "print(string)"
      ]
    },
    {
      "cell_type": "code",
      "execution_count": null,
      "metadata": {
        "id": "aWopf9AskQlr",
        "outputId": "3c4da5cc-62de-40ad-e36a-f5cad9cce0d3",
        "scrolled": true,
        "colab": {
          "base_uri": "https://localhost:8080/"
        }
      },
      "outputs": [
        {
          "output_type": "stream",
          "name": "stdout",
          "text": [
            "\\\t'\t\"\n"
          ]
        }
      ],
      "source": [
        "string = \"\\\\\\t\\'\\t\\\"\"\n",
        "print(string)"
      ]
    },
    {
      "cell_type": "code",
      "execution_count": null,
      "metadata": {
        "id": "eIkFyx4ykQlr",
        "outputId": "7484f6e9-c957-432b-d7a4-6ef9787c8896",
        "colab": {
          "base_uri": "https://localhost:8080/"
        }
      },
      "outputs": [
        {
          "output_type": "stream",
          "name": "stdout",
          "text": [
            "Hola como\testas\n"
          ]
        }
      ],
      "source": [
        "string = \"text1\\ntext2\"\n",
        "string = \"Hola como\\testas\"\n",
        "print(string)"
      ]
    },
    {
      "cell_type": "code",
      "execution_count": null,
      "metadata": {
        "id": "E06QacMGkQlr",
        "scrolled": true
      },
      "outputs": [],
      "source": [
        "print(\"\\u00A5\")\n",
        "print(\"\\N{YEN SIGN}\")\n",
        "print(\"\\u006D\")"
      ]
    },
    {
      "cell_type": "markdown",
      "metadata": {
        "id": "RRmdv6T8kQlr"
      },
      "source": [
        "### cadenas de varias líneas\n",
        "#### Si desea una cadena que abarque varias líneas, simplemente comience con tres comillas simples o comillas dobles y termínelas con las mismas tres comillas simples o comillas dobles"
      ]
    },
    {
      "cell_type": "code",
      "execution_count": null,
      "metadata": {
        "id": "aHg9s3VfkQls",
        "outputId": "8093aecc-dd6a-4b0b-cfbd-87370989f12a",
        "scrolled": true,
        "colab": {
          "base_uri": "https://localhost:8080/"
        }
      },
      "outputs": [
        {
          "output_type": "stream",
          "name": "stdout",
          "text": [
            "text1\n",
            "text2\n"
          ]
        }
      ],
      "source": [
        "string_1 = \"\"\"text1\n",
        "text2\"\"\"\n",
        "print(string_1)"
      ]
    },
    {
      "cell_type": "code",
      "execution_count": null,
      "metadata": {
        "id": "dV80qBWckQls",
        "scrolled": true,
        "colab": {
          "base_uri": "https://localhost:8080/"
        },
        "outputId": "ef004b58-86d0-4615-f8f3-c51fa5b454a8"
      },
      "outputs": [
        {
          "output_type": "stream",
          "name": "stdout",
          "text": [
            "text1\n",
            "text2\n"
          ]
        }
      ],
      "source": [
        "string_1 = '''text1\n",
        "text2'''\n",
        "print(string_1)"
      ]
    },
    {
      "cell_type": "code",
      "execution_count": null,
      "metadata": {
        "id": "ZQQZ2NPfkQls",
        "scrolled": true,
        "colab": {
          "base_uri": "https://localhost:8080/"
        },
        "outputId": "88c7e19f-7f47-45f5-d5f8-615adc18e97f"
      },
      "outputs": [
        {
          "output_type": "stream",
          "name": "stdout",
          "text": [
            "text1\n",
            "\"text2\" \n"
          ]
        }
      ],
      "source": [
        "string_1 = \"\"\"text1\n",
        "\"text2\" \"\"\"\n",
        "print(string_1)"
      ]
    },
    {
      "cell_type": "markdown",
      "metadata": {
        "id": "lasgtFmikQls"
      },
      "source": [
        "#### Your may prefer to start a multiline comment on the 'next' line. In that case you should add a backslash, otherwise an extra blank line will be printed"
      ]
    },
    {
      "cell_type": "code",
      "execution_count": null,
      "metadata": {
        "id": "GX2kAwNlkQls",
        "scrolled": true
      },
      "outputs": [],
      "source": [
        "string_1 = \"\"\"\\\n",
        "text1\n",
        "text2\n",
        "\"\"\"\n",
        "print(string_1)"
      ]
    },
    {
      "cell_type": "code",
      "execution_count": null,
      "metadata": {
        "id": "GZa4eL8ckQls",
        "scrolled": true
      },
      "outputs": [],
      "source": [
        "string_1 = \"\"\"\n",
        "text1\n",
        "text2\n",
        "\"\"\"\n",
        "print(string_1)"
      ]
    },
    {
      "cell_type": "markdown",
      "metadata": {
        "id": "1GlG5w8YkQls"
      },
      "source": [
        "### Indexación de un carácter en una cadena\n",
        "#### Un índice no negativo indexa desde la izquierda, donde 0 se refiere al carácter más a la izquierda\n",
        "#### Un índice negativo indexa desde la derecha, donde -1 se refiere al carácter más a la derecha\n",
        "#### Si su índice va más allá de los caracteres disponibles en la cadena, obtiene un IndexError"
      ]
    },
    {
      "cell_type": "code",
      "execution_count": null,
      "metadata": {
        "id": "55fMvGO4kQlt"
      },
      "outputs": [],
      "source": [
        "string_1 = '12345'"
      ]
    },
    {
      "cell_type": "code",
      "execution_count": null,
      "metadata": {
        "id": "ABpaAv64kQlt",
        "colab": {
          "base_uri": "https://localhost:8080/"
        },
        "outputId": "c0db7fc4-7bc4-4823-de52-18e2691eb51c"
      },
      "outputs": [
        {
          "output_type": "stream",
          "name": "stdout",
          "text": [
            "1\n",
            "4\n"
          ]
        }
      ],
      "source": [
        "#Solo quiero que me imprima el número 1 y 4, tomar en cuenta que python cuenta desde 0\n",
        "print(string_1[0])\n",
        "print(string_1[3])"
      ]
    },
    {
      "cell_type": "code",
      "execution_count": null,
      "metadata": {
        "id": "7YnrF3HTkQlt",
        "colab": {
          "base_uri": "https://localhost:8080/"
        },
        "outputId": "e7724ea8-a612-4804-93a2-6fdaac82f904"
      },
      "outputs": [
        {
          "output_type": "stream",
          "name": "stdout",
          "text": [
            "5\n",
            "3\n"
          ]
        }
      ],
      "source": [
        "print(string_1[-1])\n",
        "print(string_1[-3])"
      ]
    },
    {
      "cell_type": "code",
      "execution_count": null,
      "metadata": {
        "id": "VNqTbq5GkQlt",
        "colab": {
          "base_uri": "https://localhost:8080/",
          "height": 166
        },
        "outputId": "1bbd7f53-4ddd-4995-a572-e4e373abf206"
      },
      "outputs": [
        {
          "output_type": "error",
          "ename": "IndexError",
          "evalue": "ignored",
          "traceback": [
            "\u001b[0;31m---------------------------------------------------------------------------\u001b[0m",
            "\u001b[0;31mIndexError\u001b[0m                                Traceback (most recent call last)",
            "\u001b[0;32m<ipython-input-39-a3462e641e81>\u001b[0m in \u001b[0;36m<module>\u001b[0;34m()\u001b[0m\n\u001b[0;32m----> 1\u001b[0;31m \u001b[0mprint\u001b[0m\u001b[0;34m(\u001b[0m\u001b[0mstring_1\u001b[0m\u001b[0;34m[\u001b[0m\u001b[0;36m5\u001b[0m\u001b[0;34m]\u001b[0m\u001b[0;34m)\u001b[0m\u001b[0;34m\u001b[0m\u001b[0;34m\u001b[0m\u001b[0m\n\u001b[0m",
            "\u001b[0;31mIndexError\u001b[0m: string index out of range"
          ]
        }
      ],
      "source": [
        "print(string_1[5])"
      ]
    },
    {
      "cell_type": "code",
      "execution_count": null,
      "metadata": {
        "id": "r8vh_nEUkQlt"
      },
      "outputs": [],
      "source": [
        "print(string_1[-6])"
      ]
    },
    {
      "cell_type": "markdown",
      "metadata": {
        "id": "BzPiY5v6kQlt"
      },
      "source": [
        "### Cortar un conjunto de caracteres de una cadena con [start:end]\n",
        "#### Inicio indica el primer carácter de la cadena que debe seleccionarse, fin - 1 indica el último carácter que debe seleccionarse\n",
        "#### Si se omite el primer índice, el valor predeterminado es 0, si se omite el último índice, el valor predeterminado es la longitud de la cadena"
      ]
    },
    {
      "cell_type": "code",
      "execution_count": null,
      "metadata": {
        "id": "gAycEXHxkQlt",
        "colab": {
          "base_uri": "https://localhost:8080/"
        },
        "outputId": "ddde6a3b-1f09-4d56-d73a-ff7d3ebcd90f"
      },
      "outputs": [
        {
          "output_type": "stream",
          "name": "stdout",
          "text": [
            "23\n"
          ]
        }
      ],
      "source": [
        "string_1 = '12345'\n",
        "#Valor que empiez y termina, no toma en cuenta el valor de 3\n",
        "print(string_1[1:3])"
      ]
    },
    {
      "cell_type": "code",
      "execution_count": null,
      "metadata": {
        "id": "286W0HWAkQlt",
        "colab": {
          "base_uri": "https://localhost:8080/"
        },
        "outputId": "d5baf607-d7c4-4c5a-fa8a-6f64da790f44"
      },
      "outputs": [
        {
          "output_type": "stream",
          "name": "stdout",
          "text": [
            "23\n"
          ]
        }
      ],
      "source": [
        "print(string_1[-4:-2])"
      ]
    },
    {
      "cell_type": "code",
      "execution_count": null,
      "metadata": {
        "id": "dEFi_sKskQlt",
        "colab": {
          "base_uri": "https://localhost:8080/"
        },
        "outputId": "1d7ccd2c-7ec4-4298-d5ba-4a2405e8b740"
      },
      "outputs": [
        {
          "output_type": "stream",
          "name": "stdout",
          "text": [
            "123\n",
            "45\n",
            "12345\n"
          ]
        }
      ],
      "source": [
        "print(string_1[:3])\n",
        "print(string_1[3:])\n",
        "print(string_1[:])"
      ]
    },
    {
      "cell_type": "code",
      "execution_count": null,
      "metadata": {
        "id": "SC0yvCOYkQlu"
      },
      "outputs": [],
      "source": [
        "print(string_1[-2:])\n",
        "print(string_1[:-2])"
      ]
    },
    {
      "cell_type": "markdown",
      "metadata": {
        "id": "ac7iAfZVkQlu"
      },
      "source": [
        "### Cortar una cadena agregando un contador de pasos [inicio:fin:paso]\n",
        "#### Si el contador de pasos es positivo indica que se deben seleccionar los caracteres con inicio de índice + tiempos de paso 0,1,2, ...\n",
        "#### Si el paso del contador de pasos es negativo, indica que se deben seleccionar los caracteres con fin de índice - paso por 0,1,2, ...\n",
        "### Sin embargo, tenemos que dejar de seleccionar cuando la selección alcanza (o va más allá) del carácter indicado por el índice final\n",
        "### Si no se proporciona un valor de paso, el valor predeterminado es 1"
      ]
    },
    {
      "cell_type": "code",
      "execution_count": null,
      "metadata": {
        "id": "6t6HpFY_kQlu",
        "outputId": "08e16509-b500-43af-fa2f-09301619b04c",
        "colab": {
          "base_uri": "https://localhost:8080/"
        }
      },
      "outputs": [
        {
          "output_type": "stream",
          "name": "stdout",
          "text": [
            "2345\n",
            "543\n",
            "2345\n",
            "543\n"
          ]
        }
      ],
      "source": [
        "string_1 = '12345'\n",
        "print(string_1[1:5:1])\n",
        "print(string_1[5:1:-1])\n",
        "print(string_1[1:5:1]) \n",
        "# no selecciona nada: desde el principio hasta el final tiene que estar en la misma dirección que el contador de pasos\n",
        "# si el contador de pasos es positivo la posición indicada por fin tiene que estar a la derecha de la posición indicada por inicio\n",
        "# si el contador de pasos es negativo, la posición indicada por el final tiene que estar a la izquierda de la posición indicada por el inicio\n",
        "print(string_1[5:1:-1])  "
      ]
    },
    {
      "cell_type": "code",
      "execution_count": null,
      "metadata": {
        "id": "sG1zMMbXkQlu",
        "outputId": "4c88a419-be80-43b4-f7d1-671d8c905965",
        "colab": {
          "base_uri": "https://localhost:8080/"
        }
      },
      "outputs": [
        {
          "output_type": "stream",
          "name": "stdout",
          "text": [
            "24\n",
            "53\n"
          ]
        }
      ],
      "source": [
        "print(string_1[1:5:2])\n",
        "print(string_1[5:1:-2])"
      ]
    },
    {
      "cell_type": "code",
      "execution_count": null,
      "metadata": {
        "id": "k25UBdC8kQlu",
        "outputId": "27cc7275-9642-4d94-f311-68f00d4912fb",
        "colab": {
          "base_uri": "https://localhost:8080/"
        }
      },
      "outputs": [
        {
          "output_type": "stream",
          "name": "stdout",
          "text": [
            "54\n",
            "54321\n"
          ]
        }
      ],
      "source": [
        "print(string_1[:2:-1])\n",
        "print(string_1[::-1])"
      ]
    },
    {
      "cell_type": "markdown",
      "metadata": {
        "id": "qSAXyNAgkQlu"
      },
      "source": [
        "### Editando cadenas(string)\n",
        "#### Le mostramos un método, hay más pero no los tratamos en el curso porque son menos flexibles y legibles. Menos Pythonico como diría un verdadero creyente de Python"
      ]
    },
    {
      "cell_type": "code",
      "execution_count": null,
      "metadata": {
        "id": "llVAKzN6kQlu"
      },
      "outputs": [],
      "source": [
        "name = \"Person\""
      ]
    },
    {
      "cell_type": "code",
      "execution_count": null,
      "metadata": {
        "id": "K-vTO3ZAkQlu",
        "outputId": "b20e45d9-1009-4157-d8d3-ba280f05b090",
        "colab": {
          "base_uri": "https://localhost:8080/"
        }
      },
      "outputs": [
        {
          "output_type": "stream",
          "name": "stdout",
          "text": [
            "Hello Person and other person\n",
            "Do you want 4 coffee\n",
            "Hellosuma\n"
          ]
        }
      ],
      "source": [
        "name = \"Person\"\n",
        "amount = 2\n",
        "#Se pueden poner variables utilizando corcheas {}\n",
        "#\\n es para espacio\n",
        "string = f\"Hello {name} and {'other person'}\\nDo you want {amount*2} coffee\" \n",
        "print (string)\n",
        "print ('Hello'+'suma')"
      ]
    },
    {
      "cell_type": "code",
      "execution_count": null,
      "metadata": {
        "id": "PpLnJ0zNkQlu",
        "outputId": "d76c92f3-3324-4685-d747-7f25299be339",
        "colab": {
          "base_uri": "https://localhost:8080/"
        }
      },
      "outputs": [
        {
          "output_type": "stream",
          "name": "stdout",
          "text": [
            "Hello Person\n",
            "Do you want 4 coffee\n",
            "\n"
          ]
        }
      ],
      "source": [
        "name = \"Person\"\n",
        "amount = 2\n",
        "string = f\"\"\"Hello {name}\n",
        "Do you want {amount*2} coffee\n",
        "\"\"\"\n",
        "print (string)"
      ]
    },
    {
      "cell_type": "markdown",
      "metadata": {
        "id": "ex_xJByRkQlv"
      },
      "source": [
        "**Booleans**"
      ]
    },
    {
      "cell_type": "code",
      "execution_count": null,
      "metadata": {
        "id": "fMW5WExqkQlv",
        "colab": {
          "base_uri": "https://localhost:8080/"
        },
        "outputId": "3541529a-986d-4264-a17c-167c2e16722d"
      },
      "outputs": [
        {
          "output_type": "stream",
          "name": "stdout",
          "text": [
            "True\n",
            "False\n",
            "True\n",
            "False\n"
          ]
        }
      ],
      "source": [
        "age = 70\n",
        "blood_type = 'A'\n",
        "print(age > 15)\n",
        "print(age < 60)\n",
        "print(blood_type == 'A')\n",
        "print(blood_type == 'B')"
      ]
    },
    {
      "cell_type": "code",
      "execution_count": null,
      "metadata": {
        "id": "2vGyop4qkQlv",
        "colab": {
          "base_uri": "https://localhost:8080/"
        },
        "outputId": "c9728842-07cb-483a-eb25-a716997cc4b4"
      },
      "outputs": [
        {
          "output_type": "stream",
          "name": "stdout",
          "text": [
            "False\n",
            "False\n"
          ]
        }
      ],
      "source": [
        "print(age > 15 and age < 60)\n",
        "print(15 < age < 60)"
      ]
    },
    {
      "cell_type": "code",
      "execution_count": null,
      "metadata": {
        "id": "VfXpCLTkkQlv",
        "scrolled": true,
        "colab": {
          "base_uri": "https://localhost:8080/"
        },
        "outputId": "fbed59bc-7925-4914-de5d-5013dd6412ee"
      },
      "outputs": [
        {
          "output_type": "stream",
          "name": "stdout",
          "text": [
            "True\n"
          ]
        }
      ],
      "source": [
        "print(age > 15 and (blood_type == 'A' or blood_type == 'B'))"
      ]
    },
    {
      "cell_type": "markdown",
      "metadata": {
        "id": "6QW4cg8KkQlv"
      },
      "source": [
        "### Si usa ciertos objetos en una configuración de booleans, se verán como Verdadero o Falso\n",
        "### Los siguientes valores se verán como falsos, todos los demás como verdaderos. En lenguaje informático llamamos a estos valores False y a todos los demás True"
      ]
    },
    {
      "cell_type": "code",
      "execution_count": null,
      "metadata": {
        "id": "xxdPT1sikQlv",
        "outputId": "8bfa5c11-eeac-4145-801b-43720249cb18",
        "colab": {
          "base_uri": "https://localhost:8080/"
        }
      },
      "outputs": [
        {
          "output_type": "stream",
          "name": "stdout",
          "text": [
            "False\n",
            "False\n",
            "False\n",
            "False\n",
            "False\n",
            "False\n",
            "False\n",
            "False\n",
            "False\n",
            "False\n",
            "False\n",
            "False\n"
          ]
        }
      ],
      "source": [
        "from decimal import Decimal\n",
        "from fractions import Fraction\n",
        "print(bool(None))\n",
        "print(bool(False))\n",
        "print(bool(\"\"))\n",
        "print(bool(0))\n",
        "print(bool(0.0))\n",
        "print(bool(0j))\n",
        "print(bool(Decimal(0)))\n",
        "print(bool(Fraction(0, 1)))\n",
        "print(bool([]))\n",
        "print(bool({}))\n",
        "print(bool(tuple()))\n",
        "print(bool(set()))"
      ]
    },
    {
      "cell_type": "markdown",
      "metadata": {
        "id": "0-JYXdUxkQlv"
      },
      "source": [
        "### 'and' y 'or'"
      ]
    },
    {
      "cell_type": "code",
      "execution_count": null,
      "metadata": {
        "id": "zITCoAx2kQlv",
        "outputId": "be9a0d4a-a889-4a00-b298-9c2db9d6b1c4",
        "colab": {
          "base_uri": "https://localhost:8080/"
        }
      },
      "outputs": [
        {
          "output_type": "stream",
          "name": "stdout",
          "text": [
            "True\n",
            "False\n",
            "False\n",
            "False\n"
          ]
        }
      ],
      "source": [
        "#print(True or True)\n",
        "print(True and True)\n",
        "\n",
        "#print(True or False)\n",
        "print(True and False)\n",
        "\n",
        "#print(False or True)\n",
        "print(False and True)\n",
        "\n",
        "#print(False or False)\n",
        "print(False and False)"
      ]
    },
    {
      "cell_type": "markdown",
      "metadata": {
        "id": "8G9iBXIskQlw"
      },
      "source": [
        "### Parece simple, pero en realidad Python devuelve el valor que hace and , or sean definitivamente verdaderos o falsos."
      ]
    },
    {
      "cell_type": "code",
      "execution_count": null,
      "metadata": {
        "id": "aNIxPSw5kQlw",
        "outputId": "4a7812e4-904b-4bd2-ae9a-003f1501f594",
        "scrolled": true,
        "colab": {
          "base_uri": "https://localhost:8080/"
        }
      },
      "outputs": [
        {
          "output_type": "stream",
          "name": "stdout",
          "text": [
            "Default value\n",
            "1\n"
          ]
        }
      ],
      "source": [
        "#comillas en blanco es falso: tenemos falso o true a continuación\n",
        "print(\"\" or \"Default value\")\n",
        "print(\"1\" or \"Default value\")"
      ]
    },
    {
      "cell_type": "markdown",
      "metadata": {
        "id": "UDxKT5hkkQlw"
      },
      "source": [
        "### Use de not"
      ]
    },
    {
      "cell_type": "code",
      "execution_count": null,
      "metadata": {
        "id": "2VZhQa5wkQlw",
        "outputId": "aeca49d6-5d2f-4f88-d452-2d5bc29bd0c2",
        "scrolled": true,
        "colab": {
          "base_uri": "https://localhost:8080/"
        }
      },
      "outputs": [
        {
          "output_type": "stream",
          "name": "stdout",
          "text": [
            "False\n",
            "True\n",
            "False\n",
            "True\n"
          ]
        }
      ],
      "source": [
        "print(not True)\n",
        "print(not False)\n",
        "\n",
        "print(not '1')\n",
        "print(not '')"
      ]
    },
    {
      "cell_type": "code",
      "execution_count": null,
      "metadata": {
        "id": "6xXNNZhJkQlw",
        "outputId": "4db18c37-dabd-4b67-f6a0-2b4e9bd4e7b6",
        "colab": {
          "base_uri": "https://localhost:8080/"
        }
      },
      "outputs": [
        {
          "output_type": "stream",
          "name": "stdout",
          "text": [
            "Bye, bye\n"
          ]
        }
      ],
      "source": [
        "boolean = True\n",
        "\n",
        "if boolean == True:\n",
        "    print('Bye, bye')\n",
        "else:\n",
        "    print(1 + '1')"
      ]
    },
    {
      "cell_type": "code",
      "execution_count": null,
      "metadata": {
        "id": "Mk-QgYIzkQlw",
        "outputId": "eb8b399b-0715-4983-c110-038a064522b6",
        "colab": {
          "base_uri": "https://localhost:8080/"
        }
      },
      "outputs": [
        {
          "output_type": "stream",
          "name": "stdout",
          "text": [
            "2\n"
          ]
        }
      ],
      "source": [
        "boolean=True\n",
        "if boolean == True:\n",
        "     print(1 + 1)\n",
        "else:\n",
        "    print('Bye, bye')"
      ]
    },
    {
      "cell_type": "markdown",
      "metadata": {
        "id": "I1HdZjoikQlx"
      },
      "source": [
        "### Python hace poca conversión de tipos, en comparación con otros lenguajes"
      ]
    },
    {
      "cell_type": "code",
      "execution_count": null,
      "metadata": {
        "id": "uV74W98kkQlx",
        "scrolled": true
      },
      "outputs": [],
      "source": [
        "print(1 + '1')"
      ]
    },
    {
      "cell_type": "markdown",
      "metadata": {
        "id": "uE7OPxeWkQlx"
      },
      "source": [
        "### A pesar de que lo siguinete funciona las transformaciones implicitas solo funcionan entre los mismo tipos de datos, numeros con numeros de punto flotante"
      ]
    },
    {
      "cell_type": "code",
      "execution_count": null,
      "metadata": {
        "id": "aPQPtmYAkQlx",
        "outputId": "35eb07e6-6c46-4b4a-f6f6-2e6a2a058584",
        "scrolled": true,
        "colab": {
          "base_uri": "https://localhost:8080/"
        }
      },
      "outputs": [
        {
          "output_type": "stream",
          "name": "stdout",
          "text": [
            "2.0\n"
          ]
        }
      ],
      "source": [
        "print(1 + 1.0)"
      ]
    },
    {
      "cell_type": "code",
      "source": [
        "print (int('1'))"
      ],
      "metadata": {
        "colab": {
          "base_uri": "https://localhost:8080/"
        },
        "id": "9ruEY_4Urz8v",
        "outputId": "7a357763-490e-4a58-8d69-476c5fadb903"
      },
      "execution_count": null,
      "outputs": [
        {
          "output_type": "stream",
          "name": "stdout",
          "text": [
            "1\n"
          ]
        }
      ]
    },
    {
      "cell_type": "code",
      "execution_count": null,
      "metadata": {
        "id": "XmG-aWxbkQlx",
        "outputId": "b741e933-17ad-4204-cad9-e1fb558cc44b",
        "scrolled": true,
        "colab": {
          "base_uri": "https://localhost:8080/"
        }
      },
      "outputs": [
        {
          "output_type": "stream",
          "name": "stdout",
          "text": [
            "2.0\n",
            "2\n"
          ]
        }
      ],
      "source": [
        "print(float(1) + 1.0)\n",
        "print(1 + int(1.0))"
      ]
    },
    {
      "cell_type": "markdown",
      "metadata": {
        "id": "AJVUoAqHkQlx"
      },
      "source": [
        "### En Python, a menudo puedes hacer una conversión de tipo explícita"
      ]
    },
    {
      "cell_type": "code",
      "execution_count": null,
      "metadata": {
        "id": "xG0ROswpkQlx",
        "outputId": "18c32c97-0d32-4f2a-c201-30eca800870a",
        "colab": {
          "base_uri": "https://localhost:8080/"
        }
      },
      "outputs": [
        {
          "output_type": "stream",
          "name": "stdout",
          "text": [
            "2\n"
          ]
        }
      ],
      "source": [
        "value= 1 + int('1')\n",
        "print(value)"
      ]
    },
    {
      "cell_type": "code",
      "execution_count": null,
      "metadata": {
        "id": "uSKD-mC1kQlx",
        "outputId": "b9129db9-fc52-40b1-f186-680db03f5fc9",
        "colab": {
          "base_uri": "https://localhost:8080/"
        }
      },
      "outputs": [
        {
          "output_type": "stream",
          "name": "stdout",
          "text": [
            "1\n",
            "1.0\n",
            "True\n"
          ]
        }
      ],
      "source": [
        "print(int('1'))\n",
        "print(float('1'))\n",
        "print(bool('1'))"
      ]
    },
    {
      "cell_type": "code",
      "execution_count": null,
      "metadata": {
        "id": "JHM-k0AdkQly",
        "outputId": "01061d6a-12d4-4992-e8ce-f806302f8868",
        "colab": {
          "base_uri": "https://localhost:8080/"
        }
      },
      "outputs": [
        {
          "output_type": "stream",
          "name": "stdout",
          "text": [
            "False\n"
          ]
        }
      ],
      "source": [
        "print(1 == '1')"
      ]
    },
    {
      "cell_type": "code",
      "execution_count": null,
      "metadata": {
        "id": "VSOykLTgkQly",
        "outputId": "78290556-b7da-4982-e31a-f76348cb59e9",
        "colab": {
          "base_uri": "https://localhost:8080/"
        }
      },
      "outputs": [
        {
          "output_type": "stream",
          "name": "stdout",
          "text": [
            "True\n"
          ]
        }
      ],
      "source": [
        "print(str(1) == '1')"
      ]
    },
    {
      "cell_type": "code",
      "source": [
        "#string 1 no es '1'\n",
        "print(str(1) is '1')"
      ],
      "metadata": {
        "colab": {
          "base_uri": "https://localhost:8080/"
        },
        "id": "UocH8JmCsK4F",
        "outputId": "152f9a4d-ed1d-4e55-fef5-ee3fddaa7244"
      },
      "execution_count": null,
      "outputs": [
        {
          "output_type": "stream",
          "name": "stdout",
          "text": [
            "False\n"
          ]
        }
      ]
    },
    {
      "cell_type": "markdown",
      "source": [
        ""
      ],
      "metadata": {
        "id": "W-PiIxsEsKgI"
      }
    },
    {
      "cell_type": "markdown",
      "metadata": {
        "id": "16V5hCz_kQly"
      },
      "source": [
        "# Collecciones"
      ]
    },
    {
      "cell_type": "markdown",
      "metadata": {
        "id": "3fDaAi91kQly"
      },
      "source": [
        "## Una colección es un objeto cuyo valor es una colección de direcciones, cada dirección de esa colección apunta a (la dirección de) un objeto separado\n",
        "## Si decimos con referencia a colecciones, que una colección es inmutable o mutable nos referimos a los objetos individuales señalados por esas direcciones, en la colección la mutabilidad se decide por el tipo de objeto individual"
      ]
    },
    {
      "cell_type": "markdown",
      "metadata": {
        "id": "btGirsKXkQly"
      },
      "source": [
        "## Listas\n",
        "### Las listas son mutables"
      ]
    },
    {
      "cell_type": "code",
      "execution_count": null,
      "metadata": {
        "id": "8fcpg74fkQly",
        "colab": {
          "base_uri": "https://localhost:8080/"
        },
        "outputId": "b23574f6-6b49-47f7-cee1-25a66c240734"
      },
      "outputs": [
        {
          "output_type": "stream",
          "name": "stdout",
          "text": [
            "The value of list_1 is [1, 2, 3] and its address is 140302855886000\n",
            "The value of list_1 is [1, 1, 3] and its address is 140302855886000\n"
          ]
        }
      ],
      "source": [
        "list_1 = [1, 2, 3]\n",
        "print(f\"The value of list_1 is {list_1} and its address is {id(list_1)}\")\n",
        "list_1[1] = 1\n",
        "print(f\"The value of list_1 is {list_1} and its address is {id(list_1)}\")"
      ]
    },
    {
      "cell_type": "code",
      "execution_count": null,
      "metadata": {
        "id": "Nj_SRKPMkQly",
        "colab": {
          "base_uri": "https://localhost:8080/"
        },
        "outputId": "267d4308-199e-4426-eb07-67c38806d4a1"
      },
      "outputs": [
        {
          "output_type": "stream",
          "name": "stdout",
          "text": [
            "The value of list_1 is [1, 2, 3] and its address is 140302856132640\n",
            "The value of list_1 is [1, 1, 3] and its address is 140302856356720\n"
          ]
        }
      ],
      "source": [
        "list_1 = [1, 2, 3]\n",
        "print(f\"The value of list_1 is {list_1} and its address is {id(list_1)}\")\n",
        "list_1 = [1, 1, 3]\n",
        "print(f\"The value of list_1 is {list_1} and its address is {id(list_1)}\")"
      ]
    },
    {
      "cell_type": "code",
      "execution_count": null,
      "metadata": {
        "id": "SMUNNl5MkQlz",
        "colab": {
          "base_uri": "https://localhost:8080/"
        },
        "outputId": "a5cd1806-cea9-43b0-b4c4-957c0c91ede6"
      },
      "outputs": [
        {
          "output_type": "stream",
          "name": "stdout",
          "text": [
            "The value of list_1 is [1, 2, 3] and its address is 140302855306768\n",
            "The value of list_1 is [] and its address is 140302855747616\n"
          ]
        }
      ],
      "source": [
        "list_1 = [1, 2, 3]\n",
        "print(f\"The value of list_1 is {list_1} and its address is {id(list_1)}\")\n",
        "list_1 = []\n",
        "print(f\"The value of list_1 is {list_1} and its address is {id(list_1)}\")"
      ]
    },
    {
      "cell_type": "markdown",
      "metadata": {
        "id": "8mWGdFE_kQlz"
      },
      "source": [
        "### Creacion de lista"
      ]
    },
    {
      "cell_type": "code",
      "execution_count": null,
      "metadata": {
        "id": "7hWp6TtDkQlz",
        "colab": {
          "base_uri": "https://localhost:8080/"
        },
        "outputId": "1255bd67-890d-4965-e53d-d69fc09d979f"
      },
      "outputs": [
        {
          "output_type": "stream",
          "name": "stdout",
          "text": [
            "['A', True, 1, 2.0, Decimal('1'), Fraction(1, 3)]\n"
          ]
        }
      ],
      "source": [
        "from decimal import Decimal\n",
        "from fractions import Fraction\n",
        "# Puedes guardar lo que sea en una lista\n",
        "list_1 = ['A', True, 1,2.0, Decimal(1), Fraction(1,3)] \n",
        "print(list_1)"
      ]
    },
    {
      "cell_type": "markdown",
      "metadata": {
        "id": "7VPnV0CmkQlz"
      },
      "source": [
        "### Indexación de un elemento en una lista (esto funciona igual que la indexación y el recorte de una cadena, así que si entiende que esto debería ser fácil\n",
        "#### Un índice no negativo indexa desde la izquierda, donde 0 se refiere al elemento más a la izquierda\n",
        "#### Un índice negativo indexa desde la derecha, donde -1 se refiere al elemento más a la derecha\n",
        "#### Si su índice va más allá de los elementos disponibles en la lista, obtiene un IndexError"
      ]
    },
    {
      "cell_type": "code",
      "execution_count": null,
      "metadata": {
        "id": "p3ao3sEJkQlz"
      },
      "outputs": [],
      "source": [
        "list_1 = [1,2,3,4,5]"
      ]
    },
    {
      "cell_type": "code",
      "execution_count": null,
      "metadata": {
        "id": "e-LMz_ECkQlz",
        "colab": {
          "base_uri": "https://localhost:8080/"
        },
        "outputId": "88c603b7-645a-42ea-84df-fa2118e959b5"
      },
      "outputs": [
        {
          "output_type": "stream",
          "name": "stdout",
          "text": [
            "1\n",
            "4\n"
          ]
        }
      ],
      "source": [
        "print(list_1[0])\n",
        "print(list_1[3])"
      ]
    },
    {
      "cell_type": "code",
      "execution_count": null,
      "metadata": {
        "id": "ckm0NsiDkQlz",
        "colab": {
          "base_uri": "https://localhost:8080/"
        },
        "outputId": "5fb5774c-7ae8-4502-8176-b7fb934d939b"
      },
      "outputs": [
        {
          "output_type": "stream",
          "name": "stdout",
          "text": [
            "5\n",
            "3\n"
          ]
        }
      ],
      "source": [
        "#Cuando usamos el negativo, se va escoger el elemento desde el ultimo\n",
        "print(list_1[-1])\n",
        "print(list_1[-3])"
      ]
    },
    {
      "cell_type": "code",
      "execution_count": null,
      "metadata": {
        "id": "Y3yBDuQWkQlz",
        "colab": {
          "base_uri": "https://localhost:8080/",
          "height": 166
        },
        "outputId": "a61e5154-9a96-4730-9311-655d663c9e8d"
      },
      "outputs": [
        {
          "output_type": "error",
          "ename": "IndexError",
          "evalue": "ignored",
          "traceback": [
            "\u001b[0;31m---------------------------------------------------------------------------\u001b[0m",
            "\u001b[0;31mIndexError\u001b[0m                                Traceback (most recent call last)",
            "\u001b[0;32m<ipython-input-104-15e7a0983f23>\u001b[0m in \u001b[0;36m<module>\u001b[0;34m()\u001b[0m\n\u001b[0;32m----> 1\u001b[0;31m \u001b[0mprint\u001b[0m\u001b[0;34m(\u001b[0m\u001b[0mlist_1\u001b[0m\u001b[0;34m[\u001b[0m\u001b[0;36m5\u001b[0m\u001b[0;34m]\u001b[0m\u001b[0;34m)\u001b[0m\u001b[0;34m\u001b[0m\u001b[0;34m\u001b[0m\u001b[0m\n\u001b[0m",
            "\u001b[0;31mIndexError\u001b[0m: list index out of range"
          ]
        }
      ],
      "source": [
        "#Elemento que no está en la list nos saldrá error\n",
        "print(list_1[5])"
      ]
    },
    {
      "cell_type": "code",
      "execution_count": null,
      "metadata": {
        "id": "SyufP3HmkQlz",
        "colab": {
          "base_uri": "https://localhost:8080/",
          "height": 166
        },
        "outputId": "0e84cda5-f47d-4e70-d6ed-bedac2b7430c"
      },
      "outputs": [
        {
          "output_type": "error",
          "ename": "IndexError",
          "evalue": "ignored",
          "traceback": [
            "\u001b[0;31m---------------------------------------------------------------------------\u001b[0m",
            "\u001b[0;31mIndexError\u001b[0m                                Traceback (most recent call last)",
            "\u001b[0;32m<ipython-input-105-a78a592919e9>\u001b[0m in \u001b[0;36m<module>\u001b[0;34m()\u001b[0m\n\u001b[0;32m----> 1\u001b[0;31m \u001b[0mprint\u001b[0m\u001b[0;34m(\u001b[0m\u001b[0mlist_1\u001b[0m\u001b[0;34m[\u001b[0m\u001b[0;34m-\u001b[0m\u001b[0;36m6\u001b[0m\u001b[0;34m]\u001b[0m\u001b[0;34m)\u001b[0m\u001b[0;34m\u001b[0m\u001b[0;34m\u001b[0m\u001b[0m\n\u001b[0m",
            "\u001b[0;31mIndexError\u001b[0m: list index out of range"
          ]
        }
      ],
      "source": [
        "print(list_1[-6])"
      ]
    },
    {
      "cell_type": "markdown",
      "metadata": {
        "id": "hD5sFWnPkQl0"
      },
      "source": [
        "### Cortar un conjunto de elementos de una lista con [start:end]\n",
        "#### Inicio indica el primer elemento de la lista que debe seleccionarse, fin - 1 indica el último elemento que debe seleccionarse\n",
        "#### Si se omite el primer índice, el valor predeterminado es 0, si se omite el último índice, el valor predeterminado es la longitud de la lista"
      ]
    },
    {
      "cell_type": "code",
      "execution_count": null,
      "metadata": {
        "id": "FWP2ZuI5kQl0",
        "colab": {
          "base_uri": "https://localhost:8080/"
        },
        "outputId": "760173c7-6053-4f30-ae9f-842ef1aa730c"
      },
      "outputs": [
        {
          "output_type": "stream",
          "name": "stdout",
          "text": [
            "[2, 3]\n",
            "[2, 3]\n"
          ]
        }
      ],
      "source": [
        "list_1 = [1,2,3,4,5]\n",
        "print(list_1[1:3])\n",
        "print(list_1[-4:-2])"
      ]
    },
    {
      "cell_type": "code",
      "execution_count": null,
      "metadata": {
        "id": "8qi_ch5ZkQl0",
        "colab": {
          "base_uri": "https://localhost:8080/"
        },
        "outputId": "1028fa63-b734-4b42-bdc6-3bb9ef26a15b"
      },
      "outputs": [
        {
          "output_type": "stream",
          "name": "stdout",
          "text": [
            "[1, 2, 3]\n",
            "[4, 5]\n",
            "[1, 2, 3, 4, 5]\n"
          ]
        }
      ],
      "source": [
        "#Cuando no se pone ningun número al inicio se da a entender que va \n",
        "#desde el inicio, lo mismo si no se pone nada al final\n",
        "print(list_1[:3])\n",
        "print(list_1[3:])\n",
        "print(list_1[:])"
      ]
    },
    {
      "cell_type": "code",
      "execution_count": null,
      "metadata": {
        "id": "PH59qtIPkQl0",
        "colab": {
          "base_uri": "https://localhost:8080/"
        },
        "outputId": "18890817-2382-47d4-aaba-fae6f06a8884"
      },
      "outputs": [
        {
          "output_type": "stream",
          "name": "stdout",
          "text": [
            "[4, 5]\n",
            "[1, 2, 3]\n",
            "[5, 4]\n"
          ]
        }
      ],
      "source": [
        "print(list_1[-2:])\n",
        "print(list_1[:-2])\n",
        "#Otra forma que nos salga 5 y 4\n",
        "print(list_1[-1:-3:-1])"
      ]
    },
    {
      "cell_type": "markdown",
      "metadata": {
        "id": "UxZEi0ClkQl0"
      },
      "source": [
        "### Cortar una lista agregando un contador de pasos [inicio:fin:paso]\n",
        "#### Si el contador de pasos es positivo indica que se deben seleccionar los elementos con inicio de índice + tiempos de paso 0,1,2, ...\n",
        "#### Si el contador de pasos es negativo indica que se deben seleccionar los elementos con final de índice - tiempos de paso 0,1,2, ...\n",
        "### Sin embargo, tenemos que dejar de seleccionar cuando la selección alcanza (o va más allá) del elemento indicado por el índice final\n",
        "### Si no se proporciona un valor de paso, el valor predeterminado es 1"
      ]
    },
    {
      "cell_type": "code",
      "execution_count": null,
      "metadata": {
        "id": "63tPguPBkQl0",
        "colab": {
          "base_uri": "https://localhost:8080/"
        },
        "outputId": "b26e118c-ff52-475d-b6f1-f1fddbd43090"
      },
      "outputs": [
        {
          "output_type": "stream",
          "name": "stdout",
          "text": [
            "[2, 3, 4, 5]\n",
            "[5, 4, 3]\n",
            "[2, 3, 4, 5]\n",
            "[]\n"
          ]
        }
      ],
      "source": [
        "list_1=[1,2,3,4,5]\n",
        "print(list_1[1:5:1])\n",
        "print(list_1[5:1:-1])\n",
        "print(list_1[1:5:1]) \n",
        "# no selecciona nada: desde el principio hasta el final tiene que estar en la misma dirección que el contador de pasos\n",
        "# si el contador de pasos es positivo la posición indicada por fin tiene que estar a la derecha de la posición indicada por inicio\n",
        "# si el contador de pasos es negativo, la posición indicada por el final tiene que estar a la izquierda de la posición indicada por el inicio\n",
        "print(list_1[5:1:1])  \n",
        "# no selecciona nada: desde el principio hasta el final tiene que estar en la misma dirección que el contador de pasos\n",
        "# si el contador de pasos es positivo la posición indicada por fin tiene que estar a la derecha de la posición indicada por inicio\n",
        "# si el contador de pasos es negativo, la posición indicada por el final tiene que estar a la izquierda de la posición indicada por el inicio"
      ]
    },
    {
      "cell_type": "code",
      "execution_count": null,
      "metadata": {
        "id": "i9Q5sOSUkQl0",
        "colab": {
          "base_uri": "https://localhost:8080/"
        },
        "outputId": "d303d3b8-827e-4adf-cb1b-500a60c9a8f0"
      },
      "outputs": [
        {
          "output_type": "stream",
          "name": "stdout",
          "text": [
            "[2, 4]\n",
            "[5, 3]\n"
          ]
        }
      ],
      "source": [
        "#el tercer número indica el número de saltos\n",
        "print(list_1[1:5:2])\n",
        "print(list_1[5:1:-2])"
      ]
    },
    {
      "cell_type": "code",
      "execution_count": null,
      "metadata": {
        "id": "qTKaUJC_kQl0",
        "colab": {
          "base_uri": "https://localhost:8080/"
        },
        "outputId": "4e8ae63d-5efd-4b20-f8be-9ae26cb2bd06"
      },
      "outputs": [
        {
          "output_type": "stream",
          "name": "stdout",
          "text": [
            "[5, 4]\n",
            "[5, 4, 3, 2, 1]\n"
          ]
        }
      ],
      "source": [
        "list_1=[1,2,3,4,5]\n",
        "#\n",
        "print(list_1[:2:-1])\n",
        "#que coga todo los valores y vaya al revés\n",
        "print(list_1[::-1])"
      ]
    },
    {
      "cell_type": "code",
      "execution_count": null,
      "metadata": {
        "id": "Uxfu0VVYkQl0",
        "colab": {
          "base_uri": "https://localhost:8080/"
        },
        "outputId": "5334cfa2-bd8e-41d6-e5d5-fd7ebe5291ec"
      },
      "outputs": [
        {
          "output_type": "stream",
          "name": "stdout",
          "text": [
            "True\n",
            "True\n",
            "False\n"
          ]
        }
      ],
      "source": [
        "list_1 = ['1', '2', '3', '4', '5']\n",
        "list_2 = list_1\n",
        "list_3 = list_1[:]\n",
        "print(list_1 == list_2 == list_3)\n",
        "print(list_1 is list_2)\n",
        "#Sale falso porque las listas son diferentes, la lista 1\n",
        "#tiene 2 objetos, es decir, 2 nombres \n",
        "print(list_1 is list_3)"
      ]
    },
    {
      "cell_type": "markdown",
      "metadata": {
        "id": "74jFHgD6kQl1"
      },
      "source": [
        "### Cortar con [:] crea una copia de una lista con los mismos valores (direcciones de elementos) pero una identificación diferente, por lo que se crea un nuevo objeto"
      ]
    },
    {
      "cell_type": "code",
      "execution_count": null,
      "metadata": {
        "id": "rNLuliQIkQl1",
        "colab": {
          "base_uri": "https://localhost:8080/"
        },
        "outputId": "1470c9c2-7720-4dce-c8e7-7a76d4f85fcc"
      },
      "outputs": [
        {
          "output_type": "stream",
          "name": "stdout",
          "text": [
            "True\n",
            "False\n",
            "True\n"
          ]
        }
      ],
      "source": [
        "list_1 = [1, 2, 3]\n",
        "list_2 = list_1 \n",
        "# El objeto [1, 2, 3] ahora tiene dos nombres\n",
        "print(list_1 is list_2)\n",
        "list_3 = list_2[:]\n",
        "# list_2[:] crea un nuevo objeto, sin embargo con el mismo contenido [1, 2, 3], pero diferente id \n",
        "print(list_2 is list_3)\n",
        "print(list_2 == list_3)"
      ]
    },
    {
      "cell_type": "markdown",
      "metadata": {
        "id": "iuWv-mMBkQl1"
      },
      "source": [
        "### Las listas pueden contener listas y formar tablas de múltiples dimensiones\n",
        "#### Un ejemplo de tres en raya [https://en.wikipedia.org/wiki/Tic-tac-toe](https://en.wikipedia.org/wiki/Tic-tac-toe)"
      ]
    },
    {
      "cell_type": "code",
      "source": [
        "lista_1 = [[1,2,3,4],[-20,-30,-90]]\n",
        "print(lista_1[0])\n",
        "print(lista_1[0][0])\n",
        "lista_2 = lista_1[0]\n",
        "print(lista_2)"
      ],
      "metadata": {
        "colab": {
          "base_uri": "https://localhost:8080/"
        },
        "id": "cQnNcz5B1URn",
        "outputId": "7c283d75-3c6b-4d67-a332-642b50157bba"
      },
      "execution_count": null,
      "outputs": [
        {
          "output_type": "stream",
          "name": "stdout",
          "text": [
            "[1, 2, 3, 4]\n",
            "1\n",
            "[1, 2, 3, 4]\n"
          ]
        }
      ]
    },
    {
      "cell_type": "code",
      "execution_count": null,
      "metadata": {
        "id": "nFZZyxRjkQl1",
        "colab": {
          "base_uri": "https://localhost:8080/"
        },
        "outputId": "2e873f3d-2284-426e-c9b7-3d6602c35e3f"
      },
      "outputs": [
        {
          "output_type": "stream",
          "name": "stdout",
          "text": [
            "[' ', ' ', ' ']\n",
            "[' ', ' ', ' ']\n",
            "[' ', ' ', ' ']\n",
            "\n",
            "[' ', ' ', ' ']\n",
            "[' ', 'X', ' ']\n",
            "[' ', ' ', ' ']\n",
            "\n",
            "[' ', ' ', ' ']\n",
            "[' ', 'X', 'O']\n",
            "[' ', ' ', ' ']\n",
            "\n",
            "[' ', ' ', 'X']\n",
            "[' ', 'X', 'O']\n",
            "[' ', ' ', ' ']\n",
            "\n",
            "[' ', ' ', 'X']\n",
            "[' ', 'X', 'O']\n",
            "['O', ' ', ' ']\n",
            "\n",
            "['X', ' ', 'X']\n",
            "[' ', 'X', 'O']\n",
            "['O', ' ', ' ']\n",
            "\n"
          ]
        }
      ],
      "source": [
        "tic_tac_toe_board = [[' ', ' ', ' '], [' ', ' ', ' '], [' ', ' ', ' ']]\n",
        "print(tic_tac_toe_board[0]) \n",
        "print(tic_tac_toe_board[1]) \n",
        "print(tic_tac_toe_board[2])\n",
        "print() \n",
        "# Esta es la situación inicial en Tic-tac-toe donde nadie hizo un movimiento todavía\n",
        "# Si toca la celda exactamente en el medio, escribe\n",
        "tic_tac_toe_board[1][1] = 'X'\n",
        "# El resultado es\n",
        "print(tic_tac_toe_board[0]) \n",
        "print(tic_tac_toe_board[1]) \n",
        "print(tic_tac_toe_board[2])\n",
        "print() \n",
        "# Si tu oponente juega la celda a tu derecha escribes\n",
        "tic_tac_toe_board[1][2] = 'O'\n",
        "# el resultado es \n",
        "print(tic_tac_toe_board[0]) \n",
        "print(tic_tac_toe_board[1]) \n",
        "print(tic_tac_toe_board[2])\n",
        "print() \n",
        "# el resto puede ser \n",
        "tic_tac_toe_board[0][2] = 'X'\n",
        "print(tic_tac_toe_board[0]) \n",
        "print(tic_tac_toe_board[1]) \n",
        "print(tic_tac_toe_board[2])\n",
        "print() \n",
        "tic_tac_toe_board[2][0] = 'O'\n",
        "print(tic_tac_toe_board[0]) \n",
        "print(tic_tac_toe_board[1]) \n",
        "print(tic_tac_toe_board[2])\n",
        "print() \n",
        "tic_tac_toe_board[0][0] = 'X'\n",
        "# resultado final\n",
        "print(tic_tac_toe_board[0]) \n",
        "print(tic_tac_toe_board[1]) \n",
        "print(tic_tac_toe_board[2])\n",
        "print()\n"
      ]
    },
    {
      "cell_type": "markdown",
      "metadata": {
        "id": "-Zb-rCRtkQl1"
      },
      "source": [
        "## Tuplas\n",
        "### Las tuplas son immutables"
      ]
    },
    {
      "cell_type": "markdown",
      "metadata": {
        "id": "j80VfAAqkQl1"
      },
      "source": [
        "### Creacion de tuplas"
      ]
    },
    {
      "cell_type": "code",
      "execution_count": null,
      "metadata": {
        "id": "mwgKQZWnkQl1",
        "colab": {
          "base_uri": "https://localhost:8080/"
        },
        "outputId": "96a7d875-1930-4128-c251-5ae5c788185c"
      },
      "outputs": [
        {
          "output_type": "stream",
          "name": "stdout",
          "text": [
            "('A', True, 1, 2.0, Decimal('1'), Fraction(1, 3))\n"
          ]
        }
      ],
      "source": [
        "from decimal import Decimal\n",
        "from fractions import Fraction\n",
        "tuple_1=('A', True, 1, 2.0, Decimal(1), Fraction(1,3))\n",
        "print(tuple_1)"
      ]
    },
    {
      "cell_type": "markdown",
      "metadata": {
        "id": "beQ7SL78kQl2"
      },
      "source": [
        "### Una tupla con un solo elemento"
      ]
    },
    {
      "cell_type": "code",
      "execution_count": null,
      "metadata": {
        "colab": {
          "base_uri": "https://localhost:8080/"
        },
        "id": "QyBjVuWDkQl2",
        "outputId": "7212b68a-972e-4515-b128-4a21bf1432c5"
      },
      "outputs": [
        {
          "output_type": "stream",
          "name": "stdout",
          "text": [
            "<class 'int'> 3\n",
            "<class 'tuple'> (3,)\n"
          ]
        }
      ],
      "source": [
        "tuple_1 = (3)\n",
        "print(type(tuple_1),tuple_1)\n",
        "tuple_1 = (3,)\n",
        "print(type(tuple_1),tuple_1)"
      ]
    },
    {
      "cell_type": "markdown",
      "metadata": {
        "id": "RwBlub-akQl2"
      },
      "source": [
        "### Diferencias entre tuplas y listas"
      ]
    },
    {
      "cell_type": "markdown",
      "metadata": {
        "id": "A3Zj57E1kQl2"
      },
      "source": [
        "### Puedes cambiar una lista pero no una tupla"
      ]
    },
    {
      "cell_type": "code",
      "execution_count": null,
      "metadata": {
        "id": "HqyqjeJLkQl2"
      },
      "outputs": [],
      "source": [
        "from decimal import Decimal\n",
        "from fractions import Fraction\n",
        "list_1 = ['A', True, 1,2.0, Decimal(1), Fraction(1,3)]\n",
        "tuple_1 = ('A', True, 1,2.0, Decimal(1), Fraction(1,3))\n",
        "list_1[3] = 3.0\n",
        "#tuple_1[3.0] = 3.0"
      ]
    },
    {
      "cell_type": "markdown",
      "metadata": {
        "id": "YUJoKmtnkQl2"
      },
      "source": [
        "### Puedes hacer una tupla sin parentesis"
      ]
    },
    {
      "cell_type": "code",
      "execution_count": null,
      "metadata": {
        "id": "ce2kN3XHkQl2",
        "colab": {
          "base_uri": "https://localhost:8080/"
        },
        "outputId": "73314fc1-f97a-4861-a2b7-c064bf08ced7"
      },
      "outputs": [
        {
          "output_type": "stream",
          "name": "stdout",
          "text": [
            "(1, 2, 3)\n",
            "(1, 2, 3)\n"
          ]
        }
      ],
      "source": [
        "tuple_1 = (1,2,3)\n",
        "tuple_2 = 1,2,3\n",
        "print(tuple_1)\n",
        "print(tuple_2)"
      ]
    },
    {
      "cell_type": "markdown",
      "metadata": {
        "id": "kByqMUWwkQl2"
      },
      "source": [
        "### La indexación y el corte funcionan igual con tuplas que con listas, sin embargo, hay una sutil diferencia cuando se usa el segmento [:]. En el caso de una tupla, no se crea ningún objeto nuevo, por lo que tuple_1 = tuple_2 tiene exactamente el mismo resultado que tuple_1 = tuple_2[:]"
      ]
    },
    {
      "cell_type": "code",
      "execution_count": null,
      "metadata": {
        "id": "bbjHHgVtkQl3",
        "colab": {
          "base_uri": "https://localhost:8080/"
        },
        "outputId": "19a6d2a8-2508-41e6-c07b-d9164a8d266d"
      },
      "outputs": [
        {
          "output_type": "stream",
          "name": "stdout",
          "text": [
            "True\n"
          ]
        }
      ],
      "source": [
        "tuple_1 = (1, 2, 3)\n",
        "tuple_2 = tuple_1 \n",
        "tuple_3 = tuple_2[:]\n",
        "print(tuple_1 is tuple_2 is tuple_3)"
      ]
    },
    {
      "cell_type": "markdown",
      "metadata": {
        "id": "yfM-6i9XkQl3"
      },
      "source": [
        "### A nice trick only with tuples"
      ]
    },
    {
      "cell_type": "code",
      "source": [
        "x,y = 1,2\n",
        "print(x)\n",
        "print(y)"
      ],
      "metadata": {
        "colab": {
          "base_uri": "https://localhost:8080/"
        },
        "id": "G-AQCJA26ubG",
        "outputId": "2ed4643e-138d-4d50-fbcb-3de2c8ad0d3a"
      },
      "execution_count": null,
      "outputs": [
        {
          "output_type": "stream",
          "name": "stdout",
          "text": [
            "1\n",
            "2\n"
          ]
        }
      ]
    },
    {
      "cell_type": "code",
      "execution_count": null,
      "metadata": {
        "colab": {
          "base_uri": "https://localhost:8080/"
        },
        "id": "QCoy1KGCkQl3",
        "outputId": "29c98340-9956-4807-a692-006a1c196797"
      },
      "outputs": [
        {
          "output_type": "stream",
          "name": "stdout",
          "text": [
            "1 2\n",
            "2 1\n"
          ]
        }
      ],
      "source": [
        "x = 1\n",
        "y = 2\n",
        "print (x, y)\n",
        "x, y = y, x\n",
        "print (x, y)"
      ]
    },
    {
      "cell_type": "markdown",
      "metadata": {
        "id": "_9YMnwc3kQl3"
      },
      "source": [
        "## Diccionarios\n",
        "### Los diccionarios son mutables"
      ]
    },
    {
      "cell_type": "markdown",
      "metadata": {
        "id": "S9HqcqTmkQl3"
      },
      "source": [
        "### Creando un diccionario\n",
        "A diferencia de una lista tiene 2 valores"
      ]
    },
    {
      "cell_type": "code",
      "execution_count": null,
      "metadata": {
        "id": "HHxL7UT7kQl3",
        "colab": {
          "base_uri": "https://localhost:8080/"
        },
        "outputId": "ed4a5982-f7ad-45d5-b70d-6e7e8dea44c3"
      },
      "outputs": [
        {
          "output_type": "stream",
          "name": "stdout",
          "text": [
            "{'blood type': 'A', 'Age': 30}\n"
          ]
        }
      ],
      "source": [
        "mi_diccionario = {'blood type': 'A', 'Age': 30}\n",
        "                  #Key o clave: valor #Key:valor\n",
        "                  #1                 #2\n",
        "print(mi_diccionario)"
      ]
    },
    {
      "cell_type": "markdown",
      "metadata": {
        "id": "kXKNplXhkQl3"
      },
      "source": [
        "### Indexando un diccionario"
      ]
    },
    {
      "cell_type": "code",
      "execution_count": null,
      "metadata": {
        "id": "024ax1ggkQl3",
        "colab": {
          "base_uri": "https://localhost:8080/"
        },
        "outputId": "94b5a465-c0c1-4510-d83a-1c6c15dc6236"
      },
      "outputs": [
        {
          "output_type": "stream",
          "name": "stdout",
          "text": [
            "A\n",
            "30\n"
          ]
        }
      ],
      "source": [
        "print(mi_diccionario['blood type'])\n",
        "print(mi_diccionario['Age'])"
      ]
    },
    {
      "cell_type": "code",
      "execution_count": null,
      "metadata": {
        "id": "wYMF0-vGkQl4",
        "scrolled": true,
        "colab": {
          "base_uri": "https://localhost:8080/"
        },
        "outputId": "82a97f9e-dc97-4075-c846-a2a7c66b75ae"
      },
      "outputs": [
        {
          "output_type": "stream",
          "name": "stdout",
          "text": [
            "{'blood type': 'B', 'Age': 30}\n"
          ]
        }
      ],
      "source": [
        "mi_diccionario['blood type'] = 'B'\n",
        "print(mi_diccionario)"
      ]
    },
    {
      "cell_type": "code",
      "source": [
        "mi_diccionario['altura'] = 170\n",
        "print(mi_diccionario)"
      ],
      "metadata": {
        "colab": {
          "base_uri": "https://localhost:8080/"
        },
        "id": "_6uUnt3pIKDm",
        "outputId": "d8f6c6a4-b460-4214-cf79-36334d98c996"
      },
      "execution_count": null,
      "outputs": [
        {
          "output_type": "stream",
          "name": "stdout",
          "text": [
            "{'blood type': 'B', 'Age': 30, 'altura': 170}\n"
          ]
        }
      ]
    },
    {
      "cell_type": "code",
      "source": [
        "mi_diccionario.keys()"
      ],
      "metadata": {
        "colab": {
          "base_uri": "https://localhost:8080/"
        },
        "id": "UOYR1MxWIZvw",
        "outputId": "8520e53f-d4a4-40ab-e099-2416bee59df8"
      },
      "execution_count": null,
      "outputs": [
        {
          "output_type": "execute_result",
          "data": {
            "text/plain": [
              "dict_keys(['blood type', 'Age', 'altura'])"
            ]
          },
          "metadata": {},
          "execution_count": 172
        }
      ]
    },
    {
      "cell_type": "code",
      "source": [
        "mi_diccionario.values()"
      ],
      "metadata": {
        "colab": {
          "base_uri": "https://localhost:8080/"
        },
        "id": "tNiaJ6UVIwzR",
        "outputId": "2ba70b19-e43f-47d0-b728-1cd3817272d6"
      },
      "execution_count": null,
      "outputs": [
        {
          "output_type": "execute_result",
          "data": {
            "text/plain": [
              "dict_values(['B', 30, 170])"
            ]
          },
          "metadata": {},
          "execution_count": 173
        }
      ]
    },
    {
      "cell_type": "markdown",
      "metadata": {
        "id": "JiCLohB9kQl4"
      },
      "source": [
        "# Sets\n",
        "## Sets are mutable"
      ]
    },
    {
      "cell_type": "markdown",
      "metadata": {
        "id": "X2XmK_CdkQl4"
      },
      "source": [
        "### Creando un set\n",
        "### Métodos de los tipos de objetos: https://www.w3schools.com/python/python_ref_set.asp"
      ]
    },
    {
      "cell_type": "code",
      "execution_count": null,
      "metadata": {
        "colab": {
          "base_uri": "https://localhost:8080/"
        },
        "id": "2D7TRf58kQl4",
        "outputId": "a085594d-ed68-4a6b-969e-9b34a2857c12"
      },
      "outputs": [
        {
          "output_type": "stream",
          "name": "stdout",
          "text": [
            "{1, 2, 3}\n"
          ]
        }
      ],
      "source": [
        "#Parecido a listas y tuplas\n",
        "my_set = {1, 2, 3}\n",
        "print(my_set)"
      ]
    },
    {
      "cell_type": "markdown",
      "metadata": {
        "id": "C8JJ88dZkQl4"
      },
      "source": [
        "### Los elementos en un set deben ser inmutables"
      ]
    },
    {
      "cell_type": "code",
      "execution_count": null,
      "metadata": {
        "colab": {
          "base_uri": "https://localhost:8080/",
          "height": 183
        },
        "id": "VER2mkfAkQl4",
        "outputId": "9a33258f-086c-4d3e-8791-7bcd07fb74af"
      },
      "outputs": [
        {
          "output_type": "error",
          "ename": "TypeError",
          "evalue": "ignored",
          "traceback": [
            "\u001b[0;31m---------------------------------------------------------------------------\u001b[0m",
            "\u001b[0;31mTypeError\u001b[0m                                 Traceback (most recent call last)",
            "\u001b[0;32m<ipython-input-175-267abe4981dd>\u001b[0m in \u001b[0;36m<module>\u001b[0;34m()\u001b[0m\n\u001b[0;32m----> 1\u001b[0;31m \u001b[0mmy_set\u001b[0m\u001b[0;34m=\u001b[0m\u001b[0;34m{\u001b[0m\u001b[0;36m1\u001b[0m\u001b[0;34m,\u001b[0m \u001b[0;34m'2'\u001b[0m\u001b[0;34m,\u001b[0m \u001b[0;34m[\u001b[0m\u001b[0;36m3\u001b[0m\u001b[0;34m]\u001b[0m\u001b[0;34m}\u001b[0m\u001b[0;34m\u001b[0m\u001b[0;34m\u001b[0m\u001b[0m\n\u001b[0m\u001b[1;32m      2\u001b[0m \u001b[0mprint\u001b[0m\u001b[0;34m(\u001b[0m\u001b[0mmy_set\u001b[0m\u001b[0;34m)\u001b[0m\u001b[0;34m\u001b[0m\u001b[0;34m\u001b[0m\u001b[0m\n",
            "\u001b[0;31mTypeError\u001b[0m: unhashable type: 'list'"
          ]
        }
      ],
      "source": [
        "my_set={1, '2', [3]}\n",
        "print(my_set)"
      ]
    },
    {
      "cell_type": "code",
      "execution_count": null,
      "metadata": {
        "colab": {
          "base_uri": "https://localhost:8080/"
        },
        "id": "2WTFBi3IkQl4",
        "outputId": "609e5e4e-6427-43c3-9efe-e751224d7afb"
      },
      "outputs": [
        {
          "output_type": "stream",
          "name": "stdout",
          "text": [
            "{1, '2', (3,)}\n"
          ]
        }
      ],
      "source": [
        "my_set={1, '2', (3,)}\n",
        "print(my_set)"
      ]
    },
    {
      "cell_type": "code",
      "execution_count": null,
      "metadata": {
        "colab": {
          "base_uri": "https://localhost:8080/"
        },
        "id": "dD-nP1I2_lL4",
        "outputId": "a2d3f0f0-8090-4370-d1ba-e6d6827fc2f1"
      },
      "outputs": [
        {
          "output_type": "execute_result",
          "data": {
            "text/plain": [
              "{(3,), 1, '2', 4}"
            ]
          },
          "metadata": {},
          "execution_count": 177
        }
      ],
      "source": [
        "my_set.add(4)\n",
        "my_set\n"
      ]
    },
    {
      "cell_type": "markdown",
      "metadata": {
        "id": "5l8LuoUIkQl4"
      },
      "source": [
        "## Qué diferencia a un conjunto de listas y tuplas\n",
        "### Los conjuntos nunca contienen el mismo elemento dos veces"
      ]
    },
    {
      "cell_type": "code",
      "execution_count": null,
      "metadata": {
        "colab": {
          "base_uri": "https://localhost:8080/"
        },
        "id": "yQ2jkiLwkQl4",
        "outputId": "730d2c86-c715-4048-fba9-d968c50b2654"
      },
      "outputs": [
        {
          "name": "stdout",
          "output_type": "stream",
          "text": [
            "[1, 2, 3, 1]\n",
            "(1, 2, 3, 1)\n",
            "{1, 2, 3}\n"
          ]
        }
      ],
      "source": [
        "#en un \"set\" no se repiten los números\n",
        "my_list = [1, 2, 3, 1]\n",
        "my_tuple = (1, 2, 3, 1)\n",
        "my_set = {1, 2, 3, 1}\n",
        "print(my_list)\n",
        "print(my_tuple)\n",
        "print(my_set)"
      ]
    },
    {
      "cell_type": "markdown",
      "metadata": {
        "id": "OeNSfWQXkQl4"
      },
      "source": [
        "### ALgunos operadores tienen un significado diferente para los sets "
      ]
    },
    {
      "cell_type": "code",
      "execution_count": null,
      "metadata": {
        "id": "ZQ2OxWqlkQl5",
        "colab": {
          "base_uri": "https://localhost:8080/"
        },
        "outputId": "36750c30-a1fb-4df2-86c5-6ee98948c64d"
      },
      "outputs": [
        {
          "output_type": "stream",
          "name": "stdout",
          "text": [
            "La union del set_1 y set_2 es {1, 2, 3, 4, 5}\n",
            "La interseccion del set_1 y set_2 es {3}\n",
            "La diferencia del set_1 y set_2 es {1, 2}\n",
            "La diferencia del set_2 y set_1 es {4, 5}\n",
            "La diferencia simetrica del set_1 y set_2 es {1, 2, 4, 5}\n"
          ]
        }
      ],
      "source": [
        "set_1 = {1, 2, 3}\n",
        "set_2 = {3, 4, 5}\n",
        "print (f\"La union del set_1 y set_2 es {set_1 | set_2}\")\n",
        "print (f\"La interseccion del set_1 y set_2 es {set_1 & set_2}\")\n",
        "print (f\"La diferencia del set_1 y set_2 es {set_1 - set_2}\")\n",
        "print (f\"La diferencia del set_2 y set_1 es {set_2 - set_1}\")\n",
        "print (f\"La diferencia simetrica del set_1 y set_2 es {set_1 ^ set_2}\")"
      ]
    },
    {
      "cell_type": "markdown",
      "metadata": {
        "id": "s3NEulsckQl5"
      },
      "source": [
        "# Métodos pertenecientes a tipos de datos\n",
        "## Dale un vistazo a estos métodos y experimenta con ellos. No es necesario que los recuerdes todos, pero es bueno tener una idea sobre las posibilidades y tal vez pueda usarlos. Información fácil entender sobre los métodos:\n",
        "### Para cadenas: [https://www.w3schools.com/python/python_strings.asp](https://www.w3schools.com/python/python_strings.asp) solo la última tabla\n",
        "### Para listas: [https://www.w3schools.com/python/python_lists.asp](https://www.w3schools.com/python/python_lists.asp) solo la última tabla\n",
        "### Para tuplas: [https://www.w3schools.com/python/python_tuples.asp](https://www.w3schools.com/python/python_tuples.asp) solo la última tabla\n",
        "### Para conjuntos: [https://www.w3schools.com/python/python_sets.asp](https://www.w3schools.com/python/python_sets.asp) solo la última tabla\n",
        "### Para diccionarios: [https://www.w3schools.com/python/python_dictionaries.asp](https://www.w3schools.com/python/python_dictionaries.asp) solo la última tabla\n",
        "## Por cierto, los sitios web de w3school no están bien vistos por los especialistas, debido a su carácter descuidado, y de hecho hay descuido, pero aprender un tema determinado rápido es un buen comienzo, pero más adelante en la vida, tal vez no presumas de tener lo usé ;-)"
      ]
    },
    {
      "cell_type": "markdown",
      "metadata": {
        "id": "GKy8e6kWkQl5"
      },
      "source": [
        "# Observaciones finales sobre tipos de datos"
      ]
    },
    {
      "cell_type": "markdown",
      "metadata": {
        "id": "NHZbaMFzkQl5"
      },
      "source": [
        "## Como crear listas , tuplas , etc vacias"
      ]
    },
    {
      "cell_type": "code",
      "execution_count": null,
      "metadata": {
        "id": "o0MK5kbHkQl5",
        "colab": {
          "base_uri": "https://localhost:8080/"
        },
        "outputId": "cf96d3ee-3cc3-495f-bb22-3886a6e302ff"
      },
      "outputs": [
        {
          "output_type": "stream",
          "name": "stdout",
          "text": [
            "[]\n",
            "()\n",
            "{}\n",
            "set()\n"
          ]
        }
      ],
      "source": [
        "list_1 = []\n",
        "tuple_1 = ()\n",
        "dictionary_1 = {}\n",
        "set_1 = set()\n",
        "print(list_1)\n",
        "print(tuple_1)\n",
        "print(dictionary_1)\n",
        "print(set_1)"
      ]
    },
    {
      "cell_type": "markdown",
      "metadata": {
        "id": "A9aDX24SkQl5"
      },
      "source": [
        "## Puede usar colecciones como valores en listas, tuplas y diccionarios, pero las únicas colecciones como keys en los diccionarios son tuplas, ya que los keys de los diccionarios deben ser inmutables"
      ]
    },
    {
      "cell_type": "code",
      "execution_count": null,
      "metadata": {
        "colab": {
          "base_uri": "https://localhost:8080/"
        },
        "id": "6iaX5CRykQl5",
        "outputId": "8c27bbb7-07dc-4ff6-c9c7-430a12bef656"
      },
      "outputs": [
        {
          "output_type": "stream",
          "name": "stdout",
          "text": [
            "[[1, 2], (1, 2), {'a': '1'}, {1, 2}]\n",
            "([1, 2], (1, 2), {'a': '1'}, {1, 2})\n",
            "{(1, 2): {'a': '1'}}\n"
          ]
        }
      ],
      "source": [
        "list_1 = [[1,2],(1,2),{'a':'1'},{1,2}]\n",
        "tuple_1 = ([1,2],(1,2),{'a':'1'},{1,2})\n",
        "dictionary_1 = {(1,2):{'a':'1'}}\n",
        "print(list_1)\n",
        "print(tuple_1)\n",
        "print(dictionary_1)"
      ]
    },
    {
      "cell_type": "markdown",
      "metadata": {
        "id": "G2KcpK3DkQl5"
      },
      "source": [
        "## Immutabilidad y mutabilidad no son transitivas"
      ]
    },
    {
      "cell_type": "code",
      "execution_count": null,
      "metadata": {
        "colab": {
          "base_uri": "https://localhost:8080/"
        },
        "id": "BykLXeePkQl5",
        "outputId": "03c8e5df-505b-41c5-8dc1-921b5ce26ff1"
      },
      "outputs": [
        {
          "output_type": "stream",
          "name": "stdout",
          "text": [
            "The value of tuple_1 was (1, [2, 3], 4)\n",
            "The value of tuple_1 is (1, [2, 5], 4)\n"
          ]
        }
      ],
      "source": [
        "tuple_1 = (1, [2, 3], 4)\n",
        "print(f\"The value of tuple_1 was {tuple_1}\")\n",
        "\n",
        "tuple_1[1][1] = 5\n",
        "print(f\"The value of tuple_1 is {tuple_1}\")"
      ]
    },
    {
      "cell_type": "code",
      "execution_count": null,
      "metadata": {
        "colab": {
          "base_uri": "https://localhost:8080/"
        },
        "id": "XdRjXe3mkQl6",
        "outputId": "d483b214-01db-4595-8168-cb5a14eba466"
      },
      "outputs": [
        {
          "output_type": "stream",
          "name": "stdout",
          "text": [
            "The value of tuple_1 was (1, [2, 3], 4)\n",
            "The value of tuple_1 is (1, [2, 5], 4)\n"
          ]
        }
      ],
      "source": [
        "#en tuplas no se pueden cambiar los valores, en listas si\n",
        "tuple_1 = (1, [2, 3], 4)\n",
        "print(f\"The value of tuple_1 was {tuple_1}\")\n",
        "tuple_1[1][1] = 5\n",
        "print(f\"The value of tuple_1 is {tuple_1}\")"
      ]
    },
    {
      "cell_type": "code",
      "execution_count": null,
      "metadata": {
        "colab": {
          "base_uri": "https://localhost:8080/"
        },
        "id": "_cyAJ1fNkQl6",
        "outputId": "e112f24a-e9ec-4716-dc07-9b1cb21f5493",
        "scrolled": true
      },
      "outputs": [
        {
          "output_type": "stream",
          "name": "stdout",
          "text": [
            "The value of list_1 was [1, (2, 3), 4]\n",
            "The value of list_1 is [5, (2, 3), 4]\n"
          ]
        }
      ],
      "source": [
        "list_1 = [1, (2, 3), 4]\n",
        "print(f\"The value of list_1 was {list_1}\")\n",
        "list_1[0] = 5\n",
        "print(f\"The value of list_1 is {list_1}\")"
      ]
    },
    {
      "cell_type": "code",
      "execution_count": null,
      "metadata": {
        "colab": {
          "base_uri": "https://localhost:8080/",
          "height": 235
        },
        "id": "Klm5_dWnkQl6",
        "outputId": "15a197f9-dbea-4c3f-fda2-3c221138b375"
      },
      "outputs": [
        {
          "output_type": "stream",
          "name": "stdout",
          "text": [
            "The value of list_1 was (1, (2, 3), 4)\n"
          ]
        },
        {
          "output_type": "error",
          "ename": "TypeError",
          "evalue": "ignored",
          "traceback": [
            "\u001b[0;31m---------------------------------------------------------------------------\u001b[0m",
            "\u001b[0;31mTypeError\u001b[0m                                 Traceback (most recent call last)",
            "\u001b[0;32m<ipython-input-188-4ae6688136e6>\u001b[0m in \u001b[0;36m<module>\u001b[0;34m()\u001b[0m\n\u001b[1;32m      1\u001b[0m \u001b[0mlist_1\u001b[0m \u001b[0;34m=\u001b[0m \u001b[0;34m(\u001b[0m\u001b[0;36m1\u001b[0m\u001b[0;34m,\u001b[0m \u001b[0;34m(\u001b[0m\u001b[0;36m2\u001b[0m\u001b[0;34m,\u001b[0m \u001b[0;36m3\u001b[0m\u001b[0;34m)\u001b[0m\u001b[0;34m,\u001b[0m \u001b[0;36m4\u001b[0m\u001b[0;34m)\u001b[0m\u001b[0;34m\u001b[0m\u001b[0;34m\u001b[0m\u001b[0m\n\u001b[1;32m      2\u001b[0m \u001b[0mprint\u001b[0m\u001b[0;34m(\u001b[0m\u001b[0;34mf\"The value of list_1 was {list_1}\"\u001b[0m\u001b[0;34m)\u001b[0m\u001b[0;34m\u001b[0m\u001b[0;34m\u001b[0m\u001b[0m\n\u001b[0;32m----> 3\u001b[0;31m \u001b[0mlist_1\u001b[0m\u001b[0;34m[\u001b[0m\u001b[0;36m1\u001b[0m\u001b[0;34m]\u001b[0m\u001b[0;34m[\u001b[0m\u001b[0;36m1\u001b[0m\u001b[0;34m]\u001b[0m \u001b[0;34m=\u001b[0m \u001b[0;36m5\u001b[0m\u001b[0;34m\u001b[0m\u001b[0;34m\u001b[0m\u001b[0m\n\u001b[0m\u001b[1;32m      4\u001b[0m \u001b[0mprint\u001b[0m\u001b[0;34m(\u001b[0m\u001b[0;34mf\"The value of list_1 is {list_1}\"\u001b[0m\u001b[0;34m)\u001b[0m\u001b[0;34m\u001b[0m\u001b[0;34m\u001b[0m\u001b[0m\n",
            "\u001b[0;31mTypeError\u001b[0m: 'tuple' object does not support item assignment"
          ]
        }
      ],
      "source": [
        "list_1 = (1, (2, 3), 4)\n",
        "print(f\"The value of list_1 was {list_1}\")\n",
        "list_1[1][1] = 5\n",
        "print(f\"The value of list_1 is {list_1}\")"
      ]
    },
    {
      "cell_type": "markdown",
      "metadata": {
        "id": "3Qm_jiHpkQl6"
      },
      "source": [
        "###  La colecciónes también se pueden convertir fácilmente. La conversión de colecciones en diccionarios no debe hacerse con la función dict(), sino preferiblemente con una comprensión de diccionario, que se despues. Es posible convertir diccionarios en colecciones de un tipo diferente de esta manera, pero tenga en cuenta que solo se convertirán las keys y no los valores."
      ]
    },
    {
      "cell_type": "code",
      "execution_count": null,
      "metadata": {
        "id": "9Lnjn9rzkQl6",
        "colab": {
          "base_uri": "https://localhost:8080/"
        },
        "outputId": "aa235e96-c4a6-4527-b76d-8d34b4b9f46f"
      },
      "outputs": [
        {
          "output_type": "stream",
          "name": "stdout",
          "text": [
            "[1, 2, 3]\n",
            "[1, 2, 3]\n",
            "[1, 2, 3]\n",
            "{1, 2, 3}\n",
            "{1, 2, 3}\n",
            "{1, 2, 3}\n",
            "(1, 2, 3)\n",
            "(1, 2, 3)\n",
            "(1, 2, 3)\n"
          ]
        }
      ],
      "source": [
        "print(list((1, 2, 3)))\n",
        "print(list({1, 2, 3}))\n",
        "print(list({1:4, 2:5, 3:6}))\n",
        "print(set((1, 2, 3)))\n",
        "print(set([1, 2, 3]))\n",
        "print(set({1:4, 2:5, 3:6}))\n",
        "print(tuple([1, 2, 3]))\n",
        "print(tuple({1, 2, 3}))\n",
        "print(tuple({1:4, 2:5, 3:6}))"
      ]
    },
    {
      "cell_type": "markdown",
      "metadata": {
        "id": "uI1RwB4ikQl6"
      },
      "source": [
        "# Preguntas"
      ]
    },
    {
      "cell_type": "markdown",
      "metadata": {
        "id": "CPNbHxqwkQl6"
      },
      "source": [
        "## 1 Suponga que tiene una lista [1, 2, 3, 2, 1] y desea crear una nueva lista sin números dobles, después de resolver este problema, intente reescribirla como una sola línea\n",
        "### Un one liner en programación es un programa existente de una sola línea. Si no logras escribir una sola línea, no te preocupes. el codigo one liner es a menudo difícile de leer y, como hemos aprendido esta semana: los lenguajes de programación están destinados a ser legibles para las personas. Así que no te preocupes si estás usando demasiado código para resolver un problema, debes preguntarte: ¿yo o alguien más entenderá esto dentro de 3 años?"
      ]
    },
    {
      "cell_type": "code",
      "source": [
        "lista_1=[1,2,3,2,1]\n",
        "lista_2=set(lista_1)\n",
        "print(lista_2)\n"
      ],
      "metadata": {
        "id": "0CcG2gCm7m9S"
      },
      "execution_count": null,
      "outputs": []
    },
    {
      "cell_type": "markdown",
      "metadata": {
        "id": "h6tVHa6gkQl7"
      },
      "source": [
        "## 2 Slicing puede tener 3 parámetros, inicio, final y paso. Sin embargo, a menudo escribirá o leerá operaciones de corte con menos de 3 parámetros. En esta pregunta, debe volver a escribir todos los ejemplos en operaciones de corte con 3 parámetros. Después de haberlas reescrito, verifique si sus respuestas dan los mismos resultados"
      ]
    },
    {
      "cell_type": "code",
      "execution_count": null,
      "metadata": {
        "id": "aSpI0hrzkQl7"
      },
      "outputs": [],
      "source": [
        "string_1 = 'abcde'\n",
        "print(string_1[1:3])\n",
        "print(string_1[-3:-2])\n",
        "\n",
        "print(string_1[:3])\n",
        "print(string_1[3:])\n",
        "print(string_1[:])\n",
        "\n",
        "print(string_1[-2:])\n",
        "print(string_1[:-2])\n",
        "\n",
        "print(string_1[::])\n",
        "print(string_1[::-1])\n",
        "\n",
        "print(string_1[:3:1])\n",
        "print(string_1[:3:-1])\n",
        "\n",
        "print(string_1[1::])\n",
        "print(string_1[:1:-1])"
      ]
    },
    {
      "cell_type": "markdown",
      "source": [
        "Código reescrito:"
      ],
      "metadata": {
        "id": "Q0Zkyf6tSmoY"
      }
    },
    {
      "cell_type": "code",
      "source": [
        "string_1 = 'abcde'\n",
        "print(string_1[1:3:1])\n",
        "print(string_1[2:4:2])\n",
        "print(string_1[0:3:1])\n",
        "print(string_1[3:5:1])\n",
        "print(string_1[0:5:1])\n",
        "print(string_1[-2::1]) \n",
        "print(string_1[-5:-2:1]) \n",
        "print(string_1[-5::1])\n",
        "print(string_1[::-1])\n",
        "print(string_1[:-2:1])  \n",
        "print(string_1[4:5:2])\n",
        "print(string_1[1:5:1])\n",
        "print(string_1[5:1:-1])"
      ],
      "metadata": {
        "id": "8lP_BfkcSpbS",
        "colab": {
          "base_uri": "https://localhost:8080/"
        },
        "outputId": "a6fd2c03-e818-405e-8374-21c7378e1364"
      },
      "execution_count": null,
      "outputs": [
        {
          "output_type": "stream",
          "name": "stdout",
          "text": [
            "bc\n",
            "c\n",
            "abc\n",
            "de\n",
            "abcde\n",
            "de\n",
            "abc\n",
            "abcde\n",
            "edcba\n",
            "abc\n",
            "e\n",
            "bcde\n",
            "edc\n"
          ]
        }
      ]
    },
    {
      "cell_type": "markdown",
      "metadata": {
        "id": "Hd4UZO1FkQl7"
      },
      "source": [
        "## 3 Hemos construido un diccionario que se puede usar para encontrar el resultado si dos booleanos están conectados con el operador y\n",
        "## Reescribe este diccionario para encontrar el resultado si dos booleanos están conectados con el operador o\n",
        "## Python no tiene un operador XOR, busque en Internet lo que se supone que debe hacer el operador XOR y cree un diccionario que proporcione el resultado de una operación XOR"
      ]
    },
    {
      "cell_type": "code",
      "execution_count": null,
      "metadata": {
        "id": "vNTwz2SYkQl7",
        "colab": {
          "base_uri": "https://localhost:8080/"
        },
        "outputId": "2fdc2060-ba3a-4ac3-bed7-71ec186002c9"
      },
      "outputs": [
        {
          "output_type": "stream",
          "name": "stdout",
          "text": [
            "False\n"
          ]
        }
      ],
      "source": [
        "age = 40\n",
        "blood_type = 'A'\n",
        "my_and = {(True, True): True, (True, False): False, (False, True): False, (False, False): False }\n",
        "print(my_and[age < 70, blood_type == 'B'])"
      ]
    },
    {
      "cell_type": "code",
      "source": [
        "dicci = {'blood_type': 'A', 'age': 40}\n",
        "print(dicci)\n",
        "print(dicci['blood_type'])\n",
        "print(dicci['age'])\n",
        "my_xor = {(True, True): True, (True, False): True, (False, True): True, (False, False): False }\n",
        "print(my_xor[age < 70, blood_type == 'B'])\n"
      ],
      "metadata": {
        "colab": {
          "base_uri": "https://localhost:8080/"
        },
        "id": "KnYSFLTigdwf",
        "outputId": "f460ad55-5601-4453-bab3-2f7e38a3ace4"
      },
      "execution_count": null,
      "outputs": [
        {
          "output_type": "stream",
          "name": "stdout",
          "text": [
            "{'blood_type': 'A', 'age': 40}\n",
            "A\n",
            "40\n",
            "True\n"
          ]
        }
      ]
    },
    {
      "cell_type": "markdown",
      "metadata": {
        "id": "xoA47ESykQl7"
      },
      "source": [
        "## 4 En 'Las listas pueden contener listas y así formar tablas de múltiples dimensiones' se les mostro una secuencia ganadora en tres en raya. Como es muy importante para el análisis de datos y la visualización de datos que se sienta cómodo trabajando con tablas poli-dimensionales, le pedimos que reescriba la secuencia con un segundo jugador más inteligente (o un jugador que aprendió el juego de memoria) donde el juego termina en un empate."
      ]
    },
    {
      "cell_type": "code",
      "execution_count": 1,
      "metadata": {
        "id": "jUXPGxnOkQl7",
        "colab": {
          "base_uri": "https://localhost:8080/"
        },
        "outputId": "cc15d3bf-6d32-4a15-cdb2-37e9677f660b"
      },
      "outputs": [
        {
          "output_type": "stream",
          "name": "stdout",
          "text": [
            "[' ', ' ', ' ']\n",
            "[' ', ' ', ' ']\n",
            "[' ', ' ', ' ']\n",
            "\n",
            "['O', ' ', ' ']\n",
            "[' ', ' ', ' ']\n",
            "[' ', ' ', ' ']\n",
            "\n",
            "['O', ' ', ' ']\n",
            "[' ', 'X', ' ']\n",
            "[' ', ' ', ' ']\n",
            "\n",
            "['O', ' ', ' ']\n",
            "[' ', 'X', ' ']\n",
            "['O', ' ', ' ']\n",
            "\n",
            "['O', ' ', ' ']\n",
            "['X', 'X', ' ']\n",
            "['O', ' ', ' ']\n",
            "\n",
            "['O', ' ', ' ']\n",
            "['X', 'X', 'O']\n",
            "['O', ' ', ' ']\n",
            "\n",
            "['O', ' ', ' ']\n",
            "['X', 'X', 'O']\n",
            "['O', 'X', ' ']\n",
            "\n",
            "['O', 'O', ' ']\n",
            "['X', 'X', 'O']\n",
            "['O', 'X', ' ']\n",
            "\n",
            "['O', 'O', 'X']\n",
            "['X', 'X', 'O']\n",
            "['O', 'X', ' ']\n",
            "\n",
            "['O', 'O', 'X']\n",
            "['X', 'X', 'O']\n",
            "['O', 'X', 'O']\n"
          ]
        }
      ],
      "source": [
        "TTTB = [[' ', ' ', ' '], [' ', ' ', ' '], [' ', ' ', ' ']]\n",
        "print(TTTB[0]) \n",
        "print(TTTB[1]) \n",
        "print(TTTB[2])\n",
        "print() \n",
        "TTTB[0][0] = 'O'\n",
        "print(TTTB[0]) \n",
        "print(TTTB[1]) \n",
        "print(TTTB[2])\n",
        "print() \n",
        "TTTB[1][1] = 'X'\n",
        "print(TTTB[0]) \n",
        "print(TTTB[1]) \n",
        "print(TTTB[2])\n",
        "print()\n",
        "TTTB[2][0] = 'O'\n",
        "print(TTTB[0]) \n",
        "print(TTTB[1]) \n",
        "print(TTTB[2])\n",
        "print()\n",
        "TTTB[1][0] = 'X'\n",
        "print(TTTB[0]) \n",
        "print(TTTB[1]) \n",
        "print(TTTB[2])\n",
        "print()\n",
        "TTTB[1][2] = 'O'\n",
        "print(TTTB[0]) \n",
        "print(TTTB[1]) \n",
        "print(TTTB[2])\n",
        "print()\n",
        "TTTB[2][1] = 'X'\n",
        "print(TTTB[0]) \n",
        "print(TTTB[1]) \n",
        "print(TTTB[2])\n",
        "print()\n",
        "TTTB[0][1] = 'O'\n",
        "print(TTTB[0]) \n",
        "print(TTTB[1]) \n",
        "print(TTTB[2])\n",
        "print()\n",
        "TTTB[0][2] = 'X'\n",
        "print(TTTB[0]) \n",
        "print(TTTB[1]) \n",
        "print(TTTB[2])\n",
        "print()\n",
        "TTTB[2][2] = 'O'\n",
        "print(TTTB[0]) \n",
        "print(TTTB[1]) \n",
        "print(TTTB[2])"
      ]
    },
    {
      "cell_type": "markdown",
      "metadata": {
        "id": "Qp9tvzrPkQl7"
      },
      "source": [
        "## 5 Ejecute el siguiente programa, vea si puede encontrar algo extraño y explique el resultado usando su conocimiento de recolección de basura"
      ]
    },
    {
      "cell_type": "code",
      "execution_count": null,
      "metadata": {
        "id": "jBjkKwcokQl7",
        "colab": {
          "base_uri": "https://localhost:8080/"
        },
        "outputId": "984eda02-0aab-46e6-ce8e-06cc49ada910"
      },
      "outputs": [
        {
          "output_type": "stream",
          "name": "stdout",
          "text": [
            "The value of the list refered to by list_5 is [1, 2, 3] and its address is 140174515858880\n",
            "The value of the list refered to by list_5 is [1, 1, 3] and its address is 140174515420608\n",
            "The value of the list refered to by list_5 is [1, 1, 4] and its address is 140174515858880\n"
          ]
        }
      ],
      "source": [
        "list_5 = [1, 2, 3]\n",
        "print(f\"The value of the list refered to by list_5 is {list_5} and its address is {id(list_5)}\")\n",
        "list_5 = [1 , 1, 3]\n",
        "print(f\"The value of the list refered to by list_5 is {list_5} and its address is {id(list_5)}\")\n",
        "list_5 = [1, 1, 4]\n",
        "print(f\"The value of the list refered to by list_5 is {list_5} and its address is {id(list_5)}\")"
      ]
    },
    {
      "cell_type": "markdown",
      "source": [
        "Se crearon 3 listas con el mismo nombre pero asignados con objetos diferentes y al momento de asignar el ID, la primera y ultima lista coinciden, esto se debe a que la primera lista se encuentra guardada y por ende las siguientes listas no crean un nuevo objeto."
      ],
      "metadata": {
        "id": "e61gkBAEVZRo"
      }
    },
    {
      "cell_type": "markdown",
      "metadata": {
        "id": "PA5SR0ShkQl7"
      },
      "source": [
        "## 6 Las cadenas son inmutables, pero ¿por qué funciona lo siguiente? ¿Claramente cambiamos el valor de la cadena llamada string_1? ¿Qué afirmaciones agregaría para aclarar lo que ha sucedido? usar id"
      ]
    },
    {
      "cell_type": "code",
      "execution_count": null,
      "metadata": {
        "id": "JDkP9VrSkQl8",
        "colab": {
          "base_uri": "https://localhost:8080/"
        },
        "outputId": "3cef5dc6-ae4f-41a2-951e-6861b9ce58c7"
      },
      "outputs": [
        {
          "output_type": "stream",
          "name": "stdout",
          "text": [
            "text 1\n",
            "text 2\n"
          ]
        }
      ],
      "source": [
        "string_1 = \"text 1\"\n",
        "print(string_1)\n",
        "string_1 = \"text 2\"\n",
        "print(string_1)"
      ]
    },
    {
      "cell_type": "markdown",
      "source": [
        "La primera cadena está guardada y la segunda cadena no crea un nuevo objeto y al estar con el mismo nombre (string_1) es importante crear un ID para poder diferencir cada objeto."
      ],
      "metadata": {
        "id": "58ITyjBjaequ"
      }
    },
    {
      "cell_type": "code",
      "execution_count": null,
      "metadata": {
        "id": "BDbmTGkLkQmA",
        "colab": {
          "base_uri": "https://localhost:8080/"
        },
        "outputId": "4f9ce717-3d0a-4593-bf7e-b80e306b29b0"
      },
      "outputs": [
        {
          "output_type": "stream",
          "name": "stdout",
          "text": [
            "140174515815472\n",
            "140174515897328\n"
          ]
        }
      ],
      "source": [
        "string_1 = \"text 1\"\n",
        "print(id(string_1))\n",
        "string_1 = \"text 2\"\n",
        "print(id(string_1))"
      ]
    }
  ],
  "metadata": {
    "colab": {
      "name": "clase 1 est.ipynb",
      "provenance": [],
      "collapsed_sections": [
        "az6IT1dZkQlW",
        "K0MJD-mrkQla",
        "XV-gGZ7bkQlb",
        "6JSinqsMkQlc",
        "3E1VQyA9kQld",
        "kps2Zf-xkQld",
        "ceV3xzjOkQle",
        "_GMsxwQvkQlf",
        "ByWdt16vkQlg",
        "MM_J7f_zkQlh",
        "oSGq1VXBkQlh",
        "Uioie6ORkQlh",
        "gKu5fYlgkQlh",
        "9VyEsUpnkQli",
        "X0F2_HCskQll",
        "cEmCNzNYkQlp",
        "lqsbiYRmkQlq",
        "ac7iAfZVkQlu",
        "qSAXyNAgkQlu",
        "6QW4cg8KkQlv",
        "0-JYXdUxkQlv",
        "8G9iBXIskQlw",
        "UDxKT5hkkQlw",
        "I1HdZjoikQlx",
        "uE7OPxeWkQlx",
        "AJVUoAqHkQlx",
        "16V5hCz_kQly",
        "3fDaAi91kQly",
        "btGirsKXkQly",
        "8mWGdFE_kQlz",
        "7VPnV0CmkQlz",
        "hD5sFWnPkQl0",
        "UxZEi0ClkQl0",
        "74jFHgD6kQl1",
        "iuWv-mMBkQl1",
        "-Zb-rCRtkQl1",
        "j80VfAAqkQl1",
        "beQ7SL78kQl2",
        "RwBlub-akQl2",
        "A3Zj57E1kQl2",
        "YUJoKmtnkQl2",
        "kByqMUWwkQl2",
        "yfM-6i9XkQl3",
        "_9YMnwc3kQl3",
        "S9HqcqTmkQl3",
        "kXKNplXhkQl3",
        "JiCLohB9kQl4",
        "C8JJ88dZkQl4",
        "5l8LuoUIkQl4",
        "OeNSfWQXkQl4",
        "s3NEulsckQl5",
        "GKy8e6kWkQl5",
        "NHZbaMFzkQl5",
        "A9aDX24SkQl5",
        "G2KcpK3DkQl5",
        "3Qm_jiHpkQl6",
        "CPNbHxqwkQl6",
        "h6tVHa6gkQl7",
        "Hd4UZO1FkQl7",
        "xoA47ESykQl7",
        "Qp9tvzrPkQl7",
        "PA5SR0ShkQl7"
      ]
    },
    "kernelspec": {
      "display_name": "Python 3",
      "language": "python",
      "name": "python3"
    },
    "language_info": {
      "codemirror_mode": {
        "name": "ipython",
        "version": 3
      },
      "file_extension": ".py",
      "mimetype": "text/x-python",
      "name": "python",
      "nbconvert_exporter": "python",
      "pygments_lexer": "ipython3",
      "version": "3.8.5"
    }
  },
  "nbformat": 4,
  "nbformat_minor": 0
}