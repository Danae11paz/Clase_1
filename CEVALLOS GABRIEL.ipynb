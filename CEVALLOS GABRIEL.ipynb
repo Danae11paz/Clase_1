{
  "nbformat": 4,
  "nbformat_minor": 0,
  "metadata": {
    "colab": {
      "name": "Untitled0.ipynb",
      "provenance": [],
      "collapsed_sections": []
    },
    "kernelspec": {
      "name": "python3",
      "display_name": "Python 3"
    },
    "language_info": {
      "name": "python"
    }
  },
  "cells": [
    {
      "cell_type": "code",
      "execution_count": 1,
      "metadata": {
        "id": "95wvKlBzXcSJ"
      },
      "outputs": [],
      "source": [
        "#DEBER\n",
        "#1 Suponga que tiene una lista [1, 2, 3, 2, 1] y desea crear una nueva lista sin números dobles, después de resolver este problema, intente reescribirla como una sola línea\n",
        "#Un one liner en programación es un programa existente de una sola línea. Si no logras escribir una sola línea, no te preocupes. el codigo one liner es a menudo difícile de leer y, como hemos aprendido esta semana: los lenguajes de programación están destinados a ser legibles para las personas. Así que no te preocupes si estás usando demasiado código para resolver un problema, debes preguntarte: ¿yo o alguien más entenderá esto dentro de 3 años?\n"
      ]
    },
    {
      "cell_type": "code",
      "source": [
        "set_1 = {1, 2, 3, 2, 1}\n",
        "set_2 = {1, 2, 3, 2, 1}\n",
        "print(f\"lista {set_1 & set_2}\")\n",
        "set_1 = {1,2,3,2,1} ; set_2 = {1,2,3,2,1} ; print(f\"lista{set_1 & set_2}\")\n",
        "lista:1"
      ],
      "metadata": {
        "colab": {
          "base_uri": "https://localhost:8080/"
        },
        "id": "ENikpsJWXpRL",
        "outputId": "58fde833-99db-4ce8-a410-4eb6ada1d4b8"
      },
      "execution_count": 2,
      "outputs": [
        {
          "output_type": "stream",
          "name": "stdout",
          "text": [
            "lista {1, 2, 3}\n",
            "lista{1, 2, 3}\n"
          ]
        }
      ]
    },
    {
      "cell_type": "markdown",
      "source": [
        "2 Slicing puede tener 3 parámetros, inicio, final y paso. Sin embargo, a menudo escribirá o leerá operaciones de corte con menos de 3 parámetros. En esta pregunta, debe volver a escribir todos los ejemplos en operaciones de corte con 3 parámetros. Después de haberlas reescrito, verifique si sus respuestas dan los mismos resultados"
      ],
      "metadata": {
        "id": "T5nKOO-WXxch"
      }
    },
    {
      "cell_type": "code",
      "source": [
        "string_2 = 'abcde'\n",
        "print(string_2[1:2])\n",
        "print(string_2[-2:-3])\n",
        "print(string_2[1:-2])\n"
      ],
      "metadata": {
        "colab": {
          "base_uri": "https://localhost:8080/"
        },
        "id": "QLpnag_8XzP7",
        "outputId": "733f18fd-df2c-4766-f521-5c3cbd886436"
      },
      "execution_count": 6,
      "outputs": [
        {
          "output_type": "stream",
          "name": "stdout",
          "text": [
            "b\n",
            "\n",
            "bc\n"
          ]
        }
      ]
    },
    {
      "cell_type": "markdown",
      "source": [
        "3 Hemos construido un diccionario que se puede usar para encontrar el resultado si dos booleanos están conectados con el operador y\n",
        "Reescribe este diccionario para encontrar el resultado si dos booleanos están conectados con el operador o\n",
        "Python no tiene un operador XOR, busque en Internet lo que se supone que debe hacer el operador XOR y cree un diccionario que proporcione el resultado de una operación XOR"
      ],
      "metadata": {
        "id": "4MWIhqh-YlRI"
      }
    },
    {
      "cell_type": "code",
      "source": [
        "age = 40\n",
        "blood_type = 'A'\n",
        "my_and = {(True, True): True, (True, False): False, (False, True): False, (False, False): False }\n",
        "print(my_and[age < 70, blood_type == 'B'])\n",
        "\n",
        "Edad = 20\n",
        "Sangre_tipo = 'B'\n",
        "My = {(True or True): True, (True or False): False }\n",
        "print(My[Edad > 15 or Sangre_tipo == 'C'])\n",
        "\n",
        "a = bool(20)\n",
        "b = bool(\"B\")\n",
        "print(a^b)\n",
        "\n",
        "Edad = bool(20)\n",
        "Sangre_tipo = bool('A')\n",
        "print(Edad ^ Sangre_tipo) "
      ],
      "metadata": {
        "colab": {
          "base_uri": "https://localhost:8080/"
        },
        "id": "lQPkhEIaYmd_",
        "outputId": "35821dfd-30f2-4520-fcca-94f28e4d55ef"
      },
      "execution_count": 22,
      "outputs": [
        {
          "output_type": "stream",
          "name": "stdout",
          "text": [
            "False\n",
            "False\n",
            "False\n",
            "False\n"
          ]
        }
      ]
    },
    {
      "cell_type": "markdown",
      "source": [
        "4 En 'Las listas pueden contener listas y así formar tablas de múltiples dimensiones' se les mostro una secuencia ganadora en tres en raya. Como es muy importante para el análisis de datos y la visualización de datos que se sienta cómodo trabajando con tablas poli-dimensionales, le pedimos que reescriba la secuencia con un segundo jugador más inteligente (o un jugador que aprendió el juego de memoria) donde el juego termina en un empate."
      ],
      "metadata": {
        "id": "kd7D6BuPeCSW"
      }
    },
    {
      "cell_type": "code",
      "source": [
        "tic_tac_toe_board = [[' ', ' ', ' '], [' ', ' ', ' '], [' ', ' ', ' ']]\n",
        "print(tic_tac_toe_board[0]) \n",
        "print(tic_tac_toe_board[1]) \n",
        "print(tic_tac_toe_board[2])\n",
        "print()\n",
        "\n",
        "tic_tac_toe_board [1][2] = 'X'\n",
        "print(tic_tac_toe_board[0]) \n",
        "print(tic_tac_toe_board[1]) \n",
        "print(tic_tac_toe_board[2])\n",
        "print()\n",
        "\n",
        "tic_tac_toe_board [0][2] = 'O'\n",
        "print(tic_tac_toe_board[0]) \n",
        "print(tic_tac_toe_board[1]) \n",
        "print(tic_tac_toe_board[2])\n",
        "print()\n",
        "\n",
        "tic_tac_toe_board [1][1] = 'X'\n",
        "print(tic_tac_toe_board[0]) \n",
        "print(tic_tac_toe_board[1]) \n",
        "print(tic_tac_toe_board[2])\n",
        "print()\n",
        "\n",
        "tic_tac_toe_board [1][0] = 'O'\n",
        "print(tic_tac_toe_board[0]) \n",
        "print(tic_tac_toe_board[1]) \n",
        "print(tic_tac_toe_board[2])\n",
        "print()\n",
        "\n",
        "tic_tac_toe_board [0][0] = 'X'\n",
        "print(tic_tac_toe_board[0]) \n",
        "print(tic_tac_toe_board[1]) \n",
        "print(tic_tac_toe_board[2])\n",
        "print()\n",
        "\n",
        "tic_tac_toe_board [2][2] = 'O'\n",
        "print(tic_tac_toe_board[0]) \n",
        "print(tic_tac_toe_board[1]) \n",
        "print(tic_tac_toe_board[2])\n",
        "print()\n",
        "\n",
        "tic_tac_toe_board [0][1] = 'X'\n",
        "print(tic_tac_toe_board[0]) \n",
        "print(tic_tac_toe_board[1]) \n",
        "print(tic_tac_toe_board[2])\n",
        "print()\n",
        "\n",
        "tic_tac_toe_board [2][1] = 'O'\n",
        "print(tic_tac_toe_board[0]) \n",
        "print(tic_tac_toe_board[1]) \n",
        "print(tic_tac_toe_board[2])\n",
        "print()\n",
        "#el juego termino en empate.\n"
      ],
      "metadata": {
        "colab": {
          "base_uri": "https://localhost:8080/"
        },
        "id": "cL8KMVvjeD4m",
        "outputId": "c8b44740-db2d-433e-e12c-228eb53c0721"
      },
      "execution_count": 38,
      "outputs": [
        {
          "output_type": "stream",
          "name": "stdout",
          "text": [
            "[' ', ' ', ' ']\n",
            "[' ', ' ', ' ']\n",
            "[' ', ' ', ' ']\n",
            "\n",
            "[' ', ' ', ' ']\n",
            "[' ', ' ', 'X']\n",
            "[' ', ' ', ' ']\n",
            "\n",
            "[' ', ' ', 'O']\n",
            "[' ', ' ', 'X']\n",
            "[' ', ' ', ' ']\n",
            "\n",
            "[' ', ' ', 'O']\n",
            "[' ', 'X', 'X']\n",
            "[' ', ' ', ' ']\n",
            "\n",
            "[' ', ' ', 'O']\n",
            "['O', 'X', 'X']\n",
            "[' ', ' ', ' ']\n",
            "\n",
            "['X', ' ', 'O']\n",
            "['O', 'X', 'X']\n",
            "[' ', ' ', ' ']\n",
            "\n",
            "['X', ' ', 'O']\n",
            "['O', 'X', 'X']\n",
            "[' ', ' ', 'O']\n",
            "\n",
            "['X', 'X', 'O']\n",
            "['O', 'X', 'X']\n",
            "[' ', ' ', 'O']\n",
            "\n",
            "['X', 'X', 'O']\n",
            "['O', 'X', 'X']\n",
            "[' ', 'O', 'O']\n",
            "\n"
          ]
        }
      ]
    },
    {
      "cell_type": "markdown",
      "source": [
        "5 Ejecute el siguiente programa, vea si puede encontrar algo extraño y explique el resultado usando su conocimiento de recolección de basura"
      ],
      "metadata": {
        "id": "aK0oFhqfiGK4"
      }
    },
    {
      "cell_type": "code",
      "source": [
        "list_5 = [1, 2, 3]\n",
        "print(f\"The value of the list refered to by list_5 is {list_5} and its address is {id(list_5)}\")\n",
        "list_5 = [1 , 1, 3]\n",
        "print(f\"The value of the list refered to by list_5 is {list_5} and its address is {id(list_5)}\")\n",
        "list_5 = [1, 1, 4]\n",
        "print(f\"The value of the list refered to by list_5 is {list_5} and its address is {id(list_5)}\")\n",
        "\n",
        "#Como phyton optimiza, si bien se le asigna a la lista 5 un cierto numero de objetos, y a la misma una identificacion\n",
        "#Al reasignar a list_5 una serie diferente de objetos,se le asigna un Id diferente.\n",
        "#Pero al reasignar nuevamente a list_5 otros valores esta aplica el concepto de recolección de basura e ignora\n",
        "#La asegunda asignacion y regresa a la primera, otorgandole a la segunda reasignacion su propio Id"
      ],
      "metadata": {
        "colab": {
          "base_uri": "https://localhost:8080/"
        },
        "id": "elE3CZPQiG2n",
        "outputId": "081d05fe-98d3-4a14-cfab-1771536f84b6"
      },
      "execution_count": 44,
      "outputs": [
        {
          "output_type": "stream",
          "name": "stdout",
          "text": [
            "The value of the list refered to by list_5 is [1, 2, 3] and its address is 140653018003088\n",
            "The value of the list refered to by list_5 is [1, 1, 3] and its address is 140653152337344\n",
            "The value of the list refered to by list_5 is [1, 1, 4] and its address is 140653018003088\n"
          ]
        }
      ]
    },
    {
      "cell_type": "markdown",
      "source": [
        "6 Las cadenas son inmutables, pero ¿por qué funciona lo siguiente? ¿Claramente cambiamos el valor de la cadena llamada string_1? ¿Qué afirmaciones agregaría para aclarar lo que ha sucedido? usar id"
      ],
      "metadata": {
        "id": "kcJfdDDpijMn"
      }
    },
    {
      "cell_type": "code",
      "source": [
        ""
      ],
      "metadata": {
        "id": "g4jZ893yeB_o"
      },
      "execution_count": null,
      "outputs": []
    },
    {
      "cell_type": "code",
      "source": [
        "string_1 = \"text 1\"\n",
        "print(string_1)\n",
        "string_1 = \"text 2\"\n",
        "print(string_1)\n",
        "print({id (string_1)})\n",
        "#Se uso una caneda de escape, para agregar a la cadena \"texto 2\""
      ],
      "metadata": {
        "colab": {
          "base_uri": "https://localhost:8080/"
        },
        "id": "0fjrgZxkikax",
        "outputId": "7c66d030-7dee-4ec2-bb12-89b7eb866828"
      },
      "execution_count": 43,
      "outputs": [
        {
          "output_type": "stream",
          "name": "stdout",
          "text": [
            "text 1\n",
            "text 2\n",
            "{140653018393200}\n"
          ]
        }
      ]
    }
  ]
}