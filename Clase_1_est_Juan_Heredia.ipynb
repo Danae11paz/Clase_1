{
  "cells": [
    {
      "cell_type": "markdown",
      "metadata": {
        "id": "uI1RwB4ikQl6"
      },
      "source": [
        "# Preguntas"
      ]
    },
    {
      "cell_type": "markdown",
      "metadata": {
        "id": "CPNbHxqwkQl6"
      },
      "source": [
        "## 1 Suponga que tiene una lista [1, 2, 3, 2, 1] y desea crear una nueva lista sin números dobles, después de resolver este problema, intente reescribirla como una sola línea\n",
        "### Un one liner en programación es un programa existente de una sola línea. Si no logras escribir una sola línea, no te preocupes. el codigo one liner es a menudo difícile de leer y, como hemos aprendido esta semana: los lenguajes de programación están destinados a ser legibles para las personas. Así que no te preocupes si estás usando demasiado código para resolver un problema, debes preguntarte: ¿yo o alguien más entenderá esto dentro de 3 años?"
      ]
    },
    {
      "cell_type": "code",
      "source": [
        "#Definimos la lista\n",
        "lista=[1,2,3,2,1]\n",
        "#convertimos los elementos en enteros\n",
        "lista[0]=int(lista[0])\n",
        "lista[1]=int(lista[1])\n",
        "lista[2]=int(lista[2])\n",
        "lista[3]=int(lista[3])\n",
        "lista[4]=int(lista[4])\n",
        "#Imprimimos un one liner de la lista\n",
        "print(lista[0],lista[1],lista[2],lista[3],lista[4])"
      ],
      "metadata": {
        "id": "LeubB4WaLnUp"
      },
      "execution_count": null,
      "outputs": []
    },
    {
      "cell_type": "markdown",
      "metadata": {
        "id": "h6tVHa6gkQl7"
      },
      "source": [
        "## 2 Slicing puede tener 3 parámetros, inicio, final y paso. Sin embargo, a menudo escribirá o leerá operaciones de corte con menos de 3 parámetros. En esta pregunta, debe volver a escribir todos los ejemplos en operaciones de corte con 3 parámetros. Después de haberlas reescrito, verifique si sus respuestas dan los mismos resultados"
      ]
    },
    {
      "cell_type": "code",
      "execution_count": 1,
      "metadata": {
        "id": "aSpI0hrzkQl7",
        "colab": {
          "base_uri": "https://localhost:8080/"
        },
        "outputId": "4507c271-7815-4d50-c80e-0419feba81b2"
      },
      "outputs": [
        {
          "output_type": "stream",
          "name": "stdout",
          "text": [
            "bc\n",
            "c\n",
            "abc\n",
            "de\n",
            "abcde\n",
            "de\n",
            "abc\n",
            "abcde\n",
            "edcba\n",
            "abc\n",
            "e\n",
            "bcde\n",
            "edc\n"
          ]
        }
      ],
      "source": [
        "string_1 = 'abcde'\n",
        "print(string_1[1:3]); print(string_1[1:3:1])\n",
        "print(string_1[-3:-2]); print(string_1[-3:-2:1])\n",
        "\n",
        "print(string_1[:3]); print(string_1[0:3:1])\n",
        "print(string_1[3:]); print(string_1[3:5:1])\n",
        "print(string_1[:]); print(string_1[0:5:1])\n",
        "\n",
        "print(string_1[-2:]); print(string_1[3:5:1])\n",
        "print(string_1[:-2]); print(string_1[-5:-2:1])\n",
        "\n",
        "print(string_1[::]); print(string_1[0:5:1])\n",
        "print(string_1[::-1]); print(string_1[-1:-6:-1])\n",
        "\n",
        "print(string_1[:3:1]); print(string_1[:3:1])\n",
        "print(string_1[:3:-1]); print(string_1[:3:-1])\n",
        "\n",
        "print(string_1[1::]); print(string_1[1:5:1])\n",
        "print(string_1[:1:-1]); print(string_1[5:1:-1])"
      ]
    },
    {
      "cell_type": "markdown",
      "metadata": {
        "id": "Hd4UZO1FkQl7"
      },
      "source": [
        "## 3 Hemos construido un diccionario que se puede usar para encontrar el resultado si dos booleanos están conectados con el operador y\n",
        "## Reescribe este diccionario para encontrar el resultado si dos booleanos están conectados con el operador o\n",
        "## Python no tiene un operador XOR, busque en Internet lo que se supone que debe hacer el operador XOR y cree un diccionario que proporcione el resultado de una operación XOR"
      ]
    },
    {
      "cell_type": "code",
      "execution_count": null,
      "metadata": {
        "id": "vNTwz2SYkQl7"
      },
      "outputs": [],
      "source": [
        "age = 40\n",
        "blood_type = 'A'\n",
        "my_and = {(True, True): True, (True, False): False, (False, True): False, (False, False): False }\n",
        "print(my_and[age < 70, blood_type == 'B'])"
      ]
    },
    {
      "cell_type": "markdown",
      "metadata": {
        "id": "xoA47ESykQl7"
      },
      "source": [
        "## 4 En 'Las listas pueden contener listas y así formar tablas de múltiples dimensiones' se les mostro una secuencia ganadora en tres en raya. Como es muy importante para el análisis de datos y la visualización de datos que se sienta cómodo trabajando con tablas poli-dimensionales, le pedimos que reescriba la secuencia con un segundo jugador más inteligente (o un jugador que aprendió el juego de memoria) donde el juego termina en un empate."
      ]
    },
    {
      "cell_type": "code",
      "execution_count": 11,
      "metadata": {
        "id": "jUXPGxnOkQl7",
        "colab": {
          "base_uri": "https://localhost:8080/"
        },
        "outputId": "a7d5bffa-4753-4dcc-850a-dd091954a902"
      },
      "outputs": [
        {
          "output_type": "stream",
          "name": "stdout",
          "text": [
            "[' ', ' ', ' ']\n",
            "[' ', ' ', ' ']\n",
            "[' ', ' ', ' ']\n",
            "\n",
            "[' ', ' ', ' ']\n",
            "[' ', 'X', ' ']\n",
            "[' ', ' ', ' ']\n",
            "\n",
            "[' ', ' ', 'O']\n",
            "[' ', 'X', ' ']\n",
            "[' ', ' ', ' ']\n",
            "\n",
            "[' ', ' ', 'O']\n",
            "[' ', 'X', ' ']\n",
            "[' ', ' ', 'X']\n",
            "\n",
            "['O', ' ', 'O']\n",
            "[' ', 'X', ' ']\n",
            "[' ', ' ', 'X']\n",
            "\n",
            "['O', 'X', 'O']\n",
            "[' ', 'X', ' ']\n",
            "[' ', ' ', 'X']\n",
            "\n",
            "['O', 'X', 'O']\n",
            "[' ', 'X', ' ']\n",
            "[' ', 'O', 'X']\n",
            "\n",
            "['O', 'X', 'O']\n",
            "[' ', 'X', 'X']\n",
            "[' ', 'O', 'X']\n",
            "\n",
            "['O', 'X', 'O']\n",
            "['O', 'X', 'X']\n",
            "[' ', 'O', 'X']\n",
            "\n",
            "['O', 'X', 'O']\n",
            "['O', 'X', 'X']\n",
            "['X', 'O', 'X']\n",
            "\n"
          ]
        }
      ],
      "source": [
        "tic_tac_toe_board = [[' ', ' ', ' '], [' ', ' ', ' '], [' ', ' ', ' ']]\n",
        "print(tic_tac_toe_board[0]) \n",
        "print(tic_tac_toe_board[1]) \n",
        "print(tic_tac_toe_board[2])\n",
        "print() \n",
        "tic_tac_toe_board[1][1] = 'X'\n",
        "print(tic_tac_toe_board[0]) \n",
        "print(tic_tac_toe_board[1]) \n",
        "print(tic_tac_toe_board[2])\n",
        "print() \n",
        "tic_tac_toe_board[0][2] = 'O'\n",
        "print(tic_tac_toe_board[0]) \n",
        "print(tic_tac_toe_board[1]) \n",
        "print(tic_tac_toe_board[2])\n",
        "print()\n",
        "tic_tac_toe_board[2][2] = 'X'\n",
        "print(tic_tac_toe_board[0]) \n",
        "print(tic_tac_toe_board[1]) \n",
        "print(tic_tac_toe_board[2])\n",
        "print()\n",
        "tic_tac_toe_board[0][0] = 'O'\n",
        "print(tic_tac_toe_board[0]) \n",
        "print(tic_tac_toe_board[1]) \n",
        "print(tic_tac_toe_board[2])\n",
        "print()\n",
        "tic_tac_toe_board[0][1] = 'X'\n",
        "print(tic_tac_toe_board[0]) \n",
        "print(tic_tac_toe_board[1]) \n",
        "print(tic_tac_toe_board[2])\n",
        "tic_tac_toe_board[2][1] = 'O'\n",
        "print()\n",
        "print(tic_tac_toe_board[0]) \n",
        "print(tic_tac_toe_board[1]) \n",
        "print(tic_tac_toe_board[2])\n",
        "print()\n",
        "tic_tac_toe_board[1][2] = 'X'\n",
        "print(tic_tac_toe_board[0]) \n",
        "print(tic_tac_toe_board[1]) \n",
        "print(tic_tac_toe_board[2])\n",
        "tic_tac_toe_board[1][0] = 'O'\n",
        "print()\n",
        "print(tic_tac_toe_board[0]) \n",
        "print(tic_tac_toe_board[1]) \n",
        "print(tic_tac_toe_board[2])\n",
        "print()\n",
        "tic_tac_toe_board[2][0] = 'X'\n",
        "print(tic_tac_toe_board[0]) \n",
        "print(tic_tac_toe_board[1]) \n",
        "print(tic_tac_toe_board[2])\n",
        "print()# And the next move X wins independent what player O plays"
      ]
    },
    {
      "cell_type": "markdown",
      "metadata": {
        "id": "Qp9tvzrPkQl7"
      },
      "source": [
        "## 5 Ejecute el siguiente programa, vea si puede encontrar algo extraño y explique el resultado usando su conocimiento de recolección de basura"
      ]
    },
    {
      "cell_type": "code",
      "execution_count": null,
      "metadata": {
        "id": "jBjkKwcokQl7"
      },
      "outputs": [],
      "source": [
        "list_5 = [1, 2, 3]\n",
        "print(f\"The value of the list refered to by list_5 is {list_5} and its address is {id(list_5)}\")\n",
        "list_5 = [1 , 1, 3]\n",
        "print(f\"The value of the list refered to by list_5 is {list_5} and its address is {id(list_5)}\")\n",
        "list_5 = [1, 1, 4]\n",
        "print(f\"The value of the list refered to by list_5 is {list_5} and its address is {id(list_5)}\")"
      ]
    },
    {
      "cell_type": "code",
      "source": [
        "# La variable al actualizar si valor, se alterna entre 2 espacios de memoria\n",
        "# Tomando esto en cuenta, se repite el apuntador de memoria en la primera y tercera asignación"
      ],
      "metadata": {
        "id": "RpbivWn1OejF"
      },
      "execution_count": null,
      "outputs": []
    },
    {
      "cell_type": "markdown",
      "metadata": {
        "id": "PA5SR0ShkQl7"
      },
      "source": [
        "## 6 Las cadenas son inmutables, pero ¿por qué funciona lo siguiente? ¿Claramente cambiamos el valor de la cadena llamada string_1? ¿Qué afirmaciones agregaría para aclarar lo que ha sucedido? usar id"
      ]
    },
    {
      "cell_type": "code",
      "execution_count": null,
      "metadata": {
        "id": "JDkP9VrSkQl8"
      },
      "outputs": [],
      "source": [
        "string_1 = \"text 1\"\n",
        "print(string_1)\n",
        "string_1 = \"text 2\"\n",
        "print(string_1)"
      ]
    },
    {
      "cell_type": "code",
      "execution_count": null,
      "metadata": {
        "id": "BDbmTGkLkQmA"
      },
      "outputs": [],
      "source": [
        "#Estamos sobreescribiendo la variable, es decir, reemplazamos el contenido de la variable pero no modificamos a la cadena"
      ]
    }
  ],
  "metadata": {
    "colab": {
      "name": "Clase 1 est - Juan Heredia.ipynb",
      "provenance": [],
      "collapsed_sections": [
        "MM_J7f_zkQlh",
        "oSGq1VXBkQlh",
        "Uioie6ORkQlh",
        "gKu5fYlgkQlh",
        "9VyEsUpnkQli",
        "MA7bZktpkQlk",
        "7okguazIkQlk",
        "X0F2_HCskQll",
        "A2SxPxB1kQll",
        "R7ToBx9rkQlm",
        "eSpdy_BhkQln",
        "_OuhAVbhkQlo",
        "I8Neb66zkQlo",
        "C5AEklYSkQlp",
        "cEmCNzNYkQlp",
        "lqsbiYRmkQlq",
        "gCeIWpMLkQlq",
        "aO10xvegkQlq",
        "RRmdv6T8kQlr",
        "lasgtFmikQls",
        "1GlG5w8YkQls",
        "BzPiY5v6kQlt",
        "ac7iAfZVkQlu",
        "qSAXyNAgkQlu",
        "ex_xJByRkQlv",
        "6QW4cg8KkQlv",
        "0-JYXdUxkQlv",
        "8G9iBXIskQlw",
        "UDxKT5hkkQlw",
        "I1HdZjoikQlx",
        "uE7OPxeWkQlx",
        "AJVUoAqHkQlx",
        "3fDaAi91kQly",
        "btGirsKXkQly",
        "8mWGdFE_kQlz",
        "7VPnV0CmkQlz",
        "hD5sFWnPkQl0",
        "UxZEi0ClkQl0",
        "74jFHgD6kQl1",
        "iuWv-mMBkQl1",
        "-Zb-rCRtkQl1",
        "j80VfAAqkQl1",
        "beQ7SL78kQl2",
        "RwBlub-akQl2",
        "A3Zj57E1kQl2",
        "YUJoKmtnkQl2",
        "kByqMUWwkQl2",
        "yfM-6i9XkQl3",
        "_9YMnwc3kQl3",
        "S9HqcqTmkQl3",
        "kXKNplXhkQl3",
        "X2XmK_CdkQl4",
        "C8JJ88dZkQl4",
        "5l8LuoUIkQl4",
        "OeNSfWQXkQl4",
        "NHZbaMFzkQl5",
        "A9aDX24SkQl5",
        "G2KcpK3DkQl5",
        "3Qm_jiHpkQl6"
      ]
    },
    "kernelspec": {
      "display_name": "Python 3",
      "language": "python",
      "name": "python3"
    },
    "language_info": {
      "codemirror_mode": {
        "name": "ipython",
        "version": 3
      },
      "file_extension": ".py",
      "mimetype": "text/x-python",
      "name": "python",
      "nbconvert_exporter": "python",
      "pygments_lexer": "ipython3",
      "version": "3.8.5"
    }
  },
  "nbformat": 4,
  "nbformat_minor": 0
}