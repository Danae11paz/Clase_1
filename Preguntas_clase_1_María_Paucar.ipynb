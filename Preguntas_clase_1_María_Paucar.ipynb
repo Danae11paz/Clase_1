{
  "nbformat": 4,
  "nbformat_minor": 0,
  "metadata": {
    "colab": {
      "name": "Ejercicios Clase 1",
      "provenance": [],
      "collapsed_sections": []
    },
    "kernelspec": {
      "name": "python3",
      "display_name": "Python 3"
    },
    "language_info": {
      "name": "python"
    }
  },
  "cells": [
    {
      "cell_type": "markdown",
      "source": [
        "### **Universidad Central del Ecuador**\n",
        "\n",
        "### **Facultad de Ciencias Económicas**\n",
        "\n",
        "### **Curso de Python**"
      ],
      "metadata": {
        "id": "0AEvbUu0LuF4"
      }
    },
    {
      "cell_type": "markdown",
      "source": [
        "**Nombre:**\n",
        "Paucar Paucar María Belén\n",
        "\n",
        "**Fecha:**\n",
        "18/07/2022"
      ],
      "metadata": {
        "id": "FW40R1grMRfD"
      }
    },
    {
      "cell_type": "markdown",
      "source": [
        "***Ejercicios Clase 1***"
      ],
      "metadata": {
        "id": "5zkCTKWgMftw"
      }
    },
    {
      "cell_type": "markdown",
      "source": [
        "*Ejercicio 1*"
      ],
      "metadata": {
        "id": "jtxrcFFwMnIV"
      }
    },
    {
      "cell_type": "markdown",
      "source": [
        "### 1 Suponga que tiene una lista [1, 2, 3, 2, 1] y desea crear una nueva lista sin números dobles, después de resolver este problema, intente reescribirla como una sola línea.\n",
        "\n",
        "Un one liner en programación es un programa existente de una sola línea. Si no logras escribir una sola línea, no te preocupes. el codigo one liner es a menudo difícile de leer y, como hemos aprendido esta semana: los lenguajes de programación están destinados a ser legibles para las personas. Así que no te preocupes si estás usando demasiado código para resolver un problema, debes preguntarte: ¿yo o alguien más entenderá esto dentro de 3 años?"
      ],
      "metadata": {
        "id": "ZzIVyW3TMryn"
      }
    },
    {
      "cell_type": "code",
      "source": [
        "# Creación de mi lista:\n",
        "\n",
        "lista=[1,2,3,2,1]\n",
        "print(lista)"
      ],
      "metadata": {
        "colab": {
          "base_uri": "https://localhost:8080/"
        },
        "id": "YQ6dq91MNQ2v",
        "outputId": "f3468ba4-bce3-430f-d855-cc1c41479342"
      },
      "execution_count": null,
      "outputs": [
        {
          "output_type": "stream",
          "name": "stdout",
          "text": [
            "[1, 2, 3, 2, 1]\n"
          ]
        }
      ]
    },
    {
      "cell_type": "code",
      "source": [
        "# Eliminación de valores repetidos:\n",
        "# sorted: crea una lista ordenada de forma ascendente\n",
        "# set: define los valores únicos\n",
        "\n",
        "sd=set(lista)\n",
        "ml=sorted(sd)\n",
        "print(ml)"
      ],
      "metadata": {
        "colab": {
          "base_uri": "https://localhost:8080/"
        },
        "id": "CZCUfEf-RoLu",
        "outputId": "9ddfefa9-5810-4984-be97-7adf2f61efaf"
      },
      "execution_count": null,
      "outputs": [
        {
          "output_type": "stream",
          "name": "stdout",
          "text": [
            "[1, 2, 3]\n"
          ]
        }
      ]
    },
    {
      "cell_type": "code",
      "source": [
        "# Código en una línea\n",
        "\n",
        "sorted(set(lista))"
      ],
      "metadata": {
        "colab": {
          "base_uri": "https://localhost:8080/"
        },
        "id": "4b-NHcBkS1qN",
        "outputId": "67052243-f146-423e-9836-e05c12afeccc"
      },
      "execution_count": null,
      "outputs": [
        {
          "output_type": "execute_result",
          "data": {
            "text/plain": [
              "[1, 2, 3]"
            ]
          },
          "metadata": {},
          "execution_count": 31
        }
      ]
    },
    {
      "cell_type": "markdown",
      "source": [
        "*Ejercicio 2*"
      ],
      "metadata": {
        "id": "meu9SVxjNT9R"
      }
    },
    {
      "cell_type": "markdown",
      "source": [
        "2 Slicing puede tener 3 parámetros, inicio, final y paso. Sin embargo, a menudo escribirá o leerá operaciones de corte con menos de 3 parámetros. En esta pregunta, debe volver a escribir todos los ejemplos en operaciones de corte con 3 parámetros. Después de haberlas reescrito, verifique si sus respuestas dan los mismos resultados"
      ],
      "metadata": {
        "id": "z0BMV4xFNUOF"
      }
    },
    {
      "cell_type": "code",
      "source": [
        "string_1 = 'abcde'\n",
        "print(string_1[1:3])\n",
        "print(string_1[-3:-2])\n",
        "\n",
        "print(string_1[:3])\n",
        "print(string_1[3:])\n",
        "print(string_1[:])\n",
        "\n",
        "print(string_1[-2:])\n",
        "print(string_1[:-2])\n",
        "\n",
        "print(string_1[::])\n",
        "print(string_1[::-1])\n",
        "\n",
        "print(string_1[:3:1])\n",
        "print(string_1[:3:-1])\n",
        "\n",
        "print(string_1[1::])\n",
        "print(string_1[:1:-1])"
      ],
      "metadata": {
        "colab": {
          "base_uri": "https://localhost:8080/"
        },
        "id": "v7qN87KpNSs4",
        "outputId": "6a62e549-5f25-4170-c748-b6083f40d10a"
      },
      "execution_count": null,
      "outputs": [
        {
          "output_type": "stream",
          "name": "stdout",
          "text": [
            "bc\n",
            "c\n",
            "abc\n",
            "de\n",
            "abcde\n",
            "de\n",
            "abc\n",
            "abcde\n",
            "edcba\n",
            "abc\n",
            "e\n",
            "bcde\n",
            "edc\n"
          ]
        }
      ]
    },
    {
      "cell_type": "code",
      "source": [
        "string_1 = 'abcde'\n",
        "print(string_1[1:3:])\n",
        "print(string_1[-3:-2:])\n",
        "\n",
        "print(string_1[:3:])\n",
        "print(string_1[3::])\n",
        "print(string_1[::])\n",
        "\n",
        "print(string_1[-2::])\n",
        "print(string_1[:-2:])\n",
        "\n",
        "print(string_1[::])\n",
        "print(string_1[::-1])\n",
        "\n",
        "print(string_1[:3:1])\n",
        "print(string_1[:3:-1])\n",
        "\n",
        "print(string_1[1::])\n",
        "print(string_1[:1:-1])"
      ],
      "metadata": {
        "colab": {
          "base_uri": "https://localhost:8080/"
        },
        "id": "-RUSdHFBv8MW",
        "outputId": "101e35b0-2520-4e04-9af3-d07e433ce620"
      },
      "execution_count": 14,
      "outputs": [
        {
          "output_type": "stream",
          "name": "stdout",
          "text": [
            "bc\n",
            "c\n",
            "abc\n",
            "de\n",
            "abcde\n",
            "de\n",
            "abc\n",
            "abcde\n",
            "edcba\n",
            "abc\n",
            "e\n",
            "bcde\n",
            "edc\n"
          ]
        }
      ]
    },
    {
      "cell_type": "code",
      "source": [
        "# Después de reescribir el código con los tres parámetros, inicio, paso y final, el resultado no se altera."
      ],
      "metadata": {
        "id": "CozM5U6IyP2Q"
      },
      "execution_count": null,
      "outputs": []
    },
    {
      "cell_type": "markdown",
      "source": [
        "*Ejercicio 3*"
      ],
      "metadata": {
        "id": "bAb0-nzgNukm"
      }
    },
    {
      "cell_type": "markdown",
      "source": [
        "3 Hemos construido un diccionario que se puede usar para encontrar el resultado si dos booleanos están conectados con el operador y\n",
        "\n",
        "Reescribe este diccionario para encontrar el resultado si dos booleanos están conectados con el operador\n",
        "\n",
        "Python no tiene un operador XOR, busque en Internet lo que se supone que debe hacer el operador XOR y cree un diccionario que proporcione el resultado de una operación XOR"
      ],
      "metadata": {
        "id": "b3ptAfJlN26h"
      }
    },
    {
      "cell_type": "code",
      "source": [
        "age = 40\n",
        "blood_type = 'A'\n",
        "my_and = {(True, True): True, (True, False): False, (False, True): False, (False, False): False }\n",
        "print(my_and[age < 70, blood_type == 'B'])"
      ],
      "metadata": {
        "colab": {
          "base_uri": "https://localhost:8080/"
        },
        "id": "2maLr7w1OKiw",
        "outputId": "3e7b6623-7199-4bfc-af79-79d5362e7e7f"
      },
      "execution_count": 1,
      "outputs": [
        {
          "output_type": "stream",
          "name": "stdout",
          "text": [
            "False\n"
          ]
        }
      ]
    },
    {
      "cell_type": "code",
      "source": [
        "age = 40\n",
        "blood_type = 'A'\n",
        "my_and = {(True, True): True, (True, False): True, (False, True): True, (False, False): False }\n",
        "print(my_and[age < 70,blood_type == 'B'])"
      ],
      "metadata": {
        "colab": {
          "base_uri": "https://localhost:8080/"
        },
        "id": "Udx6vJguyo-b",
        "outputId": "24a6ea60-7f92-43e9-b78e-b63eebb7cf6f"
      },
      "execution_count": 34,
      "outputs": [
        {
          "output_type": "stream",
          "name": "stdout",
          "text": [
            "True\n"
          ]
        }
      ]
    },
    {
      "cell_type": "code",
      "source": [
        "# El comando original es un comando lógico para el conector AND (&), sin embargo la modificación del comando representa como funciona el programa cuando la condición sea OR (|)."
      ],
      "metadata": {
        "id": "xjRBAr7w618H"
      },
      "execution_count": null,
      "outputs": []
    },
    {
      "cell_type": "markdown",
      "source": [
        "*Ejercicio 4*"
      ],
      "metadata": {
        "id": "nr6MCV8sNusj"
      }
    },
    {
      "cell_type": "markdown",
      "source": [
        "4 En 'Las listas pueden contener listas y así formar tablas de múltiples dimensiones' se les mostro una secuencia ganadora en tres en raya. Como es muy importante para el análisis de datos y la visualización de datos que se sienta cómodo trabajando con tablas poli-dimensionales, le pedimos que reescriba la secuencia con un segundo jugador más inteligente (o un jugador que aprendió el juego de memoria) donde el juego termina en un empate."
      ],
      "metadata": {
        "id": "lttehbKSOLy1"
      }
    },
    {
      "cell_type": "code",
      "source": [
        "tic_tac_toe_board = [[' ', ' ', ' '], [' ', ' ', ' '], [' ', ' ', ' ']]\n",
        "print(tic_tac_toe_board[0]) \n",
        "print(tic_tac_toe_board[1]) \n",
        "print(tic_tac_toe_board[2])\n",
        "print() \n",
        "tic_tac_toe_board[1][1] = 'X'\n",
        "print(tic_tac_toe_board[0]) \n",
        "print(tic_tac_toe_board[1]) \n",
        "print(tic_tac_toe_board[2])\n",
        "print() \n",
        "tic_tac_toe_board[1][2] = 'O'\n",
        "print(tic_tac_toe_board[0]) \n",
        "print(tic_tac_toe_board[1]) \n",
        "print(tic_tac_toe_board[2])\n",
        "print()\n",
        "tic_tac_toe_board[0][2] = 'X'\n",
        "print(tic_tac_toe_board[0]) \n",
        "print(tic_tac_toe_board[1]) \n",
        "print(tic_tac_toe_board[2])\n",
        "print()\n",
        "tic_tac_toe_board[2][0] = 'O'\n",
        "print(tic_tac_toe_board[0]) \n",
        "print(tic_tac_toe_board[1]) \n",
        "print(tic_tac_toe_board[2])\n",
        "print()\n",
        "tic_tac_toe_board[0][0] = 'X'\n",
        "print(tic_tac_toe_board[0]) \n",
        "print(tic_tac_toe_board[1]) \n",
        "print(tic_tac_toe_board[2])\n",
        "print()# And the next move X wins independent what player O plays"
      ],
      "metadata": {
        "colab": {
          "base_uri": "https://localhost:8080/"
        },
        "id": "YbUdfHjAOTKx",
        "outputId": "6d5ca469-71eb-41f7-8696-fe6c9c7e2b02"
      },
      "execution_count": null,
      "outputs": [
        {
          "output_type": "stream",
          "name": "stdout",
          "text": [
            "[' ', ' ', ' ']\n",
            "[' ', ' ', ' ']\n",
            "[' ', ' ', ' ']\n",
            "\n",
            "[' ', ' ', ' ']\n",
            "[' ', 'X', ' ']\n",
            "[' ', ' ', ' ']\n",
            "\n",
            "[' ', ' ', ' ']\n",
            "[' ', 'X', 'O']\n",
            "[' ', ' ', ' ']\n",
            "\n",
            "[' ', ' ', 'X']\n",
            "[' ', 'X', 'O']\n",
            "[' ', ' ', ' ']\n",
            "\n",
            "[' ', ' ', 'X']\n",
            "[' ', 'X', 'O']\n",
            "['O', ' ', ' ']\n",
            "\n",
            "['X', ' ', 'X']\n",
            "[' ', 'X', 'O']\n",
            "['O', ' ', ' ']\n",
            "\n"
          ]
        }
      ]
    },
    {
      "cell_type": "code",
      "source": [
        "tic_tac_toe_board = [[' ', ' ', ' '], [' ', ' ', ' '], [' ', ' ', ' ']]\n",
        "print(tic_tac_toe_board[0]) \n",
        "print(tic_tac_toe_board[1]) \n",
        "print(tic_tac_toe_board[2])\n",
        "print() \n",
        "\n",
        "# Primer Movimiento\n",
        "\n",
        "tic_tac_toe_board[0][1] = 'X'\n",
        "print(tic_tac_toe_board[0]) \n",
        "print(tic_tac_toe_board[1]) \n",
        "print(tic_tac_toe_board[2])\n",
        "print() \n",
        "\n",
        "# Segundo Movimiento\n",
        "\n",
        "tic_tac_toe_board[1][1] = 'O'\n",
        "print(tic_tac_toe_board[0]) \n",
        "print(tic_tac_toe_board[1]) \n",
        "print(tic_tac_toe_board[2])\n",
        "print()\n",
        "\n",
        "# Tercer Movimiento\n",
        "\n",
        "tic_tac_toe_board[0][2] = 'X'\n",
        "print(tic_tac_toe_board[0]) \n",
        "print(tic_tac_toe_board[1]) \n",
        "print(tic_tac_toe_board[2])\n",
        "print()\n",
        "\n",
        "# Cuarto Movimiento\n",
        "\n",
        "tic_tac_toe_board[0][0] = 'O'\n",
        "print(tic_tac_toe_board[0]) \n",
        "print(tic_tac_toe_board[1]) \n",
        "print(tic_tac_toe_board[2])\n",
        "print()\n",
        "\n",
        "# Quinto Movimiento\n",
        "\n",
        "tic_tac_toe_board[2][2] = 'X'\n",
        "print(tic_tac_toe_board[0]) \n",
        "print(tic_tac_toe_board[1]) \n",
        "print(tic_tac_toe_board[2])\n",
        "print()\n",
        "\n",
        "# Sexto Movimiento\n",
        "\n",
        "tic_tac_toe_board[1][2] = 'O'\n",
        "print(tic_tac_toe_board[0]) \n",
        "print(tic_tac_toe_board[1]) \n",
        "print(tic_tac_toe_board[2])\n",
        "print()\n",
        "\n",
        "# Séptimo Movimiento\n",
        "\n",
        "tic_tac_toe_board[1][0] = 'X'\n",
        "print(tic_tac_toe_board[0]) \n",
        "print(tic_tac_toe_board[1]) \n",
        "print(tic_tac_toe_board[2])\n",
        "print()\n",
        "\n",
        "# Octavo Movimiento\n",
        "\n",
        "tic_tac_toe_board[2][0] = 'O'\n",
        "print(tic_tac_toe_board[0]) \n",
        "print(tic_tac_toe_board[1]) \n",
        "print(tic_tac_toe_board[2])\n",
        "print()\n",
        "\n",
        "# Noveno Movimiento\n",
        "\n",
        "tic_tac_toe_board[2][1] = 'X'\n",
        "print(tic_tac_toe_board[0]) \n",
        "print(tic_tac_toe_board[1]) \n",
        "print(tic_tac_toe_board[2])\n",
        "print()"
      ],
      "metadata": {
        "colab": {
          "base_uri": "https://localhost:8080/"
        },
        "id": "ooiejRk4zuSK",
        "outputId": "64514c1c-0b41-43a3-dd9d-f6e63ad91d05"
      },
      "execution_count": 29,
      "outputs": [
        {
          "output_type": "stream",
          "name": "stdout",
          "text": [
            "[' ', ' ', ' ']\n",
            "[' ', ' ', ' ']\n",
            "[' ', ' ', ' ']\n",
            "\n",
            "[' ', 'X', ' ']\n",
            "[' ', ' ', ' ']\n",
            "[' ', ' ', ' ']\n",
            "\n",
            "[' ', 'X', ' ']\n",
            "[' ', 'O', ' ']\n",
            "[' ', ' ', ' ']\n",
            "\n",
            "[' ', 'X', 'X']\n",
            "[' ', 'O', ' ']\n",
            "[' ', ' ', ' ']\n",
            "\n",
            "['O', 'X', 'X']\n",
            "[' ', 'O', ' ']\n",
            "[' ', ' ', ' ']\n",
            "\n",
            "['O', 'X', 'X']\n",
            "[' ', 'O', ' ']\n",
            "[' ', ' ', 'X']\n",
            "\n",
            "['O', 'X', 'X']\n",
            "[' ', 'O', 'O']\n",
            "[' ', ' ', 'X']\n",
            "\n",
            "['O', 'X', 'X']\n",
            "['X', 'O', 'O']\n",
            "[' ', ' ', 'X']\n",
            "\n",
            "['O', 'X', 'X']\n",
            "['X', 'O', 'O']\n",
            "['O', ' ', 'X']\n",
            "\n",
            "['O', 'X', 'X']\n",
            "['X', 'O', 'O']\n",
            "['O', 'X', 'X']\n",
            "\n"
          ]
        }
      ]
    },
    {
      "cell_type": "markdown",
      "source": [
        "*Ejercicio 5*"
      ],
      "metadata": {
        "id": "VqI1-lLNNztQ"
      }
    },
    {
      "cell_type": "markdown",
      "source": [
        "5 Ejecute el siguiente programa, vea si puede encontrar algo extraño y explique el resultado usando su conocimiento de recolección de basura."
      ],
      "metadata": {
        "id": "gvcNbdkrOYBi"
      }
    },
    {
      "cell_type": "code",
      "source": [
        "list_5 = [1, 2, 3]\n",
        "print(f\"The value of the list refered to by list_5 is {list_5} and its address is {id(list_5)}\")\n",
        "list_5 = [1 , 1, 3]\n",
        "print(f\"The value of the list refered to by list_5 is {list_5} and its address is {id(list_5)}\")\n",
        "list_5 = [1, 1, 4]\n",
        "print(f\"The value of the list refered to by list_5 is {list_5} and its address is {id(list_5)}\")"
      ],
      "metadata": {
        "colab": {
          "base_uri": "https://localhost:8080/"
        },
        "id": "WA3OOuCaOdLL",
        "outputId": "b558aee0-0d78-4617-ebba-d581374f4f92"
      },
      "execution_count": null,
      "outputs": [
        {
          "output_type": "stream",
          "name": "stdout",
          "text": [
            "The value of the list refered to by list_5 is [1, 2, 3] and its address is 139873510115680\n",
            "The value of the list refered to by list_5 is [1, 1, 3] and its address is 139873411084528\n",
            "The value of the list refered to by list_5 is [1, 1, 4] and its address is 139873510115680\n"
          ]
        }
      ]
    },
    {
      "cell_type": "code",
      "source": [
        "# La primera lista list_5 = [1, 2, 3] y segúnda lista list_5 = [1, 1, 4], tienen el mismo id pero no contienen los mismos elementos."
      ],
      "metadata": {
        "id": "f8gk1S7xwrtS"
      },
      "execution_count": null,
      "outputs": []
    },
    {
      "cell_type": "markdown",
      "source": [
        "*Ejercicio 6*"
      ],
      "metadata": {
        "id": "WCN9PEqsN0-e"
      }
    },
    {
      "cell_type": "markdown",
      "source": [
        "6 Las cadenas son inmutables, pero ¿por qué funciona lo siguiente? ¿Claramente cambiamos el valor de la cadena llamada string_1? ¿Qué afirmaciones agregaría para aclarar lo que ha sucedido? usar id"
      ],
      "metadata": {
        "id": "5yX6PoQHOh-_"
      }
    },
    {
      "cell_type": "code",
      "source": [
        "string_1 = \"text 1\"\n",
        "print(string_1)\n",
        "string_1 = \"text 2\"\n",
        "print(string_1)"
      ],
      "metadata": {
        "colab": {
          "base_uri": "https://localhost:8080/"
        },
        "id": "1BVc1Ru4OpoN",
        "outputId": "6bfa059b-56a6-4015-9530-631c37686e43"
      },
      "execution_count": null,
      "outputs": [
        {
          "output_type": "stream",
          "name": "stdout",
          "text": [
            "text 1\n",
            "text 2\n"
          ]
        }
      ]
    },
    {
      "cell_type": "code",
      "source": [
        "string_1 = \"text 1\"\n",
        "print(id(string_1))\n",
        "string_1 = \"text 2\"\n",
        "print(id(string_1))"
      ],
      "metadata": {
        "colab": {
          "base_uri": "https://localhost:8080/"
        },
        "id": "QkYWfXM9xTd2",
        "outputId": "493b3318-d373-4a76-8f53-f23402689c58"
      },
      "execution_count": 10,
      "outputs": [
        {
          "output_type": "stream",
          "name": "stdout",
          "text": [
            "139859211015216\n",
            "139859211016688\n"
          ]
        }
      ]
    },
    {
      "cell_type": "code",
      "source": [
        "# El nombre de los objetos es el mismo pero no continen el mismo id y sus elementos son diferentes."
      ],
      "metadata": {
        "id": "tb_xxE5wxgJm"
      },
      "execution_count": null,
      "outputs": []
    }
  ]
}