{
  "nbformat": 4,
  "nbformat_minor": 0,
  "metadata": {
    "colab": {
      "name": "clase1_Preguntas Carolay Borja.ipynb",
      "provenance": [],
      "collapsed_sections": []
    },
    "kernelspec": {
      "name": "python3",
      "display_name": "Python 3"
    },
    "language_info": {
      "name": "python"
    }
  },
  "cells": [
    {
      "cell_type": "markdown",
      "source": [
        "# Universidad Central del Ecuador\n",
        "# Facultad de Ciencias Económicas\n",
        "**Curso de Python**\n",
        "\n",
        "**Nombre:** \n",
        "\n",
        "*Borja Vargas Carolay Ibeth*\n",
        "\n",
        "**Ejercicios Clase 1**\n",
        "\n",
        "*EJERCICIO 1*"
      ],
      "metadata": {
        "id": "GnQz6jaSSsKe"
      }
    },
    {
      "cell_type": "markdown",
      "source": [
        "**1 Suponga que tiene una lista [1, 2, 3, 2, 1] y desea crear una nueva lista sin números dobles, después de resolver este problema, intente reescribirla como una sola línea.**\n",
        "\n",
        "*Un one liner en programación es un programa existente de una sola línea. Si no logras escribir una sola línea, no te preocupes. el codigo one liner es a menudo difícile de leer y, como hemos aprendido esta semana: los lenguajes de programación están destinados a ser legibles para las personas. Así que no te preocupes si estás usando demasiado código para resolver un problema, debes preguntarte: ¿yo o alguien más entenderá esto dentro de 3 años?*"
      ],
      "metadata": {
        "id": "rFU6c1yRTKHM"
      }
    },
    {
      "cell_type": "code",
      "source": [
        "# Creación lista:\n",
        "lista=[1,2,3,2,1]\n",
        "print(lista)"
      ],
      "metadata": {
        "colab": {
          "base_uri": "https://localhost:8080/"
        },
        "id": "FoKytXePTZq-",
        "outputId": "e852c1da-900a-45b0-f8b4-2495faa4d10e"
      },
      "execution_count": null,
      "outputs": [
        {
          "output_type": "stream",
          "name": "stdout",
          "text": [
            "[1, 2, 3, 2, 1]\n"
          ]
        }
      ]
    },
    {
      "cell_type": "code",
      "source": [
        "rep=set(lista) # Elimina los valores repetidos\n",
        "ord=sorted(rep) # Ordena la lista de forma ascendente\n",
        "print(ord) # Define los valores únicos"
      ],
      "metadata": {
        "colab": {
          "base_uri": "https://localhost:8080/"
        },
        "id": "hs4wTjWET_qD",
        "outputId": "7f993cb9-f259-4d7e-b79b-cc476d9a35a1"
      },
      "execution_count": null,
      "outputs": [
        {
          "output_type": "stream",
          "name": "stdout",
          "text": [
            "[1, 2, 3]\n"
          ]
        }
      ]
    },
    {
      "cell_type": "markdown",
      "source": [
        "*EJERCICIO 2*"
      ],
      "metadata": {
        "id": "jMhize0lVBFR"
      }
    },
    {
      "cell_type": "markdown",
      "source": [
        "**2 Slicing puede tener 3 parámetros, inicio, final y paso. Sin embargo, a menudo escribirá o leerá operaciones de corte con menos de 3 parámetros.**\n",
        "\n",
        "*En esta pregunta, debe volver a escribir todos los ejemplos en operaciones de corte con 3 parámetros. Después de haberlas reescrito, verifique si sus respuestas dan los mismos resultados*"
      ],
      "metadata": {
        "id": "7GF97UHaVJyw"
      }
    },
    {
      "cell_type": "code",
      "source": [
        "#  Usando Slicing básico: inicio y fin\n",
        "string_1 = 'comer'\n",
        "print(string_1[1:3])\n",
        "print(string_1[-3:-2])\n",
        "\n",
        "print(string_1[:3])\n",
        "print(string_1[3:])\n",
        "print(string_1[:])\n",
        "\n",
        "print(string_1[-2:])\n",
        "print(string_1[:-2])\n",
        "\n",
        "print(string_1[::])\n",
        "print(string_1[::-1])\n",
        "\n",
        "print(string_1[:3:1])\n",
        "print(string_1[:3:-1])\n",
        "\n",
        "print(string_1[1::])\n",
        "print(string_1[:1:-1])"
      ],
      "metadata": {
        "colab": {
          "base_uri": "https://localhost:8080/"
        },
        "id": "bG9dXQJBU56T",
        "outputId": "449bce62-f2ca-4890-9a6c-0ecb7db67de3"
      },
      "execution_count": null,
      "outputs": [
        {
          "output_type": "stream",
          "name": "stdout",
          "text": [
            "om\n",
            "m\n",
            "com\n",
            "er\n",
            "comer\n",
            "er\n",
            "com\n",
            "comer\n",
            "remoc\n",
            "com\n",
            "r\n",
            "omer\n",
            "rem\n"
          ]
        }
      ]
    },
    {
      "cell_type": "code",
      "source": [
        "# Usando Slicing básico: inicio, fin y paso\n",
        "string_1 = 'comer'\n",
        "print(string_1[1:3:])\n",
        "print(string_1[-3:-2:])\n",
        "\n",
        "print(string_1[:3:])\n",
        "print(string_1[3::])\n",
        "print(string_1[::])\n",
        "\n",
        "print(string_1[-2::])\n",
        "print(string_1[:-2:])\n",
        "\n",
        "print(string_1[::])\n",
        "print(string_1[::-1])\n",
        "\n",
        "print(string_1[:3:])\n",
        "print(string_1[:3:-1])\n",
        "\n",
        "print(string_1[1::])\n",
        "print(string_1[:1:-1])"
      ],
      "metadata": {
        "colab": {
          "base_uri": "https://localhost:8080/"
        },
        "id": "BIicMVpEWoXx",
        "outputId": "2ff87fa2-cb98-4fe7-c3b3-bd7e6a2e61c4"
      },
      "execution_count": null,
      "outputs": [
        {
          "output_type": "stream",
          "name": "stdout",
          "text": [
            "om\n",
            "m\n",
            "com\n",
            "er\n",
            "comer\n",
            "er\n",
            "com\n",
            "comer\n",
            "remoc\n",
            "com\n",
            "r\n",
            "omer\n",
            "rem\n"
          ]
        }
      ]
    },
    {
      "cell_type": "markdown",
      "source": [
        "**No cambia la respuesta si usamos slicing básico: inicio y fin o el Usando Slicing de inicio,fin y paso**"
      ],
      "metadata": {
        "id": "rZiSqtQGW3IL"
      }
    },
    {
      "cell_type": "markdown",
      "source": [
        "EJERCICIO 3"
      ],
      "metadata": {
        "id": "uLZnI5b_Xq4L"
      }
    },
    {
      "cell_type": "markdown",
      "source": [
        "**3 Hemos construido un diccionario que se puede usar para encontrar el resultado si dos booleanos están conectados con el operador y Reescribe este diccionario para encontrar el resultado si dos booleanos están conectados con el operador**\n",
        "\n",
        "*Python no tiene un operador XOR, busque en Internet lo que se supone que debe hacer el operador XOR y cree un diccionario que proporcione el resultado de una operación XOR*"
      ],
      "metadata": {
        "id": "I3yaWuabXtmm"
      }
    },
    {
      "cell_type": "code",
      "source": [
        "age = 40\n",
        "blood_type = 'A'\n",
        "my_and = {(True, True): True, (True, False): False, (False, True): False, (False, False): False }\n",
        "print(my_and[age < 70, blood_type == 'B'])"
      ],
      "metadata": {
        "colab": {
          "base_uri": "https://localhost:8080/"
        },
        "id": "Tz6cs5ANX2SM",
        "outputId": "878e9f31-0d2b-4957-833d-117d0a50cbf4"
      },
      "execution_count": null,
      "outputs": [
        {
          "output_type": "stream",
          "name": "stdout",
          "text": [
            "False\n"
          ]
        }
      ]
    },
    {
      "cell_type": "code",
      "source": [
        "age = 40\n",
        "blood_type = 'A'\n",
        "my_and = {(True, True): True, (True, False): True, (False, True): True, (False, False): False }\n",
        "print(my_and[age < 70,blood_type == 'B'])"
      ],
      "metadata": {
        "colab": {
          "base_uri": "https://localhost:8080/"
        },
        "id": "mczXZ8HYYDO-",
        "outputId": "16696c6f-6a45-49cd-d58e-fc7a00da58e1"
      },
      "execution_count": null,
      "outputs": [
        {
          "output_type": "stream",
          "name": "stdout",
          "text": [
            "True\n"
          ]
        }
      ]
    },
    {
      "cell_type": "markdown",
      "source": [
        "En el primer resulatado se utiliza AND en el segundo al cambiar por  or deberia resultar verdadero"
      ],
      "metadata": {
        "id": "yGzerGWRYXFF"
      }
    },
    {
      "cell_type": "markdown",
      "source": [
        "*EJERCICIO 4*"
      ],
      "metadata": {
        "id": "tkBf4JcHclyD"
      }
    },
    {
      "cell_type": "markdown",
      "source": [
        "**4 En 'Las listas pueden contener listas y así formar tablas de múltiples dimensiones' se les mostro una secuencia ganadora en tres en raya. Como es muy importante para el análisis de datos y la visualización de datos que se sienta cómodo trabajando con tablas poli-dimensionales**\n",
        "\n",
        "*Le pedimos que reescriba la secuencia con un segundo jugador más inteligente (o un jugador que aprendió el juego de memoria) donde el juego termina en un empate.*"
      ],
      "metadata": {
        "id": "XtXll6KucqcS"
      }
    },
    {
      "cell_type": "code",
      "source": [
        "# Hay un ganador\n",
        "tic_tac_toe_board = [[' ', ' ', ' '], [' ', ' ', ' '], [' ', ' ', ' ']]\n",
        "\n",
        "# Inicio del Juego\n",
        "print(tic_tac_toe_board[0]) \n",
        "print(tic_tac_toe_board[1]) \n",
        "print(tic_tac_toe_board[2])\n",
        "print() \n",
        "\n",
        "# Primer movimiento.\n",
        "tic_tac_toe_board[1][1] = 'X'\n",
        "print(tic_tac_toe_board[0]) \n",
        "print(tic_tac_toe_board[1]) \n",
        "print(tic_tac_toe_board[2])\n",
        "print() \n",
        "\n",
        "# Segundo movimiento.\n",
        "tic_tac_toe_board[1][2] = 'O'\n",
        "print(tic_tac_toe_board[0]) \n",
        "print(tic_tac_toe_board[1]) \n",
        "print(tic_tac_toe_board[2])\n",
        "print()\n",
        "\n",
        "# Tercer movimiento.\n",
        "tic_tac_toe_board[0][2] = 'X'\n",
        "print(tic_tac_toe_board[0]) \n",
        "print(tic_tac_toe_board[1]) \n",
        "print(tic_tac_toe_board[2])\n",
        "print()\n",
        "\n",
        "# Cuarto movimiento.\n",
        "tic_tac_toe_board[2][0] = 'O'\n",
        "print(tic_tac_toe_board[0]) \n",
        "print(tic_tac_toe_board[1]) \n",
        "print(tic_tac_toe_board[2])\n",
        "print()\n",
        "\n",
        "# Quinto movimiento.\n",
        "tic_tac_toe_board[0][0] = 'X'\n",
        "print(tic_tac_toe_board[0]) \n",
        "print(tic_tac_toe_board[1]) \n",
        "print(tic_tac_toe_board[2])\n",
        "print() # And the next move X wins independent what player O plays\n",
        "\n",
        "# Sexto movimiento.\n",
        "tic_tac_toe_board[2][2] = 'O'\n",
        "print(tic_tac_toe_board[0]) \n",
        "print(tic_tac_toe_board[1]) \n",
        "print(tic_tac_toe_board[2])\n",
        "print()\n",
        "\n",
        "# Septimo movimiento.\n",
        "tic_tac_toe_board[0][1] = 'X'\n",
        "print(tic_tac_toe_board[0]) \n",
        "print(tic_tac_toe_board[1]) \n",
        "print(tic_tac_toe_board[2])\n",
        "print()\n"
      ],
      "metadata": {
        "colab": {
          "base_uri": "https://localhost:8080/"
        },
        "id": "QreNn3incpv4",
        "outputId": "49f60a6a-9d8d-413f-afb6-928402c7c8a7"
      },
      "execution_count": null,
      "outputs": [
        {
          "output_type": "stream",
          "name": "stdout",
          "text": [
            "[' ', ' ', ' ']\n",
            "[' ', ' ', ' ']\n",
            "[' ', ' ', ' ']\n",
            "\n",
            "[' ', ' ', ' ']\n",
            "[' ', 'X', ' ']\n",
            "[' ', ' ', ' ']\n",
            "\n",
            "[' ', ' ', ' ']\n",
            "[' ', 'X', 'O']\n",
            "[' ', ' ', ' ']\n",
            "\n",
            "[' ', ' ', 'X']\n",
            "[' ', 'X', 'O']\n",
            "[' ', ' ', ' ']\n",
            "\n",
            "[' ', ' ', 'X']\n",
            "[' ', 'X', 'O']\n",
            "['O', ' ', ' ']\n",
            "\n",
            "['X', ' ', 'X']\n",
            "[' ', 'X', 'O']\n",
            "['O', ' ', ' ']\n",
            "\n",
            "['X', ' ', 'X']\n",
            "[' ', 'X', 'O']\n",
            "['O', ' ', 'O']\n",
            "\n",
            "['X', 'X', 'X']\n",
            "[' ', 'X', 'O']\n",
            "['O', ' ', 'O']\n",
            "\n"
          ]
        }
      ]
    },
    {
      "cell_type": "code",
      "source": [
        "# Quedan los jugadores empates\n",
        "tic_tac_toe_board = [[' ', ' ', ' '], [' ', ' ', ' '], [' ', ' ', ' ']]\n",
        "\n",
        "# Inicio del Juego\n",
        "print(tic_tac_toe_board[0]) \n",
        "print(tic_tac_toe_board[1]) \n",
        "print(tic_tac_toe_board[2])\n",
        "print() \n",
        "\n",
        "# Primer movimiento\n",
        "\n",
        "tic_tac_toe_board[1][1] = 'X'\n",
        "print(tic_tac_toe_board[0]) \n",
        "print(tic_tac_toe_board[1]) \n",
        "print(tic_tac_toe_board[2])\n",
        "print() \n",
        "\n",
        "# Segundo movimiento.\n",
        "\n",
        "tic_tac_toe_board[2][2] = 'O'\n",
        "print(tic_tac_toe_board[0]) \n",
        "print(tic_tac_toe_board[1]) \n",
        "print(tic_tac_toe_board[2])\n",
        "print()\n",
        "\n",
        "# Tercer movimiento.\n",
        "\n",
        "tic_tac_toe_board[0][0] = 'X'\n",
        "print(tic_tac_toe_board[0]) \n",
        "print(tic_tac_toe_board[1]) \n",
        "print(tic_tac_toe_board[2])\n",
        "print()\n",
        "\n",
        "# Cuarto movimiento.\n",
        "\n",
        "tic_tac_toe_board[1][0] = 'O'\n",
        "print(tic_tac_toe_board[0]) \n",
        "print(tic_tac_toe_board[1]) \n",
        "print(tic_tac_toe_board[2])\n",
        "print()\n",
        "\n",
        "# Quinto movimiento.\n",
        "\n",
        "tic_tac_toe_board[2][0] = 'X'\n",
        "print(tic_tac_toe_board[0]) \n",
        "print(tic_tac_toe_board[1]) \n",
        "print(tic_tac_toe_board[2])\n",
        "print()\n",
        "\n",
        "# Sexto movimiento.\n",
        "\n",
        "tic_tac_toe_board[2][1] = 'O'\n",
        "print(tic_tac_toe_board[0]) \n",
        "print(tic_tac_toe_board[1]) \n",
        "print(tic_tac_toe_board[2])\n",
        "print()\n",
        "\n",
        "# Septimo movimiento.\n",
        "\n",
        "tic_tac_toe_board[1][2] = 'X'\n",
        "print(tic_tac_toe_board[0]) \n",
        "print(tic_tac_toe_board[1]) \n",
        "print(tic_tac_toe_board[2])\n",
        "print()\n",
        "\n",
        "# Octavo movimiento.\n",
        "\n",
        "tic_tac_toe_board[0][2] = 'O'\n",
        "print(tic_tac_toe_board[0]) \n",
        "print(tic_tac_toe_board[1]) \n",
        "print(tic_tac_toe_board[2])\n",
        "print()\n",
        "\n",
        "# Noveno movimiento.\n",
        "\n",
        "tic_tac_toe_board[0][1] = 'X'\n",
        "print(tic_tac_toe_board[0]) \n",
        "print(tic_tac_toe_board[1]) \n",
        "print(tic_tac_toe_board[2])\n",
        "print()\n"
      ],
      "metadata": {
        "colab": {
          "base_uri": "https://localhost:8080/"
        },
        "id": "860NsxOidnUg",
        "outputId": "15675142-4a6b-4271-e8ca-34324491af64"
      },
      "execution_count": null,
      "outputs": [
        {
          "output_type": "stream",
          "name": "stdout",
          "text": [
            "[' ', ' ', ' ']\n",
            "[' ', ' ', ' ']\n",
            "[' ', ' ', ' ']\n",
            "\n",
            "[' ', ' ', ' ']\n",
            "[' ', 'X', ' ']\n",
            "[' ', ' ', ' ']\n",
            "\n",
            "[' ', ' ', ' ']\n",
            "[' ', 'X', ' ']\n",
            "[' ', ' ', 'O']\n",
            "\n",
            "['X', ' ', ' ']\n",
            "[' ', 'X', ' ']\n",
            "[' ', ' ', 'O']\n",
            "\n",
            "['X', ' ', ' ']\n",
            "['O', 'X', ' ']\n",
            "[' ', ' ', 'O']\n",
            "\n",
            "['X', ' ', ' ']\n",
            "['O', 'X', ' ']\n",
            "['X', ' ', 'O']\n",
            "\n",
            "['X', ' ', ' ']\n",
            "['O', 'X', ' ']\n",
            "['X', 'O', 'O']\n",
            "\n",
            "['X', ' ', ' ']\n",
            "['O', 'X', 'X']\n",
            "['X', 'O', 'O']\n",
            "\n",
            "['X', ' ', 'O']\n",
            "['O', 'X', 'X']\n",
            "['X', 'O', 'O']\n",
            "\n",
            "['X', 'X', 'O']\n",
            "['O', 'X', 'X']\n",
            "['X', 'O', 'O']\n",
            "\n"
          ]
        }
      ]
    },
    {
      "cell_type": "markdown",
      "source": [
        "*EJERCICIO 5*"
      ],
      "metadata": {
        "id": "6Vl9WrTWiWZs"
      }
    },
    {
      "cell_type": "markdown",
      "source": [
        "**5 Ejecute el siguiente programa, vea si puede encontrar algo extraño y explique el resultado usando su conocimiento de recolección de basura**"
      ],
      "metadata": {
        "id": "WuVx_p2Licma"
      }
    },
    {
      "cell_type": "code",
      "source": [
        "list_5 = [1, 2, 3]\n",
        "print(f\"The value of the list refered to by list_5 is {list_5} and its address is {id(list_5)}\")\n",
        "list_5 = [1 , 1, 3]\n",
        "print(f\"The value of the list refered to by list_5 is {list_5} and its address is {id(list_5)}\")\n",
        "list_5 = [1, 1, 4]\n",
        "print(f\"The value of the list refered to by list_5 is {list_5} and its address is {id(list_5)}\")"
      ],
      "metadata": {
        "colab": {
          "base_uri": "https://localhost:8080/"
        },
        "id": "RPL9Wkl0ihtN",
        "outputId": "1ffd7450-7861-4b5b-85ed-081227801e1a"
      },
      "execution_count": null,
      "outputs": [
        {
          "output_type": "stream",
          "name": "stdout",
          "text": [
            "The value of the list refered to by list_5 is [1, 2, 3] and its address is 139807196976304\n",
            "The value of the list refered to by list_5 is [1, 1, 3] and its address is 139807197057664\n",
            "The value of the list refered to by list_5 is [1, 1, 4] and its address is 139807196976304\n"
          ]
        }
      ]
    },
    {
      "cell_type": "markdown",
      "source": [
        "La lista_5=[1, 2, 3] tiene como id 139873510115680 y la list_5 = [1, 1, 4] su id es 139873510115680 que son los mismos"
      ],
      "metadata": {
        "id": "yakCqzVCjG9L"
      }
    },
    {
      "cell_type": "markdown",
      "source": [
        "*EJERCICIO 6*"
      ],
      "metadata": {
        "id": "B63Lzq01juBB"
      }
    },
    {
      "cell_type": "markdown",
      "source": [
        "**6 Las cadenas son inmutables, pero ¿por qué funciona lo siguiente? ¿Claramente cambiamos el valor de la cadena llamada string_1? ¿Qué afirmaciones agregaría para aclarar lo que ha sucedido? usar id**"
      ],
      "metadata": {
        "id": "KbMj4cARj2cO"
      }
    },
    {
      "cell_type": "code",
      "source": [
        "string_1 = \"text 1\"\n",
        "print(string_1)\n",
        "string_1 = \"text 2\"\n",
        "print(string_1)"
      ],
      "metadata": {
        "colab": {
          "base_uri": "https://localhost:8080/"
        },
        "id": "F2ajEFrNj8J1",
        "outputId": "8410c4e3-b8f5-4319-bd17-bb5508088a08"
      },
      "execution_count": null,
      "outputs": [
        {
          "output_type": "stream",
          "name": "stdout",
          "text": [
            "text 1\n",
            "text 2\n"
          ]
        }
      ]
    },
    {
      "cell_type": "code",
      "source": [
        "string_1 = \"text 1\"\n",
        "print(id(string_1))\n",
        "string_1 = \"text 2\"\n",
        "print(id(string_1))"
      ],
      "metadata": {
        "colab": {
          "base_uri": "https://localhost:8080/"
        },
        "id": "O_Hoxl4Bj-33",
        "outputId": "a143664d-5d8d-4605-c7e5-006fc66f49b7"
      },
      "execution_count": null,
      "outputs": [
        {
          "output_type": "stream",
          "name": "stdout",
          "text": [
            "139807197355696\n",
            "139807197026864\n"
          ]
        }
      ]
    },
    {
      "cell_type": "markdown",
      "source": [
        "Se generan id diferente a pesar de que el nombre es el mismo"
      ],
      "metadata": {
        "id": "v2DJtDEIkNP3"
      }
    }
  ]
}