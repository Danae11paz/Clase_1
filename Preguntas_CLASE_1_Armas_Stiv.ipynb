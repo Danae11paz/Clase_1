{
  "nbformat": 4,
  "nbformat_minor": 0,
  "metadata": {
    "colab": {
      "name": "Preguntas_CLASE 1 Py",
      "provenance": [],
      "collapsed_sections": []
    },
    "kernelspec": {
      "name": "python3",
      "display_name": "Python 3"
    },
    "language_info": {
      "name": "python"
    }
  },
  "cells": [
    {
      "cell_type": "markdown",
      "source": [
        "# **UNIVERSIDAD CENTRAL DEL ECUADOR**\n",
        "#  **FACULTAD DE CIENCIAS ECONOMICAS**\n",
        "## **Curso de Phyton**\n",
        "\n",
        "\n"
      ],
      "metadata": {
        "id": "ZE9Jv3m-_yJV"
      }
    },
    {
      "cell_type": "markdown",
      "source": [
        "## Stiv Alexis Armas Silva \n",
        "## Preguntas ***Clase 1***"
      ],
      "metadata": {
        "id": "JCKDmr2UApPk"
      }
    },
    {
      "cell_type": "markdown",
      "source": [
        "## 1 Suponga que tiene una lista [1, 2, 3, 2, 1] y desea crear una nueva lista sin números dobles, después de resolver este problema, intente reescribirla como una sola línea\n",
        "### Un one liner en programación es un programa existente de una sola línea. Si no logras escribir una sola línea, no te preocupes. el codigo one liner es a menudo difícile de leer y, como hemos aprendido esta semana: los lenguajes de programación están destinados a ser legibles para las personas. Así que no te preocupes si estás usando demasiado código para resolver un problema, debes preguntarte: ¿yo o alguien más entenderá esto dentro de 3 años"
      ],
      "metadata": {
        "id": "3SadGE1SA7vI"
      }
    },
    {
      "cell_type": "code",
      "source": [
        "# Creacion de la lista\n",
        "lista= [1, 2, 3, 2, 1]\n",
        "print(lista)"
      ],
      "metadata": {
        "colab": {
          "base_uri": "https://localhost:8080/"
        },
        "id": "UHLwTyz-BBeN",
        "outputId": "5e779748-44ac-4a68-8bf5-392e345780ec"
      },
      "execution_count": 1,
      "outputs": [
        {
          "output_type": "stream",
          "name": "stdout",
          "text": [
            "[1, 2, 3, 2, 1]\n"
          ]
        }
      ]
    },
    {
      "cell_type": "code",
      "source": [
        "# Imprimir los valores unicos de mi lista\n",
        "sorted(set(lista))"
      ],
      "metadata": {
        "colab": {
          "base_uri": "https://localhost:8080/"
        },
        "id": "ZGUBxSHmBBi1",
        "outputId": "0d23f820-da99-4b71-e3b1-9ff16afb8cf2"
      },
      "execution_count": 2,
      "outputs": [
        {
          "output_type": "execute_result",
          "data": {
            "text/plain": [
              "[1, 2, 3]"
            ]
          },
          "metadata": {},
          "execution_count": 2
        }
      ]
    },
    {
      "cell_type": "markdown",
      "source": [
        "## 2 Slicing puede tener 3 parámetros, inicio, final y paso. Sin embargo, a menudo escribirá o leerá operaciones de corte con menos de 3 parámetros. En esta pregunta, debe volver a escribir todos los ejemplos en operaciones de corte con 3 parámetros. Después de haberlas reescrito, verifique si sus respuestas dan los mismos resultados"
      ],
      "metadata": {
        "id": "P3EogvtwBKYe"
      }
    },
    {
      "cell_type": "code",
      "source": [
        "string_1 = 'abcde'\n",
        "print(string_1[1:3])\n",
        "print(string_1[-3:-2])\n",
        "\n",
        "print(string_1[:3])\n",
        "print(string_1[3:])\n",
        "print(string_1[:])\n",
        "\n",
        "print(string_1[-2:])\n",
        "print(string_1[:-2])\n",
        "\n",
        "print(string_1[::])\n",
        "print(string_1[::-1])\n",
        "\n",
        "print(string_1[:3:1])\n",
        "print(string_1[:3:-1])\n",
        "\n",
        "print(string_1[1::])\n",
        "print(string_1[:1:-1])"
      ],
      "metadata": {
        "colab": {
          "base_uri": "https://localhost:8080/"
        },
        "id": "uyEo0knaBOBY",
        "outputId": "cadf73ac-b8ed-4240-db1d-2c3b402e8952"
      },
      "execution_count": 10,
      "outputs": [
        {
          "output_type": "stream",
          "name": "stdout",
          "text": [
            "bc\n",
            "c\n",
            "abc\n",
            "de\n",
            "abcde\n",
            "de\n",
            "abc\n",
            "abcde\n",
            "edcba\n",
            "abc\n",
            "e\n",
            "bcde\n",
            "edc\n"
          ]
        }
      ]
    },
    {
      "cell_type": "code",
      "source": [
        "string_1 = 'abcde'\n",
        "print(string_1[1:3:])\n",
        "print(string_1[-3:-2:])\n",
        "\n",
        "print(string_1[:3:])\n",
        "print(string_1[3::])\n",
        "print(string_1[::])\n",
        "\n",
        "print(string_1[-2::])\n",
        "print(string_1[:-2:])\n",
        "\n",
        "print(string_1[::])\n",
        "print(string_1[::-1])\n",
        "\n",
        "print(string_1[:3:])\n",
        "print(string_1[:3:-1])\n",
        "\n",
        "print(string_1[1::])\n",
        "print(string_1[:1:-1])"
      ],
      "metadata": {
        "colab": {
          "base_uri": "https://localhost:8080/"
        },
        "id": "RCFj9gdlBOJl",
        "outputId": "bdcb515b-e5d3-45ac-eda7-0aedf9c83409"
      },
      "execution_count": 9,
      "outputs": [
        {
          "output_type": "stream",
          "name": "stdout",
          "text": [
            "bc\n",
            "c\n",
            "abc\n",
            "de\n",
            "abcde\n",
            "de\n",
            "abc\n",
            "abcde\n",
            "edcba\n",
            "abc\n",
            "e\n",
            "bcde\n",
            "edc\n"
          ]
        }
      ]
    },
    {
      "cell_type": "markdown",
      "source": [
        "Nota: Describimos los 3 parametros del codigo como es el incio, paso y final"
      ],
      "metadata": {
        "id": "u1Cr9De8BT16"
      }
    },
    {
      "cell_type": "markdown",
      "source": [
        "## 3 Hemos construido un diccionario que se puede usar para encontrar el resultado si dos booleanos están conectados con el operador y\n",
        "## Reescribe este diccionario para encontrar el resultado si dos booleanos están conectados con el operador o\n",
        "## Python no tiene un operador XOR, busque en Internet lo que se supone que debe hacer el operador XOR y cree un diccionario que proporcione el resultado de una operación XOR"
      ],
      "metadata": {
        "id": "Pw-HasEcBT8Z"
      }
    },
    {
      "cell_type": "code",
      "source": [
        "age = 40\n",
        "blood_type = 'A'\n",
        "my_and = {(True, True): True, (True, False): False, (False, True): False, (False, False): False }\n",
        "print(my_and[age < 70, blood_type == 'B'])"
      ],
      "metadata": {
        "colab": {
          "base_uri": "https://localhost:8080/"
        },
        "id": "nWi9b9gjBZSS",
        "outputId": "3c67b1a5-51e9-4006-e2d9-c8afd54b2810"
      },
      "execution_count": 7,
      "outputs": [
        {
          "output_type": "stream",
          "name": "stdout",
          "text": [
            "False\n"
          ]
        }
      ]
    },
    {
      "cell_type": "code",
      "source": [
        "age = 40\n",
        "blood_type = 'A'\n",
        "my_and = {(True, True): True, (True, False): True, (False, True): True, (False, False): False }\n",
        "print(my_and[age < 70, blood_type == 'B'])"
      ],
      "metadata": {
        "colab": {
          "base_uri": "https://localhost:8080/"
        },
        "id": "UK2eqODNBZVJ",
        "outputId": "f4b8890e-4534-4bdf-bdaf-b72fe80d0c5e"
      },
      "execution_count": 8,
      "outputs": [
        {
          "output_type": "stream",
          "name": "stdout",
          "text": [
            "True\n"
          ]
        }
      ]
    },
    {
      "cell_type": "markdown",
      "source": [
        "Nota: El primer espacio de codigo esta descrito para cuando se utiliza el conector and y en el segundo se espesifica la utilizacion del comando or"
      ],
      "metadata": {
        "id": "ICL7gJVEBZhS"
      }
    },
    {
      "cell_type": "markdown",
      "source": [
        "## 4 En 'Las listas pueden contener listas y así formar tablas de múltiples dimensiones' se les mostro una secuencia ganadora en tres en raya. Como es muy importante para el análisis de datos y la visualización de datos que se sienta cómodo trabajando con tablas poli-dimensionales, le pedimos que reescriba la secuencia con un segundo jugador más inteligente (o un jugador que aprendió el juego de memoria) donde el juego termina en un empate."
      ],
      "metadata": {
        "id": "E72eaXYwBgEh"
      }
    },
    {
      "cell_type": "code",
      "source": [
        "tic_tac_toe_board = [[' ', ' ', ' '], [' ', ' ', ' '], [' ', ' ', ' ']]\n",
        "print(tic_tac_toe_board[0]) \n",
        "print(tic_tac_toe_board[1]) \n",
        "print(tic_tac_toe_board[2])\n",
        "print() \n",
        "tic_tac_toe_board[1][1] = 'X'\n",
        "print(tic_tac_toe_board[0]) \n",
        "print(tic_tac_toe_board[1]) \n",
        "print(tic_tac_toe_board[2])\n",
        "print() \n",
        "tic_tac_toe_board[1][2] = 'O'\n",
        "print(tic_tac_toe_board[0]) \n",
        "print(tic_tac_toe_board[1]) \n",
        "print(tic_tac_toe_board[2])\n",
        "print()\n",
        "tic_tac_toe_board[0][2] = 'X'\n",
        "print(tic_tac_toe_board[0]) \n",
        "print(tic_tac_toe_board[1]) \n",
        "print(tic_tac_toe_board[2])\n",
        "print()\n",
        "tic_tac_toe_board[2][0] = 'O'\n",
        "print(tic_tac_toe_board[0]) \n",
        "print(tic_tac_toe_board[1]) \n",
        "print(tic_tac_toe_board[2])\n",
        "print()\n",
        "tic_tac_toe_board[0][0] = 'X'\n",
        "print(tic_tac_toe_board[0]) \n",
        "print(tic_tac_toe_board[1]) \n",
        "print(tic_tac_toe_board[2])\n",
        "print()# And the next move X wins independent what player O plays"
      ],
      "metadata": {
        "id": "MnE3kD4JBj9i"
      },
      "execution_count": null,
      "outputs": []
    },
    {
      "cell_type": "code",
      "source": [
        "tic_tac_toe_board = [[' ', ' ', ' '], [' ', ' ', ' '], [' ', ' ', ' ']]\n",
        "\n",
        "# Inicio del Juego\n",
        "print(tic_tac_toe_board[0]) \n",
        "print(tic_tac_toe_board[1]) \n",
        "print(tic_tac_toe_board[2])\n",
        "print() \n",
        "\n",
        "# Primer movimiento\n",
        "\n",
        "tic_tac_toe_board[0][1] = 'X'\n",
        "print(tic_tac_toe_board[0]) \n",
        "print(tic_tac_toe_board[1]) \n",
        "print(tic_tac_toe_board[2])\n",
        "print() \n",
        "\n",
        "# Segundo movimiento.\n",
        "\n",
        "tic_tac_toe_board[1][1] = 'O'\n",
        "print(tic_tac_toe_board[0]) \n",
        "print(tic_tac_toe_board[1]) \n",
        "print(tic_tac_toe_board[2])\n",
        "print()\n",
        "\n",
        "# Tercer movimiento.\n",
        "\n",
        "tic_tac_toe_board[0][2] = 'X'\n",
        "print(tic_tac_toe_board[0]) \n",
        "print(tic_tac_toe_board[1]) \n",
        "print(tic_tac_toe_board[2])\n",
        "print()\n",
        "\n",
        "# Cuarto movimiento.\n",
        "\n",
        "tic_tac_toe_board[0][0] = 'O'\n",
        "print(tic_tac_toe_board[0]) \n",
        "print(tic_tac_toe_board[1]) \n",
        "print(tic_tac_toe_board[2])\n",
        "print()\n",
        "\n",
        "# Quinto movimiento.\n",
        "\n",
        "tic_tac_toe_board[2][2] = 'X'\n",
        "print(tic_tac_toe_board[0]) \n",
        "print(tic_tac_toe_board[1]) \n",
        "print(tic_tac_toe_board[2])\n",
        "print()\n",
        "\n",
        "# Sexto movimiento.\n",
        "\n",
        "tic_tac_toe_board[1][2] = 'O'\n",
        "print(tic_tac_toe_board[0]) \n",
        "print(tic_tac_toe_board[1]) \n",
        "print(tic_tac_toe_board[2])\n",
        "print()\n",
        "\n",
        "# Septimo movimiento.\n",
        "\n",
        "tic_tac_toe_board[1][0] = 'X'\n",
        "print(tic_tac_toe_board[0]) \n",
        "print(tic_tac_toe_board[1]) \n",
        "print(tic_tac_toe_board[2])\n",
        "print()\n",
        "\n",
        "# Octavo movimiento.\n",
        "\n",
        "tic_tac_toe_board[2][0] = 'O'\n",
        "print(tic_tac_toe_board[0]) \n",
        "print(tic_tac_toe_board[1]) \n",
        "print(tic_tac_toe_board[2])\n",
        "print()\n",
        "\n",
        "# Noveno movimiento.\n",
        "\n",
        "tic_tac_toe_board[2][1] = 'X'\n",
        "print(tic_tac_toe_board[0]) \n",
        "print(tic_tac_toe_board[1]) \n",
        "print(tic_tac_toe_board[2])\n",
        "print()"
      ],
      "metadata": {
        "colab": {
          "base_uri": "https://localhost:8080/"
        },
        "id": "CBUVP1_VBkEA",
        "outputId": "85ffb5bf-9cf4-4c05-8bc9-3fd8afd03d94"
      },
      "execution_count": 6,
      "outputs": [
        {
          "output_type": "stream",
          "name": "stdout",
          "text": [
            "[' ', ' ', ' ']\n",
            "[' ', ' ', ' ']\n",
            "[' ', ' ', ' ']\n",
            "\n",
            "[' ', 'X', ' ']\n",
            "[' ', ' ', ' ']\n",
            "[' ', ' ', ' ']\n",
            "\n",
            "[' ', 'X', ' ']\n",
            "[' ', 'O', ' ']\n",
            "[' ', ' ', ' ']\n",
            "\n",
            "[' ', 'X', 'X']\n",
            "[' ', 'O', ' ']\n",
            "[' ', ' ', ' ']\n",
            "\n",
            "['O', 'X', 'X']\n",
            "[' ', 'O', ' ']\n",
            "[' ', ' ', ' ']\n",
            "\n",
            "['O', 'X', 'X']\n",
            "[' ', 'O', ' ']\n",
            "[' ', ' ', 'X']\n",
            "\n",
            "['O', 'X', 'X']\n",
            "[' ', 'O', 'O']\n",
            "[' ', ' ', 'X']\n",
            "\n",
            "['O', 'X', 'X']\n",
            "['X', 'O', 'O']\n",
            "[' ', ' ', 'X']\n",
            "\n",
            "['O', 'X', 'X']\n",
            "['X', 'O', 'O']\n",
            "['O', ' ', 'X']\n",
            "\n",
            "['O', 'X', 'X']\n",
            "['X', 'O', 'O']\n",
            "['O', 'X', 'X']\n",
            "\n"
          ]
        }
      ]
    },
    {
      "cell_type": "markdown",
      "source": [
        "## 5 Ejecute el siguiente programa, vea si puede encontrar algo extraño y explique el resultado usando su conocimiento de recolección de basura"
      ],
      "metadata": {
        "id": "nN9iqEofBu0f"
      }
    },
    {
      "cell_type": "code",
      "source": [
        "list_5 = [1, 2, 3]\n",
        "print(f\"The value of the list refered to by list_5 is {list_5} and its address is {id(list_5)}\")\n",
        "list_5 = [1 , 1, 3]\n",
        "print(f\"The value of the list refered to by list_5 is {list_5} and its address is {id(list_5)}\")\n",
        "list_5 = [1, 1, 4]\n",
        "print(f\"The value of the list refered to by list_5 is {list_5} and its address is {id(list_5)}\")"
      ],
      "metadata": {
        "colab": {
          "base_uri": "https://localhost:8080/"
        },
        "id": "1VeauzGIBvl-",
        "outputId": "ece0b027-d06f-461b-abf0-52c275902929"
      },
      "execution_count": 5,
      "outputs": [
        {
          "output_type": "stream",
          "name": "stdout",
          "text": [
            "The value of the list refered to by list_5 is [1, 2, 3] and its address is 140093128757328\n",
            "The value of the list refered to by list_5 is [1, 1, 3] and its address is 140093059002768\n",
            "The value of the list refered to by list_5 is [1, 1, 4] and its address is 140093128757328\n"
          ]
        }
      ]
    },
    {
      "cell_type": "markdown",
      "source": [
        "Nota: La primera lista tiene el mismo ID que la tercera lista a pesar de no contener los mismos elementos:\n",
        "\n",
        "\n",
        "1.   list_5 = [1, 2, 3]\n",
        "2.   list_5 = [1, 1, 4]\n"
      ],
      "metadata": {
        "id": "k1njq6ywB8go"
      }
    },
    {
      "cell_type": "markdown",
      "source": [
        "## 6 Las cadenas son inmutables, pero ¿por qué funciona lo siguiente? ¿Claramente cambiamos el valor de la cadena llamada string_1? ¿Qué afirmaciones agregaría para aclarar lo que ha sucedido? usar id"
      ],
      "metadata": {
        "id": "rT2dUuM7B9x1"
      }
    },
    {
      "cell_type": "code",
      "source": [
        "string_1 = \"text 1\"\n",
        "print(string_1)\n",
        "string_1 = \"text 2\"\n",
        "print(string_1)"
      ],
      "metadata": {
        "colab": {
          "base_uri": "https://localhost:8080/"
        },
        "id": "BXlfm-CqCAs9",
        "outputId": "0e7d554f-1058-4f97-c668-2c0660d86226"
      },
      "execution_count": 3,
      "outputs": [
        {
          "output_type": "stream",
          "name": "stdout",
          "text": [
            "text 1\n",
            "text 2\n"
          ]
        }
      ]
    },
    {
      "cell_type": "code",
      "source": [
        "string_1 = \"text 1\"\n",
        "print(id(string_1))\n",
        "string_1 = \"text 2\"\n",
        "print(id(string_1))"
      ],
      "metadata": {
        "colab": {
          "base_uri": "https://localhost:8080/"
        },
        "id": "sdghyPYbCDA5",
        "outputId": "0e61a5da-5ff6-472e-b325-80c41d910ae0"
      },
      "execution_count": 4,
      "outputs": [
        {
          "output_type": "stream",
          "name": "stdout",
          "text": [
            "140093059135728\n",
            "140093059135920\n"
          ]
        }
      ]
    },
    {
      "cell_type": "markdown",
      "source": [
        "Nota: El nombre del objeto es el mismo pero no contienen el mismo ID y sus elementos son diferentes"
      ],
      "metadata": {
        "id": "Y-e257dxCGMi"
      }
    }
  ]
}