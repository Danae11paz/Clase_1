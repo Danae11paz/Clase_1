{
 "cells": [
  {
   "cell_type": "markdown",
   "id": "1fd93d8b",
   "metadata": {},
   "source": [
    "# UNIVERSIDAD CENTRAL DEL ECUADOR"
   ]
  },
  {
   "cell_type": "markdown",
   "id": "dd1a24e1",
   "metadata": {},
   "source": [
    "## Datos Personales\n",
    "### Nombre: Medina Toapanta Graciela Elizabeth\n",
    "### Curso: Programación en Python\n",
    "### Fecha: 20/07/2022"
   ]
  },
  {
   "cell_type": "markdown",
   "id": "34328ec8",
   "metadata": {},
   "source": [
    "## Actividades de la Clase"
   ]
  },
  {
   "cell_type": "markdown",
   "id": "99b46feb",
   "metadata": {},
   "source": [
    "## 1) Suponga que tiene una lista [1, 2, 3, 2, 1] y desea crear una nueva lista sin números dobles, después de resolver este problema, intente reescribirla como una sola línea\n",
    "### Un one liner en programación es un programa existente de una sola línea. Si no logras escribir una sola línea, no te preocupes. el codigo one liner es a menudo difícil de leer y, como hemos aprendido esta semana: los lenguajes de programación están destinados a ser legibles para las personas. Así que no te preocupes si estás usando demasiado código para resolver un problema, debes preguntarte: ¿yo o alguien más entenderá esto dentro de 3 años?"
   ]
  },
  {
   "cell_type": "code",
   "execution_count": 8,
   "id": "40505e87",
   "metadata": {},
   "outputs": [
    {
     "name": "stdout",
     "output_type": "stream",
     "text": [
      "[1, 2, 3]\n"
     ]
    }
   ],
   "source": [
    "Lista = [1,2,3,2,1] # Lista de valores del problema\n",
    "Lista = Lista[0:3] # Una forma es tomando los 3 primeros números y reemplazando a la variable por la nueva lista\n",
    "print(Lista) # Imprimir la lista de números sin duplicar."
   ]
  },
  {
   "cell_type": "code",
   "execution_count": 10,
   "id": "8ef36108",
   "metadata": {
    "scrolled": true
   },
   "outputs": [
    {
     "name": "stdout",
     "output_type": "stream",
     "text": [
      "{1, 2, 3}\n"
     ]
    }
   ],
   "source": [
    "Lista = [1,2,3,2,1]\n",
    "Lista = set(Lista) # Usando está función se puede extraer los valores no repetidos.\n",
    "print(Lista)"
   ]
  },
  {
   "cell_type": "markdown",
   "id": "a50f3e2f",
   "metadata": {},
   "source": [
    "## 2) Slicing puede tener 3 parámetros, inicio, final y paso. Sin embargo, a menudo escribirá o leerá operaciones de corte con menos de 3 parámetros. En esta pregunta, debe volver a escribir todos los ejemplos en operaciones de corte con 3 parámetros. Después de haberlas reescrito, verifique si sus respuestas dan los mismos resultados"
   ]
  },
  {
   "cell_type": "code",
   "execution_count": 11,
   "id": "cc287e5e",
   "metadata": {},
   "outputs": [
    {
     "name": "stdout",
     "output_type": "stream",
     "text": [
      "bc\n",
      "c\n",
      "abc\n",
      "de\n",
      "abcde\n",
      "de\n",
      "abc\n",
      "abcde\n",
      "edcba\n",
      "abc\n",
      "e\n",
      "bcde\n",
      "edc\n"
     ]
    }
   ],
   "source": [
    "string_1 = 'abcde'\n",
    "print(string_1[1:3])\n",
    "print(string_1[-3:-2])\n",
    "\n",
    "print(string_1[:3])\n",
    "print(string_1[3:])\n",
    "print(string_1[:])\n",
    "\n",
    "print(string_1[-2:])\n",
    "print(string_1[:-2])\n",
    "\n",
    "print(string_1[::])\n",
    "print(string_1[::-1])\n",
    "\n",
    "print(string_1[:3:1])\n",
    "print(string_1[:3:-1])\n",
    "\n",
    "print(string_1[1::])\n",
    "print(string_1[:1:-1])"
   ]
  },
  {
   "cell_type": "code",
   "execution_count": 65,
   "id": "5e02abf4",
   "metadata": {},
   "outputs": [
    {
     "name": "stdout",
     "output_type": "stream",
     "text": [
      "bc\n",
      "c\n",
      "abc\n",
      "de\n",
      "abcde\n",
      "de\n",
      "abc\n",
      "abcde\n",
      "edcba\n",
      "abc\n",
      "e\n",
      "bcde\n",
      "edc\n"
     ]
    }
   ],
   "source": [
    "string_1 = 'abcde'\n",
    "print(string_1[1:3:1])\n",
    "print(string_1[-3:-2:1])\n",
    "\n",
    "print(string_1[0:3:1])\n",
    "print(string_1[3:5:1])\n",
    "print(string_1[0:5:1])\n",
    "\n",
    "print(string_1[-2:5:1])\n",
    "print(string_1[-5:-2:1])\n",
    "\n",
    "print(string_1[0:5:1])\n",
    "print(string_1[5:-6:-1])\n",
    "\n",
    "print(string_1[0:3:1])\n",
    "print(string_1[4:3:-1])\n",
    "\n",
    "print(string_1[1:5:1])\n",
    "print(string_1[5:1:-1])\n",
    "\n"
   ]
  },
  {
   "cell_type": "markdown",
   "id": "dcc8151c",
   "metadata": {},
   "source": [
    "## 3 Hemos construido un diccionario que se puede usar para encontrar el resultado si dos booleanos están conectados con el operador y\n",
    "## Reescribe este diccionario para encontrar el resultado si dos booleanos están conectados con el operador o\n",
    "## Python no tiene un operador XOR, busque en Internet lo que se supone que debe hacer el operador XOR y cree un diccionario que proporcione el resultado de una operación XOR"
   ]
  },
  {
   "cell_type": "code",
   "execution_count": 66,
   "id": "1bc5d8ba",
   "metadata": {},
   "outputs": [
    {
     "name": "stdout",
     "output_type": "stream",
     "text": [
      "False\n"
     ]
    }
   ],
   "source": [
    "# Función AND: la proposición es verdadera si los argumentos son verdaderos\n",
    "age = 40\n",
    "blood_type = 'A'\n",
    "my_and = {(True, True): True, (True, False): False, (False, True): False, (False, False): False }\n",
    "print(my_and[age < 70, blood_type == 'B'])"
   ]
  },
  {
   "cell_type": "code",
   "execution_count": 68,
   "id": "f180e347",
   "metadata": {},
   "outputs": [
    {
     "name": "stdout",
     "output_type": "stream",
     "text": [
      "True\n"
     ]
    }
   ],
   "source": [
    "# Función OR: la proposición es verdadera si al menos uno de los parámetros es verdadero\n",
    "age = 40 \n",
    "blood_type =\"A\"\n",
    "my_and = {(True,True):True, (True,False):True, (False,True):True, (False, False): False}\n",
    "print(my_and[age<70,blood_type==\"B\"])"
   ]
  },
  {
   "cell_type": "code",
   "execution_count": 69,
   "id": "8a36b9a9",
   "metadata": {},
   "outputs": [
    {
     "name": "stdout",
     "output_type": "stream",
     "text": [
      "True\n"
     ]
    }
   ],
   "source": [
    "# Función XOR:la proposición es verdadera solo si uno de los parámetros es verdadero\n",
    "age = 40\n",
    "blood_type =\"A\"\n",
    "my_and = {(True,True):False, (True,False):True, (False,True):True, (False, False): False}\n",
    "print(my_and[age<70,blood_type==\"B\"])"
   ]
  },
  {
   "cell_type": "markdown",
   "id": "d884b86b",
   "metadata": {},
   "source": [
    "## 4 En 'Las listas pueden contener listas y así formar tablas de múltiples dimensiones' se les mostro una secuencia ganadora en tres en raya. Como es muy importante para el análisis de datos y la visualización de datos que se sienta cómodo trabajando con tablas poli-dimensionales, le pedimos que reescriba la secuencia con un segundo jugador más inteligente (o un jugador que aprendió el juego de memoria) donde el juego termina en un empate."
   ]
  },
  {
   "cell_type": "code",
   "execution_count": 87,
   "id": "b6d1e668",
   "metadata": {},
   "outputs": [
    {
     "name": "stdout",
     "output_type": "stream",
     "text": [
      "[' ', ' ', ' ']\n",
      "[' ', ' ', ' ']\n",
      "[' ', ' ', ' ']\n",
      "\n",
      "[' ', ' ', ' ']\n",
      "[' ', 'X', ' ']\n",
      "[' ', ' ', ' ']\n",
      "\n",
      "[' ', ' ', 'O']\n",
      "[' ', 'X', ' ']\n",
      "[' ', ' ', ' ']\n",
      "\n",
      "['X', ' ', 'O']\n",
      "[' ', 'X', ' ']\n",
      "[' ', ' ', ' ']\n",
      "\n",
      "['X', ' ', 'O']\n",
      "[' ', 'X', ' ']\n",
      "[' ', ' ', ' ']\n",
      "\n",
      "['X', ' ', 'O']\n",
      "[' ', 'X', ' ']\n",
      "[' ', ' ', 'O']\n",
      "\n",
      "['X', ' ', 'O']\n",
      "[' ', 'X', 'X']\n",
      "[' ', ' ', 'O']\n",
      "\n",
      "['X', ' ', 'O']\n",
      "['O', 'X', 'X']\n",
      "[' ', ' ', 'O']\n",
      "\n",
      "['X', 'X', 'O']\n",
      "['O', 'X', 'X']\n",
      "[' ', ' ', 'O']\n",
      "\n",
      "['X', 'X', 'O']\n",
      "['O', 'X', 'X']\n",
      "[' ', 'O', 'O']\n",
      "\n",
      "['X', 'X', 'O']\n",
      "['O', 'X', 'X']\n",
      "['X', 'O', 'O']\n",
      "\n"
     ]
    }
   ],
   "source": [
    "tic_tac_toe_board = [[' ', ' ', ' '], [' ', ' ', ' '], [' ', ' ', ' ']]\n",
    "print(tic_tac_toe_board[0]) \n",
    "print(tic_tac_toe_board[1]) \n",
    "print(tic_tac_toe_board[2])\n",
    "print() \n",
    "tic_tac_toe_board[1][1] = 'X'\n",
    "print(tic_tac_toe_board[0]) \n",
    "print(tic_tac_toe_board[1]) \n",
    "print(tic_tac_toe_board[2])\n",
    "print() \n",
    "tic_tac_toe_board[0][2] = 'O'\n",
    "print(tic_tac_toe_board[0]) \n",
    "print(tic_tac_toe_board[1]) \n",
    "print(tic_tac_toe_board[2])\n",
    "print()\n",
    "tic_tac_toe_board[0][0] = 'X'\n",
    "print(tic_tac_toe_board[0]) \n",
    "print(tic_tac_toe_board[1]) \n",
    "print(tic_tac_toe_board[2])\n",
    "print()\n",
    "tic_tac_toe_board[0][0] = 'X'\n",
    "print(tic_tac_toe_board[0]) \n",
    "print(tic_tac_toe_board[1]) \n",
    "print(tic_tac_toe_board[2])\n",
    "print()\n",
    "tic_tac_toe_board[2][2] = 'O'\n",
    "print(tic_tac_toe_board[0]) \n",
    "print(tic_tac_toe_board[1]) \n",
    "print(tic_tac_toe_board[2])\n",
    "print()\n",
    "tic_tac_toe_board[1][2] = 'X'\n",
    "print(tic_tac_toe_board[0]) \n",
    "print(tic_tac_toe_board[1]) \n",
    "print(tic_tac_toe_board[2])\n",
    "print()\n",
    "tic_tac_toe_board[1][0] = 'O'\n",
    "print(tic_tac_toe_board[0]) \n",
    "print(tic_tac_toe_board[1]) \n",
    "print(tic_tac_toe_board[2])\n",
    "print()\n",
    "tic_tac_toe_board[0][1] = 'X'\n",
    "print(tic_tac_toe_board[0]) \n",
    "print(tic_tac_toe_board[1]) \n",
    "print(tic_tac_toe_board[2])\n",
    "print()\n",
    "tic_tac_toe_board[2][1] = 'O'\n",
    "print(tic_tac_toe_board[0]) \n",
    "print(tic_tac_toe_board[1]) \n",
    "print(tic_tac_toe_board[2])\n",
    "print()\n",
    "tic_tac_toe_board[2][0] = 'X'\n",
    "print(tic_tac_toe_board[0]) \n",
    "print(tic_tac_toe_board[1]) \n",
    "print(tic_tac_toe_board[2])\n",
    "print() # El juego se empata"
   ]
  },
  {
   "cell_type": "markdown",
   "id": "d0958d53",
   "metadata": {},
   "source": [
    "## 5 Ejecute el siguiente programa, vea si puede encontrar algo extraño y explique el resultado usando su conocimiento de recolección de basura"
   ]
  },
  {
   "cell_type": "code",
   "execution_count": 26,
   "id": "71da3622",
   "metadata": {
    "scrolled": true
   },
   "outputs": [
    {
     "name": "stdout",
     "output_type": "stream",
     "text": [
      "The value of the list refered to by list_5 is [1, 2, 3] and its address is 2185460034496\n",
      "The value of the list refered to by list_5 is [1, 1, 3] and its address is 2185476709568\n",
      "The value of the list refered to by list_5 is [1, 1, 4] and its address is 2185476708672\n"
     ]
    }
   ],
   "source": [
    "list_5 = [1, 2, 3]\n",
    "print(f\"The value of the list refered to by list_5 is {list_5} and its address is {id(list_5)}\")\n",
    "list_5 = [1 , 1, 3]\n",
    "print(f\"The value of the list refered to by list_5 is {list_5} and its address is {id(list_5)}\")\n",
    "list_5 = [1, 1, 4]\n",
    "print(f\"The value of the list refered to by list_5 is {list_5} and its address is {id(list_5)}\")"
   ]
  },
  {
   "cell_type": "markdown",
   "id": "1db2bcd1",
   "metadata": {},
   "source": [
    "El id de list_5 va cambiando en cada oración que imprime el programa debido a que se usa el mismo nombre para diferentes listas de elementos."
   ]
  },
  {
   "cell_type": "markdown",
   "id": "b85113d5",
   "metadata": {},
   "source": [
    "## 6 Las cadenas son inmutables, pero ¿por qué funciona lo siguiente? ¿Claramente cambiamos el valor de la cadena llamada string_1? ¿Qué afirmaciones agregaría para aclarar lo que ha sucedido? usar id"
   ]
  },
  {
   "cell_type": "code",
   "execution_count": 33,
   "id": "2294ebd6",
   "metadata": {},
   "outputs": [
    {
     "name": "stdout",
     "output_type": "stream",
     "text": [
      "text 1\n",
      "The text of the list refered to by string_1 is text 1 and its address is 2185476727792\n",
      "text 2\n",
      "The text of the list refered to by string_2 is text 2 and its addres is 2185460011120\n"
     ]
    }
   ],
   "source": [
    "string_1 = \"text 1\"\n",
    "print(string_1)\n",
    "print(f\"The text of the list refered to by string_1 is {string_1} and its address is {id(string_1)}\")\n",
    "string_1 = \"text 2\"\n",
    "print(string_1)\n",
    "print(f\"The text of the list refered to by string_2 is {string_1} and its addres is {id(string_1)}\")\n",
    "\n"
   ]
  },
  {
   "cell_type": "markdown",
   "id": "60145cc9",
   "metadata": {},
   "source": [
    "Lo que pasa es que se esta creando una nueva asignación para la variable string_1 y es por esa razón que los id no coinciden, es decir el programa lo toma como si se hiciera una nueva variable."
   ]
  },
  {
   "cell_type": "code",
   "execution_count": null,
   "id": "24d386b1",
   "metadata": {},
   "outputs": [],
   "source": []
  }
 ],
 "metadata": {
  "kernelspec": {
   "display_name": "Python 3 (ipykernel)",
   "language": "python",
   "name": "python3"
  },
  "language_info": {
   "codemirror_mode": {
    "name": "ipython",
    "version": 3
   },
   "file_extension": ".py",
   "mimetype": "text/x-python",
   "name": "python",
   "nbconvert_exporter": "python",
   "pygments_lexer": "ipython3",
   "version": "3.9.12"
  }
 },
 "nbformat": 4,
 "nbformat_minor": 5
}
