{
  "cells": [
    {
      "cell_type": "markdown",
      "metadata": {
        "id": "az6IT1dZkQlW"
      },
      "source": [
        "# ESTE DOCUMENTO ES UN JUPYTER NOTEBOOK. UN JUPYTER NOTEBOOK ES COMO UN LIBRO DE TEXTO PERO PARA PROGRAMAR. EN ESTE JUPYTER NOTEBOOK PUEDES MODIFICAR CAMBIAR Y EJECUTAR CODIGO DE PYTHON . CADA CASILLA/CELDA"
      ]
    },
    {
      "cell_type": "markdown",
      "metadata": {
        "id": "K0MJD-mrkQla"
      },
      "source": [
        "# Mi informacion:\n",
        "* ## Victor Salazar\n",
        "* ## victor12lup@hotmail.com\n",
        "* ## BSC Economia, MsC Data Science"
      ]
    },
    {
      "cell_type": "markdown",
      "metadata": {
        "id": "1IV8vvCNkQla"
      },
      "source": [
        "# EL famoso 'Hello Python'"
      ]
    },
    {
      "cell_type": "markdown",
      "metadata": {
        "id": "XV-gGZ7bkQlb"
      },
      "source": [
        "## En Python   "
      ]
    },
    {
      "cell_type": "code",
      "execution_count": null,
      "metadata": {
        "id": "Bt4X_KBQkQlb",
        "scrolled": true,
        "colab": {
          "base_uri": "https://localhost:8080/"
        },
        "outputId": "4d99e3ba-3b7d-41f0-8211-5e52c5848c7e"
      },
      "outputs": [
        {
          "output_type": "stream",
          "name": "stdout",
          "text": [
            "Hello World\n"
          ]
        }
      ],
      "source": [
        "print('Hello World')\n",
        "# La funcion print \"imprime\" lo que este entre comillas\n",
        "# las lineas que empiezan con # son comentarios, estos no son parte del codigo \n",
        "# trata de usarlos siempre que puedas cuando compartas codigo o solo para desarrollar codigo, te sera muy util!"
      ]
    },
    {
      "cell_type": "markdown",
      "metadata": {
        "id": "6JSinqsMkQlc"
      },
      "source": [
        "# Historia de Python\n",
        "* ## Python lleva el nombre del programa de televisión de la BBC Monty Python's Flying Circus([https://www.youtube.com/watch?v=vZw35VUBdzo](https://www.youtube.com/watch?v=vZw35VUBdzo))\n",
        "* ## Iniciado por Guido van Rossum en Amsterdam en el : \"Instituto Nacional de Investigación en Matemáticas e Informática\"\n",
        "* ## Primera versión publicada en 1991"
      ]
    },
    {
      "cell_type": "markdown",
      "metadata": {
        "id": "3E1VQyA9kQld"
      },
      "source": [
        "# Lectura opcional\n",
        "* ##  [https://docs.python.org/3/reference/datamodel.html](https://docs.python.org/3/reference/datamodel.html) capitulo 3.1\n",
        "* ## From [https://docs.python.org/3/tutorial/index.html](https://docs.python.org/3/tutorial/index.html) capitulo 3.1 y capitulo 5 , secciones 5.1.1, 5.2, 5.4, y 5.5.\n",
        "* ## Ecomista Paul Romer sobre Jupyter [https://paulromer.net/jupyter-mathematica-and-the-future-of-the-research-paper/](https://paulromer.net/jupyter-mathematica-and-the-future-of-the-research-paper/) \n",
        " * ([https://www.python.org/dev/peps/pep-0008/](https://www.python.org/dev/peps/pep-0008/))\n",
        " * ([https://en.wikipedia.org/wiki/Python_syntax_and_semantics](https://en.wikipedia.org/wiki/Python_syntax_and_semantics))"
      ]
    },
    {
      "cell_type": "markdown",
      "metadata": {
        "id": "kps2Zf-xkQld"
      },
      "source": [
        "# Los lenguajes informáticos deben ser leídos por humanos\n",
        "* ## Las computadoras solo entienden ceros y unos\n",
        "* ## Por lo tanto, los lenguajes informáticos deben traducirse en esos ceros y unos a algo  que la computadora entiende\n"
      ]
    },
    {
      "cell_type": "markdown",
      "metadata": {
        "id": "j23j95JhkQle"
      },
      "source": [
        "# Dos tipos de traducción: Interpretación y compilación\n",
        "* ## Los programas escritos en idiomas interpretados se traducen y ejecutan línea por línea\n",
        " * ### Los programas escritos en lenguajes interpretados a menudo se denominan scripts\n",
        "* ## Los programas escritos en lenguajes compilados se traducen y ejecutan programa (o más) por programa\n",
        " * ### La traducción de programas completos a menudo se llama compilación\n",
        "* ## La interpretación es excelente para un ciclo de desarrollo rápido\n",
        "* ## La compilación es excelente para la eficiencia y la velocidad\n",
        "## Observaciones:\n",
        "* ## En general, podemos decir que la velocidad y la eficiencia son un cuello de botella menor a medida que las computadoras se vuelven cada vez más rápidas y Python usa muchas rutinas escritas en C, que es muy rápido.\n",
        "* ## Python no traduce el código directamente a código de máquina, sino a un código que es el mismo para todos los sistemas operativos como Windows, OS X, Linux, etc. Este código intermedio es ejecutado por una máquina virtual que traduce el código intermedio a código de máquina específico legible y ejecutable por los diferentes sistemas operativos como Windows, OS X, Linux, etc."
      ]
    },
    {
      "cell_type": "markdown",
      "metadata": {
        "id": "ceV3xzjOkQle"
      },
      "source": [
        "### Python es traducido y ejecutado linea por linea"
      ]
    },
    {
      "cell_type": "code",
      "execution_count": null,
      "metadata": {
        "id": "ScGO8p0BkQle",
        "outputId": "3f98533f-5332-4221-b11a-d7a79e3c7b75"
      },
      "outputs": [
        {
          "name": "stdout",
          "output_type": "stream",
          "text": [
            "1\n",
            "2\n"
          ]
        }
      ],
      "source": [
        "integer_1 = 1\n",
        "print (integer_1)\n",
        "integer_2 = 2\n",
        "print (integer_2)"
      ]
    },
    {
      "cell_type": "code",
      "execution_count": null,
      "metadata": {
        "id": "wf9UxiV3kQlf"
      },
      "outputs": [],
      "source": [
        "# Definimos un objeto con valor 1, le asignamos de nombre integer_1, de typo int \n",
        "integer_1 = 1\n",
        "# Le damos el valor definido en la pantalla \n",
        "print(integer_1)\n",
        "print(integer_2)\n",
        "integer_2 = 2"
      ]
    },
    {
      "cell_type": "markdown",
      "metadata": {
        "id": "_GMsxwQvkQlf"
      },
      "source": [
        "### El codigo de Python es traducido a un lenguaje intermedio"
      ]
    },
    {
      "cell_type": "code",
      "execution_count": null,
      "metadata": {
        "id": "jetr-tfmkQlg",
        "outputId": "df3a8577-2600-426c-9d28-60aa0ef05628"
      },
      "outputs": [
        {
          "name": "stdout",
          "output_type": "stream",
          "text": [
            "[1, 4, 9]\n"
          ]
        }
      ],
      "source": [
        "# Creamos una funcion\n",
        "def make_quadratic_list(function_list):\n",
        "    #Usaremos uns comprension de lista para contruir otra lista\n",
        "    return [x*x for x in function_list]    \n",
        "\n",
        "# Llamamos una funcion y le damos los valores en una lista\n",
        "print(make_quadratic_list([1,2,3]))"
      ]
    },
    {
      "cell_type": "code",
      "execution_count": null,
      "metadata": {
        "id": "nCUBXipSkQlg",
        "outputId": "d5910e7d-5c14-4941-e6a3-68e406d1c451"
      },
      "outputs": [
        {
          "name": "stdout",
          "output_type": "stream",
          "text": [
            "  4           0 LOAD_CONST               1 (<code object <listcomp> at 0x000001D98CCFDDF0, file \"<ipython-input-5-e5aeeaf2cd37>\", line 4>)\n",
            "              2 LOAD_CONST               2 ('make_quadratic_list.<locals>.<listcomp>')\n",
            "              4 MAKE_FUNCTION            0\n",
            "              6 LOAD_FAST                0 (function_list)\n",
            "              8 GET_ITER\n",
            "             10 CALL_FUNCTION            1\n",
            "             12 RETURN_VALUE\n",
            "\n",
            "Disassembly of <code object <listcomp> at 0x000001D98CCFDDF0, file \"<ipython-input-5-e5aeeaf2cd37>\", line 4>:\n",
            "  4           0 BUILD_LIST               0\n",
            "              2 LOAD_FAST                0 (.0)\n",
            "        >>    4 FOR_ITER                12 (to 18)\n",
            "              6 STORE_FAST               1 (x)\n",
            "              8 LOAD_FAST                1 (x)\n",
            "             10 LOAD_FAST                1 (x)\n",
            "             12 BINARY_MULTIPLY\n",
            "             14 LIST_APPEND              2\n",
            "             16 JUMP_ABSOLUTE            4\n",
            "        >>   18 RETURN_VALUE\n"
          ]
        }
      ],
      "source": [
        "# Muchas funciones de Pyton deben ser importadas para su uso \n",
        "import dis\n",
        "def make_quadratic_list(function_list):\n",
        "    return [x*x for x in function_list]    \n",
        "\n",
        "# La funcion dis.dis muestra el codigo intermediario que es usado para que Python traduzca \n",
        "dis.dis(make_quadratic_list)"
      ]
    },
    {
      "cell_type": "markdown",
      "metadata": {
        "id": "ByWdt16vkQlg"
      },
      "source": [
        "# La semana 1 se trata principalmente de datos, pero, por supuesto, queremos hacer algo con esos datos\n",
        " * ## Python tiene un conjunto completo de operadores disponibles, consulte [https://www.w3resource.com/python/python-operators.php](https://www.w3resource.com/python/python-operators.php ), puede omitir los comandos de operador y comenzar con los operadores aritméticos de Python\n",
        " * ## Un tema importante con los operadores es la precedencia o dicho de otra manera, si tiene más de un operador en una declaración, que se interpretará primero. En matemáticas sabemos que 2 + 2 x 3 = 8 y no 12. Decimos que la multiplicación tiene prioridad sobre la suma. Como tenemos muchos más operadores en Python, necesitamos una tabla grande sobre precedencia. Una buena tabla se encuentra en el capítulo 6.17 en [https://docs.python.org/3/reference/expressions.html](https://docs.python.org/3/reference/expressions.html) que puede omitir para ahora los operadores que no están en el documento anterior, pero recuerda cada vez que veas un nuevo operador echa un vistazo\n",
        "  * ### Nunca olvides que los paréntesis tienen la precedencia más alta. Por lo tanto, siempre es posible escapar de los problemas de precedencia agregando paréntesis\n",
        " * ## Los operadores son muy importantes si desea procesar datos, pero en las semanas 3 y 5 descubrirá que puede expandir sus posibilidades dramáticamente escribiendo sus propias funciones y clases"
      ]
    },
    {
      "cell_type": "code",
      "execution_count": null,
      "metadata": {
        "id": "ePEiiqa9kQlg",
        "outputId": "0d2f8ff6-ad13-4556-ed66-a5a7d3c9f865"
      },
      "outputs": [
        {
          "name": "stdout",
          "output_type": "stream",
          "text": [
            "6.2\n",
            "6.6000000000000005\n"
          ]
        }
      ],
      "source": [
        "# operadores estandares en Python\n",
        "print(1 + 2 * 3 - 4 / 5)\n",
        "# Uso de parentesis\n",
        "print((1 + 2) * (3 - 4 / 5))"
      ]
    },
    {
      "cell_type": "markdown",
      "metadata": {
        "id": "yqKW-VAQkQlh"
      },
      "source": [
        "# Los datos en un programa de Python se almacenarán como bits (ceros y unos) en la memoria de la computadora, pero se representarán como objetos para los humanos.\n",
        "## Son estos objetos con los que tenemos que lidiar, el interpretador traducirá nuestras referencias a objetos en referencias a lugares en la memoria de la computadora.\n",
        "## Los objetos en Python tienen:\n",
        "1. ### Una identidad, en la versión Python de Anaconda es la dirección en la memoria de la computadora, donde se almacena el valor. La identidad no se puede cambiar.\n",
        "2. ### Un tipo de datos, como entero, cadena, lista, etc. El tipo de datos no se puede cambiar\n",
        "3. ### Un valor, como 10, 'Hello World', [1,2,3]. El valor se puede cambiar o no según el tipo de datos. Si el valor de un objeto se puede cambiar, el objeto se llama mutable; de lo contrario, el objeto se llama inmutable."
      ]
    },
    {
      "cell_type": "markdown",
      "metadata": {
        "id": "MM_J7f_zkQlh"
      },
      "source": [
        "### Se puede crear un objeto y adjuntar un nombre a un objeto a través de una declaración de asignación (por ejemplo, `a = 1` \n",
        "### Se puede hacer referencia a un objeto con más de un nombre, pero un nombre solo puede hacer referencia a un objeto\n",
        "### Solo se pueden asignar nombres a objetos si:\n",
        "* #### Ese nombre comienza con una letra (A-z) o un carácter de subrayado (_)\n",
        "* #### Ese nombre solo contiene caracteres alfanuméricos (A-z, 0-9) y guiones bajos"
      ]
    },
    {
      "cell_type": "markdown",
      "metadata": {
        "id": "oSGq1VXBkQlh"
      },
      "source": [
        "### En los nombres se distingue mayúsculas y minúsculas (edad, Edad, y EDAD son diferentes)"
      ]
    },
    {
      "cell_type": "markdown",
      "metadata": {
        "id": "Uioie6ORkQlh"
      },
      "source": [
        "## Recolección de basura\n",
        "### Los datos utilizados en un programa ocupan la memoria de la computadora. Por lo tanto, la creación de muchos objetos de datos de gran tamaño podría sobrecargar la memoria de la computadora.\n",
        "### Python (y algunos otros lenguajes de programación) tienen un buen truco para resolver ese problema. Si Python nota que ya no hay nombres adjuntos a un objeto, el objeto se destruye en un proceso llamado \"recolección de basura\". Si no hay nombres adjuntos a un objeto, nadie puede usarlo más y, por lo tanto, es mejor destruirlo. En otros idiomas, debe programar la recolección de basura usted mismo y debe tener cuidado de no destruir los objetos que aún se necesitan o mantener los que ya no se necesitan."
      ]
    },
    {
      "cell_type": "markdown",
      "metadata": {
        "id": "gKu5fYlgkQlh"
      },
      "source": [
        "## Ejemplos (estos son ejemplos importantes, no entender cómo Python maneja los datos puede conducir a problemas muy difíciles de resolver)"
      ]
    },
    {
      "cell_type": "code",
      "execution_count": null,
      "metadata": {
        "id": "E3IglRzukQlh",
        "outputId": "7d5a927e-2c05-49a7-8fb0-be76e4136e00",
        "colab": {
          "base_uri": "https://localhost:8080/"
        }
      },
      "outputs": [
        {
          "output_type": "stream",
          "name": "stdout",
          "text": [
            "True\n",
            "True\n",
            "True\n",
            "140605215187376\n"
          ]
        }
      ],
      "source": [
        "# La siguiente declaración de asignación crea un objeto con valor 2000 y tipo entero, y\n",
        "# también adjunta el nombre integer_1 al objeto recién creado\n",
        "integer_1 = 2000\n",
        "# La siguiente declaración de asignación no crea un objeto, pero\n",
        "# también adjunta el nombre integer_2 al objeto que ya tiene el nombre integer_1 adjunto\n",
        "# El mismo objeto ahora tiene dos nombres\n",
        "integer_2 = integer_1\n",
        "# Podemos probar si los nombres integer_1 e integer_2 se refieren a un objeto con el mismo valor\n",
        "# Si eso es Verdadero, la siguiente declaración de impresión debería imprimir Verdadero y, de lo contrario, debería imprimir falso\n",
        "print(integer_1 == integer_2)\n",
        "# Podemos probar tambien si integer_1 y integer_2 se refieren al mismo objeto\n",
        "print(integer_1 is integer_2)\n",
        "# Es lo mismo que decir si el id de un objeto es el mismo\n",
        "print(id(integer_1) == id(integer_2))\n",
        "# Aqui imprimimos el id de un objeto \n",
        "print(id(integer_1))"
      ]
    },
    {
      "cell_type": "code",
      "execution_count": null,
      "metadata": {
        "id": "OQncGCo7kQli",
        "outputId": "446d715a-ca23-48ba-9c72-20cb76832f9c",
        "colab": {
          "base_uri": "https://localhost:8080/"
        }
      },
      "outputs": [
        {
          "output_type": "stream",
          "name": "stdout",
          "text": [
            "2000 1000\n"
          ]
        }
      ],
      "source": [
        "integer_1 = 2000\n",
        "integer_2 = integer_1\n",
        "integer_2 = 1000\n",
        "# La declaración de asignación anterior crea un nuevo objeto con valor 1000\n",
        "# separa el nombre integer_2 del objeto con valor 2000, y\n",
        "# adjunta el nombre integer_2 al nuevo objeto\n",
        "print(integer_1, integer_2)"
      ]
    },
    {
      "cell_type": "code",
      "execution_count": null,
      "metadata": {
        "id": "Zi5tKvYAkQli",
        "outputId": "84ccfddd-b9d6-4945-9465-64a426c33557",
        "colab": {
          "base_uri": "https://localhost:8080/"
        }
      },
      "outputs": [
        {
          "output_type": "stream",
          "name": "stdout",
          "text": [
            "140605215187600\n",
            "140605613148784\n"
          ]
        }
      ],
      "source": [
        "# La siguiente declaración de asignación crea un objeto con valor 1000 y tipo entero\n",
        "# La siguiente declaración de asignación también adjunta el nombre integer_1 al objeto\n",
        "integer_1 = 1000\n",
        "print(id(integer_1))\n",
        "# La siguiente declaración de asignación crea un objeto con valor \"data\" y tipo cadena,\n",
        "# también separa el nombre entero_1 del objeto con valor 1, y\n",
        "# adjunta el nombre integer_1 al objeto recién creado con el valor \"data\"\n",
        "integer_1 = \"data\"\n",
        "# The following statement shows us that the name integer_1 now refers to a different object\n",
        "print(id(integer_1))"
      ]
    },
    {
      "cell_type": "markdown",
      "metadata": {
        "id": "9VyEsUpnkQli"
      },
      "source": [
        "### Los siguientes ejemplos son sobre prácticas, esto es bastante complicado. A veces, esperaría que Python creara un nuevo objeto, pero Python no lo hace y, en parte, está fuera de su control y depende de la implementación de Python que use."
      ]
    },
    {
      "cell_type": "code",
      "execution_count": null,
      "metadata": {
        "id": "uALgFIr7kQli",
        "outputId": "54146e42-9150-4950-db33-06d51f43a807",
        "colab": {
          "base_uri": "https://localhost:8080/"
        }
      },
      "outputs": [
        {
          "output_type": "stream",
          "name": "stdout",
          "text": [
            "True\n"
          ]
        }
      ],
      "source": [
        "# En este ejemplo, una cadena está guardada y la segunda asignación no crea un nuevo objeto string_1 = 'string'\n",
        "string_1='string'\n",
        "string_2 = 'string'\n",
        "print (string_1 is string_2)"
      ]
    },
    {
      "cell_type": "code",
      "execution_count": null,
      "metadata": {
        "id": "fRa3ma6ykQlj",
        "outputId": "f8a4d9d6-d0a3-47d4-a478-841e0910e169",
        "colab": {
          "base_uri": "https://localhost:8080/"
        }
      },
      "outputs": [
        {
          "output_type": "stream",
          "name": "stdout",
          "text": [
            "False\n"
          ]
        }
      ],
      "source": [
        "# En este ejemplo, una cadena no está guardada y la segunda asignación crea un nuevo objeto string_1 = 'This string is not interned'\n",
        "string_2 = 'This string is not interned'\n",
        "print (string_1 is string_2)"
      ]
    },
    {
      "cell_type": "code",
      "execution_count": null,
      "metadata": {
        "id": "FUSQrCYFkQlj",
        "outputId": "b43f0eeb-7763-4860-f7c2-cdd309bce8e9",
        "colab": {
          "base_uri": "https://localhost:8080/"
        }
      },
      "outputs": [
        {
          "output_type": "stream",
          "name": "stdout",
          "text": [
            "True\n"
          ]
        }
      ],
      "source": [
        "integer_1 = 1 \n",
        "integer_2 = 1\n",
        "print (integer_1 is integer_2)"
      ]
    },
    {
      "cell_type": "code",
      "execution_count": null,
      "metadata": {
        "id": "Jb8ZHWYDkQlk",
        "outputId": "dbb51055-f51d-4871-c4a0-cfb380331455",
        "colab": {
          "base_uri": "https://localhost:8080/"
        }
      },
      "outputs": [
        {
          "output_type": "stream",
          "name": "stdout",
          "text": [
            "False\n"
          ]
        }
      ],
      "source": [
        "integer_1 = 1000\n",
        "integer_2 = 1000\n",
        "print (integer_1 is integer_2)"
      ]
    },
    {
      "cell_type": "markdown",
      "metadata": {
        "id": "X6GbGVOLkQlk"
      },
      "source": [
        "# Primero discutimos los tipos de datos que describen objetos de valor único. Estos son números, cadenas y booleanos y, posteriormente, tipos de datos que describen objetos con una colección de valores."
      ]
    },
    {
      "cell_type": "markdown",
      "metadata": {
        "id": "MA7bZktpkQlk"
      },
      "source": [
        "## Números\n",
        "### Todos los números (enteros, números de coma flotante, números complejos, decimales y fracciones) son inmutables"
      ]
    },
    {
      "cell_type": "markdown",
      "metadata": {
        "id": "7okguazIkQlk"
      },
      "source": [
        "### Enteros\n",
        "#### Estos son números enteros (-10,1,2)\n",
        "#### Solo el hardware de la computadora limita el limite de un número entero y, por lo tanto, los números enteros son muy precisos"
      ]
    },
    {
      "cell_type": "code",
      "execution_count": null,
      "metadata": {
        "id": "29sCioEYkQlk",
        "outputId": "5d8a18cc-a566-4f8f-bd3b-ec1bea2b419e",
        "colab": {
          "base_uri": "https://localhost:8080/"
        }
      },
      "outputs": [
        {
          "output_type": "stream",
          "name": "stdout",
          "text": [
            "False\n"
          ]
        }
      ],
      "source": [
        "integer_1=9999999999999999999999999999999999999999999999999999999999999999999999999999999999999999999\n",
        "integer_2 = integer_1 + 1 \n",
        "print(integer_1 == integer_2)"
      ]
    },
    {
      "cell_type": "code",
      "execution_count": null,
      "metadata": {
        "id": "J0x0hgpkkQll",
        "outputId": "4ba35ba5-e207-4ce9-935e-7412592880f2",
        "colab": {
          "base_uri": "https://localhost:8080/"
        }
      },
      "outputs": [
        {
          "output_type": "stream",
          "name": "stdout",
          "text": [
            "140605215133744\n"
          ]
        }
      ],
      "source": [
        "integer_1=9999999999999999999999999999999999999999999999999999999999999999999999999999999999999999999\n",
        "print(id(integer_1))\n",
        "integer_1 = integer_1 + 1 \n",
        "# La verificación de las identificaciones deja en claro que se crea un nuevo objeto y que el nombre integer_1 ahora está vinculado a ese nuevo objeto print(id(integer_1))"
      ]
    },
    {
      "cell_type": "markdown",
      "metadata": {
        "id": "X0F2_HCskQll"
      },
      "source": [
        "### Enteros expresados en diferentes maneras"
      ]
    },
    {
      "cell_type": "markdown",
      "metadata": {
        "id": "A2SxPxB1kQll"
      },
      "source": [
        "### Números decimales vs a números binarios/octales/hexidecimales\n",
        "#### Los números en matemáticas se basan en el sistema numérico posicional. Entonces, cada dígito en un número tiene una contribución al valor total del número que depende de su posición en ese número y si el número es binario/octal/decimal/hexidecimal.\n",
        "#### En números decimales, el dígito más a la derecha tiene una contribución al valor total que es solo el valor de ese dígito, el que está a la izquierda tiene una contribución al valor total de su propio valor multiplicado por 10, y para el que está a la izquierda de ese que su contribución es su propio valor multiplicado por 100 (10 a la potencia 2) etc. (Los números decimales usan solo dígitos entre 0 y 9).\n",
        "#### En números binarios, el dígito más a la derecha tiene una contribución al valor total que es solo el valor de ese dígito, el que está a la izquierda tiene una contribución al valor total de su propio valor multiplicado por 2, y para el que está a la izquierda de ese que su contribución es su propio valor multiplicado por 4 (2 elevado a 2), etc. (Los números binarios usan solo 0 y 1).\n",
        "#### En números octales, el dígito más a la derecha tiene una contribución al valor total que es solo el valor de ese dígito, el que está a la izquierda tiene una contribución al valor total de su propio valor multiplicado por 8, y para el que está a la izquierda de ese que su contribución es su propio valor multiplicado por 64 (8 elevado a 2), etc. (Los números octales usan solo dígitos entre 0 y 7).\n",
        "#### En números hexadecimales, el dígito más a la derecha tiene una contribución al valor total que es solo el valor de ese dígito, el que está a la izquierda tiene una contribución al valor total de su propio valor multiplicado por 16, y para el que está a la izquierda de aquél cuya contribución es su propio valor multiplicado por 256 (16 a la potencia 2) etc. (Los números hexadecimales usan todos los dígitos entre 0 y 90, y A para 10, B para 11, hasta F para 15.)\n",
        "#### Entonces 111 binario es 1 + 1 * 2 + 1 * 4 = 7 decimal"
      ]
    },
    {
      "cell_type": "markdown",
      "metadata": {
        "id": "R7ToBx9rkQlm"
      },
      "source": [
        "#### Los números en representación alternativa deben comenzar con dos caracteres que indican qué sistema numérico alternativo se utiliza"
      ]
    },
    {
      "cell_type": "code",
      "execution_count": 8,
      "metadata": {
        "id": "dOwssZ--kQlm",
        "outputId": "956c5dcc-6e3d-42b6-d504-3333443e974c",
        "colab": {
          "base_uri": "https://localhost:8080/"
        }
      },
      "outputs": [
        {
          "output_type": "stream",
          "name": "stdout",
          "text": [
            "26\n",
            "26\n",
            "26\n",
            "26\n",
            "True\n"
          ]
        }
      ],
      "source": [
        "print(0b11010) \n",
        "# Binary number 11010\n",
        "print(0o32)    \n",
        "# Octal number 112 \n",
        "print(26)      \n",
        "# Decimal number 26\n",
        "print(0x1A)    \n",
        "# Hexadecimal number 1A\n",
        "print (0b11010 == 0o32 == 26 == 0x1A )"
      ]
    },
    {
      "cell_type": "markdown",
      "metadata": {
        "id": "eSpdy_BhkQln"
      },
      "source": [
        "### Números de punto flotante \n",
        "#### un número que contiene una parte fraccionaria (1.3, -1.3, 0.0)\n",
        "#### Los números de punto flotante se almacenan en un espacio limitado en la memoria de la computadora y, por lo tanto, no tienen una precisión ilimitada"
      ]
    },
    {
      "cell_type": "code",
      "execution_count": null,
      "metadata": {
        "id": "k4ZQP7uLkQln",
        "outputId": "f4d86849-819a-4beb-f014-ec72f419a44b",
        "colab": {
          "base_uri": "https://localhost:8080/"
        }
      },
      "outputs": [
        {
          "output_type": "stream",
          "name": "stdout",
          "text": [
            "4.2\n",
            "1.0\n"
          ]
        }
      ],
      "source": [
        "print(4.2)\n",
        "print(1.00)"
      ]
    },
    {
      "cell_type": "markdown",
      "metadata": {
        "id": "_OuhAVbhkQlo"
      },
      "source": [
        "### Los números de punto flotante también se pueden representar en notación científica, e.g.: $132.2  = 1.322 \\times 10^2$\n",
        "### La notación en Python es $1.322e2$"
      ]
    },
    {
      "cell_type": "code",
      "execution_count": null,
      "metadata": {
        "id": "a9vRFEaukQlo",
        "colab": {
          "base_uri": "https://localhost:8080/"
        },
        "outputId": "8974437b-bc97-4004-afd7-3458d8caf43d"
      },
      "outputs": [
        {
          "output_type": "stream",
          "name": "stdout",
          "text": [
            "132.2\n",
            "132.2\n",
            "True\n"
          ]
        }
      ],
      "source": [
        "float_1 = 132.2\n",
        "scientific = 1.322e2\n",
        "print(float_1)\n",
        "print(scientific)\n",
        "print(float_1 == scientific)"
      ]
    },
    {
      "cell_type": "markdown",
      "metadata": {
        "id": "I8Neb66zkQlo"
      },
      "source": [
        "### Vimos que los números enteros eran infinitamente precisos, este no es el caso de los números de punto flotante, para mas info consulte [https://en.wikipedia.org/wiki /Floating-point_arithmetic](https://en.wikipedia.org/wiki/Floating-point_arithmetic)"
      ]
    },
    {
      "cell_type": "code",
      "execution_count": null,
      "metadata": {
        "id": "cclVT9EDkQlo",
        "outputId": "7b77f982-0333-4175-c5ff-6d0b5693fe95",
        "colab": {
          "base_uri": "https://localhost:8080/"
        }
      },
      "outputs": [
        {
          "output_type": "stream",
          "name": "stdout",
          "text": [
            "True\n"
          ]
        }
      ],
      "source": [
        "float_1 = 9999999999999999999999999999999999999999999999999999999999999999999999999999999999999999999.0\n",
        "float_2 = float_1 + 1\n",
        "print(float_1 == float_2)"
      ]
    },
    {
      "cell_type": "code",
      "execution_count": null,
      "metadata": {
        "id": "Su7gHoyvkQlo",
        "outputId": "569c44f1-4e21-477a-db54-64317c0d81c5",
        "colab": {
          "base_uri": "https://localhost:8080/"
        }
      },
      "outputs": [
        {
          "output_type": "stream",
          "name": "stdout",
          "text": [
            "1e+91\n",
            "1e+91\n",
            "True\n"
          ]
        }
      ],
      "source": [
        "float_1 = 9999999999999999999999999999999999999999999999999999999999999999999999999999999999999999999.0\n",
        "print(float_1)\n",
        "float_2 = float_1 + 1\n",
        "print (float_2)\n",
        "print(float_1 == float_2)"
      ]
    },
    {
      "cell_type": "code",
      "execution_count": null,
      "metadata": {
        "id": "ul4Mzt9dkQlo",
        "outputId": "24d5611f-7d9c-43eb-8c84-40bb9d30ba4e",
        "colab": {
          "base_uri": "https://localhost:8080/"
        }
      },
      "outputs": [
        {
          "output_type": "stream",
          "name": "stdout",
          "text": [
            "inf\n",
            "1e-323\n",
            "0.0\n"
          ]
        }
      ],
      "source": [
        "print(1e48*1e300)\n",
        "float_3 = 1e-322\n",
        "print(float_3 / 10)\n",
        "print(float_3 / 100)"
      ]
    },
    {
      "cell_type": "code",
      "execution_count": null,
      "metadata": {
        "id": "mSfSdB55kQlo",
        "outputId": "b4d8ffe9-7adf-479a-dd68-7b0c13a4211d",
        "scrolled": true,
        "colab": {
          "base_uri": "https://localhost:8080/"
        }
      },
      "outputs": [
        {
          "output_type": "stream",
          "name": "stdout",
          "text": [
            "False\n"
          ]
        }
      ],
      "source": [
        "print((2 ** .5) ** 2 == 2)"
      ]
    },
    {
      "cell_type": "markdown",
      "metadata": {
        "id": "C5AEklYSkQlp"
      },
      "source": [
        "### Números complejos,\n",
        "* #### Trabaja igual que en tus clases de matemáticas, pero en vez de i se usa la letra j para la parte imaginaria\n",
        "* #### Para mejor precision, podría ser mejor importar métodos especiales de la biblioteca cmath, en lugar de usar operadores estándares"
      ]
    },
    {
      "cell_type": "code",
      "execution_count": null,
      "metadata": {
        "id": "xO7IhWK2kQlp",
        "outputId": "106dce15-761a-4ddd-830f-fd5ac5571dfb",
        "scrolled": true,
        "colab": {
          "base_uri": "https://localhost:8080/"
        }
      },
      "outputs": [
        {
          "output_type": "stream",
          "name": "stdout",
          "text": [
            "(6.123233995736766e-17+1j)\n"
          ]
        }
      ],
      "source": [
        "print((-1 + 0j) ** .5)"
      ]
    },
    {
      "cell_type": "code",
      "execution_count": null,
      "metadata": {
        "id": "8XXYCrJekQlp",
        "outputId": "516dd9ef-e803-466f-b624-4293129f728d",
        "colab": {
          "base_uri": "https://localhost:8080/"
        }
      },
      "outputs": [
        {
          "output_type": "stream",
          "name": "stdout",
          "text": [
            "1j\n"
          ]
        }
      ],
      "source": [
        "from cmath import sqrt\n",
        "\n",
        "print(sqrt(-1))"
      ]
    },
    {
      "cell_type": "markdown",
      "metadata": {
        "id": "cEmCNzNYkQlp"
      },
      "source": [
        "### Decimales\n",
        "#### Decimales pueden ser tan precisos en comparacion de numeros de punto flotante"
      ]
    },
    {
      "cell_type": "code",
      "execution_count": null,
      "metadata": {
        "id": "jfSgZK-JkQlp",
        "outputId": "8902b7c8-2ec4-413b-d908-0aa494e58d88",
        "colab": {
          "base_uri": "https://localhost:8080/"
        }
      },
      "outputs": [
        {
          "output_type": "stream",
          "name": "stdout",
          "text": [
            "3.3000000000000003\n",
            "3.3\n"
          ]
        }
      ],
      "source": [
        "print (1.1 + 2.2)\n",
        "from decimal import Decimal, getcontext\n",
        "print(Decimal('1.1') + Decimal('2.2')  )"
      ]
    },
    {
      "cell_type": "code",
      "execution_count": null,
      "metadata": {
        "id": "Y8tWI-RVkQlp",
        "outputId": "793265d8-c14b-4e57-f5d5-222921ea7cf5",
        "colab": {
          "base_uri": "https://localhost:8080/"
        }
      },
      "outputs": [
        {
          "output_type": "stream",
          "name": "stdout",
          "text": [
            "3.3000000000000003\n",
            "3.3\n",
            "3.300000000000000266453525910\n"
          ]
        }
      ],
      "source": [
        "print(1.1+ 2.2)\n",
        "from decimal import Decimal, getcontext\n",
        "print(Decimal('1.1') + Decimal('2.2'))\n",
        "print(Decimal(1.1) + Decimal(2.2))"
      ]
    },
    {
      "cell_type": "code",
      "execution_count": null,
      "metadata": {
        "id": "4UjrSeWMkQlq"
      },
      "outputs": [],
      "source": [
        ""
      ]
    },
    {
      "cell_type": "markdown",
      "metadata": {
        "id": "lqsbiYRmkQlq"
      },
      "source": [
        "### Fracción\n",
        "#### Las fracciones funcionan como se esperaba y hacen toda la simplificación necesaria automáticamente"
      ]
    },
    {
      "cell_type": "code",
      "execution_count": null,
      "metadata": {
        "id": "KMyovyZskQlq",
        "outputId": "a14735d0-2cf2-4740-fee6-0e7a68308820",
        "colab": {
          "base_uri": "https://localhost:8080/"
        }
      },
      "outputs": [
        {
          "output_type": "stream",
          "name": "stdout",
          "text": [
            "0.30952380952380953\n",
            "13/42\n"
          ]
        }
      ],
      "source": [
        "print(1/7+1/6)\n",
        "from fractions import Fraction\n",
        "print(Fraction(1, 7) + Fraction(1, 6))"
      ]
    },
    {
      "cell_type": "markdown",
      "metadata": {
        "id": "gCeIWpMLkQlq"
      },
      "source": [
        "## Cadenas (Strings)"
      ]
    },
    {
      "cell_type": "code",
      "execution_count": null,
      "metadata": {
        "id": "aXkwxeiKkQlq",
        "outputId": "c72e388b-283a-4249-bdbb-b26412f3c4b2"
      },
      "outputs": [
        {
          "name": "stdout",
          "output_type": "stream",
          "text": [
            "True\n"
          ]
        }
      ],
      "source": [
        "string_1 = \"Text\"\n",
        "string_2 = 'Text'\n",
        "print (string_1 is string_2)"
      ]
    },
    {
      "cell_type": "code",
      "execution_count": null,
      "metadata": {
        "id": "gC3svX3VkQlq",
        "outputId": "3f8972c6-e3fa-4a31-9ff9-876b847cd5c4"
      },
      "outputs": [
        {
          "ename": "SyntaxError",
          "evalue": "EOL while scanning string literal (<ipython-input-34-fabc42ae5afc>, line 1)",
          "output_type": "error",
          "traceback": [
            "\u001b[1;36m  File \u001b[1;32m\"<ipython-input-34-fabc42ae5afc>\"\u001b[1;36m, line \u001b[1;32m1\u001b[0m\n\u001b[1;33m    string_1 = \"Text'\u001b[0m\n\u001b[1;37m                     ^\u001b[0m\n\u001b[1;31mSyntaxError\u001b[0m\u001b[1;31m:\u001b[0m EOL while scanning string literal\n"
          ]
        }
      ],
      "source": [
        "string_1 = \"Text'"
      ]
    },
    {
      "cell_type": "markdown",
      "metadata": {
        "id": "aO10xvegkQlq"
      },
      "source": [
        "### Sequencias de escape\n",
        "* #### Un Sequencia de escape le permite usar caracteres que de otro modo serían imposibles de poner en una cadena\n",
        "* #### Un Sequencia de escape consta de una barra invertida (\\) seguida del carácter que desea agregar a la cadena\n",
        "\n",
        "### Hay muchas sequencia de escape, eche un vistazo a los siguientes sitios web. Es bueno que sepas que todas estas posibilidades existen.\n",
        "* #### Resumen completo[(https://python-reference.readthedocs.io/en/latest/docs/str/escapes.html](https://python-reference.readthedocs.io/en/latest/ docs/str/escapes.html)\n",
        "* #### Códigos Unicode[https://en.wikipedia.org/wiki/List_of_Unicode_characters](https://en.wikipedia.org/wiki/List_of_Unicode_characters)\n",
        "* #### Nombres para caracteres Unicode[https://www.unicode.org/Public/9.0.0/ucd/UnicodeData.txt](https://www.unicode.org/Public/9.0.0/ucd /UnicodeData.txt)"
      ]
    },
    {
      "cell_type": "code",
      "execution_count": null,
      "metadata": {
        "id": "ovAJVwtxkQlr"
      },
      "outputs": [],
      "source": [
        "string = 'It's Monthy Python'\n",
        "print(string)"
      ]
    },
    {
      "cell_type": "code",
      "execution_count": null,
      "metadata": {
        "id": "fCgssoYzkQlr"
      },
      "outputs": [],
      "source": [
        "string = \"It's Monthy Python\"\n",
        "print(string)"
      ]
    },
    {
      "cell_type": "code",
      "execution_count": null,
      "metadata": {
        "id": "6AVMibKpkQlr",
        "outputId": "c49a1f22-01ec-4a35-cc6f-0c66cb0740b3"
      },
      "outputs": [
        {
          "name": "stdout",
          "output_type": "stream",
          "text": [
            "It's Monthy Python\n"
          ]
        }
      ],
      "source": [
        "string = 'It\\'s Monthy Python'\n",
        "print(string)"
      ]
    },
    {
      "cell_type": "code",
      "execution_count": null,
      "metadata": {
        "id": "aWopf9AskQlr",
        "outputId": "b10fc8f2-7ce4-46d4-d9f4-0638fc3eff7a",
        "scrolled": true
      },
      "outputs": [
        {
          "name": "stdout",
          "output_type": "stream",
          "text": [
            "\\\t'\t\"\n"
          ]
        }
      ],
      "source": [
        "string = \"\\\\\\t\\'\\t\\\"\"\n",
        "print(string)"
      ]
    },
    {
      "cell_type": "code",
      "execution_count": null,
      "metadata": {
        "id": "eIkFyx4ykQlr",
        "outputId": "89a06476-bfce-4ee2-80ed-37e244631701"
      },
      "outputs": [
        {
          "name": "stdout",
          "output_type": "stream",
          "text": [
            "text1\n",
            "text2\n"
          ]
        }
      ],
      "source": [
        "string = \"text1\\ntext2\"\n",
        "print(string)"
      ]
    },
    {
      "cell_type": "code",
      "execution_count": null,
      "metadata": {
        "id": "E06QacMGkQlr",
        "outputId": "e44a2f00-39ae-4ff6-e7c4-0b6aca517611",
        "scrolled": true
      },
      "outputs": [
        {
          "name": "stdout",
          "output_type": "stream",
          "text": [
            "¥\n",
            "¥\n"
          ]
        }
      ],
      "source": [
        "print(\"\\u00A5\")\n",
        "print(\"\\N{YEN SIGN}\")"
      ]
    },
    {
      "cell_type": "markdown",
      "metadata": {
        "id": "RRmdv6T8kQlr"
      },
      "source": [
        "### cadenas de varias líneas\n",
        "#### Si desea una cadena que abarque varias líneas, simplemente comience con tres comillas simples o comillas dobles y termínelas con las mismas tres comillas simples o comillas dobles"
      ]
    },
    {
      "cell_type": "code",
      "execution_count": null,
      "metadata": {
        "id": "aHg9s3VfkQls",
        "outputId": "437bb01f-31bb-4e2a-95fb-df46b6d2250e",
        "scrolled": true
      },
      "outputs": [
        {
          "name": "stdout",
          "output_type": "stream",
          "text": [
            "text1\n",
            "text2\n"
          ]
        }
      ],
      "source": [
        "string_1 = \"\"\"text1\n",
        "text2\"\"\"\n",
        "print(string_1)"
      ]
    },
    {
      "cell_type": "code",
      "execution_count": null,
      "metadata": {
        "id": "dV80qBWckQls",
        "scrolled": true
      },
      "outputs": [],
      "source": [
        "string_1 = '''text1\n",
        "text2'''\n",
        "print(string_1)"
      ]
    },
    {
      "cell_type": "code",
      "execution_count": null,
      "metadata": {
        "id": "ZQQZ2NPfkQls",
        "outputId": "22baa1ee-fd5b-40b2-8713-04c1e64bebe3",
        "scrolled": true
      },
      "outputs": [
        {
          "name": "stdout",
          "output_type": "stream",
          "text": [
            "text1\n",
            "\"text2\" \n"
          ]
        }
      ],
      "source": [
        "string_1 = \"\"\"text1\n",
        "\"text2\" \"\"\"\n",
        "print(string_1)"
      ]
    },
    {
      "cell_type": "markdown",
      "metadata": {
        "id": "lasgtFmikQls"
      },
      "source": [
        "#### Your may prefer to start a multiline comment on the 'next' line. In that case you should add a backslash, otherwise an extra blank line will be printed"
      ]
    },
    {
      "cell_type": "code",
      "execution_count": null,
      "metadata": {
        "id": "GX2kAwNlkQls",
        "outputId": "0c56800c-41e2-4431-944c-a8090c117aca",
        "scrolled": true
      },
      "outputs": [
        {
          "name": "stdout",
          "output_type": "stream",
          "text": [
            "text1\n",
            "text2\n",
            "\n"
          ]
        }
      ],
      "source": [
        "string_1 = \"\"\"\\\n",
        "text1\n",
        "text2\n",
        "\"\"\"\n",
        "print(string_1)"
      ]
    },
    {
      "cell_type": "code",
      "execution_count": null,
      "metadata": {
        "id": "GZa4eL8ckQls",
        "outputId": "2844f10d-3ee1-4efa-9737-ac320a57e189",
        "scrolled": true
      },
      "outputs": [
        {
          "name": "stdout",
          "output_type": "stream",
          "text": [
            "\n",
            "text1\n",
            "text2\n",
            "\n"
          ]
        }
      ],
      "source": [
        "string_1 = \"\"\"\n",
        "text1\n",
        "text2\n",
        "\"\"\"\n",
        "print(string_1)"
      ]
    },
    {
      "cell_type": "markdown",
      "metadata": {
        "id": "1GlG5w8YkQls"
      },
      "source": [
        "### Indexación de un carácter en una cadena\n",
        "#### Un índice no negativo indexa desde la izquierda, donde 0 se refiere al carácter más a la izquierda\n",
        "#### Un índice negativo indexa desde la derecha, donde -1 se refiere al carácter más a la derecha\n",
        "#### Si su índice va más allá de los caracteres disponibles en la cadena, obtiene un IndexError"
      ]
    },
    {
      "cell_type": "code",
      "execution_count": null,
      "metadata": {
        "id": "55fMvGO4kQlt"
      },
      "outputs": [],
      "source": [
        "string_1 = '12345'"
      ]
    },
    {
      "cell_type": "code",
      "execution_count": null,
      "metadata": {
        "id": "ABpaAv64kQlt"
      },
      "outputs": [],
      "source": [
        "print(string_1[0])\n",
        "print(string_1[3])"
      ]
    },
    {
      "cell_type": "code",
      "execution_count": null,
      "metadata": {
        "id": "7YnrF3HTkQlt"
      },
      "outputs": [],
      "source": [
        "print(string_1[-1])\n",
        "print(string_1[-3])"
      ]
    },
    {
      "cell_type": "code",
      "execution_count": null,
      "metadata": {
        "id": "VNqTbq5GkQlt"
      },
      "outputs": [],
      "source": [
        "print(string_1[5])"
      ]
    },
    {
      "cell_type": "code",
      "execution_count": null,
      "metadata": {
        "id": "r8vh_nEUkQlt"
      },
      "outputs": [],
      "source": [
        "print(string_1[-6])"
      ]
    },
    {
      "cell_type": "markdown",
      "metadata": {
        "id": "BzPiY5v6kQlt"
      },
      "source": [
        "### Cortar un conjunto de caracteres de una cadena con [start:end]\n",
        "#### Inicio indica el primer carácter de la cadena que debe seleccionarse, fin - 1 indica el último carácter que debe seleccionarse\n",
        "#### Si se omite el primer índice, el valor predeterminado es 0, si se omite el último índice, el valor predeterminado es la longitud de la cadena"
      ]
    },
    {
      "cell_type": "code",
      "execution_count": null,
      "metadata": {
        "id": "gAycEXHxkQlt"
      },
      "outputs": [],
      "source": [
        "string_1 = '12345'\n",
        "print(string_1[1:3])"
      ]
    },
    {
      "cell_type": "code",
      "execution_count": null,
      "metadata": {
        "id": "286W0HWAkQlt"
      },
      "outputs": [],
      "source": [
        "print(string_1[-4:-2])"
      ]
    },
    {
      "cell_type": "code",
      "execution_count": null,
      "metadata": {
        "id": "dEFi_sKskQlt"
      },
      "outputs": [],
      "source": [
        "print(string_1[:3])\n",
        "print(string_1[3:])\n",
        "print(string_1[:])"
      ]
    },
    {
      "cell_type": "code",
      "execution_count": null,
      "metadata": {
        "id": "SC0yvCOYkQlu"
      },
      "outputs": [],
      "source": [
        "print(string_1[-2:])\n",
        "print(string_1[:-2])"
      ]
    },
    {
      "cell_type": "markdown",
      "metadata": {
        "id": "ac7iAfZVkQlu"
      },
      "source": [
        "### Cortar una cadena agregando un contador de pasos [inicio:fin:paso]\n",
        "#### Si el contador de pasos es positivo indica que se deben seleccionar los caracteres con inicio de índice + tiempos de paso 0,1,2, ...\n",
        "#### Si el paso del contador de pasos es negativo, indica que se deben seleccionar los caracteres con fin de índice - paso por 0,1,2, ...\n",
        "### Sin embargo, tenemos que dejar de seleccionar cuando la selección alcanza (o va más allá) del carácter indicado por el índice final\n",
        "### Si no se proporciona un valor de paso, el valor predeterminado es 1"
      ]
    },
    {
      "cell_type": "code",
      "execution_count": null,
      "metadata": {
        "id": "6t6HpFY_kQlu",
        "outputId": "cd0d99e6-7257-4f34-b4f5-625a62044076"
      },
      "outputs": [
        {
          "name": "stdout",
          "output_type": "stream",
          "text": [
            "2345\n",
            "543\n",
            "\n",
            "\n"
          ]
        }
      ],
      "source": [
        "string_1 = '12345'\n",
        "print(string_1[1:5:1])\n",
        "print(string_1[5:1:-1])\n",
        "print(string_1[1:5:-1]) \n",
        "# no selecciona nada: desde el principio hasta el final tiene que estar en la misma dirección que el contador de pasos\n",
        "# si el contador de pasos es positivo la posición indicada por fin tiene que estar a la derecha de la posición indicada por inicio\n",
        "# si el contador de pasos es negativo, la posición indicada por el final tiene que estar a la izquierda de la posición indicada por el inicio\n",
        "print(string_1[5:1:1])  "
      ]
    },
    {
      "cell_type": "code",
      "execution_count": null,
      "metadata": {
        "id": "sG1zMMbXkQlu",
        "outputId": "7a020f5e-50c1-4814-9390-982c6070859b"
      },
      "outputs": [
        {
          "name": "stdout",
          "output_type": "stream",
          "text": [
            "24\n",
            "53\n"
          ]
        }
      ],
      "source": [
        "print(string_1[1:5:2])\n",
        "print(string_1[5:1:-2])"
      ]
    },
    {
      "cell_type": "code",
      "execution_count": null,
      "metadata": {
        "id": "k25UBdC8kQlu",
        "outputId": "9c69ce6d-44a8-4481-eecd-e10f278cfaa3"
      },
      "outputs": [
        {
          "name": "stdout",
          "output_type": "stream",
          "text": [
            "54\n",
            "54321\n"
          ]
        }
      ],
      "source": [
        "print(string_1[:2:-1])\n",
        "print(string_1[::-1])"
      ]
    },
    {
      "cell_type": "markdown",
      "metadata": {
        "id": "qSAXyNAgkQlu"
      },
      "source": [
        "### Editando cadenas(string)\n",
        "#### Le mostramos un método, hay más pero no los tratamos en el curso porque son menos flexibles y legibles. Menos Pythonico como diría un verdadero creyente de Python"
      ]
    },
    {
      "cell_type": "code",
      "execution_count": null,
      "metadata": {
        "id": "llVAKzN6kQlu"
      },
      "outputs": [],
      "source": [
        "name = \"Person\""
      ]
    },
    {
      "cell_type": "code",
      "execution_count": null,
      "metadata": {
        "id": "K-vTO3ZAkQlu",
        "outputId": "e90dea20-cc43-4941-87ce-eb19103fb846"
      },
      "outputs": [
        {
          "name": "stdout",
          "output_type": "stream",
          "text": [
            "Hello Person and other person\n",
            "Do you want 4 coffee\n"
          ]
        }
      ],
      "source": [
        "name = \"Person\"\n",
        "amount = 2\n",
        "string = f\"Hello {name} and {'other person'}\\nDo you want {amount*2} coffee\" \n",
        "print (string)"
      ]
    },
    {
      "cell_type": "code",
      "execution_count": null,
      "metadata": {
        "id": "PpLnJ0zNkQlu",
        "outputId": "ecacc028-9cbf-4860-a139-281663a9a8b0",
        "colab": {
          "base_uri": "https://localhost:8080/"
        }
      },
      "outputs": [
        {
          "output_type": "stream",
          "name": "stdout",
          "text": [
            "Hello Person and persona 2 \n",
            " Do you want 4 coffee\n",
            "Hellosuma\n"
          ]
        }
      ],
      "source": [
        "name = \"Person\"\n",
        "cantidad = 2\n",
        "string = f\"Hello {name} and {'persona 2'} \\n Do you want {cantidad*2} coffee\"\n",
        "print (string)\n",
        "print('Hello'+'suma')"
      ]
    },
    {
      "cell_type": "markdown",
      "metadata": {
        "id": "ex_xJByRkQlv"
      },
      "source": [
        "## Booleans"
      ]
    },
    {
      "cell_type": "code",
      "execution_count": null,
      "metadata": {
        "id": "fMW5WExqkQlv"
      },
      "outputs": [],
      "source": [
        "age = 70\n",
        "blood_type = 'A'\n",
        "print(age > 15)\n",
        "print(age < 60)\n",
        "print(blood_type == 'A')\n",
        "print(blood_type == 'B')"
      ]
    },
    {
      "cell_type": "code",
      "execution_count": null,
      "metadata": {
        "id": "2vGyop4qkQlv"
      },
      "outputs": [],
      "source": [
        "print(age > 15 and age < 60)\n",
        "print(15 < age < 60)"
      ]
    },
    {
      "cell_type": "code",
      "execution_count": null,
      "metadata": {
        "id": "VfXpCLTkkQlv",
        "scrolled": true
      },
      "outputs": [],
      "source": [
        "print(age > 15 and (blood_type == 'A' or blood_type == 'B'))"
      ]
    },
    {
      "cell_type": "markdown",
      "metadata": {
        "id": "6QW4cg8KkQlv"
      },
      "source": [
        "### Si usa ciertos objetos en una configuración de booleans, se verán como Verdadero o Falso\n",
        "### Los siguientes valores se verán como falsos, todos los demás como verdaderos. En lenguaje informático llamamos a estos valores False y a todos los demás True"
      ]
    },
    {
      "cell_type": "code",
      "execution_count": null,
      "metadata": {
        "id": "xxdPT1sikQlv",
        "outputId": "db8b0cc8-5b8a-4745-f003-9a9d01c9d5d6"
      },
      "outputs": [
        {
          "name": "stdout",
          "output_type": "stream",
          "text": [
            "False\n",
            "False\n",
            "False\n",
            "False\n",
            "False\n",
            "False\n",
            "False\n",
            "False\n",
            "False\n",
            "False\n",
            "False\n",
            "False\n"
          ]
        }
      ],
      "source": [
        "from decimal import Decimal\n",
        "from fractions import Fraction\n",
        "print(bool(None))\n",
        "print(bool(False))\n",
        "print(bool(\"\"))\n",
        "print(bool(0))\n",
        "print(bool(0.0))\n",
        "print(bool(0j))\n",
        "print(bool(Decimal(0)))\n",
        "print(bool(Fraction(0, 1)))\n",
        "print(bool([]))\n",
        "print(bool({}))\n",
        "print(bool(tuple()))\n",
        "print(bool(set()))"
      ]
    },
    {
      "cell_type": "markdown",
      "metadata": {
        "id": "0-JYXdUxkQlv"
      },
      "source": [
        "### 'and' y 'or'"
      ]
    },
    {
      "cell_type": "code",
      "execution_count": null,
      "metadata": {
        "id": "zITCoAx2kQlv",
        "outputId": "c63620bf-122d-405a-e515-eccbbd50f2e6"
      },
      "outputs": [
        {
          "name": "stdout",
          "output_type": "stream",
          "text": [
            "True\n",
            "True\n",
            "True\n",
            "False\n",
            "True\n",
            "False\n",
            "False\n",
            "False\n"
          ]
        }
      ],
      "source": [
        "print(True or True)\n",
        "print(True and True)\n",
        "\n",
        "print(True or False)\n",
        "print(True and False)\n",
        "\n",
        "print(False or True)\n",
        "print(False and True)\n",
        "\n",
        "print(False or False)\n",
        "print(False and False)"
      ]
    },
    {
      "cell_type": "markdown",
      "metadata": {
        "id": "8G9iBXIskQlw"
      },
      "source": [
        "### Parece simple, pero en realidad Python devuelve el valor que hace and , or sean definitivamente verdaderos o falsos.\n",
        "\n",
        "## Imprime el primer valor de verdadero"
      ]
    },
    {
      "cell_type": "code",
      "execution_count": null,
      "metadata": {
        "id": "aNIxPSw5kQlw",
        "outputId": "6df76b40-865c-4fdb-ae64-426b8f977332",
        "scrolled": true,
        "colab": {
          "base_uri": "https://localhost:8080/"
        }
      },
      "outputs": [
        {
          "output_type": "stream",
          "name": "stdout",
          "text": [
            "Default value\n",
            "1\n"
          ]
        }
      ],
      "source": [
        "print(\"\" or \"Default value\")\n",
        "print(\"1\" or \"Default value\")"
      ]
    },
    {
      "cell_type": "markdown",
      "metadata": {
        "id": "UDxKT5hkkQlw"
      },
      "source": [
        "### Use de not"
      ]
    },
    {
      "cell_type": "code",
      "execution_count": null,
      "metadata": {
        "id": "2VZhQa5wkQlw",
        "outputId": "2eda9089-403a-4fac-88e9-c9c9e1afb04b",
        "scrolled": true
      },
      "outputs": [
        {
          "name": "stdout",
          "output_type": "stream",
          "text": [
            "False\n",
            "True\n",
            "False\n",
            "True\n"
          ]
        }
      ],
      "source": [
        "print(not True)\n",
        "print(not False)\n",
        "\n",
        "print(not '1')\n",
        "print(not '')"
      ]
    },
    {
      "cell_type": "code",
      "execution_count": null,
      "metadata": {
        "id": "6xXNNZhJkQlw",
        "outputId": "89ec711e-f8ea-4fab-9e26-b88de9e2394e"
      },
      "outputs": [
        {
          "name": "stdout",
          "output_type": "stream",
          "text": [
            "Bye, bye\n"
          ]
        }
      ],
      "source": [
        "boolean = True\n",
        "\n",
        "if boolean == True:\n",
        "    print('Bye, bye')\n",
        "else:\n",
        "    print(1 + '1')"
      ]
    },
    {
      "cell_type": "code",
      "execution_count": null,
      "metadata": {
        "id": "Mk-QgYIzkQlw",
        "outputId": "59e864d3-9341-4f50-d478-a1b0cc2597e3"
      },
      "outputs": [
        {
          "ename": "TypeError",
          "evalue": "unsupported operand type(s) for +: 'int' and 'str'",
          "output_type": "error",
          "traceback": [
            "\u001b[1;31m---------------------------------------------------------------------------\u001b[0m",
            "\u001b[1;31mTypeError\u001b[0m                                 Traceback (most recent call last)",
            "\u001b[1;32m<ipython-input-80-27db96822add>\u001b[0m in \u001b[0;36m<module>\u001b[1;34m\u001b[0m\n\u001b[0;32m      1\u001b[0m \u001b[0mboolean\u001b[0m\u001b[1;33m=\u001b[0m\u001b[1;32mTrue\u001b[0m\u001b[1;33m\u001b[0m\u001b[1;33m\u001b[0m\u001b[0m\n\u001b[0;32m      2\u001b[0m \u001b[1;32mif\u001b[0m \u001b[0mboolean\u001b[0m \u001b[1;33m==\u001b[0m \u001b[1;32mTrue\u001b[0m\u001b[1;33m:\u001b[0m\u001b[1;33m\u001b[0m\u001b[1;33m\u001b[0m\u001b[0m\n\u001b[1;32m----> 3\u001b[1;33m      \u001b[0mprint\u001b[0m\u001b[1;33m(\u001b[0m\u001b[1;36m1\u001b[0m \u001b[1;33m+\u001b[0m \u001b[1;34m'1'\u001b[0m\u001b[1;33m)\u001b[0m\u001b[1;33m\u001b[0m\u001b[1;33m\u001b[0m\u001b[0m\n\u001b[0m\u001b[0;32m      4\u001b[0m \u001b[1;32melse\u001b[0m\u001b[1;33m:\u001b[0m\u001b[1;33m\u001b[0m\u001b[1;33m\u001b[0m\u001b[0m\n\u001b[0;32m      5\u001b[0m     \u001b[0mprint\u001b[0m\u001b[1;33m(\u001b[0m\u001b[1;34m'Bye, bye'\u001b[0m\u001b[1;33m)\u001b[0m\u001b[1;33m\u001b[0m\u001b[1;33m\u001b[0m\u001b[0m\n",
            "\u001b[1;31mTypeError\u001b[0m: unsupported operand type(s) for +: 'int' and 'str'"
          ]
        }
      ],
      "source": [
        "boolean=True\n",
        "if boolean == True:\n",
        "     print(1 + '1')\n",
        "else:\n",
        "    print('Bye, bye')"
      ]
    },
    {
      "cell_type": "markdown",
      "metadata": {
        "id": "I1HdZjoikQlx"
      },
      "source": [
        "### Python hace poca conversión de tipos, en comparación con otros lenguajes"
      ]
    },
    {
      "cell_type": "code",
      "execution_count": null,
      "metadata": {
        "id": "uV74W98kkQlx",
        "outputId": "6d61fedb-a821-4b5d-bd02-a8c6a7acd63d",
        "scrolled": true
      },
      "outputs": [
        {
          "ename": "TypeError",
          "evalue": "unsupported operand type(s) for +: 'int' and 'str'",
          "output_type": "error",
          "traceback": [
            "\u001b[1;31m---------------------------------------------------------------------------\u001b[0m",
            "\u001b[1;31mTypeError\u001b[0m                                 Traceback (most recent call last)",
            "\u001b[1;32m<ipython-input-83-cd5e5f4d809d>\u001b[0m in \u001b[0;36m<module>\u001b[1;34m\u001b[0m\n\u001b[1;32m----> 1\u001b[1;33m \u001b[0mprint\u001b[0m\u001b[1;33m(\u001b[0m\u001b[1;36m1\u001b[0m \u001b[1;33m+\u001b[0m \u001b[1;34m'1'\u001b[0m\u001b[1;33m)\u001b[0m\u001b[1;33m\u001b[0m\u001b[1;33m\u001b[0m\u001b[0m\n\u001b[0m",
            "\u001b[1;31mTypeError\u001b[0m: unsupported operand type(s) for +: 'int' and 'str'"
          ]
        }
      ],
      "source": [
        "print(1 + '1')"
      ]
    },
    {
      "cell_type": "markdown",
      "metadata": {
        "id": "uE7OPxeWkQlx"
      },
      "source": [
        "### A pesar de que lo siguinete funciona las transformaciones implicitas solo funcionan entre los mismo tipos de datos, numeros con numeros de punto flotante"
      ]
    },
    {
      "cell_type": "code",
      "execution_count": null,
      "metadata": {
        "id": "aPQPtmYAkQlx",
        "outputId": "7244124a-47a6-4dcb-d2f5-5dc7ebaf4820",
        "scrolled": true
      },
      "outputs": [
        {
          "name": "stdout",
          "output_type": "stream",
          "text": [
            "2.0\n"
          ]
        }
      ],
      "source": [
        "print(1 + 1.0)"
      ]
    },
    {
      "cell_type": "code",
      "execution_count": null,
      "metadata": {
        "id": "XmG-aWxbkQlx",
        "outputId": "1d5919a8-751f-4fd6-b5a4-ecb1e482fddd",
        "scrolled": true
      },
      "outputs": [
        {
          "name": "stdout",
          "output_type": "stream",
          "text": [
            "2.0\n",
            "2\n"
          ]
        }
      ],
      "source": [
        "print(float(1) + 1.0)\n",
        "print(1 + int(1.0))"
      ]
    },
    {
      "cell_type": "markdown",
      "metadata": {
        "id": "AJVUoAqHkQlx"
      },
      "source": [
        "### En Python, a menudo puedes hacer una conversión de tipo explícita"
      ]
    },
    {
      "cell_type": "code",
      "execution_count": null,
      "metadata": {
        "id": "xG0ROswpkQlx",
        "outputId": "91fc7de1-41d1-4d6a-80f4-753fe739af9c"
      },
      "outputs": [
        {
          "name": "stdout",
          "output_type": "stream",
          "text": [
            "2\n"
          ]
        }
      ],
      "source": [
        "value= 1 + int('1')\n",
        "print(value)"
      ]
    },
    {
      "cell_type": "code",
      "execution_count": null,
      "metadata": {
        "id": "uSKD-mC1kQlx",
        "outputId": "f10e3023-6f82-4d16-a937-0aaa6f1cdbf0"
      },
      "outputs": [
        {
          "name": "stdout",
          "output_type": "stream",
          "text": [
            "1\n",
            "1.0\n",
            "True\n"
          ]
        }
      ],
      "source": [
        "print(int('1'))\n",
        "print(float('1'))\n",
        "print(bool('1'))"
      ]
    },
    {
      "cell_type": "code",
      "execution_count": null,
      "metadata": {
        "id": "JHM-k0AdkQly",
        "outputId": "ca316648-1f64-4dbb-c65e-4723a9203bb2"
      },
      "outputs": [
        {
          "name": "stdout",
          "output_type": "stream",
          "text": [
            "False\n"
          ]
        }
      ],
      "source": [
        "print(1 == '1')"
      ]
    },
    {
      "cell_type": "code",
      "execution_count": null,
      "metadata": {
        "id": "VSOykLTgkQly",
        "outputId": "7f431ab4-567f-43d3-e2fe-e9b6db9cc3a3"
      },
      "outputs": [
        {
          "name": "stdout",
          "output_type": "stream",
          "text": [
            "True\n"
          ]
        }
      ],
      "source": [
        "print(str(1) == '1')"
      ]
    },
    {
      "cell_type": "markdown",
      "metadata": {
        "id": "16V5hCz_kQly"
      },
      "source": [
        "# Collecciones"
      ]
    },
    {
      "cell_type": "markdown",
      "metadata": {
        "id": "3fDaAi91kQly"
      },
      "source": [
        "## Una colección es un objeto cuyo valor es una colección de direcciones, cada dirección de esa colección apunta a (la dirección de) un objeto separado\n",
        "## Si decimos con referencia a colecciones, que una colección es inmutable o mutable nos referimos a los objetos individuales señalados por esas direcciones, en la colección la mutabilidad se decide por el tipo de objeto individual"
      ]
    },
    {
      "cell_type": "markdown",
      "metadata": {
        "id": "btGirsKXkQly"
      },
      "source": [
        "## Listas\n",
        "### Las listas son mutables"
      ]
    },
    {
      "cell_type": "code",
      "execution_count": null,
      "metadata": {
        "id": "8fcpg74fkQly"
      },
      "outputs": [],
      "source": [
        "list_1 = [1, 2, 3]\n",
        "print(f\"The value of list_1 is {list_1} and its address is {id(list_1)}\")\n",
        "list_1[1] = 1\n",
        "print(f\"The value of list_1 is {list_1} and its address is {id(list_1)}\")"
      ]
    },
    {
      "cell_type": "code",
      "execution_count": null,
      "metadata": {
        "id": "Nj_SRKPMkQly"
      },
      "outputs": [],
      "source": [
        "list_1 = [1, 2, 3]\n",
        "print(f\"The value of list_1 is {list_1} and its address is {id(list_1)}\")\n",
        "list_1 = [1, 1, 3]\n",
        "print(f\"The value of list_1 is {list_1} and its address is {id(list_1)}\")"
      ]
    },
    {
      "cell_type": "code",
      "execution_count": null,
      "metadata": {
        "id": "SMUNNl5MkQlz"
      },
      "outputs": [],
      "source": [
        "list_1 = [1, 2, 3]\n",
        "print(f\"The value of list_1 is {list_1} and its address is {id(list_1)}\")\n",
        "list_1 = []\n",
        "print(f\"The value of list_1 is {list_1} and its address is {id(list_1)}\")"
      ]
    },
    {
      "cell_type": "markdown",
      "metadata": {
        "id": "8mWGdFE_kQlz"
      },
      "source": [
        "### Creacion de lista"
      ]
    },
    {
      "cell_type": "code",
      "execution_count": null,
      "metadata": {
        "id": "7hWp6TtDkQlz"
      },
      "outputs": [],
      "source": [
        "from decimal import Decimal\n",
        "from fractions import Fraction\n",
        "# Puedes guardar lo que sea en una lista\n",
        "list_1 = ['A', True, 1,2.0, Decimal(1), Fraction(1,3)] \n",
        "print(list_1)"
      ]
    },
    {
      "cell_type": "markdown",
      "metadata": {
        "id": "7VPnV0CmkQlz"
      },
      "source": [
        "### Indexación de un elemento en una lista (esto funciona igual que la indexación y el recorte de una cadena, así que si entiende que esto debería ser fácil\n",
        "#### Un índice no negativo indexa desde la izquierda, donde 0 se refiere al elemento más a la izquierda\n",
        "#### Un índice negativo indexa desde la derecha, donde -1 se refiere al elemento más a la derecha\n",
        "#### Si su índice va más allá de los elementos disponibles en la lista, obtiene un IndexError"
      ]
    },
    {
      "cell_type": "code",
      "execution_count": null,
      "metadata": {
        "id": "p3ao3sEJkQlz"
      },
      "outputs": [],
      "source": [
        "list_1 = [1,2,3,4,5]"
      ]
    },
    {
      "cell_type": "code",
      "execution_count": null,
      "metadata": {
        "id": "e-LMz_ECkQlz",
        "colab": {
          "base_uri": "https://localhost:8080/"
        },
        "outputId": "9a3c279f-45df-4587-cf9c-c217758d8558"
      },
      "outputs": [
        {
          "output_type": "stream",
          "name": "stdout",
          "text": [
            "1\n",
            "4\n"
          ]
        }
      ],
      "source": [
        "print(list_1[0])\n",
        "print(list_1[3])"
      ]
    },
    {
      "cell_type": "code",
      "execution_count": null,
      "metadata": {
        "id": "ckm0NsiDkQlz",
        "colab": {
          "base_uri": "https://localhost:8080/"
        },
        "outputId": "6fc244a5-c40f-46b2-d5f1-d5577822e30a"
      },
      "outputs": [
        {
          "output_type": "stream",
          "name": "stdout",
          "text": [
            "5\n",
            "3\n"
          ]
        }
      ],
      "source": [
        "print(list_1[-1])\n",
        "print(list_1[-3])"
      ]
    },
    {
      "cell_type": "code",
      "execution_count": null,
      "metadata": {
        "id": "Y3yBDuQWkQlz"
      },
      "outputs": [],
      "source": [
        "print(list_1[5])"
      ]
    },
    {
      "cell_type": "code",
      "execution_count": null,
      "metadata": {
        "id": "SyufP3HmkQlz"
      },
      "outputs": [],
      "source": [
        "print(list_1[-6])"
      ]
    },
    {
      "cell_type": "markdown",
      "metadata": {
        "id": "hD5sFWnPkQl0"
      },
      "source": [
        "### Cortar un conjunto de elementos de una lista con [start:end]\n",
        "#### Inicio indica el primer elemento de la lista que debe seleccionarse, fin - 1 indica el último elemento que debe seleccionarse\n",
        "#### Si se omite el primer índice, el valor predeterminado es 0, si se omite el último índice, el valor predeterminado es la longitud de la lista"
      ]
    },
    {
      "cell_type": "code",
      "execution_count": null,
      "metadata": {
        "id": "FWP2ZuI5kQl0",
        "colab": {
          "base_uri": "https://localhost:8080/"
        },
        "outputId": "8a13534b-86a8-4cc9-878f-0faba928f5f7"
      },
      "outputs": [
        {
          "output_type": "stream",
          "name": "stdout",
          "text": [
            "[2, 3]\n",
            "[3]\n"
          ]
        }
      ],
      "source": [
        "print(list_1[1:3])\n",
        "print(list_1[-3:-2])"
      ]
    },
    {
      "cell_type": "code",
      "execution_count": null,
      "metadata": {
        "id": "8qi_ch5ZkQl0",
        "colab": {
          "base_uri": "https://localhost:8080/"
        },
        "outputId": "cbc13cef-a7b6-4aaf-da6f-4f80a721f921"
      },
      "outputs": [
        {
          "output_type": "stream",
          "name": "stdout",
          "text": [
            "[1, 2, 3]\n",
            "[4, 5]\n",
            "[1, 2, 3, 4, 5]\n"
          ]
        }
      ],
      "source": [
        "print(list_1[:3])\n",
        "print(list_1[3:])\n",
        "print(list_1[:])"
      ]
    },
    {
      "cell_type": "code",
      "execution_count": null,
      "metadata": {
        "id": "PH59qtIPkQl0"
      },
      "outputs": [],
      "source": [
        "print(list_1[-2:])\n",
        "print(list_1[:-2])"
      ]
    },
    {
      "cell_type": "markdown",
      "metadata": {
        "id": "UxZEi0ClkQl0"
      },
      "source": [
        "### Cortar una lista agregando un contador de pasos [inicio:fin:paso]\n",
        "#### Si el contador de pasos es positivo indica que se deben seleccionar los elementos con inicio de índice + tiempos de paso 0,1,2, ...\n",
        "#### Si el contador de pasos es negativo indica que se deben seleccionar los elementos con final de índice - tiempos de paso 0,1,2, ...\n",
        "### Sin embargo, tenemos que dejar de seleccionar cuando la selección alcanza (o va más allá) del elemento indicado por el índice final\n",
        "### Si no se proporciona un valor de paso, el valor predeterminado es 1"
      ]
    },
    {
      "cell_type": "code",
      "execution_count": null,
      "metadata": {
        "id": "63tPguPBkQl0",
        "colab": {
          "base_uri": "https://localhost:8080/"
        },
        "outputId": "15e2f816-8ed9-467a-ae03-87424c9f7d00"
      },
      "outputs": [
        {
          "output_type": "stream",
          "name": "stdout",
          "text": [
            "[2, 3, 4, 5]\n",
            "[5, 4, 3]\n",
            "[]\n",
            "[]\n"
          ]
        }
      ],
      "source": [
        "print(list_1[1:5:1])\n",
        "print(list_1[5:1:-1])\n",
        "print(list_1[1:5:-1]) \n",
        "# no selecciona nada: desde el principio hasta el final tiene que estar en la misma dirección que el contador de pasos\n",
        "# si el contador de pasos es positivo la posición indicada por fin tiene que estar a la derecha de la posición indicada por inicio\n",
        "# si el contador de pasos es negativo, la posición indicada por el final tiene que estar a la izquierda de la posición indicada por el inicio\n",
        "print(list_1[5:1:1])  \n",
        "# no selecciona nada: desde el principio hasta el final tiene que estar en la misma dirección que el contador de pasos\n",
        "# si el contador de pasos es positivo la posición indicada por fin tiene que estar a la derecha de la posición indicada por inicio\n",
        "# si el contador de pasos es negativo, la posición indicada por el final tiene que estar a la izquierda de la posición indicada por el inicio"
      ]
    },
    {
      "cell_type": "code",
      "execution_count": null,
      "metadata": {
        "id": "i9Q5sOSUkQl0"
      },
      "outputs": [],
      "source": [
        "print(list_1[1:5:2])\n",
        "print(list_1[5:1:-2])"
      ]
    },
    {
      "cell_type": "code",
      "execution_count": null,
      "metadata": {
        "id": "qTKaUJC_kQl0"
      },
      "outputs": [],
      "source": [
        "print(list_1[:2:-1])\n",
        "print(list_1[::-1])"
      ]
    },
    {
      "cell_type": "code",
      "execution_count": 9,
      "metadata": {
        "id": "Uxfu0VVYkQl0",
        "colab": {
          "base_uri": "https://localhost:8080/"
        },
        "outputId": "3ad20561-63d3-4bbb-95b9-bab748557eb9"
      },
      "outputs": [
        {
          "output_type": "stream",
          "name": "stdout",
          "text": [
            "True\n",
            "True\n",
            "False\n"
          ]
        }
      ],
      "source": [
        "list_1 = ['1', '2', '3', '4', '5']\n",
        "list_2 = list_1\n",
        "list_3 = list_1[:]\n",
        "print(list_1 == list_2 == list_3)\n",
        "print(list_1 is list_2)\n",
        "print(list_1 is list_3)"
      ]
    },
    {
      "cell_type": "markdown",
      "metadata": {
        "id": "74jFHgD6kQl1"
      },
      "source": [
        "### Cortar con [:] crea una copia de una lista con los mismos valores (direcciones de elementos) pero una identificación diferente, por lo que se crea un nuevo objeto"
      ]
    },
    {
      "cell_type": "code",
      "execution_count": 10,
      "metadata": {
        "id": "rNLuliQIkQl1",
        "colab": {
          "base_uri": "https://localhost:8080/"
        },
        "outputId": "184eb005-102d-422f-dab4-c7f9b41cd92b"
      },
      "outputs": [
        {
          "output_type": "stream",
          "name": "stdout",
          "text": [
            "True\n",
            "False\n",
            "True\n"
          ]
        }
      ],
      "source": [
        "list_1 = [1, 2, 3]\n",
        "list_2 = list_1 \n",
        "# El objeto [1, 2, 3] ahora tiene dos nombres\n",
        "print(list_1 is list_2)\n",
        "list_3 = list_2[:]\n",
        "# list_2[:] crea un nuevo objeto, sin embargo con el mismo contenido [1, 2, 3], pero diferente id \n",
        "print(list_2 is list_3)\n",
        "print(list_2 == list_3)"
      ]
    },
    {
      "cell_type": "markdown",
      "metadata": {
        "id": "iuWv-mMBkQl1"
      },
      "source": [
        "### Las listas pueden contener listas y formar tablas de múltiples dimensiones\n",
        "#### Un ejemplo de tres en raya [https://en.wikipedia.org/wiki/Tic-tac-toe](https://en.wikipedia.org/wiki/Tic-tac-toe)"
      ]
    },
    {
      "cell_type": "code",
      "execution_count": null,
      "metadata": {
        "id": "nFZZyxRjkQl1",
        "colab": {
          "base_uri": "https://localhost:8080/"
        },
        "outputId": "4307a6e0-a047-46ce-caf6-e32a42adfb03"
      },
      "outputs": [
        {
          "output_type": "stream",
          "name": "stdout",
          "text": [
            "[' ', ' ', ' ']\n",
            "[' ', ' ', ' ']\n",
            "[' ', ' ', ' ']\n",
            "\n",
            "[' ', ' ', ' ']\n",
            "[' ', 'X', ' ']\n",
            "[' ', ' ', ' ']\n",
            "\n",
            "[' ', ' ', ' ']\n",
            "[' ', 'X', 'O']\n",
            "[' ', ' ', ' ']\n",
            "\n",
            "[' ', ' ', 'X']\n",
            "[' ', 'X', 'O']\n",
            "[' ', ' ', ' ']\n",
            "\n",
            "[' ', ' ', 'X']\n",
            "[' ', 'X', 'O']\n",
            "['O', ' ', ' ']\n",
            "\n",
            "['X', ' ', 'X']\n",
            "[' ', 'X', 'O']\n",
            "['O', ' ', ' ']\n",
            "\n"
          ]
        }
      ],
      "source": [
        "tic_tac_toe_board = [[' ', ' ', ' '], [' ', ' ', ' '], [' ', ' ', ' ']]\n",
        "print(tic_tac_toe_board[0]) \n",
        "print(tic_tac_toe_board[1]) \n",
        "print(tic_tac_toe_board[2])\n",
        "print() \n",
        "# Esta es la situación inicial en Tic-tac-toe donde nadie hizo un movimiento todavía\n",
        "# Si toca la celda exactamente en el medio, escribe\n",
        "tic_tac_toe_board[1][1] = 'X'\n",
        "# El resultado es\n",
        "print(tic_tac_toe_board[0]) \n",
        "print(tic_tac_toe_board[1]) \n",
        "print(tic_tac_toe_board[2])\n",
        "print() \n",
        "# Si tu oponente juega la celda a tu derecha escribes\n",
        "tic_tac_toe_board[1][2] = 'O'\n",
        "# el resultado es \n",
        "print(tic_tac_toe_board[0]) \n",
        "print(tic_tac_toe_board[1]) \n",
        "print(tic_tac_toe_board[2])\n",
        "print() \n",
        "# el resto puede ser \n",
        "tic_tac_toe_board[0][2] = 'X'\n",
        "print(tic_tac_toe_board[0]) \n",
        "print(tic_tac_toe_board[1]) \n",
        "print(tic_tac_toe_board[2])\n",
        "print() \n",
        "tic_tac_toe_board[2][0] = 'O'\n",
        "print(tic_tac_toe_board[0]) \n",
        "print(tic_tac_toe_board[1]) \n",
        "print(tic_tac_toe_board[2])\n",
        "print() \n",
        "tic_tac_toe_board[0][0] = 'X'\n",
        "# resultado final\n",
        "print(tic_tac_toe_board[0]) \n",
        "print(tic_tac_toe_board[1]) \n",
        "print(tic_tac_toe_board[2])\n",
        "print()\n"
      ]
    },
    {
      "cell_type": "markdown",
      "metadata": {
        "id": "-Zb-rCRtkQl1"
      },
      "source": [
        "## Tuplas\n",
        "### Las tuplas son immutables"
      ]
    },
    {
      "cell_type": "markdown",
      "metadata": {
        "id": "j80VfAAqkQl1"
      },
      "source": [
        "### Creacion de tuplas"
      ]
    },
    {
      "cell_type": "code",
      "execution_count": null,
      "metadata": {
        "id": "mwgKQZWnkQl1",
        "colab": {
          "base_uri": "https://localhost:8080/"
        },
        "outputId": "4c93b534-c287-4573-dd34-5651402ec777"
      },
      "outputs": [
        {
          "output_type": "stream",
          "name": "stdout",
          "text": [
            "('A', True, 1, 2.0, Decimal('1'), Fraction(1, 3))\n"
          ]
        }
      ],
      "source": [
        "from decimal import Decimal\n",
        "from fractions import Fraction\n",
        "tuple_1=('A', True, 1, 2.0, Decimal(1), Fraction(1,3))\n",
        "print(tuple_1)"
      ]
    },
    {
      "cell_type": "markdown",
      "metadata": {
        "id": "beQ7SL78kQl2"
      },
      "source": [
        "### Una tupla con un solo elemento"
      ]
    },
    {
      "cell_type": "code",
      "execution_count": null,
      "metadata": {
        "colab": {
          "base_uri": "https://localhost:8080/"
        },
        "id": "QyBjVuWDkQl2",
        "outputId": "24030aaf-bf50-4301-e279-846f95055c47"
      },
      "outputs": [
        {
          "output_type": "stream",
          "name": "stdout",
          "text": [
            "<class 'int'> 3\n",
            "<class 'tuple'> (3,)\n"
          ]
        }
      ],
      "source": [
        "tuple_1 = (3)\n",
        "print(type(tuple_1),tuple_1)\n",
        "tuple_1 = (3,)\n",
        "print(type(tuple_1),tuple_1)"
      ]
    },
    {
      "cell_type": "markdown",
      "metadata": {
        "id": "RwBlub-akQl2"
      },
      "source": [
        "### Diferencias entre tuplas y listas"
      ]
    },
    {
      "cell_type": "markdown",
      "metadata": {
        "id": "A3Zj57E1kQl2"
      },
      "source": [
        "### Puedes cambiar una lista pero no una tupla"
      ]
    },
    {
      "cell_type": "code",
      "execution_count": null,
      "metadata": {
        "id": "HqyqjeJLkQl2"
      },
      "outputs": [],
      "source": [
        "from decimal import Decimal\n",
        "from fractions import Fraction\n",
        "list_1 = ['A', True, 1,2.0, Decimal(1), Fraction(1,3)]\n",
        "tuple_1 = ('A', True, 1,2.0, Decimal(1), Fraction(1,3))\n",
        "list_1[3] = 3.0\n",
        "#tuple_1[3.0] = 3.0"
      ]
    },
    {
      "cell_type": "markdown",
      "metadata": {
        "id": "YUJoKmtnkQl2"
      },
      "source": [
        "### Puedes hacer una tupla sin parentesis"
      ]
    },
    {
      "cell_type": "code",
      "execution_count": null,
      "metadata": {
        "id": "ce2kN3XHkQl2",
        "colab": {
          "base_uri": "https://localhost:8080/"
        },
        "outputId": "fc2c3250-f1d4-45c7-ec45-1509d872fde7"
      },
      "outputs": [
        {
          "output_type": "stream",
          "name": "stdout",
          "text": [
            "(1, 2, 3)\n",
            "(1, 2, 3)\n"
          ]
        }
      ],
      "source": [
        "tuple_1 = (1,2,3)\n",
        "tuple_2 = 1,2,3\n",
        "print(tuple_1)\n",
        "print(tuple_2)"
      ]
    },
    {
      "cell_type": "markdown",
      "metadata": {
        "id": "kByqMUWwkQl2"
      },
      "source": [
        "### La indexación y el corte funcionan igual con tuplas que con listas, sin embargo, hay una sutil diferencia cuando se usa el segmento [:]. En el caso de una tupla, no se crea ningún objeto nuevo, por lo que tuple_1 = tuple_2 tiene exactamente el mismo resultado que tuple_1 = tuple_2[:]"
      ]
    },
    {
      "cell_type": "code",
      "execution_count": null,
      "metadata": {
        "id": "bbjHHgVtkQl3",
        "colab": {
          "base_uri": "https://localhost:8080/"
        },
        "outputId": "c9f91929-118a-477e-d634-171ca23e83b8"
      },
      "outputs": [
        {
          "output_type": "stream",
          "name": "stdout",
          "text": [
            "True\n"
          ]
        }
      ],
      "source": [
        "tuple_1 = (1, 2, 3)\n",
        "tuple_2 = tuple_1 \n",
        "tuple_3 = tuple_2[:]\n",
        "print(tuple_1 is tuple_2 is tuple_3)"
      ]
    },
    {
      "cell_type": "markdown",
      "metadata": {
        "id": "yfM-6i9XkQl3"
      },
      "source": [
        "### A nice trick only with tuples"
      ]
    },
    {
      "cell_type": "code",
      "execution_count": null,
      "metadata": {
        "colab": {
          "base_uri": "https://localhost:8080/"
        },
        "id": "QCoy1KGCkQl3",
        "outputId": "ba5ab871-9cbf-4838-b29a-270fd69efbe0"
      },
      "outputs": [
        {
          "output_type": "stream",
          "name": "stdout",
          "text": [
            "1 2\n",
            "2 1\n"
          ]
        }
      ],
      "source": [
        "x = 1\n",
        "y = 2\n",
        "print (x, y)\n",
        "x, y = y, x\n",
        "print (x, y)"
      ]
    },
    {
      "cell_type": "markdown",
      "metadata": {
        "id": "_9YMnwc3kQl3"
      },
      "source": [
        "## Diccionarios\n",
        "### Los diccionarios son mutables"
      ]
    },
    {
      "cell_type": "markdown",
      "metadata": {
        "id": "S9HqcqTmkQl3"
      },
      "source": [
        "### Creando un diccionario"
      ]
    },
    {
      "cell_type": "code",
      "execution_count": null,
      "metadata": {
        "id": "HHxL7UT7kQl3",
        "colab": {
          "base_uri": "https://localhost:8080/"
        },
        "outputId": "45a2c2ce-b384-4903-e232-16f27e48d8c0"
      },
      "outputs": [
        {
          "output_type": "stream",
          "name": "stdout",
          "text": [
            "{'blood type': 'A', 'Age': 30}\n"
          ]
        }
      ],
      "source": [
        "my_dictionary = {'blood type': 'A', 'Age': 30}\n",
        "                  #Clave 1:valor 1, clave 2 :valor 2\n",
        "print(my_dictionary)"
      ]
    },
    {
      "cell_type": "code",
      "source": [
        "#Para acceder a los diccionarios\n"
      ],
      "metadata": {
        "id": "KaLV8lO7Hskp"
      },
      "execution_count": null,
      "outputs": []
    },
    {
      "cell_type": "markdown",
      "metadata": {
        "id": "kXKNplXhkQl3"
      },
      "source": [
        "### Indexando un diccionario"
      ]
    },
    {
      "cell_type": "code",
      "execution_count": null,
      "metadata": {
        "id": "024ax1ggkQl3",
        "colab": {
          "base_uri": "https://localhost:8080/"
        },
        "outputId": "c3dc1310-d77d-47fd-88f3-4ec6e205a651"
      },
      "outputs": [
        {
          "output_type": "stream",
          "name": "stdout",
          "text": [
            "A\n",
            "30\n"
          ]
        }
      ],
      "source": [
        "print(my_dictionary['blood type'])\n",
        "print(my_dictionary['Age'])"
      ]
    },
    {
      "cell_type": "code",
      "execution_count": null,
      "metadata": {
        "id": "wYMF0-vGkQl4",
        "scrolled": true,
        "colab": {
          "base_uri": "https://localhost:8080/"
        },
        "outputId": "dddc0822-e874-4a60-fa27-6082bb78dd02"
      },
      "outputs": [
        {
          "output_type": "stream",
          "name": "stdout",
          "text": [
            "{'blood type': ('B', ' A'), 'Age': 30, 'Altura': 170}\n"
          ]
        }
      ],
      "source": [
        "#Puedo agregar o cambiar valores\n",
        "my_dictionary['blood type'] = ('B',' A')\n",
        "my_dictionary['Altura']=170\n",
        "print(my_dictionary)"
      ]
    },
    {
      "cell_type": "code",
      "source": [
        "#Posibilidades con . keys y values se usarán\n",
        "my_dictionary.values()\n",
        "my_dictionary.keys()"
      ],
      "metadata": {
        "colab": {
          "base_uri": "https://localhost:8080/"
        },
        "id": "Ew0td8yYIbmC",
        "outputId": "f568ba5e-e352-4195-da9c-190e2d96ad1d"
      },
      "execution_count": null,
      "outputs": [
        {
          "output_type": "execute_result",
          "data": {
            "text/plain": [
              "dict_keys(['blood type', 'Age', 'Altura'])"
            ]
          },
          "metadata": {},
          "execution_count": 67
        }
      ]
    },
    {
      "cell_type": "markdown",
      "metadata": {
        "id": "JiCLohB9kQl4"
      },
      "source": [
        "# Sets\n",
        "## Sets are mutable"
      ]
    },
    {
      "cell_type": "markdown",
      "metadata": {
        "id": "X2XmK_CdkQl4"
      },
      "source": [
        "### Creando un set"
      ]
    },
    {
      "cell_type": "code",
      "execution_count": null,
      "metadata": {
        "colab": {
          "base_uri": "https://localhost:8080/"
        },
        "id": "2D7TRf58kQl4",
        "outputId": "f382f229-6cb6-40f7-8bd5-bc0be0924b94"
      },
      "outputs": [
        {
          "output_type": "stream",
          "name": "stdout",
          "text": [
            "{1, 2, 3}\n"
          ]
        }
      ],
      "source": [
        "#Diferencia es por los 2 puntos que se declara una variable en los diccionarios\n",
        "my_set = {1, 2, 3}\n",
        "print(my_set)"
      ]
    },
    {
      "cell_type": "code",
      "source": [
        "#Adiccion en los set \n",
        "my_set.add(4)\n",
        "print(my_set)"
      ],
      "metadata": {
        "colab": {
          "base_uri": "https://localhost:8080/"
        },
        "id": "AZWwG7z2Jf_B",
        "outputId": "a3139f95-3064-47b5-8b78-cbd7336afd1e"
      },
      "execution_count": null,
      "outputs": [
        {
          "output_type": "stream",
          "name": "stdout",
          "text": [
            "{1, 2, 3, 4}\n"
          ]
        }
      ]
    },
    {
      "cell_type": "markdown",
      "metadata": {
        "id": "C8JJ88dZkQl4"
      },
      "source": [
        "### Los elementos en un set deben ser inmutables"
      ]
    },
    {
      "cell_type": "code",
      "execution_count": null,
      "metadata": {
        "colab": {
          "base_uri": "https://localhost:8080/",
          "height": 187
        },
        "id": "VER2mkfAkQl4",
        "outputId": "4b06e399-f4c7-4f64-b4d2-004c71f01a44"
      },
      "outputs": [
        {
          "ename": "TypeError",
          "evalue": "ignored",
          "output_type": "error",
          "traceback": [
            "\u001b[0;31m---------------------------------------------------------------------------\u001b[0m",
            "\u001b[0;31mTypeError\u001b[0m                                 Traceback (most recent call last)",
            "\u001b[0;32m<ipython-input-8-267abe4981dd>\u001b[0m in \u001b[0;36m<module>\u001b[0;34m()\u001b[0m\n\u001b[0;32m----> 1\u001b[0;31m \u001b[0mmy_set\u001b[0m\u001b[0;34m=\u001b[0m\u001b[0;34m{\u001b[0m\u001b[0;36m1\u001b[0m\u001b[0;34m,\u001b[0m \u001b[0;34m'2'\u001b[0m\u001b[0;34m,\u001b[0m \u001b[0;34m[\u001b[0m\u001b[0;36m3\u001b[0m\u001b[0;34m]\u001b[0m\u001b[0;34m}\u001b[0m\u001b[0;34m\u001b[0m\u001b[0;34m\u001b[0m\u001b[0m\n\u001b[0m\u001b[1;32m      2\u001b[0m \u001b[0mprint\u001b[0m\u001b[0;34m(\u001b[0m\u001b[0mmy_set\u001b[0m\u001b[0;34m)\u001b[0m\u001b[0;34m\u001b[0m\u001b[0;34m\u001b[0m\u001b[0m\n",
            "\u001b[0;31mTypeError\u001b[0m: unhashable type: 'list'"
          ]
        }
      ],
      "source": [
        "#\n",
        "my_set={1, '2', [3]}\n",
        "print(my_set)"
      ]
    },
    {
      "cell_type": "code",
      "execution_count": null,
      "metadata": {
        "colab": {
          "base_uri": "https://localhost:8080/"
        },
        "id": "2WTFBi3IkQl4",
        "outputId": "90d22fb5-9a68-4768-a5bc-0adcde2f55b9"
      },
      "outputs": [
        {
          "output_type": "stream",
          "name": "stdout",
          "text": [
            "{1, '2', (3,)}\n"
          ]
        }
      ],
      "source": [
        "my_set={1, '2', (3,)}\n",
        "print(my_set)"
      ]
    },
    {
      "cell_type": "code",
      "execution_count": null,
      "metadata": {
        "colab": {
          "base_uri": "https://localhost:8080/"
        },
        "id": "dD-nP1I2_lL4",
        "outputId": "c8a8ca09-52e9-4b1c-bfad-aad9502eba9d"
      },
      "outputs": [
        {
          "data": {
            "text/plain": [
              "{(3,), 1, '2', 4}"
            ]
          },
          "execution_count": 12,
          "metadata": {},
          "output_type": "execute_result"
        }
      ],
      "source": [
        "my_set.add(4)\n",
        "my_set\n"
      ]
    },
    {
      "cell_type": "markdown",
      "metadata": {
        "id": "5l8LuoUIkQl4"
      },
      "source": [
        "## Qué diferencia a un conjunto de listas y tuplas\n",
        "### Los conjuntos nunca contienen el mismo elemento dos veces"
      ]
    },
    {
      "cell_type": "code",
      "execution_count": null,
      "metadata": {
        "colab": {
          "base_uri": "https://localhost:8080/"
        },
        "id": "yQ2jkiLwkQl4",
        "outputId": "dbea9374-8677-4171-f84e-2b2f3989276a"
      },
      "outputs": [
        {
          "output_type": "stream",
          "name": "stdout",
          "text": [
            "[1, 2, 3, 1]\n",
            "(1, 2, 3, 1)\n",
            "{1, 2, 3}\n"
          ]
        }
      ],
      "source": [
        "#Set no toma numeros repetidos\n",
        "my_list = [1, 2, 3, 1]\n",
        "my_tuple = (1, 2, 3, 1)\n",
        "my_set = {1, 2, 3, 1}\n",
        "print(my_list)\n",
        "print(my_tuple)\n",
        "print(my_set)"
      ]
    },
    {
      "cell_type": "markdown",
      "metadata": {
        "id": "OeNSfWQXkQl4"
      },
      "source": [
        "### ALgunos operadores tienen un significado diferente para los sets "
      ]
    },
    {
      "cell_type": "code",
      "execution_count": null,
      "metadata": {
        "id": "ZQ2OxWqlkQl5",
        "colab": {
          "base_uri": "https://localhost:8080/"
        },
        "outputId": "9b22092b-1978-4530-e1ba-08cd0ad317b4"
      },
      "outputs": [
        {
          "output_type": "stream",
          "name": "stdout",
          "text": [
            "La union del set_1 y set_2 es {1, 2, 3, 4, 5}\n",
            "La interseccion del set_1 y set_2 es {3}\n",
            "La diferencia del set_1 y set_2 es {1, 2}\n",
            "La diferencia del set_2 y set_1 es {4, 5}\n",
            "La diferencia simetrica del set_1 y set_2 es {1, 2, 4, 5}\n"
          ]
        }
      ],
      "source": [
        "set_1 = {1, 2, 3}\n",
        "set_2 = {3, 4, 5}\n",
        "print (f\"La union del set_1 y set_2 es {set_1 | set_2}\")\n",
        "print (f\"La interseccion del set_1 y set_2 es {set_1 & set_2}\")\n",
        "print (f\"La diferencia del set_1 y set_2 es {set_1 - set_2}\")\n",
        "print (f\"La diferencia del set_2 y set_1 es {set_2 - set_1}\")\n",
        "print (f\"La diferencia simetrica del set_1 y set_2 es {set_1 ^ set_2}\")"
      ]
    },
    {
      "cell_type": "markdown",
      "metadata": {
        "id": "s3NEulsckQl5"
      },
      "source": [
        "# Métodos pertenecientes a tipos de datos\n",
        "## Dale un vistazo a estos métodos y experimenta con ellos. No es necesario que los recuerdes todos, pero es bueno tener una idea sobre las posibilidades y tal vez pueda usarlos. Información fácil entender sobre los métodos:\n",
        "### Para cadenas: [https://www.w3schools.com/python/python_strings.asp](https://www.w3schools.com/python/python_strings.asp) solo la última tabla\n",
        "### Para listas: [https://www.w3schools.com/python/python_lists.asp](https://www.w3schools.com/python/python_lists.asp) solo la última tabla\n",
        "### Para tuplas: [https://www.w3schools.com/python/python_tuples.asp](https://www.w3schools.com/python/python_tuples.asp) solo la última tabla\n",
        "### Para conjuntos: [https://www.w3schools.com/python/python_sets.asp](https://www.w3schools.com/python/python_sets.asp) solo la última tabla\n",
        "### Para diccionarios: [https://www.w3schools.com/python/python_dictionaries.asp](https://www.w3schools.com/python/python_dictionaries.asp) solo la última tabla\n",
        "## Por cierto, los sitios web de w3school no están bien vistos por los especialistas, debido a su carácter descuidado, y de hecho hay descuido, pero aprender un tema determinado rápido es un buen comienzo, pero más adelante en la vida, tal vez no presumas de tener lo usé ;-)"
      ]
    },
    {
      "cell_type": "markdown",
      "metadata": {
        "id": "GKy8e6kWkQl5"
      },
      "source": [
        "# Observaciones finales sobre tipos de datos"
      ]
    },
    {
      "cell_type": "markdown",
      "metadata": {
        "id": "NHZbaMFzkQl5"
      },
      "source": [
        "## Como crear listas , tuplas , etc vacias"
      ]
    },
    {
      "cell_type": "code",
      "execution_count": 1,
      "metadata": {
        "id": "o0MK5kbHkQl5",
        "colab": {
          "base_uri": "https://localhost:8080/"
        },
        "outputId": "3998d9d6-c035-4d9d-d3f9-1275db76b419"
      },
      "outputs": [
        {
          "output_type": "stream",
          "name": "stdout",
          "text": [
            "[]\n",
            "()\n",
            "{}\n",
            "set()\n"
          ]
        }
      ],
      "source": [
        "list_1 = []\n",
        "tuple_1 = ()\n",
        "dictionary_1 = {}\n",
        "set_1 = set()\n",
        "print(list_1)\n",
        "print(tuple_1)\n",
        "print(dictionary_1)\n",
        "print(set_1)"
      ]
    },
    {
      "cell_type": "markdown",
      "metadata": {
        "id": "A9aDX24SkQl5"
      },
      "source": [
        "## Puede usar colecciones como valores en listas, tuplas y diccionarios, pero las únicas colecciones como keys en los diccionarios son tuplas, ya que los keys de los diccionarios deben ser inmutables"
      ]
    },
    {
      "cell_type": "code",
      "execution_count": 2,
      "metadata": {
        "colab": {
          "base_uri": "https://localhost:8080/"
        },
        "id": "6iaX5CRykQl5",
        "outputId": "e1292466-f5c4-4ea6-c894-8974d56d9c23"
      },
      "outputs": [
        {
          "output_type": "stream",
          "name": "stdout",
          "text": [
            "[[1, 2], (1, 2), {'a': '1'}, {1, 2}]\n",
            "([1, 2], (1, 2), {'a': '1'}, {1, 2})\n",
            "{(1, 2): {'a': '1'}}\n"
          ]
        }
      ],
      "source": [
        "#Reestricción en el diccionario\n",
        "list_1 = [[1,2],(1,2),{'a':'1'},{1,2}]\n",
        "tuple_1 = ([1,2],(1,2),{'a':'1'},{1,2})\n",
        "dictionary_1 = {(1,2):{'a':'1'}}\n",
        "print(list_1)\n",
        "print(tuple_1)\n",
        "print(dictionary_1)"
      ]
    },
    {
      "cell_type": "markdown",
      "metadata": {
        "id": "G2KcpK3DkQl5"
      },
      "source": [
        "## Immutabilidad y mutabilidad no son transitivas"
      ]
    },
    {
      "cell_type": "code",
      "execution_count": 4,
      "metadata": {
        "colab": {
          "base_uri": "https://localhost:8080/",
          "height": 235
        },
        "id": "BykLXeePkQl5",
        "outputId": "911e0e1c-3b3c-49ba-b48c-d061d48fb6fe"
      },
      "outputs": [
        {
          "output_type": "stream",
          "name": "stdout",
          "text": [
            "The value of tuple_1 was (1, [2, 3], 4)\n"
          ]
        },
        {
          "output_type": "error",
          "ename": "TypeError",
          "evalue": "ignored",
          "traceback": [
            "\u001b[0;31m---------------------------------------------------------------------------\u001b[0m",
            "\u001b[0;31mTypeError\u001b[0m                                 Traceback (most recent call last)",
            "\u001b[0;32m<ipython-input-4-5ab7aba1fa59>\u001b[0m in \u001b[0;36m<module>\u001b[0;34m()\u001b[0m\n\u001b[1;32m      3\u001b[0m \u001b[0mprint\u001b[0m\u001b[0;34m(\u001b[0m\u001b[0;34mf\"The value of tuple_1 was {tuple_1}\"\u001b[0m\u001b[0;34m)\u001b[0m\u001b[0;34m\u001b[0m\u001b[0;34m\u001b[0m\u001b[0m\n\u001b[1;32m      4\u001b[0m \u001b[0;34m\u001b[0m\u001b[0m\n\u001b[0;32m----> 5\u001b[0;31m \u001b[0mtuple_1\u001b[0m\u001b[0;34m[\u001b[0m\u001b[0;36m1\u001b[0m\u001b[0;34m]\u001b[0m \u001b[0;34m=\u001b[0m \u001b[0;36m5\u001b[0m\u001b[0;34m\u001b[0m\u001b[0;34m\u001b[0m\u001b[0m\n\u001b[0m\u001b[1;32m      6\u001b[0m \u001b[0mprint\u001b[0m\u001b[0;34m(\u001b[0m\u001b[0;34mf\"The value of tuple_1 is {tuple_1}\"\u001b[0m\u001b[0;34m)\u001b[0m\u001b[0;34m\u001b[0m\u001b[0;34m\u001b[0m\u001b[0m\n",
            "\u001b[0;31mTypeError\u001b[0m: 'tuple' object does not support item assignment"
          ]
        }
      ],
      "source": [
        "#La tupla no se puede cambiar\n",
        "tuple_1 = (1, [2, 3], 4)\n",
        "print(f\"The value of tuple_1 was {tuple_1}\")\n",
        "\n",
        "tuple_1[1] = 5\n",
        "print(f\"The value of tuple_1 is {tuple_1}\")"
      ]
    },
    {
      "cell_type": "code",
      "execution_count": 5,
      "metadata": {
        "colab": {
          "base_uri": "https://localhost:8080/"
        },
        "id": "XdRjXe3mkQl6",
        "outputId": "30ab1dd5-9376-4d77-e7f5-6651a9fef675"
      },
      "outputs": [
        {
          "output_type": "stream",
          "name": "stdout",
          "text": [
            "The value of tuple_1 was (1, [2, 3], 4)\n",
            "The value of tuple_1 is (1, [2, 5], 4)\n"
          ]
        }
      ],
      "source": [
        "#La lista si se puede cambiar\n",
        "tuple_1 = (1, [2, 3], 4)\n",
        "print(f\"The value of tuple_1 was {tuple_1}\")\n",
        "tuple_1[1][1] = 5\n",
        "print(f\"The value of tuple_1 is {tuple_1}\")"
      ]
    },
    {
      "cell_type": "code",
      "execution_count": 6,
      "metadata": {
        "colab": {
          "base_uri": "https://localhost:8080/"
        },
        "id": "_cyAJ1fNkQl6",
        "outputId": "23b5bab7-c95d-43ec-cd4a-251831453627",
        "scrolled": true
      },
      "outputs": [
        {
          "output_type": "stream",
          "name": "stdout",
          "text": [
            "The value of list_1 was [1, (2, 3), 4]\n",
            "The value of list_1 is [5, (2, 3), 4]\n"
          ]
        }
      ],
      "source": [
        "#La lista se puede cambiar\n",
        "list_1 = [1, (2, 3), 4]\n",
        "print(f\"The value of list_1 was {list_1}\")\n",
        "list_1[0] = 5\n",
        "print(f\"The value of list_1 is {list_1}\")"
      ]
    },
    {
      "cell_type": "code",
      "execution_count": 7,
      "metadata": {
        "colab": {
          "base_uri": "https://localhost:8080/",
          "height": 235
        },
        "id": "Klm5_dWnkQl6",
        "outputId": "d0096d20-30ff-46e5-dc4f-a9dc9df32cb0"
      },
      "outputs": [
        {
          "output_type": "stream",
          "name": "stdout",
          "text": [
            "The value of list_1 was (1, (2, 3), 4)\n"
          ]
        },
        {
          "output_type": "error",
          "ename": "TypeError",
          "evalue": "ignored",
          "traceback": [
            "\u001b[0;31m---------------------------------------------------------------------------\u001b[0m",
            "\u001b[0;31mTypeError\u001b[0m                                 Traceback (most recent call last)",
            "\u001b[0;32m<ipython-input-7-f943a4db943d>\u001b[0m in \u001b[0;36m<module>\u001b[0;34m()\u001b[0m\n\u001b[1;32m      2\u001b[0m \u001b[0mlist_1\u001b[0m \u001b[0;34m=\u001b[0m \u001b[0;34m(\u001b[0m\u001b[0;36m1\u001b[0m\u001b[0;34m,\u001b[0m \u001b[0;34m(\u001b[0m\u001b[0;36m2\u001b[0m\u001b[0;34m,\u001b[0m \u001b[0;36m3\u001b[0m\u001b[0;34m)\u001b[0m\u001b[0;34m,\u001b[0m \u001b[0;36m4\u001b[0m\u001b[0;34m)\u001b[0m\u001b[0;34m\u001b[0m\u001b[0;34m\u001b[0m\u001b[0m\n\u001b[1;32m      3\u001b[0m \u001b[0mprint\u001b[0m\u001b[0;34m(\u001b[0m\u001b[0;34mf\"The value of list_1 was {list_1}\"\u001b[0m\u001b[0;34m)\u001b[0m\u001b[0;34m\u001b[0m\u001b[0;34m\u001b[0m\u001b[0m\n\u001b[0;32m----> 4\u001b[0;31m \u001b[0mlist_1\u001b[0m\u001b[0;34m[\u001b[0m\u001b[0;36m1\u001b[0m\u001b[0;34m]\u001b[0m\u001b[0;34m[\u001b[0m\u001b[0;36m1\u001b[0m\u001b[0;34m]\u001b[0m \u001b[0;34m=\u001b[0m \u001b[0;36m5\u001b[0m\u001b[0;34m\u001b[0m\u001b[0;34m\u001b[0m\u001b[0m\n\u001b[0m\u001b[1;32m      5\u001b[0m \u001b[0mprint\u001b[0m\u001b[0;34m(\u001b[0m\u001b[0;34mf\"The value of list_1 is {list_1}\"\u001b[0m\u001b[0;34m)\u001b[0m\u001b[0;34m\u001b[0m\u001b[0;34m\u001b[0m\u001b[0m\n",
            "\u001b[0;31mTypeError\u001b[0m: 'tuple' object does not support item assignment"
          ]
        }
      ],
      "source": [
        "#La dupla que esta dentro de una lista no se puede cambiar\n",
        "list_1 = (1, (2, 3), 4)\n",
        "print(f\"The value of list_1 was {list_1}\")\n",
        "list_1[1][1] = 5\n",
        "print(f\"The value of list_1 is {list_1}\")"
      ]
    },
    {
      "cell_type": "markdown",
      "metadata": {
        "id": "3Qm_jiHpkQl6"
      },
      "source": [
        "###  La colecciónes también se pueden convertir fácilmente. La conversión de colecciones en diccionarios no debe hacerse con la función dict(), sino preferiblemente con una comprensión de diccionario, que se despues. Es posible convertir diccionarios en colecciones de un tipo diferente de esta manera, pero tenga en cuenta que solo se convertirán las keys y no los valores."
      ]
    },
    {
      "cell_type": "code",
      "execution_count": null,
      "metadata": {
        "id": "9Lnjn9rzkQl6"
      },
      "outputs": [],
      "source": [
        "print(list((1, 2, 3)))\n",
        "print(list({1, 2, 3}))\n",
        "print(list({1:4, 2:5, 3:6}))\n",
        "print(set((1, 2, 3)))\n",
        "print(set([1, 2, 3]))\n",
        "print(set({1:4, 2:5, 3:6}))\n",
        "print(tuple([1, 2, 3]))\n",
        "print(tuple({1, 2, 3}))\n",
        "print(tuple({1:4, 2:5, 3:6}))"
      ]
    },
    {
      "cell_type": "markdown",
      "metadata": {
        "id": "uI1RwB4ikQl6"
      },
      "source": [
        "# Preguntas"
      ]
    },
    {
      "cell_type": "markdown",
      "metadata": {
        "id": "CPNbHxqwkQl6"
      },
      "source": [
        "## 1 Suponga que tiene una lista [1, 2, 3, 2, 1] y desea crear una nueva lista sin números dobles, después de resolver este problema, intente reescribirla como una sola línea\n",
        "### Un one liner en programación es un programa existente de una sola línea. Si no logras escribir una sola línea, no te preocupes. el codigo one liner es a menudo difícile de leer y, como hemos aprendido esta semana: los lenguajes de programación están destinados a ser legibles para las personas. Así que no te preocupes si estás usando demasiado código para resolver un problema, debes preguntarte: ¿yo o alguien más entenderá esto dentro de 3 años?"
      ]
    },
    {
      "cell_type": "code",
      "source": [
        "#Datos de la pregunta\n",
        "lista_1=[1,2,3,2,1]\n",
        "print(lista_1)\n",
        "#Solución\n",
        "lista_2=lista_1[0:3:1]\n",
        "print(lista_2)"
      ],
      "metadata": {
        "colab": {
          "base_uri": "https://localhost:8080/"
        },
        "id": "dO8Rlj7M1dAF",
        "outputId": "6dc3d31f-bd7b-4e61-db7e-b0ddc7261218"
      },
      "execution_count": 17,
      "outputs": [
        {
          "output_type": "stream",
          "name": "stdout",
          "text": [
            "[1, 2, 3, 2, 1]\n",
            "[1, 2, 3]\n"
          ]
        }
      ]
    },
    {
      "cell_type": "markdown",
      "metadata": {
        "id": "h6tVHa6gkQl7"
      },
      "source": [
        "## 2 Slicing puede tener 3 parámetros, inicio, final y paso. Sin embargo, a menudo escribirá o leerá operaciones de corte con menos de 3 parámetros. En esta pregunta, debe volver a escribir todos los ejemplos en operaciones de corte con 3 parámetros. Después de haberlas reescrito, verifique si sus respuestas dan los mismos resultados"
      ]
    },
    {
      "cell_type": "code",
      "execution_count": 23,
      "metadata": {
        "id": "aSpI0hrzkQl7",
        "colab": {
          "base_uri": "https://localhost:8080/"
        },
        "outputId": "f95da928-4aef-47de-9744-cd531cdd12be"
      },
      "outputs": [
        {
          "output_type": "stream",
          "name": "stdout",
          "text": [
            "bc\n",
            "c\n",
            "abc\n",
            "de\n",
            "abcde\n",
            "de\n",
            "abc\n",
            "abcde\n",
            "edcba\n",
            "abc\n",
            "e\n",
            "bcde\n",
            "edc\n"
          ]
        }
      ],
      "source": [
        "string_1 = 'abcde'\n",
        "print(string_1[1:3])\n",
        "print(string_1[-3:-2])\n",
        "\n",
        "print(string_1[:3])\n",
        "print(string_1[3:])\n",
        "print(string_1[:])\n",
        "\n",
        "print(string_1[-2:])\n",
        "print(string_1[:-2])\n",
        "\n",
        "print(string_1[::])\n",
        "print(string_1[::-1])\n",
        "\n",
        "print(string_1[:3:1])\n",
        "print(string_1[:3:-1])\n",
        "\n",
        "print(string_1[1::])\n",
        "print(string_1[:1:-1])"
      ]
    },
    {
      "cell_type": "code",
      "source": [
        "#Código reescrito\n",
        "string_1 = 'abcde'\n",
        "print(string_1[1:3:1])\n",
        "print(string_1[-3:-2:1])\n",
        "\n",
        "print(string_1[0:3:1])\n",
        "print(string_1[3:5:1])\n",
        "print(string_1[0:5:1])\n",
        "\n",
        "print(string_1[-2:5:1])\n",
        "print(string_1[-5:-2:1])\n",
        "\n",
        "print(string_1[0:5:1])\n",
        "print(string_1[5:0:-1])\n",
        "\n",
        "print(string_1[0:3:1])\n",
        "print(string_1[5:3:-1])\n",
        "\n",
        "print(string_1[1:5:1])\n",
        "print(string_1[5:1:-1])"
      ],
      "metadata": {
        "colab": {
          "base_uri": "https://localhost:8080/"
        },
        "id": "VPbCPN6N5tuI",
        "outputId": "746d5b95-c9b6-4c12-c045-2f1bff5d2b0f"
      },
      "execution_count": 28,
      "outputs": [
        {
          "output_type": "stream",
          "name": "stdout",
          "text": [
            "bc\n",
            "c\n",
            "abc\n",
            "de\n",
            "abcde\n",
            "de\n",
            "abc\n",
            "abcde\n",
            "edcb\n",
            "abc\n",
            "e\n",
            "bcde\n",
            "edc\n"
          ]
        }
      ]
    },
    {
      "cell_type": "markdown",
      "metadata": {
        "id": "Hd4UZO1FkQl7"
      },
      "source": [
        "## 3 Hemos construido un diccionario que se puede usar para encontrar el resultado si dos booleanos están conectados con el operador y\n",
        "## Reescribe este diccionario para encontrar el resultado si dos booleanos están conectados con el operador o\n",
        "## Python no tiene un operador XOR, busque en Internet lo que se supone que debe hacer el operador XOR y cree un diccionario que proporcione el resultado de una operación XOR"
      ]
    },
    {
      "cell_type": "code",
      "execution_count": 31,
      "metadata": {
        "id": "vNTwz2SYkQl7",
        "colab": {
          "base_uri": "https://localhost:8080/"
        },
        "outputId": "c549cb8d-3ef4-4b23-854d-6bce0651a268"
      },
      "outputs": [
        {
          "output_type": "stream",
          "name": "stdout",
          "text": [
            "False\n"
          ]
        }
      ],
      "source": [
        "age = 40\n",
        "blood_type = 'A'\n",
        "my_and = {(True, True): True, (True, False): False, (False, True): False, (False, False): False }\n",
        "print(my_and[age < 70, blood_type == 'B'])"
      ]
    },
    {
      "cell_type": "code",
      "source": [
        "#Código reescrito\n",
        "age = 40\n",
        "blood_type = 'A'\n",
        "my_or = {(True, True): True, (True, False): True, (False, True): True, (False, False): False }\n",
        "print(my_or[age < 70, blood_type == 'B'])"
      ],
      "metadata": {
        "colab": {
          "base_uri": "https://localhost:8080/"
        },
        "id": "5eNFdZq4CMze",
        "outputId": "a61d2835-60d2-4a32-8732-32e431665426"
      },
      "execution_count": 33,
      "outputs": [
        {
          "output_type": "stream",
          "name": "stdout",
          "text": [
            "True\n"
          ]
        }
      ]
    },
    {
      "cell_type": "markdown",
      "metadata": {
        "id": "xoA47ESykQl7"
      },
      "source": [
        "## 4 En 'Las listas pueden contener listas y así formar tablas de múltiples dimensiones' se les mostro una secuencia ganadora en tres en raya. Como es muy importante para el análisis de datos y la visualización de datos que se sienta cómodo trabajando con tablas poli-dimensionales, le pedimos que reescriba la secuencia con un segundo jugador más inteligente (o un jugador que aprendió el juego de memoria) donde el juego termina en un empate."
      ]
    },
    {
      "cell_type": "code",
      "execution_count": 39,
      "metadata": {
        "id": "jUXPGxnOkQl7",
        "colab": {
          "base_uri": "https://localhost:8080/"
        },
        "outputId": "d8fbcbd3-9266-4d17-9fd2-6bf736b23f63"
      },
      "outputs": [
        {
          "output_type": "stream",
          "name": "stdout",
          "text": [
            "[' ', ' ', ' ']\n",
            "[' ', ' ', ' ']\n",
            "[' ', ' ', ' ']\n",
            "\n",
            "[' ', ' ', ' ']\n",
            "[' ', 'X', ' ']\n",
            "[' ', ' ', ' ']\n",
            "\n",
            "[' ', ' ', ' ']\n",
            "[' ', 'X', ' ']\n",
            "[' ', ' ', 'O']\n",
            "\n",
            "[' ', ' ', 'X']\n",
            "[' ', 'X', ' ']\n",
            "[' ', ' ', 'O']\n",
            "\n",
            "[' ', ' ', 'X']\n",
            "[' ', 'X', ' ']\n",
            "['O', ' ', 'O']\n",
            "\n",
            "[' ', ' ', 'X']\n",
            "[' ', 'X', ' ']\n",
            "['O', 'X', 'O']\n",
            "\n",
            "[' ', 'O', 'X']\n",
            "[' ', 'X', ' ']\n",
            "['O', 'X', 'O']\n",
            "\n",
            "[' ', 'O', 'X']\n",
            "[' ', 'X', 'X']\n",
            "['O', 'X', 'O']\n",
            "\n",
            "[' ', 'O', 'X']\n",
            "['O', 'X', 'X']\n",
            "['O', 'X', 'O']\n",
            "\n"
          ]
        }
      ],
      "source": [
        "tic_tac_toe_board = [[' ', ' ', ' '], [' ', ' ', ' '], [' ', ' ', ' ']]\n",
        "print(tic_tac_toe_board[0]) \n",
        "print(tic_tac_toe_board[1]) \n",
        "print(tic_tac_toe_board[2])\n",
        "print() \n",
        "tic_tac_toe_board[1][1] = 'X'\n",
        "print(tic_tac_toe_board[0]) \n",
        "print(tic_tac_toe_board[1]) \n",
        "print(tic_tac_toe_board[2])\n",
        "print() \n",
        "tic_tac_toe_board[2][2] = 'O'\n",
        "print(tic_tac_toe_board[0]) \n",
        "print(tic_tac_toe_board[1]) \n",
        "print(tic_tac_toe_board[2])\n",
        "print()\n",
        "tic_tac_toe_board[0][2] = 'X'\n",
        "print(tic_tac_toe_board[0]) \n",
        "print(tic_tac_toe_board[1]) \n",
        "print(tic_tac_toe_board[2])\n",
        "print()\n",
        "tic_tac_toe_board[2][0] = 'O'\n",
        "print(tic_tac_toe_board[0]) \n",
        "print(tic_tac_toe_board[1]) \n",
        "print(tic_tac_toe_board[2])\n",
        "print()\n",
        "tic_tac_toe_board[2][1] = 'X'\n",
        "print(tic_tac_toe_board[0]) \n",
        "print(tic_tac_toe_board[1]) \n",
        "print(tic_tac_toe_board[2])\n",
        "print()\n",
        "tic_tac_toe_board[0][1] = 'O'\n",
        "print(tic_tac_toe_board[0]) \n",
        "print(tic_tac_toe_board[1]) \n",
        "print(tic_tac_toe_board[2])\n",
        "print()\n",
        "tic_tac_toe_board[1][2] = 'X'\n",
        "print(tic_tac_toe_board[0]) \n",
        "print(tic_tac_toe_board[1]) \n",
        "print(tic_tac_toe_board[2])\n",
        "print()\n",
        "tic_tac_toe_board[1][0] = 'O'\n",
        "print(tic_tac_toe_board[0]) \n",
        "print(tic_tac_toe_board[1]) \n",
        "print(tic_tac_toe_board[2])\n",
        "print()# Y en el siguiente movimiento de X el juego termina en empate"
      ]
    },
    {
      "cell_type": "markdown",
      "metadata": {
        "id": "Qp9tvzrPkQl7"
      },
      "source": [
        "## 5 Ejecute el siguiente programa, vea si puede encontrar algo extraño y explique el resultado usando su conocimiento de recolección de basura"
      ]
    },
    {
      "cell_type": "code",
      "execution_count": 40,
      "metadata": {
        "id": "jBjkKwcokQl7",
        "colab": {
          "base_uri": "https://localhost:8080/"
        },
        "outputId": "b51f8f94-b8de-4ee8-f02d-b2d7d0777360"
      },
      "outputs": [
        {
          "output_type": "stream",
          "name": "stdout",
          "text": [
            "The value of the list refered to by list_5 is [1, 2, 3] and its address is 140144923830464\n",
            "The value of the list refered to by list_5 is [1, 1, 3] and its address is 140144923475552\n",
            "The value of the list refered to by list_5 is [1, 1, 4] and its address is 140144923830464\n"
          ]
        }
      ],
      "source": [
        "list_5 = [1, 2, 3]\n",
        "print(f\"The value of the list refered to by list_5 is {list_5} and its address is {id(list_5)}\")\n",
        "list_5 = [1 , 1, 3]\n",
        "print(f\"The value of the list refered to by list_5 is {list_5} and its address is {id(list_5)}\")\n",
        "list_5 = [1, 1, 4]\n",
        "print(f\"The value of the list refered to by list_5 is {list_5} and its address is {id(list_5)}\")"
      ]
    },
    {
      "cell_type": "markdown",
      "source": [
        "En este ejemplo vemos que se está reescribiendo la variable *list_5* la cual esta recibiendo diferentes valores en la lista de 3 términos al estar reescribiendo python pone en marcha la técnica recolección de basura la cual destruye la variable reescrita al comienzo y la asigna a una nueva variable que en este caso la del final es por ello que tienen la misma id "
      ],
      "metadata": {
        "id": "3po1RenPE7El"
      }
    },
    {
      "cell_type": "markdown",
      "metadata": {
        "id": "PA5SR0ShkQl7"
      },
      "source": [
        "## 6 Las cadenas son inmutables, pero ¿por qué funciona lo siguiente? ¿Claramente cambiamos el valor de la cadena llamada string_1? ¿Qué afirmaciones agregaría para aclarar lo que ha sucedido? usar id"
      ]
    },
    {
      "cell_type": "code",
      "execution_count": 41,
      "metadata": {
        "id": "JDkP9VrSkQl8",
        "colab": {
          "base_uri": "https://localhost:8080/"
        },
        "outputId": "2b449da1-46f6-4561-e84d-723fe32d91c6"
      },
      "outputs": [
        {
          "output_type": "stream",
          "name": "stdout",
          "text": [
            "text 1\n",
            "text 2\n"
          ]
        }
      ],
      "source": [
        "string_1 = \"text 1\"\n",
        "print(string_1)\n",
        "string_1 = \"text 2\"\n",
        "print(string_1)"
      ]
    },
    {
      "cell_type": "markdown",
      "source": [
        "Las lineas de codigo funcionan por que se esta cambiando toda la variable es decir la primera se destruye y se crea otra variable con el mismo nombre es por ello que funciona y podemos comprobar que tendran distinta id"
      ],
      "metadata": {
        "id": "ww5LaeK8Iw1Y"
      }
    },
    {
      "cell_type": "code",
      "source": [
        "#Prueba\n",
        "string_1 = \"text 1\"\n",
        "print(f\"id de la variable: {id(string_1)}, valor: {string_1}\")\n",
        "string_1 = \"text 2\"\n",
        "print(f\"id de la variable: {id(string_1)}, valor: {string_1}\")"
      ],
      "metadata": {
        "colab": {
          "base_uri": "https://localhost:8080/"
        },
        "id": "_2dpVGv5JEsR",
        "outputId": "ac669b9d-185b-44fb-f640-1944a7a44fa3"
      },
      "execution_count": 43,
      "outputs": [
        {
          "output_type": "stream",
          "name": "stdout",
          "text": [
            "id de la variable: 140144923606256, valor: text 1\n",
            "id de la variable: 140144923605488, valor: text 2\n"
          ]
        }
      ]
    }
  ],
  "metadata": {
    "colab": {
      "name": "clase_1.ipynb",
      "provenance": []
    },
    "kernelspec": {
      "display_name": "Python 3",
      "language": "python",
      "name": "python3"
    },
    "language_info": {
      "codemirror_mode": {
        "name": "ipython",
        "version": 3
      },
      "file_extension": ".py",
      "mimetype": "text/x-python",
      "name": "python",
      "nbconvert_exporter": "python",
      "pygments_lexer": "ipython3",
      "version": "3.8.5"
    }
  },
  "nbformat": 4,
  "nbformat_minor": 0
}